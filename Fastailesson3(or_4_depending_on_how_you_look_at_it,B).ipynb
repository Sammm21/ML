{
  "nbformat": 4,
  "nbformat_minor": 0,
  "metadata": {
    "colab": {
      "name": "Fastailesson3(or 4 depending on how you look at it,B).ipynb",
      "provenance": [],
      "collapsed_sections": [
        "lSTajnKsaKJk"
      ],
      "authorship_tag": "ABX9TyNKXfbbQlW8/vokRaurP2fO",
      "include_colab_link": true
    },
    "kernelspec": {
      "name": "python3",
      "display_name": "Python 3"
    },
    "language_info": {
      "name": "python"
    }
  },
  "cells": [
    {
      "cell_type": "markdown",
      "metadata": {
        "id": "view-in-github",
        "colab_type": "text"
      },
      "source": [
        "<a href=\"https://colab.research.google.com/github/Sammm21/ML/blob/main/Fastailesson3(or_4_depending_on_how_you_look_at_it%2CB).ipynb\" target=\"_parent\"><img src=\"https://colab.research.google.com/assets/colab-badge.svg\" alt=\"Open In Colab\"/></a>"
      ]
    },
    {
      "cell_type": "markdown",
      "metadata": {
        "id": "-KDxr__vG1_K"
      },
      "source": [
        "# **Training A Digit Classifier**"
      ]
    },
    {
      "cell_type": "markdown",
      "metadata": {
        "id": "qZ1FW0utFOvR"
      },
      "source": [
        "Install fastbook to run in colab"
      ]
    },
    {
      "cell_type": "code",
      "metadata": {
        "id": "IPN1yaaJFNP9"
      },
      "source": [
        "# Run to make sure fastai runs in colab\n",
        "!pip install -Uqq fastbook\n",
        "import fastbook\n",
        "from fastbook import *\n",
        "fastbook.setup_book()"
      ],
      "execution_count": 395,
      "outputs": []
    },
    {
      "cell_type": "markdown",
      "metadata": {
        "id": "JY9PI3NZE0aG"
      },
      "source": [
        "Load a toy dataset version of MNIST with only 3's and 7's"
      ]
    },
    {
      "cell_type": "code",
      "metadata": {
        "id": "ubB-CPhqE1rC"
      },
      "source": [
        "path = untar_data(URLs.MNIST_SAMPLE)"
      ],
      "execution_count": 396,
      "outputs": []
    },
    {
      "cell_type": "markdown",
      "metadata": {
        "id": "qj_w0W13FBhw"
      },
      "source": [
        "Path represents a filesystem path but unlike PurePath, also offers methods to do system calls on path objects."
      ]
    },
    {
      "cell_type": "code",
      "metadata": {
        "id": "HR6hIq3IE3mG"
      },
      "source": [
        "Path.Base_PATH = path"
      ],
      "execution_count": 397,
      "outputs": []
    },
    {
      "cell_type": "code",
      "metadata": {
        "id": "g14ojUBfOMi5"
      },
      "source": [
        "Path?"
      ],
      "execution_count": 398,
      "outputs": []
    },
    {
      "cell_type": "markdown",
      "metadata": {
        "id": "fqE5q-NYE35n"
      },
      "source": [
        "List the directories and folders with the data"
      ]
    },
    {
      "cell_type": "code",
      "metadata": {
        "colab": {
          "base_uri": "https://localhost:8080/"
        },
        "id": "3jitIh4xE4Ta",
        "outputId": "1c333221-706b-4ec4-985c-934e4f40890e"
      },
      "source": [
        "path.ls()"
      ],
      "execution_count": 399,
      "outputs": [
        {
          "output_type": "execute_result",
          "data": {
            "text/plain": [
              "(#3) [Path('/root/.fastai/data/mnist_sample/train'),Path('/root/.fastai/data/mnist_sample/labels.csv'),Path('/root/.fastai/data/mnist_sample/valid')]"
            ]
          },
          "metadata": {
            "tags": []
          },
          "execution_count": 399
        }
      ]
    },
    {
      "cell_type": "markdown",
      "metadata": {
        "id": "svQJhlvQGPQ2"
      },
      "source": [
        "Check source code and documentation with ? , ??, and doc()"
      ]
    },
    {
      "cell_type": "code",
      "metadata": {
        "colab": {
          "base_uri": "https://localhost:8080/",
          "height": 144
        },
        "id": "xZR3l0yAGGgp",
        "outputId": "eb2c6529-a2e8-41a9-f7ca-24e74041aed5"
      },
      "source": [
        "path.ls?\n",
        "path.ls??\n",
        "doc(path.ls)"
      ],
      "execution_count": 400,
      "outputs": [
        {
          "output_type": "display_data",
          "data": {
            "text/html": [
              "<h4 id=\"Path.ls\" class=\"doc_header\"><code>Path.ls</code><a href=\"https://github.com/fastai/fastcore/tree/master/fastcore/xtras.py#L227\" class=\"source_link\" style=\"float:right\">[source]</a></h4><blockquote><p><code>Path.ls</code>(<strong><code>n_max</code></strong>=<em><code>None</code></em>, <strong><code>file_type</code></strong>=<em><code>None</code></em>, <strong><code>file_exts</code></strong>=<em><code>None</code></em>)</p>\n",
              "</blockquote>\n",
              "<p>Contents of path as a list</p>\n",
              "<p><a href=\"https://fastcore.fast.ai/xtras#Path.ls\" target=\"_blank\" rel=\"noreferrer noopener\">Show in docs</a></p>\n"
            ],
            "text/plain": [
              "<IPython.core.display.HTML object>"
            ]
          },
          "metadata": {
            "tags": []
          }
        }
      ]
    },
    {
      "cell_type": "markdown",
      "metadata": {
        "id": "rgNjMUz-E4sg"
      },
      "source": [
        "Check what's in the train folder"
      ]
    },
    {
      "cell_type": "code",
      "metadata": {
        "colab": {
          "base_uri": "https://localhost:8080/"
        },
        "id": "jIY4DGbRE5Fl",
        "outputId": "2f010619-2db9-4a70-c6c5-013365686dc2"
      },
      "source": [
        "(path/'train').ls()"
      ],
      "execution_count": 401,
      "outputs": [
        {
          "output_type": "execute_result",
          "data": {
            "text/plain": [
              "(#2) [Path('/root/.fastai/data/mnist_sample/train/3'),Path('/root/.fastai/data/mnist_sample/train/7')]"
            ]
          },
          "metadata": {
            "tags": []
          },
          "execution_count": 401
        }
      ]
    },
    {
      "cell_type": "markdown",
      "metadata": {
        "id": "8EdkxSFME5pf"
      },
      "source": [
        "Assign contents of training directory i.e. 3's and 7's sorted to variables thees and sevens"
      ]
    },
    {
      "cell_type": "code",
      "metadata": {
        "colab": {
          "base_uri": "https://localhost:8080/"
        },
        "id": "3we8mBWiE59Q",
        "outputId": "9f87a234-29d0-4552-df21-31260c9399f4"
      },
      "source": [
        "threes = (path/'train/3').ls().sorted()\n",
        "sevens = (path/'train/7').ls().sorted()\n",
        "threes"
      ],
      "execution_count": 402,
      "outputs": [
        {
          "output_type": "execute_result",
          "data": {
            "text/plain": [
              "(#6131) [Path('/root/.fastai/data/mnist_sample/train/3/10.png'),Path('/root/.fastai/data/mnist_sample/train/3/10000.png'),Path('/root/.fastai/data/mnist_sample/train/3/10011.png'),Path('/root/.fastai/data/mnist_sample/train/3/10031.png'),Path('/root/.fastai/data/mnist_sample/train/3/10034.png'),Path('/root/.fastai/data/mnist_sample/train/3/10042.png'),Path('/root/.fastai/data/mnist_sample/train/3/10052.png'),Path('/root/.fastai/data/mnist_sample/train/3/1007.png'),Path('/root/.fastai/data/mnist_sample/train/3/10074.png'),Path('/root/.fastai/data/mnist_sample/train/3/10091.png')...]"
            ]
          },
          "metadata": {
            "tags": []
          },
          "execution_count": 402
        }
      ]
    },
    {
      "cell_type": "markdown",
      "metadata": {
        "id": "pDhPGxo7E6cI"
      },
      "source": [
        "Display what one of the threes looks like from our dataset"
      ]
    },
    {
      "cell_type": "code",
      "metadata": {
        "colab": {
          "base_uri": "https://localhost:8080/",
          "height": 45
        },
        "id": "g8aURezYE6zc",
        "outputId": "43a02bc8-acee-4fd0-9f82-43a418e1273e"
      },
      "source": [
        "im3_path = threes[1]\n",
        "im3 = Image.open(im3_path)\n",
        "im3"
      ],
      "execution_count": 403,
      "outputs": [
        {
          "output_type": "execute_result",
          "data": {
            "image/png": "[encoded data removed]",
            "text/plain": [
              "<PIL.PngImagePlugin.PngImageFile image mode=L size=28x28 at 0x7F21C87AC0D0>"
            ]
          },
          "metadata": {
            "tags": []
          },
          "execution_count": 403
        }
      ]
    },
    {
      "cell_type": "markdown",
      "metadata": {
        "id": "4EMIAPV7E7bP"
      },
      "source": [
        "Display what type it is:"
      ]
    },
    {
      "cell_type": "code",
      "metadata": {
        "colab": {
          "base_uri": "https://localhost:8080/"
        },
        "id": "qaWJjqT9E70T",
        "outputId": "cc13071d-28b5-4152-a028-9cad904f7b13"
      },
      "source": [
        "type(im3)"
      ],
      "execution_count": 404,
      "outputs": [
        {
          "output_type": "execute_result",
          "data": {
            "text/plain": [
              "PIL.PngImagePlugin.PngImageFile"
            ]
          },
          "metadata": {
            "tags": []
          },
          "execution_count": 404
        }
      ]
    },
    {
      "cell_type": "markdown",
      "metadata": {
        "id": "nYi-iw8kE8iY"
      },
      "source": [
        "In order to view the image as a number we need to convert it into a NumPy array or a PyTorch tensor."
      ]
    },
    {
      "cell_type": "code",
      "metadata": {
        "colab": {
          "base_uri": "https://localhost:8080/"
        },
        "id": "fNgwO70QE9EG",
        "outputId": "7376873a-4de0-4ed0-8c3e-460821330d85"
      },
      "source": [
        "array(im3)"
      ],
      "execution_count": 405,
      "outputs": [
        {
          "output_type": "execute_result",
          "data": {
            "text/plain": [
              "array([[  0,   0,   0,   0,   0,   0,   0,   0,   0,   0,   0,   0,   0,   0,   0,   0,   0,   0,   0,   0,   0,   0,   0,   0,   0,   0,   0,   0],\n",
              "       [  0,   0,   0,   0,   0,   0,   0,   0,   0,   0,   0,   0,   0,   0,   0,   0,   0,   0,   0,   0,   0,   0,   0,   0,   0,   0,   0,   0],\n",
              "       [  0,   0,   0,   0,   0,   0,   0,   0,   0,   0,   0,   0,   0,   0,   0,   0,   0,   0,   0,   0,   0,   0,   0,   0,   0,   0,   0,   0],\n",
              "       [  0,   0,   0,   0,   0,   0,   0,   0,   0,   0,   0,   0,   0,   0,   0,   0,   0,   0,   0,   0,   0,   0,   0,   0,   0,   0,   0,   0],\n",
              "       [  0,   0,   0,   0,   0,   0,   0,   0,   0,   0,   0,   0,   0,   0,   0,   0,   0,   0,   0,   0,   0,   0,   0,   0,   0,   0,   0,   0],\n",
              "       [  0,   0,   0,   0,   0,   0,   0,   0,   0,  29, 150, 195, 254, 255, 254, 176, 193, 150,  96,   0,   0,   0,   0,   0,   0,   0,   0,   0],\n",
              "       [  0,   0,   0,   0,   0,   0,   0,  48, 166, 224, 253, 253, 234, 196, 253, 253, 253, 253, 233,   0,   0,   0,   0,   0,   0,   0,   0,   0],\n",
              "       [  0,   0,   0,   0,   0,  93, 244, 249, 253, 187,  46,  10,   8,   4,  10, 194, 253, 253, 233,   0,   0,   0,   0,   0,   0,   0,   0,   0],\n",
              "       [  0,   0,   0,   0,   0, 107, 253, 253, 230,  48,   0,   0,   0,   0,   0, 192, 253, 253, 156,   0,   0,   0,   0,   0,   0,   0,   0,   0],\n",
              "       [  0,   0,   0,   0,   0,   3,  20,  20,  15,   0,   0,   0,   0,   0,  43, 224, 253, 245,  74,   0,   0,   0,   0,   0,   0,   0,   0,   0],\n",
              "       [  0,   0,   0,   0,   0,   0,   0,   0,   0,   0,   0,   0,   0,   0, 249, 253, 245, 126,   0,   0,   0,   0,   0,   0,   0,   0,   0,   0],\n",
              "       [  0,   0,   0,   0,   0,   0,   0,   0,   0,   0,   0,  14, 101, 223, 253, 248, 124,   0,   0,   0,   0,   0,   0,   0,   0,   0,   0,   0],\n",
              "       [  0,   0,   0,   0,   0,   0,   0,   0,   0,  11, 166, 239, 253, 253, 253, 187,  30,   0,   0,   0,   0,   0,   0,   0,   0,   0,   0,   0],\n",
              "       [  0,   0,   0,   0,   0,   0,   0,   0,   0,  16, 248, 250, 253, 253, 253, 253, 232, 213, 111,   2,   0,   0,   0,   0,   0,   0,   0,   0],\n",
              "       [  0,   0,   0,   0,   0,   0,   0,   0,   0,   0,   0,  43,  98,  98, 208, 253, 253, 253, 253, 187,  22,   0,   0,   0,   0,   0,   0,   0],\n",
              "       [  0,   0,   0,   0,   0,   0,   0,   0,   0,   0,   0,   0,   0,   0,   9,  51, 119, 253, 253, 253,  76,   0,   0,   0,   0,   0,   0,   0],\n",
              "       [  0,   0,   0,   0,   0,   0,   0,   0,   0,   0,   0,   0,   0,   0,   0,   0,   1, 183, 253, 253, 139,   0,   0,   0,   0,   0,   0,   0],\n",
              "       [  0,   0,   0,   0,   0,   0,   0,   0,   0,   0,   0,   0,   0,   0,   0,   0,   0, 182, 253, 253, 104,   0,   0,   0,   0,   0,   0,   0],\n",
              "       [  0,   0,   0,   0,   0,   0,   0,   0,   0,   0,   0,   0,   0,   0,   0,   0,  85, 249, 253, 253,  36,   0,   0,   0,   0,   0,   0,   0],\n",
              "       [  0,   0,   0,   0,   0,   0,   0,   0,   0,   0,   0,   0,   0,   0,   0,  60, 214, 253, 253, 173,  11,   0,   0,   0,   0,   0,   0,   0],\n",
              "       [  0,   0,   0,   0,   0,   0,   0,   0,   0,   0,   0,   0,   0,   0,  98, 247, 253, 253, 226,   9,   0,   0,   0,   0,   0,   0,   0,   0],\n",
              "       [  0,   0,   0,   0,   0,   0,   0,   0,   0,   0,   0,   0,  42, 150, 252, 253, 253, 233,  53,   0,   0,   0,   0,   0,   0,   0,   0,   0],\n",
              "       [  0,   0,   0,   0,   0,   0,  42, 115,  42,  60, 115, 159, 240, 253, 253, 250, 175,  25,   0,   0,   0,   0,   0,   0,   0,   0,   0,   0],\n",
              "       [  0,   0,   0,   0,   0,   0, 187, 253, 253, 253, 253, 253, 253, 253, 197,  86,   0,   0,   0,   0,   0,   0,   0,   0,   0,   0,   0,   0],\n",
              "       [  0,   0,   0,   0,   0,   0, 103, 253, 253, 253, 253, 253, 232,  67,   1,   0,   0,   0,   0,   0,   0,   0,   0,   0,   0,   0,   0,   0],\n",
              "       [  0,   0,   0,   0,   0,   0,   0,   0,   0,   0,   0,   0,   0,   0,   0,   0,   0,   0,   0,   0,   0,   0,   0,   0,   0,   0,   0,   0],\n",
              "       [  0,   0,   0,   0,   0,   0,   0,   0,   0,   0,   0,   0,   0,   0,   0,   0,   0,   0,   0,   0,   0,   0,   0,   0,   0,   0,   0,   0],\n",
              "       [  0,   0,   0,   0,   0,   0,   0,   0,   0,   0,   0,   0,   0,   0,   0,   0,   0,   0,   0,   0,   0,   0,   0,   0,   0,   0,   0,   0]], dtype=uint8)"
            ]
          },
          "metadata": {
            "tags": []
          },
          "execution_count": 405
        }
      ]
    },
    {
      "cell_type": "code",
      "metadata": {
        "colab": {
          "base_uri": "https://localhost:8080/"
        },
        "id": "byGW5R3oU1se",
        "outputId": "56cc851d-b73d-4b7d-bf04-dc1f294c5152"
      },
      "source": [
        "array(im3)[4:10,4:10]"
      ],
      "execution_count": 406,
      "outputs": [
        {
          "output_type": "execute_result",
          "data": {
            "text/plain": [
              "array([[  0,   0,   0,   0,   0,   0],\n",
              "       [  0,   0,   0,   0,   0,  29],\n",
              "       [  0,   0,   0,  48, 166, 224],\n",
              "       [  0,  93, 244, 249, 253, 187],\n",
              "       [  0, 107, 253, 253, 230,  48],\n",
              "       [  0,   3,  20,  20,  15,   0]], dtype=uint8)"
            ]
          },
          "metadata": {
            "tags": []
          },
          "execution_count": 406
        }
      ]
    },
    {
      "cell_type": "markdown",
      "metadata": {
        "id": "qAr_F8vmE9mT"
      },
      "source": [
        "Tensor is basically a pytorch version of a numpy array. Note: PyTorch tensors can be computed on GPUs."
      ]
    },
    {
      "cell_type": "code",
      "metadata": {
        "colab": {
          "base_uri": "https://localhost:8080/"
        },
        "id": "tYw-I_pnE-Dr",
        "outputId": "a57a25c2-c2ab-42b2-a735-4b9acc1a3938"
      },
      "source": [
        "tensor(im3)[4:10,4:10]"
      ],
      "execution_count": 407,
      "outputs": [
        {
          "output_type": "execute_result",
          "data": {
            "text/plain": [
              "tensor([[  0,   0,   0,   0,   0,   0],\n",
              "        [  0,   0,   0,   0,   0,  29],\n",
              "        [  0,   0,   0,  48, 166, 224],\n",
              "        [  0,  93, 244, 249, 253, 187],\n",
              "        [  0, 107, 253, 253, 230,  48],\n",
              "        [  0,   3,  20,  20,  15,   0]], dtype=torch.uint8)"
            ]
          },
          "metadata": {
            "tags": []
          },
          "execution_count": 407
        }
      ]
    },
    {
      "cell_type": "markdown",
      "metadata": {
        "id": "9MG_LSbhWsJo"
      },
      "source": [
        "Use pandas DataFrame to color-code the values using a gradient, which shows how the image is created from the pixel values with higher values being darker than lower values. \n"
      ]
    },
    {
      "cell_type": "code",
      "metadata": {
        "colab": {
          "base_uri": "https://localhost:8080/",
          "height": 628
        },
        "id": "ZZTTa5RwWgQX",
        "outputId": "a0d93f07-e662-4a53-86b9-340381a1116f"
      },
      "source": [
        "im3_t = tensor(im3)\n",
        "df = pd.DataFrame(im3_t)\n",
        "df.style.set_properties(**{'font-size':'6pt'}).background_gradient('Greys')"
      ],
      "execution_count": 408,
      "outputs": [
        {
          "output_type": "execute_result",
          "data": {
            "text/html": [
              "<style  type=\"text/css\" >\n",
              "#T_61a3e5b6_c2c7_11eb_9a15_0242ac1c0002row0_col0,#T_61a3e5b6_c2c7_11eb_9a15_0242ac1c0002row0_col1,#T_61a3e5b6_c2c7_11eb_9a15_0242ac1c0002row0_col2,#T_61a3e5b6_c2c7_11eb_9a15_0242ac1c0002row0_col3,#T_61a3e5b6_c2c7_11eb_9a15_0242ac1c0002row0_col4,#T_61a3e5b6_c2c7_11eb_9a15_0242ac1c0002row0_col5,#T_61a3e5b6_c2c7_11eb_9a15_0242ac1c0002row0_col6,#T_61a3e5b6_c2c7_11eb_9a15_0242ac1c0002row0_col7,#T_61a3e5b6_c2c7_11eb_9a15_0242ac1c0002row0_col8,#T_61a3e5b6_c2c7_11eb_9a15_0242ac1c0002row0_col9,#T_61a3e5b6_c2c7_11eb_9a15_0242ac1c0002row0_col10,#T_61a3e5b6_c2c7_11eb_9a15_0242ac1c0002row0_col11,#T_61a3e5b6_c2c7_11eb_9a15_0242ac1c0002row0_col12,#T_61a3e5b6_c2c7_11eb_9a15_0242ac1c0002row0_col13,#T_61a3e5b6_c2c7_11eb_9a15_0242ac1c0002row0_col14,#T_61a3e5b6_c2c7_11eb_9a15_0242ac1c0002row0_col15,#T_61a3e5b6_c2c7_11eb_9a15_0242ac1c0002row0_col16,#T_61a3e5b6_c2c7_11eb_9a15_0242ac1c0002row0_col17,#T_61a3e5b6_c2c7_11eb_9a15_0242ac1c0002row0_col18,#T_61a3e5b6_c2c7_11eb_9a15_0242ac1c0002row0_col19,#T_61a3e5b6_c2c7_11eb_9a15_0242ac1c0002row0_col20,#T_61a3e5b6_c2c7_11eb_9a15_0242ac1c0002row0_col21,#T_61a3e5b6_c2c7_11eb_9a15_0242ac1c0002row0_col22,#T_61a3e5b6_c2c7_11eb_9a15_0242ac1c0002row0_col23,#T_61a3e5b6_c2c7_11eb_9a15_0242ac1c0002row0_col24,#T_61a3e5b6_c2c7_11eb_9a15_0242ac1c0002row0_col25,#T_61a3e5b6_c2c7_11eb_9a15_0242ac1c0002row0_col26,#T_61a3e5b6_c2c7_11eb_9a15_0242ac1c0002row0_col27,#T_61a3e5b6_c2c7_11eb_9a15_0242ac1c0002row1_col0,#T_61a3e5b6_c2c7_11eb_9a15_0242ac1c0002row1_col1,#T_61a3e5b6_c2c7_11eb_9a15_0242ac1c0002row1_col2,#T_61a3e5b6_c2c7_11eb_9a15_0242ac1c0002row1_col3,#T_61a3e5b6_c2c7_11eb_9a15_0242ac1c0002row1_col4,#T_61a3e5b6_c2c7_11eb_9a15_0242ac1c0002row1_col5,#T_61a3e5b6_c2c7_11eb_9a15_0242ac1c0002row1_col6,#T_61a3e5b6_c2c7_11eb_9a15_0242ac1c0002row1_col7,#T_61a3e5b6_c2c7_11eb_9a15_0242ac1c0002row1_col8,#T_61a3e5b6_c2c7_11eb_9a15_0242ac1c0002row1_col9,#T_61a3e5b6_c2c7_11eb_9a15_0242ac1c0002row1_col10,#T_61a3e5b6_c2c7_11eb_9a15_0242ac1c0002row1_col11,#T_61a3e5b6_c2c7_11eb_9a15_0242ac1c0002row1_col12,#T_61a3e5b6_c2c7_11eb_9a15_0242ac1c0002row1_col13,#T_61a3e5b6_c2c7_11eb_9a15_0242ac1c0002row1_col14,#T_61a3e5b6_c2c7_11eb_9a15_0242ac1c0002row1_col15,#T_61a3e5b6_c2c7_11eb_9a15_0242ac1c0002row1_col16,#T_61a3e5b6_c2c7_11eb_9a15_0242ac1c0002row1_col17,#T_61a3e5b6_c2c7_11eb_9a15_0242ac1c0002row1_col18,#T_61a3e5b6_c2c7_11eb_9a15_0242ac1c0002row1_col19,#T_61a3e5b6_c2c7_11eb_9a15_0242ac1c0002row1_col20,#T_61a3e5b6_c2c7_11eb_9a15_0242ac1c0002row1_col21,#T_61a3e5b6_c2c7_11eb_9a15_0242ac1c0002row1_col22,#T_61a3e5b6_c2c7_11eb_9a15_0242ac1c0002row1_col23,#T_61a3e5b6_c2c7_11eb_9a15_0242ac1c0002row1_col24,#T_61a3e5b6_c2c7_11eb_9a15_0242ac1c0002row1_col25,#T_61a3e5b6_c2c7_11eb_9a15_0242ac1c0002row1_col26,#T_61a3e5b6_c2c7_11eb_9a15_0242ac1c0002row1_col27,#T_61a3e5b6_c2c7_11eb_9a15_0242ac1c0002row2_col0,#T_61a3e5b6_c2c7_11eb_9a15_0242ac1c0002row2_col1,#T_61a3e5b6_c2c7_11eb_9a15_0242ac1c0002row2_col2,#T_61a3e5b6_c2c7_11eb_9a15_0242ac1c0002row2_col3,#T_61a3e5b6_c2c7_11eb_9a15_0242ac1c0002row2_col4,#T_61a3e5b6_c2c7_11eb_9a15_0242ac1c0002row2_col5,#T_61a3e5b6_c2c7_11eb_9a15_0242ac1c0002row2_col6,#T_61a3e5b6_c2c7_11eb_9a15_0242ac1c0002row2_col7,#T_61a3e5b6_c2c7_11eb_9a15_0242ac1c0002row2_col8,#T_61a3e5b6_c2c7_11eb_9a15_0242ac1c0002row2_col9,#T_61a3e5b6_c2c7_11eb_9a15_0242ac1c0002row2_col10,#T_61a3e5b6_c2c7_11eb_9a15_0242ac1c0002row2_col11,#T_61a3e5b6_c2c7_11eb_9a15_0242ac1c0002row2_col12,#T_61a3e5b6_c2c7_11eb_9a15_0242ac1c0002row2_col13,#T_61a3e5b6_c2c7_11eb_9a15_0242ac1c0002row2_col14,#T_61a3e5b6_c2c7_11eb_9a15_0242ac1c0002row2_col15,#T_61a3e5b6_c2c7_11eb_9a15_0242ac1c0002row2_col16,#T_61a3e5b6_c2c7_11eb_9a15_0242ac1c0002row2_col17,#T_61a3e5b6_c2c7_11eb_9a15_0242ac1c0002row2_col18,#T_61a3e5b6_c2c7_11eb_9a15_0242ac1c0002row2_col19,#T_61a3e5b6_c2c7_11eb_9a15_0242ac1c0002row2_col20,#T_61a3e5b6_c2c7_11eb_9a15_0242ac1c0002row2_col21,#T_61a3e5b6_c2c7_11eb_9a15_0242ac1c0002row2_col22,#T_61a3e5b6_c2c7_11eb_9a15_0242ac1c0002row2_col23,#T_61a3e5b6_c2c7_11eb_9a15_0242ac1c0002row2_col24,#T_61a3e5b6_c2c7_11eb_9a15_0242ac1c0002row2_col25,#T_61a3e5b6_c2c7_11eb_9a15_0242ac1c0002row2_col26,#T_61a3e5b6_c2c7_11eb_9a15_0242ac1c0002row2_col27,#T_61a3e5b6_c2c7_11eb_9a15_0242ac1c0002row3_col0,#T_61a3e5b6_c2c7_11eb_9a15_0242ac1c0002row3_col1,#T_61a3e5b6_c2c7_11eb_9a15_0242ac1c0002row3_col2,#T_61a3e5b6_c2c7_11eb_9a15_0242ac1c0002row3_col3,#T_61a3e5b6_c2c7_11eb_9a15_0242ac1c0002row3_col4,#T_61a3e5b6_c2c7_11eb_9a15_0242ac1c0002row3_col5,#T_61a3e5b6_c2c7_11eb_9a15_0242ac1c0002row3_col6,#T_61a3e5b6_c2c7_11eb_9a15_0242ac1c0002row3_col7,#T_61a3e5b6_c2c7_11eb_9a15_0242ac1c0002row3_col8,#T_61a3e5b6_c2c7_11eb_9a15_0242ac1c0002row3_col9,#T_61a3e5b6_c2c7_11eb_9a15_0242ac1c0002row3_col10,#T_61a3e5b6_c2c7_11eb_9a15_0242ac1c0002row3_col11,#T_61a3e5b6_c2c7_11eb_9a15_0242ac1c0002row3_col12,#T_61a3e5b6_c2c7_11eb_9a15_0242ac1c0002row3_col13,#T_61a3e5b6_c2c7_11eb_9a15_0242ac1c0002row3_col14,#T_61a3e5b6_c2c7_11eb_9a15_0242ac1c0002row3_col15,#T_61a3e5b6_c2c7_11eb_9a15_0242ac1c0002row3_col16,#T_61a3e5b6_c2c7_11eb_9a15_0242ac1c0002row3_col17,#T_61a3e5b6_c2c7_11eb_9a15_0242ac1c0002row3_col18,#T_61a3e5b6_c2c7_11eb_9a15_0242ac1c0002row3_col19,#T_61a3e5b6_c2c7_11eb_9a15_0242ac1c0002row3_col20,#T_61a3e5b6_c2c7_11eb_9a15_0242ac1c0002row3_col21,#T_61a3e5b6_c2c7_11eb_9a15_0242ac1c0002row3_col22,#T_61a3e5b6_c2c7_11eb_9a15_0242ac1c0002row3_col23,#T_61a3e5b6_c2c7_11eb_9a15_0242ac1c0002row3_col24,#T_61a3e5b6_c2c7_11eb_9a15_0242ac1c0002row3_col25,#T_61a3e5b6_c2c7_11eb_9a15_0242ac1c0002row3_col26,#T_61a3e5b6_c2c7_11eb_9a15_0242ac1c0002row3_col27,#T_61a3e5b6_c2c7_11eb_9a15_0242ac1c0002row4_col0,#T_61a3e5b6_c2c7_11eb_9a15_0242ac1c0002row4_col1,#T_61a3e5b6_c2c7_11eb_9a15_0242ac1c0002row4_col2,#T_61a3e5b6_c2c7_11eb_9a15_0242ac1c0002row4_col3,#T_61a3e5b6_c2c7_11eb_9a15_0242ac1c0002row4_col4,#T_61a3e5b6_c2c7_11eb_9a15_0242ac1c0002row4_col5,#T_61a3e5b6_c2c7_11eb_9a15_0242ac1c0002row4_col6,#T_61a3e5b6_c2c7_11eb_9a15_0242ac1c0002row4_col7,#T_61a3e5b6_c2c7_11eb_9a15_0242ac1c0002row4_col8,#T_61a3e5b6_c2c7_11eb_9a15_0242ac1c0002row4_col9,#T_61a3e5b6_c2c7_11eb_9a15_0242ac1c0002row4_col10,#T_61a3e5b6_c2c7_11eb_9a15_0242ac1c0002row4_col11,#T_61a3e5b6_c2c7_11eb_9a15_0242ac1c0002row4_col12,#T_61a3e5b6_c2c7_11eb_9a15_0242ac1c0002row4_col13,#T_61a3e5b6_c2c7_11eb_9a15_0242ac1c0002row4_col14,#T_61a3e5b6_c2c7_11eb_9a15_0242ac1c0002row4_col15,#T_61a3e5b6_c2c7_11eb_9a15_0242ac1c0002row4_col16,#T_61a3e5b6_c2c7_11eb_9a15_0242ac1c0002row4_col17,#T_61a3e5b6_c2c7_11eb_9a15_0242ac1c0002row4_col18,#T_61a3e5b6_c2c7_11eb_9a15_0242ac1c0002row4_col19,#T_61a3e5b6_c2c7_11eb_9a15_0242ac1c0002row4_col20,#T_61a3e5b6_c2c7_11eb_9a15_0242ac1c0002row4_col21,#T_61a3e5b6_c2c7_11eb_9a15_0242ac1c0002row4_col22,#T_61a3e5b6_c2c7_11eb_9a15_0242ac1c0002row4_col23,#T_61a3e5b6_c2c7_11eb_9a15_0242ac1c0002row4_col24,#T_61a3e5b6_c2c7_11eb_9a15_0242ac1c0002row4_col25,#T_61a3e5b6_c2c7_11eb_9a15_0242ac1c0002row4_col26,#T_61a3e5b6_c2c7_11eb_9a15_0242ac1c0002row4_col27,#T_61a3e5b6_c2c7_11eb_9a15_0242ac1c0002row5_col0,#T_61a3e5b6_c2c7_11eb_9a15_0242ac1c0002row5_col1,#T_61a3e5b6_c2c7_11eb_9a15_0242ac1c0002row5_col2,#T_61a3e5b6_c2c7_11eb_9a15_0242ac1c0002row5_col3,#T_61a3e5b6_c2c7_11eb_9a15_0242ac1c0002row5_col4,#T_61a3e5b6_c2c7_11eb_9a15_0242ac1c0002row5_col5,#T_61a3e5b6_c2c7_11eb_9a15_0242ac1c0002row5_col6,#T_61a3e5b6_c2c7_11eb_9a15_0242ac1c0002row5_col7,#T_61a3e5b6_c2c7_11eb_9a15_0242ac1c0002row5_col8,#T_61a3e5b6_c2c7_11eb_9a15_0242ac1c0002row5_col19,#T_61a3e5b6_c2c7_11eb_9a15_0242ac1c0002row5_col20,#T_61a3e5b6_c2c7_11eb_9a15_0242ac1c0002row5_col21,#T_61a3e5b6_c2c7_11eb_9a15_0242ac1c0002row5_col22,#T_61a3e5b6_c2c7_11eb_9a15_0242ac1c0002row5_col23,#T_61a3e5b6_c2c7_11eb_9a15_0242ac1c0002row5_col24,#T_61a3e5b6_c2c7_11eb_9a15_0242ac1c0002row5_col25,#T_61a3e5b6_c2c7_11eb_9a15_0242ac1c0002row5_col26,#T_61a3e5b6_c2c7_11eb_9a15_0242ac1c0002row5_col27,#T_61a3e5b6_c2c7_11eb_9a15_0242ac1c0002row6_col0,#T_61a3e5b6_c2c7_11eb_9a15_0242ac1c0002row6_col1,#T_61a3e5b6_c2c7_11eb_9a15_0242ac1c0002row6_col2,#T_61a3e5b6_c2c7_11eb_9a15_0242ac1c0002row6_col3,#T_61a3e5b6_c2c7_11eb_9a15_0242ac1c0002row6_col4,#T_61a3e5b6_c2c7_11eb_9a15_0242ac1c0002row6_col5,#T_61a3e5b6_c2c7_11eb_9a15_0242ac1c0002row6_col6,#T_61a3e5b6_c2c7_11eb_9a15_0242ac1c0002row6_col19,#T_61a3e5b6_c2c7_11eb_9a15_0242ac1c0002row6_col20,#T_61a3e5b6_c2c7_11eb_9a15_0242ac1c0002row6_col21,#T_61a3e5b6_c2c7_11eb_9a15_0242ac1c0002row6_col22,#T_61a3e5b6_c2c7_11eb_9a15_0242ac1c0002row6_col23,#T_61a3e5b6_c2c7_11eb_9a15_0242ac1c0002row6_col24,#T_61a3e5b6_c2c7_11eb_9a15_0242ac1c0002row6_col25,#T_61a3e5b6_c2c7_11eb_9a15_0242ac1c0002row6_col26,#T_61a3e5b6_c2c7_11eb_9a15_0242ac1c0002row6_col27,#T_61a3e5b6_c2c7_11eb_9a15_0242ac1c0002row7_col0,#T_61a3e5b6_c2c7_11eb_9a15_0242ac1c0002row7_col1,#T_61a3e5b6_c2c7_11eb_9a15_0242ac1c0002row7_col2,#T_61a3e5b6_c2c7_11eb_9a15_0242ac1c0002row7_col3,#T_61a3e5b6_c2c7_11eb_9a15_0242ac1c0002row7_col4,#T_61a3e5b6_c2c7_11eb_9a15_0242ac1c0002row7_col19,#T_61a3e5b6_c2c7_11eb_9a15_0242ac1c0002row7_col20,#T_61a3e5b6_c2c7_11eb_9a15_0242ac1c0002row7_col21,#T_61a3e5b6_c2c7_11eb_9a15_0242ac1c0002row7_col22,#T_61a3e5b6_c2c7_11eb_9a15_0242ac1c0002row7_col23,#T_61a3e5b6_c2c7_11eb_9a15_0242ac1c0002row7_col24,#T_61a3e5b6_c2c7_11eb_9a15_0242ac1c0002row7_col25,#T_61a3e5b6_c2c7_11eb_9a15_0242ac1c0002row7_col26,#T_61a3e5b6_c2c7_11eb_9a15_0242ac1c0002row7_col27,#T_61a3e5b6_c2c7_11eb_9a15_0242ac1c0002row8_col0,#T_61a3e5b6_c2c7_11eb_9a15_0242ac1c0002row8_col1,#T_61a3e5b6_c2c7_11eb_9a15_0242ac1c0002row8_col2,#T_61a3e5b6_c2c7_11eb_9a15_0242ac1c0002row8_col3,#T_61a3e5b6_c2c7_11eb_9a15_0242ac1c0002row8_col4,#T_61a3e5b6_c2c7_11eb_9a15_0242ac1c0002row8_col10,#T_61a3e5b6_c2c7_11eb_9a15_0242ac1c0002row8_col11,#T_61a3e5b6_c2c7_11eb_9a15_0242ac1c0002row8_col12,#T_61a3e5b6_c2c7_11eb_9a15_0242ac1c0002row8_col13,#T_61a3e5b6_c2c7_11eb_9a15_0242ac1c0002row8_col14,#T_61a3e5b6_c2c7_11eb_9a15_0242ac1c0002row8_col19,#T_61a3e5b6_c2c7_11eb_9a15_0242ac1c0002row8_col20,#T_61a3e5b6_c2c7_11eb_9a15_0242ac1c0002row8_col21,#T_61a3e5b6_c2c7_11eb_9a15_0242ac1c0002row8_col22,#T_61a3e5b6_c2c7_11eb_9a15_0242ac1c0002row8_col23,#T_61a3e5b6_c2c7_11eb_9a15_0242ac1c0002row8_col24,#T_61a3e5b6_c2c7_11eb_9a15_0242ac1c0002row8_col25,#T_61a3e5b6_c2c7_11eb_9a15_0242ac1c0002row8_col26,#T_61a3e5b6_c2c7_11eb_9a15_0242ac1c0002row8_col27,#T_61a3e5b6_c2c7_11eb_9a15_0242ac1c0002row9_col0,#T_61a3e5b6_c2c7_11eb_9a15_0242ac1c0002row9_col1,#T_61a3e5b6_c2c7_11eb_9a15_0242ac1c0002row9_col2,#T_61a3e5b6_c2c7_11eb_9a15_0242ac1c0002row9_col3,#T_61a3e5b6_c2c7_11eb_9a15_0242ac1c0002row9_col4,#T_61a3e5b6_c2c7_11eb_9a15_0242ac1c0002row9_col9,#T_61a3e5b6_c2c7_11eb_9a15_0242ac1c0002row9_col10,#T_61a3e5b6_c2c7_11eb_9a15_0242ac1c0002row9_col11,#T_61a3e5b6_c2c7_11eb_9a15_0242ac1c0002row9_col12,#T_61a3e5b6_c2c7_11eb_9a15_0242ac1c0002row9_col13,#T_61a3e5b6_c2c7_11eb_9a15_0242ac1c0002row9_col19,#T_61a3e5b6_c2c7_11eb_9a15_0242ac1c0002row9_col20,#T_61a3e5b6_c2c7_11eb_9a15_0242ac1c0002row9_col21,#T_61a3e5b6_c2c7_11eb_9a15_0242ac1c0002row9_col22,#T_61a3e5b6_c2c7_11eb_9a15_0242ac1c0002row9_col23,#T_61a3e5b6_c2c7_11eb_9a15_0242ac1c0002row9_col24,#T_61a3e5b6_c2c7_11eb_9a15_0242ac1c0002row9_col25,#T_61a3e5b6_c2c7_11eb_9a15_0242ac1c0002row9_col26,#T_61a3e5b6_c2c7_11eb_9a15_0242ac1c0002row9_col27,#T_61a3e5b6_c2c7_11eb_9a15_0242ac1c0002row10_col0,#T_61a3e5b6_c2c7_11eb_9a15_0242ac1c0002row10_col1,#T_61a3e5b6_c2c7_11eb_9a15_0242ac1c0002row10_col2,#T_61a3e5b6_c2c7_11eb_9a15_0242ac1c0002row10_col3,#T_61a3e5b6_c2c7_11eb_9a15_0242ac1c0002row10_col4,#T_61a3e5b6_c2c7_11eb_9a15_0242ac1c0002row10_col5,#T_61a3e5b6_c2c7_11eb_9a15_0242ac1c0002row10_col6,#T_61a3e5b6_c2c7_11eb_9a15_0242ac1c0002row10_col7,#T_61a3e5b6_c2c7_11eb_9a15_0242ac1c0002row10_col8,#T_61a3e5b6_c2c7_11eb_9a15_0242ac1c0002row10_col9,#T_61a3e5b6_c2c7_11eb_9a15_0242ac1c0002row10_col10,#T_61a3e5b6_c2c7_11eb_9a15_0242ac1c0002row10_col11,#T_61a3e5b6_c2c7_11eb_9a15_0242ac1c0002row10_col12,#T_61a3e5b6_c2c7_11eb_9a15_0242ac1c0002row10_col13,#T_61a3e5b6_c2c7_11eb_9a15_0242ac1c0002row10_col18,#T_61a3e5b6_c2c7_11eb_9a15_0242ac1c0002row10_col19,#T_61a3e5b6_c2c7_11eb_9a15_0242ac1c0002row10_col20,#T_61a3e5b6_c2c7_11eb_9a15_0242ac1c0002row10_col21,#T_61a3e5b6_c2c7_11eb_9a15_0242ac1c0002row10_col22,#T_61a3e5b6_c2c7_11eb_9a15_0242ac1c0002row10_col23,#T_61a3e5b6_c2c7_11eb_9a15_0242ac1c0002row10_col24,#T_61a3e5b6_c2c7_11eb_9a15_0242ac1c0002row10_col25,#T_61a3e5b6_c2c7_11eb_9a15_0242ac1c0002row10_col26,#T_61a3e5b6_c2c7_11eb_9a15_0242ac1c0002row10_col27,#T_61a3e5b6_c2c7_11eb_9a15_0242ac1c0002row11_col0,#T_61a3e5b6_c2c7_11eb_9a15_0242ac1c0002row11_col1,#T_61a3e5b6_c2c7_11eb_9a15_0242ac1c0002row11_col2,#T_61a3e5b6_c2c7_11eb_9a15_0242ac1c0002row11_col3,#T_61a3e5b6_c2c7_11eb_9a15_0242ac1c0002row11_col4,#T_61a3e5b6_c2c7_11eb_9a15_0242ac1c0002row11_col5,#T_61a3e5b6_c2c7_11eb_9a15_0242ac1c0002row11_col6,#T_61a3e5b6_c2c7_11eb_9a15_0242ac1c0002row11_col7,#T_61a3e5b6_c2c7_11eb_9a15_0242ac1c0002row11_col8,#T_61a3e5b6_c2c7_11eb_9a15_0242ac1c0002row11_col9,#T_61a3e5b6_c2c7_11eb_9a15_0242ac1c0002row11_col10,#T_61a3e5b6_c2c7_11eb_9a15_0242ac1c0002row11_col17,#T_61a3e5b6_c2c7_11eb_9a15_0242ac1c0002row11_col18,#T_61a3e5b6_c2c7_11eb_9a15_0242ac1c0002row11_col19,#T_61a3e5b6_c2c7_11eb_9a15_0242ac1c0002row11_col20,#T_61a3e5b6_c2c7_11eb_9a15_0242ac1c0002row11_col21,#T_61a3e5b6_c2c7_11eb_9a15_0242ac1c0002row11_col22,#T_61a3e5b6_c2c7_11eb_9a15_0242ac1c0002row11_col23,#T_61a3e5b6_c2c7_11eb_9a15_0242ac1c0002row11_col24,#T_61a3e5b6_c2c7_11eb_9a15_0242ac1c0002row11_col25,#T_61a3e5b6_c2c7_11eb_9a15_0242ac1c0002row11_col26,#T_61a3e5b6_c2c7_11eb_9a15_0242ac1c0002row11_col27,#T_61a3e5b6_c2c7_11eb_9a15_0242ac1c0002row12_col0,#T_61a3e5b6_c2c7_11eb_9a15_0242ac1c0002row12_col1,#T_61a3e5b6_c2c7_11eb_9a15_0242ac1c0002row12_col2,#T_61a3e5b6_c2c7_11eb_9a15_0242ac1c0002row12_col3,#T_61a3e5b6_c2c7_11eb_9a15_0242ac1c0002row12_col4,#T_61a3e5b6_c2c7_11eb_9a15_0242ac1c0002row12_col5,#T_61a3e5b6_c2c7_11eb_9a15_0242ac1c0002row12_col6,#T_61a3e5b6_c2c7_11eb_9a15_0242ac1c0002row12_col7,#T_61a3e5b6_c2c7_11eb_9a15_0242ac1c0002row12_col8,#T_61a3e5b6_c2c7_11eb_9a15_0242ac1c0002row12_col17,#T_61a3e5b6_c2c7_11eb_9a15_0242ac1c0002row12_col18,#T_61a3e5b6_c2c7_11eb_9a15_0242ac1c0002row12_col19,#T_61a3e5b6_c2c7_11eb_9a15_0242ac1c0002row12_col20,#T_61a3e5b6_c2c7_11eb_9a15_0242ac1c0002row12_col21,#T_61a3e5b6_c2c7_11eb_9a15_0242ac1c0002row12_col22,#T_61a3e5b6_c2c7_11eb_9a15_0242ac1c0002row12_col23,#T_61a3e5b6_c2c7_11eb_9a15_0242ac1c0002row12_col24,#T_61a3e5b6_c2c7_11eb_9a15_0242ac1c0002row12_col25,#T_61a3e5b6_c2c7_11eb_9a15_0242ac1c0002row12_col26,#T_61a3e5b6_c2c7_11eb_9a15_0242ac1c0002row12_col27,#T_61a3e5b6_c2c7_11eb_9a15_0242ac1c0002row13_col0,#T_61a3e5b6_c2c7_11eb_9a15_0242ac1c0002row13_col1,#T_61a3e5b6_c2c7_11eb_9a15_0242ac1c0002row13_col2,#T_61a3e5b6_c2c7_11eb_9a15_0242ac1c0002row13_col3,#T_61a3e5b6_c2c7_11eb_9a15_0242ac1c0002row13_col4,#T_61a3e5b6_c2c7_11eb_9a15_0242ac1c0002row13_col5,#T_61a3e5b6_c2c7_11eb_9a15_0242ac1c0002row13_col6,#T_61a3e5b6_c2c7_11eb_9a15_0242ac1c0002row13_col7,#T_61a3e5b6_c2c7_11eb_9a15_0242ac1c0002row13_col8,#T_61a3e5b6_c2c7_11eb_9a15_0242ac1c0002row13_col20,#T_61a3e5b6_c2c7_11eb_9a15_0242ac1c0002row13_col21,#T_61a3e5b6_c2c7_11eb_9a15_0242ac1c0002row13_col22,#T_61a3e5b6_c2c7_11eb_9a15_0242ac1c0002row13_col23,#T_61a3e5b6_c2c7_11eb_9a15_0242ac1c0002row13_col24,#T_61a3e5b6_c2c7_11eb_9a15_0242ac1c0002row13_col25,#T_61a3e5b6_c2c7_11eb_9a15_0242ac1c0002row13_col26,#T_61a3e5b6_c2c7_11eb_9a15_0242ac1c0002row13_col27,#T_61a3e5b6_c2c7_11eb_9a15_0242ac1c0002row14_col0,#T_61a3e5b6_c2c7_11eb_9a15_0242ac1c0002row14_col1,#T_61a3e5b6_c2c7_11eb_9a15_0242ac1c0002row14_col2,#T_61a3e5b6_c2c7_11eb_9a15_0242ac1c0002row14_col3,#T_61a3e5b6_c2c7_11eb_9a15_0242ac1c0002row14_col4,#T_61a3e5b6_c2c7_11eb_9a15_0242ac1c0002row14_col5,#T_61a3e5b6_c2c7_11eb_9a15_0242ac1c0002row14_col6,#T_61a3e5b6_c2c7_11eb_9a15_0242ac1c0002row14_col7,#T_61a3e5b6_c2c7_11eb_9a15_0242ac1c0002row14_col8,#T_61a3e5b6_c2c7_11eb_9a15_0242ac1c0002row14_col9,#T_61a3e5b6_c2c7_11eb_9a15_0242ac1c0002row14_col10,#T_61a3e5b6_c2c7_11eb_9a15_0242ac1c0002row14_col21,#T_61a3e5b6_c2c7_11eb_9a15_0242ac1c0002row14_col22,#T_61a3e5b6_c2c7_11eb_9a15_0242ac1c0002row14_col23,#T_61a3e5b6_c2c7_11eb_9a15_0242ac1c0002row14_col24,#T_61a3e5b6_c2c7_11eb_9a15_0242ac1c0002row14_col25,#T_61a3e5b6_c2c7_11eb_9a15_0242ac1c0002row14_col26,#T_61a3e5b6_c2c7_11eb_9a15_0242ac1c0002row14_col27,#T_61a3e5b6_c2c7_11eb_9a15_0242ac1c0002row15_col0,#T_61a3e5b6_c2c7_11eb_9a15_0242ac1c0002row15_col1,#T_61a3e5b6_c2c7_11eb_9a15_0242ac1c0002row15_col2,#T_61a3e5b6_c2c7_11eb_9a15_0242ac1c0002row15_col3,#T_61a3e5b6_c2c7_11eb_9a15_0242ac1c0002row15_col4,#T_61a3e5b6_c2c7_11eb_9a15_0242ac1c0002row15_col5,#T_61a3e5b6_c2c7_11eb_9a15_0242ac1c0002row15_col6,#T_61a3e5b6_c2c7_11eb_9a15_0242ac1c0002row15_col7,#T_61a3e5b6_c2c7_11eb_9a15_0242ac1c0002row15_col8,#T_61a3e5b6_c2c7_11eb_9a15_0242ac1c0002row15_col9,#T_61a3e5b6_c2c7_11eb_9a15_0242ac1c0002row15_col10,#T_61a3e5b6_c2c7_11eb_9a15_0242ac1c0002row15_col11,#T_61a3e5b6_c2c7_11eb_9a15_0242ac1c0002row15_col12,#T_61a3e5b6_c2c7_11eb_9a15_0242ac1c0002row15_col13,#T_61a3e5b6_c2c7_11eb_9a15_0242ac1c0002row15_col21,#T_61a3e5b6_c2c7_11eb_9a15_0242ac1c0002row15_col22,#T_61a3e5b6_c2c7_11eb_9a15_0242ac1c0002row15_col23,#T_61a3e5b6_c2c7_11eb_9a15_0242ac1c0002row15_col24,#T_61a3e5b6_c2c7_11eb_9a15_0242ac1c0002row15_col25,#T_61a3e5b6_c2c7_11eb_9a15_0242ac1c0002row15_col26,#T_61a3e5b6_c2c7_11eb_9a15_0242ac1c0002row15_col27,#T_61a3e5b6_c2c7_11eb_9a15_0242ac1c0002row16_col0,#T_61a3e5b6_c2c7_11eb_9a15_0242ac1c0002row16_col1,#T_61a3e5b6_c2c7_11eb_9a15_0242ac1c0002row16_col2,#T_61a3e5b6_c2c7_11eb_9a15_0242ac1c0002row16_col3,#T_61a3e5b6_c2c7_11eb_9a15_0242ac1c0002row16_col4,#T_61a3e5b6_c2c7_11eb_9a15_0242ac1c0002row16_col5,#T_61a3e5b6_c2c7_11eb_9a15_0242ac1c0002row16_col6,#T_61a3e5b6_c2c7_11eb_9a15_0242ac1c0002row16_col7,#T_61a3e5b6_c2c7_11eb_9a15_0242ac1c0002row16_col8,#T_61a3e5b6_c2c7_11eb_9a15_0242ac1c0002row16_col9,#T_61a3e5b6_c2c7_11eb_9a15_0242ac1c0002row16_col10,#T_61a3e5b6_c2c7_11eb_9a15_0242ac1c0002row16_col11,#T_61a3e5b6_c2c7_11eb_9a15_0242ac1c0002row16_col12,#T_61a3e5b6_c2c7_11eb_9a15_0242ac1c0002row16_col13,#T_61a3e5b6_c2c7_11eb_9a15_0242ac1c0002row16_col14,#T_61a3e5b6_c2c7_11eb_9a15_0242ac1c0002row16_col15,#T_61a3e5b6_c2c7_11eb_9a15_0242ac1c0002row16_col16,#T_61a3e5b6_c2c7_11eb_9a15_0242ac1c0002row16_col21,#T_61a3e5b6_c2c7_11eb_9a15_0242ac1c0002row16_col22,#T_61a3e5b6_c2c7_11eb_9a15_0242ac1c0002row16_col23,#T_61a3e5b6_c2c7_11eb_9a15_0242ac1c0002row16_col24,#T_61a3e5b6_c2c7_11eb_9a15_0242ac1c0002row16_col25,#T_61a3e5b6_c2c7_11eb_9a15_0242ac1c0002row16_col26,#T_61a3e5b6_c2c7_11eb_9a15_0242ac1c0002row16_col27,#T_61a3e5b6_c2c7_11eb_9a15_0242ac1c0002row17_col0,#T_61a3e5b6_c2c7_11eb_9a15_0242ac1c0002row17_col1,#T_61a3e5b6_c2c7_11eb_9a15_0242ac1c0002row17_col2,#T_61a3e5b6_c2c7_11eb_9a15_0242ac1c0002row17_col3,#T_61a3e5b6_c2c7_11eb_9a15_0242ac1c0002row17_col4,#T_61a3e5b6_c2c7_11eb_9a15_0242ac1c0002row17_col5,#T_61a3e5b6_c2c7_11eb_9a15_0242ac1c0002row17_col6,#T_61a3e5b6_c2c7_11eb_9a15_0242ac1c0002row17_col7,#T_61a3e5b6_c2c7_11eb_9a15_0242ac1c0002row17_col8,#T_61a3e5b6_c2c7_11eb_9a15_0242ac1c0002row17_col9,#T_61a3e5b6_c2c7_11eb_9a15_0242ac1c0002row17_col10,#T_61a3e5b6_c2c7_11eb_9a15_0242ac1c0002row17_col11,#T_61a3e5b6_c2c7_11eb_9a15_0242ac1c0002row17_col12,#T_61a3e5b6_c2c7_11eb_9a15_0242ac1c0002row17_col13,#T_61a3e5b6_c2c7_11eb_9a15_0242ac1c0002row17_col14,#T_61a3e5b6_c2c7_11eb_9a15_0242ac1c0002row17_col15,#T_61a3e5b6_c2c7_11eb_9a15_0242ac1c0002row17_col16,#T_61a3e5b6_c2c7_11eb_9a15_0242ac1c0002row17_col21,#T_61a3e5b6_c2c7_11eb_9a15_0242ac1c0002row17_col22,#T_61a3e5b6_c2c7_11eb_9a15_0242ac1c0002row17_col23,#T_61a3e5b6_c2c7_11eb_9a15_0242ac1c0002row17_col24,#T_61a3e5b6_c2c7_11eb_9a15_0242ac1c0002row17_col25,#T_61a3e5b6_c2c7_11eb_9a15_0242ac1c0002row17_col26,#T_61a3e5b6_c2c7_11eb_9a15_0242ac1c0002row17_col27,#T_61a3e5b6_c2c7_11eb_9a15_0242ac1c0002row18_col0,#T_61a3e5b6_c2c7_11eb_9a15_0242ac1c0002row18_col1,#T_61a3e5b6_c2c7_11eb_9a15_0242ac1c0002row18_col2,#T_61a3e5b6_c2c7_11eb_9a15_0242ac1c0002row18_col3,#T_61a3e5b6_c2c7_11eb_9a15_0242ac1c0002row18_col4,#T_61a3e5b6_c2c7_11eb_9a15_0242ac1c0002row18_col5,#T_61a3e5b6_c2c7_11eb_9a15_0242ac1c0002row18_col6,#T_61a3e5b6_c2c7_11eb_9a15_0242ac1c0002row18_col7,#T_61a3e5b6_c2c7_11eb_9a15_0242ac1c0002row18_col8,#T_61a3e5b6_c2c7_11eb_9a15_0242ac1c0002row18_col9,#T_61a3e5b6_c2c7_11eb_9a15_0242ac1c0002row18_col10,#T_61a3e5b6_c2c7_11eb_9a15_0242ac1c0002row18_col11,#T_61a3e5b6_c2c7_11eb_9a15_0242ac1c0002row18_col12,#T_61a3e5b6_c2c7_11eb_9a15_0242ac1c0002row18_col13,#T_61a3e5b6_c2c7_11eb_9a15_0242ac1c0002row18_col14,#T_61a3e5b6_c2c7_11eb_9a15_0242ac1c0002row18_col15,#T_61a3e5b6_c2c7_11eb_9a15_0242ac1c0002row18_col21,#T_61a3e5b6_c2c7_11eb_9a15_0242ac1c0002row18_col22,#T_61a3e5b6_c2c7_11eb_9a15_0242ac1c0002row18_col23,#T_61a3e5b6_c2c7_11eb_9a15_0242ac1c0002row18_col24,#T_61a3e5b6_c2c7_11eb_9a15_0242ac1c0002row18_col25,#T_61a3e5b6_c2c7_11eb_9a15_0242ac1c0002row18_col26,#T_61a3e5b6_c2c7_11eb_9a15_0242ac1c0002row18_col27,#T_61a3e5b6_c2c7_11eb_9a15_0242ac1c0002row19_col0,#T_61a3e5b6_c2c7_11eb_9a15_0242ac1c0002row19_col1,#T_61a3e5b6_c2c7_11eb_9a15_0242ac1c0002row19_col2,#T_61a3e5b6_c2c7_11eb_9a15_0242ac1c0002row19_col3,#T_61a3e5b6_c2c7_11eb_9a15_0242ac1c0002row19_col4,#T_61a3e5b6_c2c7_11eb_9a15_0242ac1c0002row19_col5,#T_61a3e5b6_c2c7_11eb_9a15_0242ac1c0002row19_col6,#T_61a3e5b6_c2c7_11eb_9a15_0242ac1c0002row19_col7,#T_61a3e5b6_c2c7_11eb_9a15_0242ac1c0002row19_col8,#T_61a3e5b6_c2c7_11eb_9a15_0242ac1c0002row19_col9,#T_61a3e5b6_c2c7_11eb_9a15_0242ac1c0002row19_col10,#T_61a3e5b6_c2c7_11eb_9a15_0242ac1c0002row19_col11,#T_61a3e5b6_c2c7_11eb_9a15_0242ac1c0002row19_col12,#T_61a3e5b6_c2c7_11eb_9a15_0242ac1c0002row19_col13,#T_61a3e5b6_c2c7_11eb_9a15_0242ac1c0002row19_col14,#T_61a3e5b6_c2c7_11eb_9a15_0242ac1c0002row19_col21,#T_61a3e5b6_c2c7_11eb_9a15_0242ac1c0002row19_col22,#T_61a3e5b6_c2c7_11eb_9a15_0242ac1c0002row19_col23,#T_61a3e5b6_c2c7_11eb_9a15_0242ac1c0002row19_col24,#T_61a3e5b6_c2c7_11eb_9a15_0242ac1c0002row19_col25,#T_61a3e5b6_c2c7_11eb_9a15_0242ac1c0002row19_col26,#T_61a3e5b6_c2c7_11eb_9a15_0242ac1c0002row19_col27,#T_61a3e5b6_c2c7_11eb_9a15_0242ac1c0002row20_col0,#T_61a3e5b6_c2c7_11eb_9a15_0242ac1c0002row20_col1,#T_61a3e5b6_c2c7_11eb_9a15_0242ac1c0002row20_col2,#T_61a3e5b6_c2c7_11eb_9a15_0242ac1c0002row20_col3,#T_61a3e5b6_c2c7_11eb_9a15_0242ac1c0002row20_col4,#T_61a3e5b6_c2c7_11eb_9a15_0242ac1c0002row20_col5,#T_61a3e5b6_c2c7_11eb_9a15_0242ac1c0002row20_col6,#T_61a3e5b6_c2c7_11eb_9a15_0242ac1c0002row20_col7,#T_61a3e5b6_c2c7_11eb_9a15_0242ac1c0002row20_col8,#T_61a3e5b6_c2c7_11eb_9a15_0242ac1c0002row20_col9,#T_61a3e5b6_c2c7_11eb_9a15_0242ac1c0002row20_col10,#T_61a3e5b6_c2c7_11eb_9a15_0242ac1c0002row20_col11,#T_61a3e5b6_c2c7_11eb_9a15_0242ac1c0002row20_col12,#T_61a3e5b6_c2c7_11eb_9a15_0242ac1c0002row20_col13,#T_61a3e5b6_c2c7_11eb_9a15_0242ac1c0002row20_col20,#T_61a3e5b6_c2c7_11eb_9a15_0242ac1c0002row20_col21,#T_61a3e5b6_c2c7_11eb_9a15_0242ac1c0002row20_col22,#T_61a3e5b6_c2c7_11eb_9a15_0242ac1c0002row20_col23,#T_61a3e5b6_c2c7_11eb_9a15_0242ac1c0002row20_col24,#T_61a3e5b6_c2c7_11eb_9a15_0242ac1c0002row20_col25,#T_61a3e5b6_c2c7_11eb_9a15_0242ac1c0002row20_col26,#T_61a3e5b6_c2c7_11eb_9a15_0242ac1c0002row20_col27,#T_61a3e5b6_c2c7_11eb_9a15_0242ac1c0002row21_col0,#T_61a3e5b6_c2c7_11eb_9a15_0242ac1c0002row21_col1,#T_61a3e5b6_c2c7_11eb_9a15_0242ac1c0002row21_col2,#T_61a3e5b6_c2c7_11eb_9a15_0242ac1c0002row21_col3,#T_61a3e5b6_c2c7_11eb_9a15_0242ac1c0002row21_col4,#T_61a3e5b6_c2c7_11eb_9a15_0242ac1c0002row21_col5,#T_61a3e5b6_c2c7_11eb_9a15_0242ac1c0002row21_col6,#T_61a3e5b6_c2c7_11eb_9a15_0242ac1c0002row21_col7,#T_61a3e5b6_c2c7_11eb_9a15_0242ac1c0002row21_col8,#T_61a3e5b6_c2c7_11eb_9a15_0242ac1c0002row21_col9,#T_61a3e5b6_c2c7_11eb_9a15_0242ac1c0002row21_col10,#T_61a3e5b6_c2c7_11eb_9a15_0242ac1c0002row21_col11,#T_61a3e5b6_c2c7_11eb_9a15_0242ac1c0002row21_col19,#T_61a3e5b6_c2c7_11eb_9a15_0242ac1c0002row21_col20,#T_61a3e5b6_c2c7_11eb_9a15_0242ac1c0002row21_col21,#T_61a3e5b6_c2c7_11eb_9a15_0242ac1c0002row21_col22,#T_61a3e5b6_c2c7_11eb_9a15_0242ac1c0002row21_col23,#T_61a3e5b6_c2c7_11eb_9a15_0242ac1c0002row21_col24,#T_61a3e5b6_c2c7_11eb_9a15_0242ac1c0002row21_col25,#T_61a3e5b6_c2c7_11eb_9a15_0242ac1c0002row21_col26,#T_61a3e5b6_c2c7_11eb_9a15_0242ac1c0002row21_col27,#T_61a3e5b6_c2c7_11eb_9a15_0242ac1c0002row22_col0,#T_61a3e5b6_c2c7_11eb_9a15_0242ac1c0002row22_col1,#T_61a3e5b6_c2c7_11eb_9a15_0242ac1c0002row22_col2,#T_61a3e5b6_c2c7_11eb_9a15_0242ac1c0002row22_col3,#T_61a3e5b6_c2c7_11eb_9a15_0242ac1c0002row22_col4,#T_61a3e5b6_c2c7_11eb_9a15_0242ac1c0002row22_col5,#T_61a3e5b6_c2c7_11eb_9a15_0242ac1c0002row22_col18,#T_61a3e5b6_c2c7_11eb_9a15_0242ac1c0002row22_col19,#T_61a3e5b6_c2c7_11eb_9a15_0242ac1c0002row22_col20,#T_61a3e5b6_c2c7_11eb_9a15_0242ac1c0002row22_col21,#T_61a3e5b6_c2c7_11eb_9a15_0242ac1c0002row22_col22,#T_61a3e5b6_c2c7_11eb_9a15_0242ac1c0002row22_col23,#T_61a3e5b6_c2c7_11eb_9a15_0242ac1c0002row22_col24,#T_61a3e5b6_c2c7_11eb_9a15_0242ac1c0002row22_col25,#T_61a3e5b6_c2c7_11eb_9a15_0242ac1c0002row22_col26,#T_61a3e5b6_c2c7_11eb_9a15_0242ac1c0002row22_col27,#T_61a3e5b6_c2c7_11eb_9a15_0242ac1c0002row23_col0,#T_61a3e5b6_c2c7_11eb_9a15_0242ac1c0002row23_col1,#T_61a3e5b6_c2c7_11eb_9a15_0242ac1c0002row23_col2,#T_61a3e5b6_c2c7_11eb_9a15_0242ac1c0002row23_col3,#T_61a3e5b6_c2c7_11eb_9a15_0242ac1c0002row23_col4,#T_61a3e5b6_c2c7_11eb_9a15_0242ac1c0002row23_col5,#T_61a3e5b6_c2c7_11eb_9a15_0242ac1c0002row23_col16,#T_61a3e5b6_c2c7_11eb_9a15_0242ac1c0002row23_col17,#T_61a3e5b6_c2c7_11eb_9a15_0242ac1c0002row23_col18,#T_61a3e5b6_c2c7_11eb_9a15_0242ac1c0002row23_col19,#T_61a3e5b6_c2c7_11eb_9a15_0242ac1c0002row23_col20,#T_61a3e5b6_c2c7_11eb_9a15_0242ac1c0002row23_col21,#T_61a3e5b6_c2c7_11eb_9a15_0242ac1c0002row23_col22,#T_61a3e5b6_c2c7_11eb_9a15_0242ac1c0002row23_col23,#T_61a3e5b6_c2c7_11eb_9a15_0242ac1c0002row23_col24,#T_61a3e5b6_c2c7_11eb_9a15_0242ac1c0002row23_col25,#T_61a3e5b6_c2c7_11eb_9a15_0242ac1c0002row23_col26,#T_61a3e5b6_c2c7_11eb_9a15_0242ac1c0002row23_col27,#T_61a3e5b6_c2c7_11eb_9a15_0242ac1c0002row24_col0,#T_61a3e5b6_c2c7_11eb_9a15_0242ac1c0002row24_col1,#T_61a3e5b6_c2c7_11eb_9a15_0242ac1c0002row24_col2,#T_61a3e5b6_c2c7_11eb_9a15_0242ac1c0002row24_col3,#T_61a3e5b6_c2c7_11eb_9a15_0242ac1c0002row24_col4,#T_61a3e5b6_c2c7_11eb_9a15_0242ac1c0002row24_col5,#T_61a3e5b6_c2c7_11eb_9a15_0242ac1c0002row24_col14,#T_61a3e5b6_c2c7_11eb_9a15_0242ac1c0002row24_col15,#T_61a3e5b6_c2c7_11eb_9a15_0242ac1c0002row24_col16,#T_61a3e5b6_c2c7_11eb_9a15_0242ac1c0002row24_col17,#T_61a3e5b6_c2c7_11eb_9a15_0242ac1c0002row24_col18,#T_61a3e5b6_c2c7_11eb_9a15_0242ac1c0002row24_col19,#T_61a3e5b6_c2c7_11eb_9a15_0242ac1c0002row24_col20,#T_61a3e5b6_c2c7_11eb_9a15_0242ac1c0002row24_col21,#T_61a3e5b6_c2c7_11eb_9a15_0242ac1c0002row24_col22,#T_61a3e5b6_c2c7_11eb_9a15_0242ac1c0002row24_col23,#T_61a3e5b6_c2c7_11eb_9a15_0242ac1c0002row24_col24,#T_61a3e5b6_c2c7_11eb_9a15_0242ac1c0002row24_col25,#T_61a3e5b6_c2c7_11eb_9a15_0242ac1c0002row24_col26,#T_61a3e5b6_c2c7_11eb_9a15_0242ac1c0002row24_col27,#T_61a3e5b6_c2c7_11eb_9a15_0242ac1c0002row25_col0,#T_61a3e5b6_c2c7_11eb_9a15_0242ac1c0002row25_col1,#T_61a3e5b6_c2c7_11eb_9a15_0242ac1c0002row25_col2,#T_61a3e5b6_c2c7_11eb_9a15_0242ac1c0002row25_col3,#T_61a3e5b6_c2c7_11eb_9a15_0242ac1c0002row25_col4,#T_61a3e5b6_c2c7_11eb_9a15_0242ac1c0002row25_col5,#T_61a3e5b6_c2c7_11eb_9a15_0242ac1c0002row25_col6,#T_61a3e5b6_c2c7_11eb_9a15_0242ac1c0002row25_col7,#T_61a3e5b6_c2c7_11eb_9a15_0242ac1c0002row25_col8,#T_61a3e5b6_c2c7_11eb_9a15_0242ac1c0002row25_col9,#T_61a3e5b6_c2c7_11eb_9a15_0242ac1c0002row25_col10,#T_61a3e5b6_c2c7_11eb_9a15_0242ac1c0002row25_col11,#T_61a3e5b6_c2c7_11eb_9a15_0242ac1c0002row25_col12,#T_61a3e5b6_c2c7_11eb_9a15_0242ac1c0002row25_col13,#T_61a3e5b6_c2c7_11eb_9a15_0242ac1c0002row25_col14,#T_61a3e5b6_c2c7_11eb_9a15_0242ac1c0002row25_col15,#T_61a3e5b6_c2c7_11eb_9a15_0242ac1c0002row25_col16,#T_61a3e5b6_c2c7_11eb_9a15_0242ac1c0002row25_col17,#T_61a3e5b6_c2c7_11eb_9a15_0242ac1c0002row25_col18,#T_61a3e5b6_c2c7_11eb_9a15_0242ac1c0002row25_col19,#T_61a3e5b6_c2c7_11eb_9a15_0242ac1c0002row25_col20,#T_61a3e5b6_c2c7_11eb_9a15_0242ac1c0002row25_col21,#T_61a3e5b6_c2c7_11eb_9a15_0242ac1c0002row25_col22,#T_61a3e5b6_c2c7_11eb_9a15_0242ac1c0002row25_col23,#T_61a3e5b6_c2c7_11eb_9a15_0242ac1c0002row25_col24,#T_61a3e5b6_c2c7_11eb_9a15_0242ac1c0002row25_col25,#T_61a3e5b6_c2c7_11eb_9a15_0242ac1c0002row25_col26,#T_61a3e5b6_c2c7_11eb_9a15_0242ac1c0002row25_col27,#T_61a3e5b6_c2c7_11eb_9a15_0242ac1c0002row26_col0,#T_61a3e5b6_c2c7_11eb_9a15_0242ac1c0002row26_col1,#T_61a3e5b6_c2c7_11eb_9a15_0242ac1c0002row26_col2,#T_61a3e5b6_c2c7_11eb_9a15_0242ac1c0002row26_col3,#T_61a3e5b6_c2c7_11eb_9a15_0242ac1c0002row26_col4,#T_61a3e5b6_c2c7_11eb_9a15_0242ac1c0002row26_col5,#T_61a3e5b6_c2c7_11eb_9a15_0242ac1c0002row26_col6,#T_61a3e5b6_c2c7_11eb_9a15_0242ac1c0002row26_col7,#T_61a3e5b6_c2c7_11eb_9a15_0242ac1c0002row26_col8,#T_61a3e5b6_c2c7_11eb_9a15_0242ac1c0002row26_col9,#T_61a3e5b6_c2c7_11eb_9a15_0242ac1c0002row26_col10,#T_61a3e5b6_c2c7_11eb_9a15_0242ac1c0002row26_col11,#T_61a3e5b6_c2c7_11eb_9a15_0242ac1c0002row26_col12,#T_61a3e5b6_c2c7_11eb_9a15_0242ac1c0002row26_col13,#T_61a3e5b6_c2c7_11eb_9a15_0242ac1c0002row26_col14,#T_61a3e5b6_c2c7_11eb_9a15_0242ac1c0002row26_col15,#T_61a3e5b6_c2c7_11eb_9a15_0242ac1c0002row26_col16,#T_61a3e5b6_c2c7_11eb_9a15_0242ac1c0002row26_col17,#T_61a3e5b6_c2c7_11eb_9a15_0242ac1c0002row26_col18,#T_61a3e5b6_c2c7_11eb_9a15_0242ac1c0002row26_col19,#T_61a3e5b6_c2c7_11eb_9a15_0242ac1c0002row26_col20,#T_61a3e5b6_c2c7_11eb_9a15_0242ac1c0002row26_col21,#T_61a3e5b6_c2c7_11eb_9a15_0242ac1c0002row26_col22,#T_61a3e5b6_c2c7_11eb_9a15_0242ac1c0002row26_col23,#T_61a3e5b6_c2c7_11eb_9a15_0242ac1c0002row26_col24,#T_61a3e5b6_c2c7_11eb_9a15_0242ac1c0002row26_col25,#T_61a3e5b6_c2c7_11eb_9a15_0242ac1c0002row26_col26,#T_61a3e5b6_c2c7_11eb_9a15_0242ac1c0002row26_col27,#T_61a3e5b6_c2c7_11eb_9a15_0242ac1c0002row27_col0,#T_61a3e5b6_c2c7_11eb_9a15_0242ac1c0002row27_col1,#T_61a3e5b6_c2c7_11eb_9a15_0242ac1c0002row27_col2,#T_61a3e5b6_c2c7_11eb_9a15_0242ac1c0002row27_col3,#T_61a3e5b6_c2c7_11eb_9a15_0242ac1c0002row27_col4,#T_61a3e5b6_c2c7_11eb_9a15_0242ac1c0002row27_col5,#T_61a3e5b6_c2c7_11eb_9a15_0242ac1c0002row27_col6,#T_61a3e5b6_c2c7_11eb_9a15_0242ac1c0002row27_col7,#T_61a3e5b6_c2c7_11eb_9a15_0242ac1c0002row27_col8,#T_61a3e5b6_c2c7_11eb_9a15_0242ac1c0002row27_col9,#T_61a3e5b6_c2c7_11eb_9a15_0242ac1c0002row27_col10,#T_61a3e5b6_c2c7_11eb_9a15_0242ac1c0002row27_col11,#T_61a3e5b6_c2c7_11eb_9a15_0242ac1c0002row27_col12,#T_61a3e5b6_c2c7_11eb_9a15_0242ac1c0002row27_col13,#T_61a3e5b6_c2c7_11eb_9a15_0242ac1c0002row27_col14,#T_61a3e5b6_c2c7_11eb_9a15_0242ac1c0002row27_col15,#T_61a3e5b6_c2c7_11eb_9a15_0242ac1c0002row27_col16,#T_61a3e5b6_c2c7_11eb_9a15_0242ac1c0002row27_col17,#T_61a3e5b6_c2c7_11eb_9a15_0242ac1c0002row27_col18,#T_61a3e5b6_c2c7_11eb_9a15_0242ac1c0002row27_col19,#T_61a3e5b6_c2c7_11eb_9a15_0242ac1c0002row27_col20,#T_61a3e5b6_c2c7_11eb_9a15_0242ac1c0002row27_col21,#T_61a3e5b6_c2c7_11eb_9a15_0242ac1c0002row27_col22,#T_61a3e5b6_c2c7_11eb_9a15_0242ac1c0002row27_col23,#T_61a3e5b6_c2c7_11eb_9a15_0242ac1c0002row27_col24,#T_61a3e5b6_c2c7_11eb_9a15_0242ac1c0002row27_col25,#T_61a3e5b6_c2c7_11eb_9a15_0242ac1c0002row27_col26,#T_61a3e5b6_c2c7_11eb_9a15_0242ac1c0002row27_col27{\n",
              "            font-size:  6pt;\n",
              "            background-color:  #ffffff;\n",
              "            color:  #000000;\n",
              "        }#T_61a3e5b6_c2c7_11eb_9a15_0242ac1c0002row5_col9,#T_61a3e5b6_c2c7_11eb_9a15_0242ac1c0002row12_col16{\n",
              "            font-size:  6pt;\n",
              "            background-color:  #f1f1f1;\n",
              "            color:  #000000;\n",
              "        }#T_61a3e5b6_c2c7_11eb_9a15_0242ac1c0002row5_col10,#T_61a3e5b6_c2c7_11eb_9a15_0242ac1c0002row5_col17{\n",
              "            font-size:  6pt;\n",
              "            background-color:  #7c7c7c;\n",
              "            color:  #000000;\n",
              "        }#T_61a3e5b6_c2c7_11eb_9a15_0242ac1c0002row5_col11{\n",
              "            font-size:  6pt;\n",
              "            background-color:  #4a4a4a;\n",
              "            color:  #f1f1f1;\n",
              "        }#T_61a3e5b6_c2c7_11eb_9a15_0242ac1c0002row5_col12,#T_61a3e5b6_c2c7_11eb_9a15_0242ac1c0002row5_col13,#T_61a3e5b6_c2c7_11eb_9a15_0242ac1c0002row5_col14,#T_61a3e5b6_c2c7_11eb_9a15_0242ac1c0002row6_col10,#T_61a3e5b6_c2c7_11eb_9a15_0242ac1c0002row6_col11,#T_61a3e5b6_c2c7_11eb_9a15_0242ac1c0002row6_col15,#T_61a3e5b6_c2c7_11eb_9a15_0242ac1c0002row6_col16,#T_61a3e5b6_c2c7_11eb_9a15_0242ac1c0002row6_col17,#T_61a3e5b6_c2c7_11eb_9a15_0242ac1c0002row7_col8,#T_61a3e5b6_c2c7_11eb_9a15_0242ac1c0002row7_col16,#T_61a3e5b6_c2c7_11eb_9a15_0242ac1c0002row7_col17,#T_61a3e5b6_c2c7_11eb_9a15_0242ac1c0002row8_col5,#T_61a3e5b6_c2c7_11eb_9a15_0242ac1c0002row8_col6,#T_61a3e5b6_c2c7_11eb_9a15_0242ac1c0002row8_col7,#T_61a3e5b6_c2c7_11eb_9a15_0242ac1c0002row8_col16,#T_61a3e5b6_c2c7_11eb_9a15_0242ac1c0002row8_col17,#T_61a3e5b6_c2c7_11eb_9a15_0242ac1c0002row9_col16,#T_61a3e5b6_c2c7_11eb_9a15_0242ac1c0002row10_col15,#T_61a3e5b6_c2c7_11eb_9a15_0242ac1c0002row13_col15,#T_61a3e5b6_c2c7_11eb_9a15_0242ac1c0002row14_col15,#T_61a3e5b6_c2c7_11eb_9a15_0242ac1c0002row14_col16,#T_61a3e5b6_c2c7_11eb_9a15_0242ac1c0002row14_col17,#T_61a3e5b6_c2c7_11eb_9a15_0242ac1c0002row14_col18,#T_61a3e5b6_c2c7_11eb_9a15_0242ac1c0002row15_col17,#T_61a3e5b6_c2c7_11eb_9a15_0242ac1c0002row15_col18,#T_61a3e5b6_c2c7_11eb_9a15_0242ac1c0002row15_col19,#T_61a3e5b6_c2c7_11eb_9a15_0242ac1c0002row16_col18,#T_61a3e5b6_c2c7_11eb_9a15_0242ac1c0002row16_col19,#T_61a3e5b6_c2c7_11eb_9a15_0242ac1c0002row16_col20,#T_61a3e5b6_c2c7_11eb_9a15_0242ac1c0002row17_col18,#T_61a3e5b6_c2c7_11eb_9a15_0242ac1c0002row17_col19,#T_61a3e5b6_c2c7_11eb_9a15_0242ac1c0002row18_col18,#T_61a3e5b6_c2c7_11eb_9a15_0242ac1c0002row18_col19,#T_61a3e5b6_c2c7_11eb_9a15_0242ac1c0002row19_col17,#T_61a3e5b6_c2c7_11eb_9a15_0242ac1c0002row19_col18,#T_61a3e5b6_c2c7_11eb_9a15_0242ac1c0002row20_col16,#T_61a3e5b6_c2c7_11eb_9a15_0242ac1c0002row20_col17,#T_61a3e5b6_c2c7_11eb_9a15_0242ac1c0002row21_col15,#T_61a3e5b6_c2c7_11eb_9a15_0242ac1c0002row21_col16,#T_61a3e5b6_c2c7_11eb_9a15_0242ac1c0002row23_col7,#T_61a3e5b6_c2c7_11eb_9a15_0242ac1c0002row23_col8,#T_61a3e5b6_c2c7_11eb_9a15_0242ac1c0002row23_col9,#T_61a3e5b6_c2c7_11eb_9a15_0242ac1c0002row23_col10,#T_61a3e5b6_c2c7_11eb_9a15_0242ac1c0002row23_col11,#T_61a3e5b6_c2c7_11eb_9a15_0242ac1c0002row24_col7,#T_61a3e5b6_c2c7_11eb_9a15_0242ac1c0002row24_col8,#T_61a3e5b6_c2c7_11eb_9a15_0242ac1c0002row24_col9,#T_61a3e5b6_c2c7_11eb_9a15_0242ac1c0002row24_col10,#T_61a3e5b6_c2c7_11eb_9a15_0242ac1c0002row24_col11{\n",
              "            font-size:  6pt;\n",
              "            background-color:  #000000;\n",
              "            color:  #f1f1f1;\n",
              "        }#T_61a3e5b6_c2c7_11eb_9a15_0242ac1c0002row5_col15{\n",
              "            font-size:  6pt;\n",
              "            background-color:  #606060;\n",
              "            color:  #f1f1f1;\n",
              "        }#T_61a3e5b6_c2c7_11eb_9a15_0242ac1c0002row5_col16{\n",
              "            font-size:  6pt;\n",
              "            background-color:  #4d4d4d;\n",
              "            color:  #f1f1f1;\n",
              "        }#T_61a3e5b6_c2c7_11eb_9a15_0242ac1c0002row5_col18{\n",
              "            font-size:  6pt;\n",
              "            background-color:  #bbbbbb;\n",
              "            color:  #000000;\n",
              "        }#T_61a3e5b6_c2c7_11eb_9a15_0242ac1c0002row6_col7,#T_61a3e5b6_c2c7_11eb_9a15_0242ac1c0002row8_col9{\n",
              "            font-size:  6pt;\n",
              "            background-color:  #e4e4e4;\n",
              "            color:  #000000;\n",
              "        }#T_61a3e5b6_c2c7_11eb_9a15_0242ac1c0002row6_col8,#T_61a3e5b6_c2c7_11eb_9a15_0242ac1c0002row12_col10{\n",
              "            font-size:  6pt;\n",
              "            background-color:  #6b6b6b;\n",
              "            color:  #000000;\n",
              "        }#T_61a3e5b6_c2c7_11eb_9a15_0242ac1c0002row6_col9,#T_61a3e5b6_c2c7_11eb_9a15_0242ac1c0002row9_col15{\n",
              "            font-size:  6pt;\n",
              "            background-color:  #222222;\n",
              "            color:  #f1f1f1;\n",
              "        }#T_61a3e5b6_c2c7_11eb_9a15_0242ac1c0002row6_col12,#T_61a3e5b6_c2c7_11eb_9a15_0242ac1c0002row6_col18,#T_61a3e5b6_c2c7_11eb_9a15_0242ac1c0002row7_col18,#T_61a3e5b6_c2c7_11eb_9a15_0242ac1c0002row21_col17{\n",
              "            font-size:  6pt;\n",
              "            background-color:  #171717;\n",
              "            color:  #f1f1f1;\n",
              "        }#T_61a3e5b6_c2c7_11eb_9a15_0242ac1c0002row6_col13,#T_61a3e5b6_c2c7_11eb_9a15_0242ac1c0002row7_col15{\n",
              "            font-size:  6pt;\n",
              "            background-color:  #4b4b4b;\n",
              "            color:  #f1f1f1;\n",
              "        }#T_61a3e5b6_c2c7_11eb_9a15_0242ac1c0002row6_col14,#T_61a3e5b6_c2c7_11eb_9a15_0242ac1c0002row11_col14,#T_61a3e5b6_c2c7_11eb_9a15_0242ac1c0002row12_col12,#T_61a3e5b6_c2c7_11eb_9a15_0242ac1c0002row12_col14,#T_61a3e5b6_c2c7_11eb_9a15_0242ac1c0002row13_col12,#T_61a3e5b6_c2c7_11eb_9a15_0242ac1c0002row13_col14,#T_61a3e5b6_c2c7_11eb_9a15_0242ac1c0002row22_col14,#T_61a3e5b6_c2c7_11eb_9a15_0242ac1c0002row23_col12{\n",
              "            font-size:  6pt;\n",
              "            background-color:  #010101;\n",
              "            color:  #f1f1f1;\n",
              "        }#T_61a3e5b6_c2c7_11eb_9a15_0242ac1c0002row7_col5{\n",
              "            font-size:  6pt;\n",
              "            background-color:  #272727;\n",
              "            color:  #f1f1f1;\n",
              "        }#T_61a3e5b6_c2c7_11eb_9a15_0242ac1c0002row7_col6{\n",
              "            font-size:  6pt;\n",
              "            background-color:  #0a0a0a;\n",
              "            color:  #f1f1f1;\n",
              "        }#T_61a3e5b6_c2c7_11eb_9a15_0242ac1c0002row7_col7,#T_61a3e5b6_c2c7_11eb_9a15_0242ac1c0002row18_col17{\n",
              "            font-size:  6pt;\n",
              "            background-color:  #050505;\n",
              "            color:  #f1f1f1;\n",
              "        }#T_61a3e5b6_c2c7_11eb_9a15_0242ac1c0002row7_col9,#T_61a3e5b6_c2c7_11eb_9a15_0242ac1c0002row12_col15,#T_61a3e5b6_c2c7_11eb_9a15_0242ac1c0002row14_col19,#T_61a3e5b6_c2c7_11eb_9a15_0242ac1c0002row23_col6{\n",
              "            font-size:  6pt;\n",
              "            background-color:  #545454;\n",
              "            color:  #f1f1f1;\n",
              "        }#T_61a3e5b6_c2c7_11eb_9a15_0242ac1c0002row7_col10{\n",
              "            font-size:  6pt;\n",
              "            background-color:  #e6e6e6;\n",
              "            color:  #000000;\n",
              "        }#T_61a3e5b6_c2c7_11eb_9a15_0242ac1c0002row7_col11,#T_61a3e5b6_c2c7_11eb_9a15_0242ac1c0002row7_col14,#T_61a3e5b6_c2c7_11eb_9a15_0242ac1c0002row12_col9{\n",
              "            font-size:  6pt;\n",
              "            background-color:  #fafafa;\n",
              "            color:  #000000;\n",
              "        }#T_61a3e5b6_c2c7_11eb_9a15_0242ac1c0002row7_col12,#T_61a3e5b6_c2c7_11eb_9a15_0242ac1c0002row15_col14,#T_61a3e5b6_c2c7_11eb_9a15_0242ac1c0002row20_col19{\n",
              "            font-size:  6pt;\n",
              "            background-color:  #fbfbfb;\n",
              "            color:  #000000;\n",
              "        }#T_61a3e5b6_c2c7_11eb_9a15_0242ac1c0002row7_col13{\n",
              "            font-size:  6pt;\n",
              "            background-color:  #fdfdfd;\n",
              "            color:  #000000;\n",
              "        }#T_61a3e5b6_c2c7_11eb_9a15_0242ac1c0002row8_col8{\n",
              "            font-size:  6pt;\n",
              "            background-color:  #1b1b1b;\n",
              "            color:  #f1f1f1;\n",
              "        }#T_61a3e5b6_c2c7_11eb_9a15_0242ac1c0002row8_col15{\n",
              "            font-size:  6pt;\n",
              "            background-color:  #4e4e4e;\n",
              "            color:  #f1f1f1;\n",
              "        }#T_61a3e5b6_c2c7_11eb_9a15_0242ac1c0002row8_col18{\n",
              "            font-size:  6pt;\n",
              "            background-color:  #767676;\n",
              "            color:  #000000;\n",
              "        }#T_61a3e5b6_c2c7_11eb_9a15_0242ac1c0002row9_col5{\n",
              "            font-size:  6pt;\n",
              "            background-color:  #fcfcfc;\n",
              "            color:  #000000;\n",
              "        }#T_61a3e5b6_c2c7_11eb_9a15_0242ac1c0002row9_col6,#T_61a3e5b6_c2c7_11eb_9a15_0242ac1c0002row9_col7,#T_61a3e5b6_c2c7_11eb_9a15_0242ac1c0002row19_col20{\n",
              "            font-size:  6pt;\n",
              "            background-color:  #f6f6f6;\n",
              "            color:  #000000;\n",
              "        }#T_61a3e5b6_c2c7_11eb_9a15_0242ac1c0002row9_col8,#T_61a3e5b6_c2c7_11eb_9a15_0242ac1c0002row11_col11{\n",
              "            font-size:  6pt;\n",
              "            background-color:  #f8f8f8;\n",
              "            color:  #000000;\n",
              "        }#T_61a3e5b6_c2c7_11eb_9a15_0242ac1c0002row9_col14,#T_61a3e5b6_c2c7_11eb_9a15_0242ac1c0002row14_col11{\n",
              "            font-size:  6pt;\n",
              "            background-color:  #e8e8e8;\n",
              "            color:  #000000;\n",
              "        }#T_61a3e5b6_c2c7_11eb_9a15_0242ac1c0002row9_col17,#T_61a3e5b6_c2c7_11eb_9a15_0242ac1c0002row10_col16{\n",
              "            font-size:  6pt;\n",
              "            background-color:  #090909;\n",
              "            color:  #f1f1f1;\n",
              "        }#T_61a3e5b6_c2c7_11eb_9a15_0242ac1c0002row9_col18{\n",
              "            font-size:  6pt;\n",
              "            background-color:  #d0d0d0;\n",
              "            color:  #000000;\n",
              "        }#T_61a3e5b6_c2c7_11eb_9a15_0242ac1c0002row10_col14,#T_61a3e5b6_c2c7_11eb_9a15_0242ac1c0002row11_col15,#T_61a3e5b6_c2c7_11eb_9a15_0242ac1c0002row13_col10{\n",
              "            font-size:  6pt;\n",
              "            background-color:  #060606;\n",
              "            color:  #f1f1f1;\n",
              "        }#T_61a3e5b6_c2c7_11eb_9a15_0242ac1c0002row10_col17{\n",
              "            font-size:  6pt;\n",
              "            background-color:  #979797;\n",
              "            color:  #000000;\n",
              "        }#T_61a3e5b6_c2c7_11eb_9a15_0242ac1c0002row11_col12{\n",
              "            font-size:  6pt;\n",
              "            background-color:  #b6b6b6;\n",
              "            color:  #000000;\n",
              "        }#T_61a3e5b6_c2c7_11eb_9a15_0242ac1c0002row11_col13{\n",
              "            font-size:  6pt;\n",
              "            background-color:  #252525;\n",
              "            color:  #f1f1f1;\n",
              "        }#T_61a3e5b6_c2c7_11eb_9a15_0242ac1c0002row11_col16{\n",
              "            font-size:  6pt;\n",
              "            background-color:  #999999;\n",
              "            color:  #000000;\n",
              "        }#T_61a3e5b6_c2c7_11eb_9a15_0242ac1c0002row12_col11,#T_61a3e5b6_c2c7_11eb_9a15_0242ac1c0002row22_col12{\n",
              "            font-size:  6pt;\n",
              "            background-color:  #101010;\n",
              "            color:  #f1f1f1;\n",
              "        }#T_61a3e5b6_c2c7_11eb_9a15_0242ac1c0002row12_col13,#T_61a3e5b6_c2c7_11eb_9a15_0242ac1c0002row13_col13,#T_61a3e5b6_c2c7_11eb_9a15_0242ac1c0002row21_col14,#T_61a3e5b6_c2c7_11eb_9a15_0242ac1c0002row22_col13,#T_61a3e5b6_c2c7_11eb_9a15_0242ac1c0002row23_col13{\n",
              "            font-size:  6pt;\n",
              "            background-color:  #020202;\n",
              "            color:  #f1f1f1;\n",
              "        }#T_61a3e5b6_c2c7_11eb_9a15_0242ac1c0002row13_col9{\n",
              "            font-size:  6pt;\n",
              "            background-color:  #f7f7f7;\n",
              "            color:  #000000;\n",
              "        }#T_61a3e5b6_c2c7_11eb_9a15_0242ac1c0002row13_col11,#T_61a3e5b6_c2c7_11eb_9a15_0242ac1c0002row22_col15{\n",
              "            font-size:  6pt;\n",
              "            background-color:  #030303;\n",
              "            color:  #f1f1f1;\n",
              "        }#T_61a3e5b6_c2c7_11eb_9a15_0242ac1c0002row13_col16{\n",
              "            font-size:  6pt;\n",
              "            background-color:  #181818;\n",
              "            color:  #f1f1f1;\n",
              "        }#T_61a3e5b6_c2c7_11eb_9a15_0242ac1c0002row13_col17{\n",
              "            font-size:  6pt;\n",
              "            background-color:  #303030;\n",
              "            color:  #f1f1f1;\n",
              "        }#T_61a3e5b6_c2c7_11eb_9a15_0242ac1c0002row13_col18{\n",
              "            font-size:  6pt;\n",
              "            background-color:  #a9a9a9;\n",
              "            color:  #000000;\n",
              "        }#T_61a3e5b6_c2c7_11eb_9a15_0242ac1c0002row13_col19{\n",
              "            font-size:  6pt;\n",
              "            background-color:  #fefefe;\n",
              "            color:  #000000;\n",
              "        }#T_61a3e5b6_c2c7_11eb_9a15_0242ac1c0002row14_col12,#T_61a3e5b6_c2c7_11eb_9a15_0242ac1c0002row14_col13,#T_61a3e5b6_c2c7_11eb_9a15_0242ac1c0002row20_col14{\n",
              "            font-size:  6pt;\n",
              "            background-color:  #bababa;\n",
              "            color:  #000000;\n",
              "        }#T_61a3e5b6_c2c7_11eb_9a15_0242ac1c0002row14_col14{\n",
              "            font-size:  6pt;\n",
              "            background-color:  #393939;\n",
              "            color:  #f1f1f1;\n",
              "        }#T_61a3e5b6_c2c7_11eb_9a15_0242ac1c0002row14_col20{\n",
              "            font-size:  6pt;\n",
              "            background-color:  #eaeaea;\n",
              "            color:  #000000;\n",
              "        }#T_61a3e5b6_c2c7_11eb_9a15_0242ac1c0002row15_col15{\n",
              "            font-size:  6pt;\n",
              "            background-color:  #e2e2e2;\n",
              "            color:  #000000;\n",
              "        }#T_61a3e5b6_c2c7_11eb_9a15_0242ac1c0002row15_col16{\n",
              "            font-size:  6pt;\n",
              "            background-color:  #9f9f9f;\n",
              "            color:  #000000;\n",
              "        }#T_61a3e5b6_c2c7_11eb_9a15_0242ac1c0002row15_col20{\n",
              "            font-size:  6pt;\n",
              "            background-color:  #898989;\n",
              "            color:  #000000;\n",
              "        }#T_61a3e5b6_c2c7_11eb_9a15_0242ac1c0002row16_col17{\n",
              "            font-size:  6pt;\n",
              "            background-color:  #585858;\n",
              "            color:  #f1f1f1;\n",
              "        }#T_61a3e5b6_c2c7_11eb_9a15_0242ac1c0002row17_col17{\n",
              "            font-size:  6pt;\n",
              "            background-color:  #5a5a5a;\n",
              "            color:  #f1f1f1;\n",
              "        }#T_61a3e5b6_c2c7_11eb_9a15_0242ac1c0002row17_col20{\n",
              "            font-size:  6pt;\n",
              "            background-color:  #525252;\n",
              "            color:  #f1f1f1;\n",
              "        }#T_61a3e5b6_c2c7_11eb_9a15_0242ac1c0002row18_col16,#T_61a3e5b6_c2c7_11eb_9a15_0242ac1c0002row23_col15{\n",
              "            font-size:  6pt;\n",
              "            background-color:  #c5c5c5;\n",
              "            color:  #000000;\n",
              "        }#T_61a3e5b6_c2c7_11eb_9a15_0242ac1c0002row18_col20{\n",
              "            font-size:  6pt;\n",
              "            background-color:  #d7d7d7;\n",
              "            color:  #000000;\n",
              "        }#T_61a3e5b6_c2c7_11eb_9a15_0242ac1c0002row19_col15,#T_61a3e5b6_c2c7_11eb_9a15_0242ac1c0002row22_col9{\n",
              "            font-size:  6pt;\n",
              "            background-color:  #dcdcdc;\n",
              "            color:  #000000;\n",
              "        }#T_61a3e5b6_c2c7_11eb_9a15_0242ac1c0002row19_col16{\n",
              "            font-size:  6pt;\n",
              "            background-color:  #2f2f2f;\n",
              "            color:  #f1f1f1;\n",
              "        }#T_61a3e5b6_c2c7_11eb_9a15_0242ac1c0002row19_col19{\n",
              "            font-size:  6pt;\n",
              "            background-color:  #636363;\n",
              "            color:  #f1f1f1;\n",
              "        }#T_61a3e5b6_c2c7_11eb_9a15_0242ac1c0002row20_col15{\n",
              "            font-size:  6pt;\n",
              "            background-color:  #070707;\n",
              "            color:  #f1f1f1;\n",
              "        }#T_61a3e5b6_c2c7_11eb_9a15_0242ac1c0002row20_col18{\n",
              "            font-size:  6pt;\n",
              "            background-color:  #1f1f1f;\n",
              "            color:  #f1f1f1;\n",
              "        }#T_61a3e5b6_c2c7_11eb_9a15_0242ac1c0002row21_col12,#T_61a3e5b6_c2c7_11eb_9a15_0242ac1c0002row22_col6,#T_61a3e5b6_c2c7_11eb_9a15_0242ac1c0002row22_col8{\n",
              "            font-size:  6pt;\n",
              "            background-color:  #e9e9e9;\n",
              "            color:  #000000;\n",
              "        }#T_61a3e5b6_c2c7_11eb_9a15_0242ac1c0002row21_col13{\n",
              "            font-size:  6pt;\n",
              "            background-color:  #7d7d7d;\n",
              "            color:  #000000;\n",
              "        }#T_61a3e5b6_c2c7_11eb_9a15_0242ac1c0002row21_col18{\n",
              "            font-size:  6pt;\n",
              "            background-color:  #e1e1e1;\n",
              "            color:  #000000;\n",
              "        }#T_61a3e5b6_c2c7_11eb_9a15_0242ac1c0002row22_col7,#T_61a3e5b6_c2c7_11eb_9a15_0242ac1c0002row22_col10{\n",
              "            font-size:  6pt;\n",
              "            background-color:  #a4a4a4;\n",
              "            color:  #000000;\n",
              "        }#T_61a3e5b6_c2c7_11eb_9a15_0242ac1c0002row22_col11{\n",
              "            font-size:  6pt;\n",
              "            background-color:  #727272;\n",
              "            color:  #000000;\n",
              "        }#T_61a3e5b6_c2c7_11eb_9a15_0242ac1c0002row22_col16{\n",
              "            font-size:  6pt;\n",
              "            background-color:  #616161;\n",
              "            color:  #f1f1f1;\n",
              "        }#T_61a3e5b6_c2c7_11eb_9a15_0242ac1c0002row22_col17{\n",
              "            font-size:  6pt;\n",
              "            background-color:  #f3f3f3;\n",
              "            color:  #000000;\n",
              "        }#T_61a3e5b6_c2c7_11eb_9a15_0242ac1c0002row23_col14{\n",
              "            font-size:  6pt;\n",
              "            background-color:  #484848;\n",
              "            color:  #f1f1f1;\n",
              "        }#T_61a3e5b6_c2c7_11eb_9a15_0242ac1c0002row24_col6{\n",
              "            font-size:  6pt;\n",
              "            background-color:  #b3b3b3;\n",
              "            color:  #000000;\n",
              "        }#T_61a3e5b6_c2c7_11eb_9a15_0242ac1c0002row24_col12{\n",
              "            font-size:  6pt;\n",
              "            background-color:  #1a1a1a;\n",
              "            color:  #f1f1f1;\n",
              "        }#T_61a3e5b6_c2c7_11eb_9a15_0242ac1c0002row24_col13{\n",
              "            font-size:  6pt;\n",
              "            background-color:  #d6d6d6;\n",
              "            color:  #000000;\n",
              "        }</style><table id=\"T_61a3e5b6_c2c7_11eb_9a15_0242ac1c0002\" ><thead>    <tr>        <th class=\"blank level0\" ></th>        <th class=\"col_heading level0 col0\" >0</th>        <th class=\"col_heading level0 col1\" >1</th>        <th class=\"col_heading level0 col2\" >2</th>        <th class=\"col_heading level0 col3\" >3</th>        <th class=\"col_heading level0 col4\" >4</th>        <th class=\"col_heading level0 col5\" >5</th>        <th class=\"col_heading level0 col6\" >6</th>        <th class=\"col_heading level0 col7\" >7</th>        <th class=\"col_heading level0 col8\" >8</th>        <th class=\"col_heading level0 col9\" >9</th>        <th class=\"col_heading level0 col10\" >10</th>        <th class=\"col_heading level0 col11\" >11</th>        <th class=\"col_heading level0 col12\" >12</th>        <th class=\"col_heading level0 col13\" >13</th>        <th class=\"col_heading level0 col14\" >14</th>        <th class=\"col_heading level0 col15\" >15</th>        <th class=\"col_heading level0 col16\" >16</th>        <th class=\"col_heading level0 col17\" >17</th>        <th class=\"col_heading level0 col18\" >18</th>        <th class=\"col_heading level0 col19\" >19</th>        <th class=\"col_heading level0 col20\" >20</th>        <th class=\"col_heading level0 col21\" >21</th>        <th class=\"col_heading level0 col22\" >22</th>        <th class=\"col_heading level0 col23\" >23</th>        <th class=\"col_heading level0 col24\" >24</th>        <th class=\"col_heading level0 col25\" >25</th>        <th class=\"col_heading level0 col26\" >26</th>        <th class=\"col_heading level0 col27\" >27</th>    </tr></thead><tbody>\n",
              "                <tr>\n",
              "                        <th id=\"T_61a3e5b6_c2c7_11eb_9a15_0242ac1c0002level0_row0\" class=\"row_heading level0 row0\" >0</th>\n",
              "                        <td id=\"T_61a3e5b6_c2c7_11eb_9a15_0242ac1c0002row0_col0\" class=\"data row0 col0\" >0</td>\n",
              "                        <td id=\"T_61a3e5b6_c2c7_11eb_9a15_0242ac1c0002row0_col1\" class=\"data row0 col1\" >0</td>\n",
              "                        <td id=\"T_61a3e5b6_c2c7_11eb_9a15_0242ac1c0002row0_col2\" class=\"data row0 col2\" >0</td>\n",
              "                        <td id=\"T_61a3e5b6_c2c7_11eb_9a15_0242ac1c0002row0_col3\" class=\"data row0 col3\" >0</td>\n",
              "                        <td id=\"T_61a3e5b6_c2c7_11eb_9a15_0242ac1c0002row0_col4\" class=\"data row0 col4\" >0</td>\n",
              "                        <td id=\"T_61a3e5b6_c2c7_11eb_9a15_0242ac1c0002row0_col5\" class=\"data row0 col5\" >0</td>\n",
              "                        <td id=\"T_61a3e5b6_c2c7_11eb_9a15_0242ac1c0002row0_col6\" class=\"data row0 col6\" >0</td>\n",
              "                        <td id=\"T_61a3e5b6_c2c7_11eb_9a15_0242ac1c0002row0_col7\" class=\"data row0 col7\" >0</td>\n",
              "                        <td id=\"T_61a3e5b6_c2c7_11eb_9a15_0242ac1c0002row0_col8\" class=\"data row0 col8\" >0</td>\n",
              "                        <td id=\"T_61a3e5b6_c2c7_11eb_9a15_0242ac1c0002row0_col9\" class=\"data row0 col9\" >0</td>\n",
              "                        <td id=\"T_61a3e5b6_c2c7_11eb_9a15_0242ac1c0002row0_col10\" class=\"data row0 col10\" >0</td>\n",
              "                        <td id=\"T_61a3e5b6_c2c7_11eb_9a15_0242ac1c0002row0_col11\" class=\"data row0 col11\" >0</td>\n",
              "                        <td id=\"T_61a3e5b6_c2c7_11eb_9a15_0242ac1c0002row0_col12\" class=\"data row0 col12\" >0</td>\n",
              "                        <td id=\"T_61a3e5b6_c2c7_11eb_9a15_0242ac1c0002row0_col13\" class=\"data row0 col13\" >0</td>\n",
              "                        <td id=\"T_61a3e5b6_c2c7_11eb_9a15_0242ac1c0002row0_col14\" class=\"data row0 col14\" >0</td>\n",
              "                        <td id=\"T_61a3e5b6_c2c7_11eb_9a15_0242ac1c0002row0_col15\" class=\"data row0 col15\" >0</td>\n",
              "                        <td id=\"T_61a3e5b6_c2c7_11eb_9a15_0242ac1c0002row0_col16\" class=\"data row0 col16\" >0</td>\n",
              "                        <td id=\"T_61a3e5b6_c2c7_11eb_9a15_0242ac1c0002row0_col17\" class=\"data row0 col17\" >0</td>\n",
              "                        <td id=\"T_61a3e5b6_c2c7_11eb_9a15_0242ac1c0002row0_col18\" class=\"data row0 col18\" >0</td>\n",
              "                        <td id=\"T_61a3e5b6_c2c7_11eb_9a15_0242ac1c0002row0_col19\" class=\"data row0 col19\" >0</td>\n",
              "                        <td id=\"T_61a3e5b6_c2c7_11eb_9a15_0242ac1c0002row0_col20\" class=\"data row0 col20\" >0</td>\n",
              "                        <td id=\"T_61a3e5b6_c2c7_11eb_9a15_0242ac1c0002row0_col21\" class=\"data row0 col21\" >0</td>\n",
              "                        <td id=\"T_61a3e5b6_c2c7_11eb_9a15_0242ac1c0002row0_col22\" class=\"data row0 col22\" >0</td>\n",
              "                        <td id=\"T_61a3e5b6_c2c7_11eb_9a15_0242ac1c0002row0_col23\" class=\"data row0 col23\" >0</td>\n",
              "                        <td id=\"T_61a3e5b6_c2c7_11eb_9a15_0242ac1c0002row0_col24\" class=\"data row0 col24\" >0</td>\n",
              "                        <td id=\"T_61a3e5b6_c2c7_11eb_9a15_0242ac1c0002row0_col25\" class=\"data row0 col25\" >0</td>\n",
              "                        <td id=\"T_61a3e5b6_c2c7_11eb_9a15_0242ac1c0002row0_col26\" class=\"data row0 col26\" >0</td>\n",
              "                        <td id=\"T_61a3e5b6_c2c7_11eb_9a15_0242ac1c0002row0_col27\" class=\"data row0 col27\" >0</td>\n",
              "            </tr>\n",
              "            <tr>\n",
              "                        <th id=\"T_61a3e5b6_c2c7_11eb_9a15_0242ac1c0002level0_row1\" class=\"row_heading level0 row1\" >1</th>\n",
              "                        <td id=\"T_61a3e5b6_c2c7_11eb_9a15_0242ac1c0002row1_col0\" class=\"data row1 col0\" >0</td>\n",
              "                        <td id=\"T_61a3e5b6_c2c7_11eb_9a15_0242ac1c0002row1_col1\" class=\"data row1 col1\" >0</td>\n",
              "                        <td id=\"T_61a3e5b6_c2c7_11eb_9a15_0242ac1c0002row1_col2\" class=\"data row1 col2\" >0</td>\n",
              "                        <td id=\"T_61a3e5b6_c2c7_11eb_9a15_0242ac1c0002row1_col3\" class=\"data row1 col3\" >0</td>\n",
              "                        <td id=\"T_61a3e5b6_c2c7_11eb_9a15_0242ac1c0002row1_col4\" class=\"data row1 col4\" >0</td>\n",
              "                        <td id=\"T_61a3e5b6_c2c7_11eb_9a15_0242ac1c0002row1_col5\" class=\"data row1 col5\" >0</td>\n",
              "                        <td id=\"T_61a3e5b6_c2c7_11eb_9a15_0242ac1c0002row1_col6\" class=\"data row1 col6\" >0</td>\n",
              "                        <td id=\"T_61a3e5b6_c2c7_11eb_9a15_0242ac1c0002row1_col7\" class=\"data row1 col7\" >0</td>\n",
              "                        <td id=\"T_61a3e5b6_c2c7_11eb_9a15_0242ac1c0002row1_col8\" class=\"data row1 col8\" >0</td>\n",
              "                        <td id=\"T_61a3e5b6_c2c7_11eb_9a15_0242ac1c0002row1_col9\" class=\"data row1 col9\" >0</td>\n",
              "                        <td id=\"T_61a3e5b6_c2c7_11eb_9a15_0242ac1c0002row1_col10\" class=\"data row1 col10\" >0</td>\n",
              "                        <td id=\"T_61a3e5b6_c2c7_11eb_9a15_0242ac1c0002row1_col11\" class=\"data row1 col11\" >0</td>\n",
              "                        <td id=\"T_61a3e5b6_c2c7_11eb_9a15_0242ac1c0002row1_col12\" class=\"data row1 col12\" >0</td>\n",
              "                        <td id=\"T_61a3e5b6_c2c7_11eb_9a15_0242ac1c0002row1_col13\" class=\"data row1 col13\" >0</td>\n",
              "                        <td id=\"T_61a3e5b6_c2c7_11eb_9a15_0242ac1c0002row1_col14\" class=\"data row1 col14\" >0</td>\n",
              "                        <td id=\"T_61a3e5b6_c2c7_11eb_9a15_0242ac1c0002row1_col15\" class=\"data row1 col15\" >0</td>\n",
              "                        <td id=\"T_61a3e5b6_c2c7_11eb_9a15_0242ac1c0002row1_col16\" class=\"data row1 col16\" >0</td>\n",
              "                        <td id=\"T_61a3e5b6_c2c7_11eb_9a15_0242ac1c0002row1_col17\" class=\"data row1 col17\" >0</td>\n",
              "                        <td id=\"T_61a3e5b6_c2c7_11eb_9a15_0242ac1c0002row1_col18\" class=\"data row1 col18\" >0</td>\n",
              "                        <td id=\"T_61a3e5b6_c2c7_11eb_9a15_0242ac1c0002row1_col19\" class=\"data row1 col19\" >0</td>\n",
              "                        <td id=\"T_61a3e5b6_c2c7_11eb_9a15_0242ac1c0002row1_col20\" class=\"data row1 col20\" >0</td>\n",
              "                        <td id=\"T_61a3e5b6_c2c7_11eb_9a15_0242ac1c0002row1_col21\" class=\"data row1 col21\" >0</td>\n",
              "                        <td id=\"T_61a3e5b6_c2c7_11eb_9a15_0242ac1c0002row1_col22\" class=\"data row1 col22\" >0</td>\n",
              "                        <td id=\"T_61a3e5b6_c2c7_11eb_9a15_0242ac1c0002row1_col23\" class=\"data row1 col23\" >0</td>\n",
              "                        <td id=\"T_61a3e5b6_c2c7_11eb_9a15_0242ac1c0002row1_col24\" class=\"data row1 col24\" >0</td>\n",
              "                        <td id=\"T_61a3e5b6_c2c7_11eb_9a15_0242ac1c0002row1_col25\" class=\"data row1 col25\" >0</td>\n",
              "                        <td id=\"T_61a3e5b6_c2c7_11eb_9a15_0242ac1c0002row1_col26\" class=\"data row1 col26\" >0</td>\n",
              "                        <td id=\"T_61a3e5b6_c2c7_11eb_9a15_0242ac1c0002row1_col27\" class=\"data row1 col27\" >0</td>\n",
              "            </tr>\n",
              "            <tr>\n",
              "                        <th id=\"T_61a3e5b6_c2c7_11eb_9a15_0242ac1c0002level0_row2\" class=\"row_heading level0 row2\" >2</th>\n",
              "                        <td id=\"T_61a3e5b6_c2c7_11eb_9a15_0242ac1c0002row2_col0\" class=\"data row2 col0\" >0</td>\n",
              "                        <td id=\"T_61a3e5b6_c2c7_11eb_9a15_0242ac1c0002row2_col1\" class=\"data row2 col1\" >0</td>\n",
              "                        <td id=\"T_61a3e5b6_c2c7_11eb_9a15_0242ac1c0002row2_col2\" class=\"data row2 col2\" >0</td>\n",
              "                        <td id=\"T_61a3e5b6_c2c7_11eb_9a15_0242ac1c0002row2_col3\" class=\"data row2 col3\" >0</td>\n",
              "                        <td id=\"T_61a3e5b6_c2c7_11eb_9a15_0242ac1c0002row2_col4\" class=\"data row2 col4\" >0</td>\n",
              "                        <td id=\"T_61a3e5b6_c2c7_11eb_9a15_0242ac1c0002row2_col5\" class=\"data row2 col5\" >0</td>\n",
              "                        <td id=\"T_61a3e5b6_c2c7_11eb_9a15_0242ac1c0002row2_col6\" class=\"data row2 col6\" >0</td>\n",
              "                        <td id=\"T_61a3e5b6_c2c7_11eb_9a15_0242ac1c0002row2_col7\" class=\"data row2 col7\" >0</td>\n",
              "                        <td id=\"T_61a3e5b6_c2c7_11eb_9a15_0242ac1c0002row2_col8\" class=\"data row2 col8\" >0</td>\n",
              "                        <td id=\"T_61a3e5b6_c2c7_11eb_9a15_0242ac1c0002row2_col9\" class=\"data row2 col9\" >0</td>\n",
              "                        <td id=\"T_61a3e5b6_c2c7_11eb_9a15_0242ac1c0002row2_col10\" class=\"data row2 col10\" >0</td>\n",
              "                        <td id=\"T_61a3e5b6_c2c7_11eb_9a15_0242ac1c0002row2_col11\" class=\"data row2 col11\" >0</td>\n",
              "                        <td id=\"T_61a3e5b6_c2c7_11eb_9a15_0242ac1c0002row2_col12\" class=\"data row2 col12\" >0</td>\n",
              "                        <td id=\"T_61a3e5b6_c2c7_11eb_9a15_0242ac1c0002row2_col13\" class=\"data row2 col13\" >0</td>\n",
              "                        <td id=\"T_61a3e5b6_c2c7_11eb_9a15_0242ac1c0002row2_col14\" class=\"data row2 col14\" >0</td>\n",
              "                        <td id=\"T_61a3e5b6_c2c7_11eb_9a15_0242ac1c0002row2_col15\" class=\"data row2 col15\" >0</td>\n",
              "                        <td id=\"T_61a3e5b6_c2c7_11eb_9a15_0242ac1c0002row2_col16\" class=\"data row2 col16\" >0</td>\n",
              "                        <td id=\"T_61a3e5b6_c2c7_11eb_9a15_0242ac1c0002row2_col17\" class=\"data row2 col17\" >0</td>\n",
              "                        <td id=\"T_61a3e5b6_c2c7_11eb_9a15_0242ac1c0002row2_col18\" class=\"data row2 col18\" >0</td>\n",
              "                        <td id=\"T_61a3e5b6_c2c7_11eb_9a15_0242ac1c0002row2_col19\" class=\"data row2 col19\" >0</td>\n",
              "                        <td id=\"T_61a3e5b6_c2c7_11eb_9a15_0242ac1c0002row2_col20\" class=\"data row2 col20\" >0</td>\n",
              "                        <td id=\"T_61a3e5b6_c2c7_11eb_9a15_0242ac1c0002row2_col21\" class=\"data row2 col21\" >0</td>\n",
              "                        <td id=\"T_61a3e5b6_c2c7_11eb_9a15_0242ac1c0002row2_col22\" class=\"data row2 col22\" >0</td>\n",
              "                        <td id=\"T_61a3e5b6_c2c7_11eb_9a15_0242ac1c0002row2_col23\" class=\"data row2 col23\" >0</td>\n",
              "                        <td id=\"T_61a3e5b6_c2c7_11eb_9a15_0242ac1c0002row2_col24\" class=\"data row2 col24\" >0</td>\n",
              "                        <td id=\"T_61a3e5b6_c2c7_11eb_9a15_0242ac1c0002row2_col25\" class=\"data row2 col25\" >0</td>\n",
              "                        <td id=\"T_61a3e5b6_c2c7_11eb_9a15_0242ac1c0002row2_col26\" class=\"data row2 col26\" >0</td>\n",
              "                        <td id=\"T_61a3e5b6_c2c7_11eb_9a15_0242ac1c0002row2_col27\" class=\"data row2 col27\" >0</td>\n",
              "            </tr>\n",
              "            <tr>\n",
              "                        <th id=\"T_61a3e5b6_c2c7_11eb_9a15_0242ac1c0002level0_row3\" class=\"row_heading level0 row3\" >3</th>\n",
              "                        <td id=\"T_61a3e5b6_c2c7_11eb_9a15_0242ac1c0002row3_col0\" class=\"data row3 col0\" >0</td>\n",
              "                        <td id=\"T_61a3e5b6_c2c7_11eb_9a15_0242ac1c0002row3_col1\" class=\"data row3 col1\" >0</td>\n",
              "                        <td id=\"T_61a3e5b6_c2c7_11eb_9a15_0242ac1c0002row3_col2\" class=\"data row3 col2\" >0</td>\n",
              "                        <td id=\"T_61a3e5b6_c2c7_11eb_9a15_0242ac1c0002row3_col3\" class=\"data row3 col3\" >0</td>\n",
              "                        <td id=\"T_61a3e5b6_c2c7_11eb_9a15_0242ac1c0002row3_col4\" class=\"data row3 col4\" >0</td>\n",
              "                        <td id=\"T_61a3e5b6_c2c7_11eb_9a15_0242ac1c0002row3_col5\" class=\"data row3 col5\" >0</td>\n",
              "                        <td id=\"T_61a3e5b6_c2c7_11eb_9a15_0242ac1c0002row3_col6\" class=\"data row3 col6\" >0</td>\n",
              "                        <td id=\"T_61a3e5b6_c2c7_11eb_9a15_0242ac1c0002row3_col7\" class=\"data row3 col7\" >0</td>\n",
              "                        <td id=\"T_61a3e5b6_c2c7_11eb_9a15_0242ac1c0002row3_col8\" class=\"data row3 col8\" >0</td>\n",
              "                        <td id=\"T_61a3e5b6_c2c7_11eb_9a15_0242ac1c0002row3_col9\" class=\"data row3 col9\" >0</td>\n",
              "                        <td id=\"T_61a3e5b6_c2c7_11eb_9a15_0242ac1c0002row3_col10\" class=\"data row3 col10\" >0</td>\n",
              "                        <td id=\"T_61a3e5b6_c2c7_11eb_9a15_0242ac1c0002row3_col11\" class=\"data row3 col11\" >0</td>\n",
              "                        <td id=\"T_61a3e5b6_c2c7_11eb_9a15_0242ac1c0002row3_col12\" class=\"data row3 col12\" >0</td>\n",
              "                        <td id=\"T_61a3e5b6_c2c7_11eb_9a15_0242ac1c0002row3_col13\" class=\"data row3 col13\" >0</td>\n",
              "                        <td id=\"T_61a3e5b6_c2c7_11eb_9a15_0242ac1c0002row3_col14\" class=\"data row3 col14\" >0</td>\n",
              "                        <td id=\"T_61a3e5b6_c2c7_11eb_9a15_0242ac1c0002row3_col15\" class=\"data row3 col15\" >0</td>\n",
              "                        <td id=\"T_61a3e5b6_c2c7_11eb_9a15_0242ac1c0002row3_col16\" class=\"data row3 col16\" >0</td>\n",
              "                        <td id=\"T_61a3e5b6_c2c7_11eb_9a15_0242ac1c0002row3_col17\" class=\"data row3 col17\" >0</td>\n",
              "                        <td id=\"T_61a3e5b6_c2c7_11eb_9a15_0242ac1c0002row3_col18\" class=\"data row3 col18\" >0</td>\n",
              "                        <td id=\"T_61a3e5b6_c2c7_11eb_9a15_0242ac1c0002row3_col19\" class=\"data row3 col19\" >0</td>\n",
              "                        <td id=\"T_61a3e5b6_c2c7_11eb_9a15_0242ac1c0002row3_col20\" class=\"data row3 col20\" >0</td>\n",
              "                        <td id=\"T_61a3e5b6_c2c7_11eb_9a15_0242ac1c0002row3_col21\" class=\"data row3 col21\" >0</td>\n",
              "                        <td id=\"T_61a3e5b6_c2c7_11eb_9a15_0242ac1c0002row3_col22\" class=\"data row3 col22\" >0</td>\n",
              "                        <td id=\"T_61a3e5b6_c2c7_11eb_9a15_0242ac1c0002row3_col23\" class=\"data row3 col23\" >0</td>\n",
              "                        <td id=\"T_61a3e5b6_c2c7_11eb_9a15_0242ac1c0002row3_col24\" class=\"data row3 col24\" >0</td>\n",
              "                        <td id=\"T_61a3e5b6_c2c7_11eb_9a15_0242ac1c0002row3_col25\" class=\"data row3 col25\" >0</td>\n",
              "                        <td id=\"T_61a3e5b6_c2c7_11eb_9a15_0242ac1c0002row3_col26\" class=\"data row3 col26\" >0</td>\n",
              "                        <td id=\"T_61a3e5b6_c2c7_11eb_9a15_0242ac1c0002row3_col27\" class=\"data row3 col27\" >0</td>\n",
              "            </tr>\n",
              "            <tr>\n",
              "                        <th id=\"T_61a3e5b6_c2c7_11eb_9a15_0242ac1c0002level0_row4\" class=\"row_heading level0 row4\" >4</th>\n",
              "                        <td id=\"T_61a3e5b6_c2c7_11eb_9a15_0242ac1c0002row4_col0\" class=\"data row4 col0\" >0</td>\n",
              "                        <td id=\"T_61a3e5b6_c2c7_11eb_9a15_0242ac1c0002row4_col1\" class=\"data row4 col1\" >0</td>\n",
              "                        <td id=\"T_61a3e5b6_c2c7_11eb_9a15_0242ac1c0002row4_col2\" class=\"data row4 col2\" >0</td>\n",
              "                        <td id=\"T_61a3e5b6_c2c7_11eb_9a15_0242ac1c0002row4_col3\" class=\"data row4 col3\" >0</td>\n",
              "                        <td id=\"T_61a3e5b6_c2c7_11eb_9a15_0242ac1c0002row4_col4\" class=\"data row4 col4\" >0</td>\n",
              "                        <td id=\"T_61a3e5b6_c2c7_11eb_9a15_0242ac1c0002row4_col5\" class=\"data row4 col5\" >0</td>\n",
              "                        <td id=\"T_61a3e5b6_c2c7_11eb_9a15_0242ac1c0002row4_col6\" class=\"data row4 col6\" >0</td>\n",
              "                        <td id=\"T_61a3e5b6_c2c7_11eb_9a15_0242ac1c0002row4_col7\" class=\"data row4 col7\" >0</td>\n",
              "                        <td id=\"T_61a3e5b6_c2c7_11eb_9a15_0242ac1c0002row4_col8\" class=\"data row4 col8\" >0</td>\n",
              "                        <td id=\"T_61a3e5b6_c2c7_11eb_9a15_0242ac1c0002row4_col9\" class=\"data row4 col9\" >0</td>\n",
              "                        <td id=\"T_61a3e5b6_c2c7_11eb_9a15_0242ac1c0002row4_col10\" class=\"data row4 col10\" >0</td>\n",
              "                        <td id=\"T_61a3e5b6_c2c7_11eb_9a15_0242ac1c0002row4_col11\" class=\"data row4 col11\" >0</td>\n",
              "                        <td id=\"T_61a3e5b6_c2c7_11eb_9a15_0242ac1c0002row4_col12\" class=\"data row4 col12\" >0</td>\n",
              "                        <td id=\"T_61a3e5b6_c2c7_11eb_9a15_0242ac1c0002row4_col13\" class=\"data row4 col13\" >0</td>\n",
              "                        <td id=\"T_61a3e5b6_c2c7_11eb_9a15_0242ac1c0002row4_col14\" class=\"data row4 col14\" >0</td>\n",
              "                        <td id=\"T_61a3e5b6_c2c7_11eb_9a15_0242ac1c0002row4_col15\" class=\"data row4 col15\" >0</td>\n",
              "                        <td id=\"T_61a3e5b6_c2c7_11eb_9a15_0242ac1c0002row4_col16\" class=\"data row4 col16\" >0</td>\n",
              "                        <td id=\"T_61a3e5b6_c2c7_11eb_9a15_0242ac1c0002row4_col17\" class=\"data row4 col17\" >0</td>\n",
              "                        <td id=\"T_61a3e5b6_c2c7_11eb_9a15_0242ac1c0002row4_col18\" class=\"data row4 col18\" >0</td>\n",
              "                        <td id=\"T_61a3e5b6_c2c7_11eb_9a15_0242ac1c0002row4_col19\" class=\"data row4 col19\" >0</td>\n",
              "                        <td id=\"T_61a3e5b6_c2c7_11eb_9a15_0242ac1c0002row4_col20\" class=\"data row4 col20\" >0</td>\n",
              "                        <td id=\"T_61a3e5b6_c2c7_11eb_9a15_0242ac1c0002row4_col21\" class=\"data row4 col21\" >0</td>\n",
              "                        <td id=\"T_61a3e5b6_c2c7_11eb_9a15_0242ac1c0002row4_col22\" class=\"data row4 col22\" >0</td>\n",
              "                        <td id=\"T_61a3e5b6_c2c7_11eb_9a15_0242ac1c0002row4_col23\" class=\"data row4 col23\" >0</td>\n",
              "                        <td id=\"T_61a3e5b6_c2c7_11eb_9a15_0242ac1c0002row4_col24\" class=\"data row4 col24\" >0</td>\n",
              "                        <td id=\"T_61a3e5b6_c2c7_11eb_9a15_0242ac1c0002row4_col25\" class=\"data row4 col25\" >0</td>\n",
              "                        <td id=\"T_61a3e5b6_c2c7_11eb_9a15_0242ac1c0002row4_col26\" class=\"data row4 col26\" >0</td>\n",
              "                        <td id=\"T_61a3e5b6_c2c7_11eb_9a15_0242ac1c0002row4_col27\" class=\"data row4 col27\" >0</td>\n",
              "            </tr>\n",
              "            <tr>\n",
              "                        <th id=\"T_61a3e5b6_c2c7_11eb_9a15_0242ac1c0002level0_row5\" class=\"row_heading level0 row5\" >5</th>\n",
              "                        <td id=\"T_61a3e5b6_c2c7_11eb_9a15_0242ac1c0002row5_col0\" class=\"data row5 col0\" >0</td>\n",
              "                        <td id=\"T_61a3e5b6_c2c7_11eb_9a15_0242ac1c0002row5_col1\" class=\"data row5 col1\" >0</td>\n",
              "                        <td id=\"T_61a3e5b6_c2c7_11eb_9a15_0242ac1c0002row5_col2\" class=\"data row5 col2\" >0</td>\n",
              "                        <td id=\"T_61a3e5b6_c2c7_11eb_9a15_0242ac1c0002row5_col3\" class=\"data row5 col3\" >0</td>\n",
              "                        <td id=\"T_61a3e5b6_c2c7_11eb_9a15_0242ac1c0002row5_col4\" class=\"data row5 col4\" >0</td>\n",
              "                        <td id=\"T_61a3e5b6_c2c7_11eb_9a15_0242ac1c0002row5_col5\" class=\"data row5 col5\" >0</td>\n",
              "                        <td id=\"T_61a3e5b6_c2c7_11eb_9a15_0242ac1c0002row5_col6\" class=\"data row5 col6\" >0</td>\n",
              "                        <td id=\"T_61a3e5b6_c2c7_11eb_9a15_0242ac1c0002row5_col7\" class=\"data row5 col7\" >0</td>\n",
              "                        <td id=\"T_61a3e5b6_c2c7_11eb_9a15_0242ac1c0002row5_col8\" class=\"data row5 col8\" >0</td>\n",
              "                        <td id=\"T_61a3e5b6_c2c7_11eb_9a15_0242ac1c0002row5_col9\" class=\"data row5 col9\" >29</td>\n",
              "                        <td id=\"T_61a3e5b6_c2c7_11eb_9a15_0242ac1c0002row5_col10\" class=\"data row5 col10\" >150</td>\n",
              "                        <td id=\"T_61a3e5b6_c2c7_11eb_9a15_0242ac1c0002row5_col11\" class=\"data row5 col11\" >195</td>\n",
              "                        <td id=\"T_61a3e5b6_c2c7_11eb_9a15_0242ac1c0002row5_col12\" class=\"data row5 col12\" >254</td>\n",
              "                        <td id=\"T_61a3e5b6_c2c7_11eb_9a15_0242ac1c0002row5_col13\" class=\"data row5 col13\" >255</td>\n",
              "                        <td id=\"T_61a3e5b6_c2c7_11eb_9a15_0242ac1c0002row5_col14\" class=\"data row5 col14\" >254</td>\n",
              "                        <td id=\"T_61a3e5b6_c2c7_11eb_9a15_0242ac1c0002row5_col15\" class=\"data row5 col15\" >176</td>\n",
              "                        <td id=\"T_61a3e5b6_c2c7_11eb_9a15_0242ac1c0002row5_col16\" class=\"data row5 col16\" >193</td>\n",
              "                        <td id=\"T_61a3e5b6_c2c7_11eb_9a15_0242ac1c0002row5_col17\" class=\"data row5 col17\" >150</td>\n",
              "                        <td id=\"T_61a3e5b6_c2c7_11eb_9a15_0242ac1c0002row5_col18\" class=\"data row5 col18\" >96</td>\n",
              "                        <td id=\"T_61a3e5b6_c2c7_11eb_9a15_0242ac1c0002row5_col19\" class=\"data row5 col19\" >0</td>\n",
              "                        <td id=\"T_61a3e5b6_c2c7_11eb_9a15_0242ac1c0002row5_col20\" class=\"data row5 col20\" >0</td>\n",
              "                        <td id=\"T_61a3e5b6_c2c7_11eb_9a15_0242ac1c0002row5_col21\" class=\"data row5 col21\" >0</td>\n",
              "                        <td id=\"T_61a3e5b6_c2c7_11eb_9a15_0242ac1c0002row5_col22\" class=\"data row5 col22\" >0</td>\n",
              "                        <td id=\"T_61a3e5b6_c2c7_11eb_9a15_0242ac1c0002row5_col23\" class=\"data row5 col23\" >0</td>\n",
              "                        <td id=\"T_61a3e5b6_c2c7_11eb_9a15_0242ac1c0002row5_col24\" class=\"data row5 col24\" >0</td>\n",
              "                        <td id=\"T_61a3e5b6_c2c7_11eb_9a15_0242ac1c0002row5_col25\" class=\"data row5 col25\" >0</td>\n",
              "                        <td id=\"T_61a3e5b6_c2c7_11eb_9a15_0242ac1c0002row5_col26\" class=\"data row5 col26\" >0</td>\n",
              "                        <td id=\"T_61a3e5b6_c2c7_11eb_9a15_0242ac1c0002row5_col27\" class=\"data row5 col27\" >0</td>\n",
              "            </tr>\n",
              "            <tr>\n",
              "                        <th id=\"T_61a3e5b6_c2c7_11eb_9a15_0242ac1c0002level0_row6\" class=\"row_heading level0 row6\" >6</th>\n",
              "                        <td id=\"T_61a3e5b6_c2c7_11eb_9a15_0242ac1c0002row6_col0\" class=\"data row6 col0\" >0</td>\n",
              "                        <td id=\"T_61a3e5b6_c2c7_11eb_9a15_0242ac1c0002row6_col1\" class=\"data row6 col1\" >0</td>\n",
              "                        <td id=\"T_61a3e5b6_c2c7_11eb_9a15_0242ac1c0002row6_col2\" class=\"data row6 col2\" >0</td>\n",
              "                        <td id=\"T_61a3e5b6_c2c7_11eb_9a15_0242ac1c0002row6_col3\" class=\"data row6 col3\" >0</td>\n",
              "                        <td id=\"T_61a3e5b6_c2c7_11eb_9a15_0242ac1c0002row6_col4\" class=\"data row6 col4\" >0</td>\n",
              "                        <td id=\"T_61a3e5b6_c2c7_11eb_9a15_0242ac1c0002row6_col5\" class=\"data row6 col5\" >0</td>\n",
              "                        <td id=\"T_61a3e5b6_c2c7_11eb_9a15_0242ac1c0002row6_col6\" class=\"data row6 col6\" >0</td>\n",
              "                        <td id=\"T_61a3e5b6_c2c7_11eb_9a15_0242ac1c0002row6_col7\" class=\"data row6 col7\" >48</td>\n",
              "                        <td id=\"T_61a3e5b6_c2c7_11eb_9a15_0242ac1c0002row6_col8\" class=\"data row6 col8\" >166</td>\n",
              "                        <td id=\"T_61a3e5b6_c2c7_11eb_9a15_0242ac1c0002row6_col9\" class=\"data row6 col9\" >224</td>\n",
              "                        <td id=\"T_61a3e5b6_c2c7_11eb_9a15_0242ac1c0002row6_col10\" class=\"data row6 col10\" >253</td>\n",
              "                        <td id=\"T_61a3e5b6_c2c7_11eb_9a15_0242ac1c0002row6_col11\" class=\"data row6 col11\" >253</td>\n",
              "                        <td id=\"T_61a3e5b6_c2c7_11eb_9a15_0242ac1c0002row6_col12\" class=\"data row6 col12\" >234</td>\n",
              "                        <td id=\"T_61a3e5b6_c2c7_11eb_9a15_0242ac1c0002row6_col13\" class=\"data row6 col13\" >196</td>\n",
              "                        <td id=\"T_61a3e5b6_c2c7_11eb_9a15_0242ac1c0002row6_col14\" class=\"data row6 col14\" >253</td>\n",
              "                        <td id=\"T_61a3e5b6_c2c7_11eb_9a15_0242ac1c0002row6_col15\" class=\"data row6 col15\" >253</td>\n",
              "                        <td id=\"T_61a3e5b6_c2c7_11eb_9a15_0242ac1c0002row6_col16\" class=\"data row6 col16\" >253</td>\n",
              "                        <td id=\"T_61a3e5b6_c2c7_11eb_9a15_0242ac1c0002row6_col17\" class=\"data row6 col17\" >253</td>\n",
              "                        <td id=\"T_61a3e5b6_c2c7_11eb_9a15_0242ac1c0002row6_col18\" class=\"data row6 col18\" >233</td>\n",
              "                        <td id=\"T_61a3e5b6_c2c7_11eb_9a15_0242ac1c0002row6_col19\" class=\"data row6 col19\" >0</td>\n",
              "                        <td id=\"T_61a3e5b6_c2c7_11eb_9a15_0242ac1c0002row6_col20\" class=\"data row6 col20\" >0</td>\n",
              "                        <td id=\"T_61a3e5b6_c2c7_11eb_9a15_0242ac1c0002row6_col21\" class=\"data row6 col21\" >0</td>\n",
              "                        <td id=\"T_61a3e5b6_c2c7_11eb_9a15_0242ac1c0002row6_col22\" class=\"data row6 col22\" >0</td>\n",
              "                        <td id=\"T_61a3e5b6_c2c7_11eb_9a15_0242ac1c0002row6_col23\" class=\"data row6 col23\" >0</td>\n",
              "                        <td id=\"T_61a3e5b6_c2c7_11eb_9a15_0242ac1c0002row6_col24\" class=\"data row6 col24\" >0</td>\n",
              "                        <td id=\"T_61a3e5b6_c2c7_11eb_9a15_0242ac1c0002row6_col25\" class=\"data row6 col25\" >0</td>\n",
              "                        <td id=\"T_61a3e5b6_c2c7_11eb_9a15_0242ac1c0002row6_col26\" class=\"data row6 col26\" >0</td>\n",
              "                        <td id=\"T_61a3e5b6_c2c7_11eb_9a15_0242ac1c0002row6_col27\" class=\"data row6 col27\" >0</td>\n",
              "            </tr>\n",
              "            <tr>\n",
              "                        <th id=\"T_61a3e5b6_c2c7_11eb_9a15_0242ac1c0002level0_row7\" class=\"row_heading level0 row7\" >7</th>\n",
              "                        <td id=\"T_61a3e5b6_c2c7_11eb_9a15_0242ac1c0002row7_col0\" class=\"data row7 col0\" >0</td>\n",
              "                        <td id=\"T_61a3e5b6_c2c7_11eb_9a15_0242ac1c0002row7_col1\" class=\"data row7 col1\" >0</td>\n",
              "                        <td id=\"T_61a3e5b6_c2c7_11eb_9a15_0242ac1c0002row7_col2\" class=\"data row7 col2\" >0</td>\n",
              "                        <td id=\"T_61a3e5b6_c2c7_11eb_9a15_0242ac1c0002row7_col3\" class=\"data row7 col3\" >0</td>\n",
              "                        <td id=\"T_61a3e5b6_c2c7_11eb_9a15_0242ac1c0002row7_col4\" class=\"data row7 col4\" >0</td>\n",
              "                        <td id=\"T_61a3e5b6_c2c7_11eb_9a15_0242ac1c0002row7_col5\" class=\"data row7 col5\" >93</td>\n",
              "                        <td id=\"T_61a3e5b6_c2c7_11eb_9a15_0242ac1c0002row7_col6\" class=\"data row7 col6\" >244</td>\n",
              "                        <td id=\"T_61a3e5b6_c2c7_11eb_9a15_0242ac1c0002row7_col7\" class=\"data row7 col7\" >249</td>\n",
              "                        <td id=\"T_61a3e5b6_c2c7_11eb_9a15_0242ac1c0002row7_col8\" class=\"data row7 col8\" >253</td>\n",
              "                        <td id=\"T_61a3e5b6_c2c7_11eb_9a15_0242ac1c0002row7_col9\" class=\"data row7 col9\" >187</td>\n",
              "                        <td id=\"T_61a3e5b6_c2c7_11eb_9a15_0242ac1c0002row7_col10\" class=\"data row7 col10\" >46</td>\n",
              "                        <td id=\"T_61a3e5b6_c2c7_11eb_9a15_0242ac1c0002row7_col11\" class=\"data row7 col11\" >10</td>\n",
              "                        <td id=\"T_61a3e5b6_c2c7_11eb_9a15_0242ac1c0002row7_col12\" class=\"data row7 col12\" >8</td>\n",
              "                        <td id=\"T_61a3e5b6_c2c7_11eb_9a15_0242ac1c0002row7_col13\" class=\"data row7 col13\" >4</td>\n",
              "                        <td id=\"T_61a3e5b6_c2c7_11eb_9a15_0242ac1c0002row7_col14\" class=\"data row7 col14\" >10</td>\n",
              "                        <td id=\"T_61a3e5b6_c2c7_11eb_9a15_0242ac1c0002row7_col15\" class=\"data row7 col15\" >194</td>\n",
              "                        <td id=\"T_61a3e5b6_c2c7_11eb_9a15_0242ac1c0002row7_col16\" class=\"data row7 col16\" >253</td>\n",
              "                        <td id=\"T_61a3e5b6_c2c7_11eb_9a15_0242ac1c0002row7_col17\" class=\"data row7 col17\" >253</td>\n",
              "                        <td id=\"T_61a3e5b6_c2c7_11eb_9a15_0242ac1c0002row7_col18\" class=\"data row7 col18\" >233</td>\n",
              "                        <td id=\"T_61a3e5b6_c2c7_11eb_9a15_0242ac1c0002row7_col19\" class=\"data row7 col19\" >0</td>\n",
              "                        <td id=\"T_61a3e5b6_c2c7_11eb_9a15_0242ac1c0002row7_col20\" class=\"data row7 col20\" >0</td>\n",
              "                        <td id=\"T_61a3e5b6_c2c7_11eb_9a15_0242ac1c0002row7_col21\" class=\"data row7 col21\" >0</td>\n",
              "                        <td id=\"T_61a3e5b6_c2c7_11eb_9a15_0242ac1c0002row7_col22\" class=\"data row7 col22\" >0</td>\n",
              "                        <td id=\"T_61a3e5b6_c2c7_11eb_9a15_0242ac1c0002row7_col23\" class=\"data row7 col23\" >0</td>\n",
              "                        <td id=\"T_61a3e5b6_c2c7_11eb_9a15_0242ac1c0002row7_col24\" class=\"data row7 col24\" >0</td>\n",
              "                        <td id=\"T_61a3e5b6_c2c7_11eb_9a15_0242ac1c0002row7_col25\" class=\"data row7 col25\" >0</td>\n",
              "                        <td id=\"T_61a3e5b6_c2c7_11eb_9a15_0242ac1c0002row7_col26\" class=\"data row7 col26\" >0</td>\n",
              "                        <td id=\"T_61a3e5b6_c2c7_11eb_9a15_0242ac1c0002row7_col27\" class=\"data row7 col27\" >0</td>\n",
              "            </tr>\n",
              "            <tr>\n",
              "                        <th id=\"T_61a3e5b6_c2c7_11eb_9a15_0242ac1c0002level0_row8\" class=\"row_heading level0 row8\" >8</th>\n",
              "                        <td id=\"T_61a3e5b6_c2c7_11eb_9a15_0242ac1c0002row8_col0\" class=\"data row8 col0\" >0</td>\n",
              "                        <td id=\"T_61a3e5b6_c2c7_11eb_9a15_0242ac1c0002row8_col1\" class=\"data row8 col1\" >0</td>\n",
              "                        <td id=\"T_61a3e5b6_c2c7_11eb_9a15_0242ac1c0002row8_col2\" class=\"data row8 col2\" >0</td>\n",
              "                        <td id=\"T_61a3e5b6_c2c7_11eb_9a15_0242ac1c0002row8_col3\" class=\"data row8 col3\" >0</td>\n",
              "                        <td id=\"T_61a3e5b6_c2c7_11eb_9a15_0242ac1c0002row8_col4\" class=\"data row8 col4\" >0</td>\n",
              "                        <td id=\"T_61a3e5b6_c2c7_11eb_9a15_0242ac1c0002row8_col5\" class=\"data row8 col5\" >107</td>\n",
              "                        <td id=\"T_61a3e5b6_c2c7_11eb_9a15_0242ac1c0002row8_col6\" class=\"data row8 col6\" >253</td>\n",
              "                        <td id=\"T_61a3e5b6_c2c7_11eb_9a15_0242ac1c0002row8_col7\" class=\"data row8 col7\" >253</td>\n",
              "                        <td id=\"T_61a3e5b6_c2c7_11eb_9a15_0242ac1c0002row8_col8\" class=\"data row8 col8\" >230</td>\n",
              "                        <td id=\"T_61a3e5b6_c2c7_11eb_9a15_0242ac1c0002row8_col9\" class=\"data row8 col9\" >48</td>\n",
              "                        <td id=\"T_61a3e5b6_c2c7_11eb_9a15_0242ac1c0002row8_col10\" class=\"data row8 col10\" >0</td>\n",
              "                        <td id=\"T_61a3e5b6_c2c7_11eb_9a15_0242ac1c0002row8_col11\" class=\"data row8 col11\" >0</td>\n",
              "                        <td id=\"T_61a3e5b6_c2c7_11eb_9a15_0242ac1c0002row8_col12\" class=\"data row8 col12\" >0</td>\n",
              "                        <td id=\"T_61a3e5b6_c2c7_11eb_9a15_0242ac1c0002row8_col13\" class=\"data row8 col13\" >0</td>\n",
              "                        <td id=\"T_61a3e5b6_c2c7_11eb_9a15_0242ac1c0002row8_col14\" class=\"data row8 col14\" >0</td>\n",
              "                        <td id=\"T_61a3e5b6_c2c7_11eb_9a15_0242ac1c0002row8_col15\" class=\"data row8 col15\" >192</td>\n",
              "                        <td id=\"T_61a3e5b6_c2c7_11eb_9a15_0242ac1c0002row8_col16\" class=\"data row8 col16\" >253</td>\n",
              "                        <td id=\"T_61a3e5b6_c2c7_11eb_9a15_0242ac1c0002row8_col17\" class=\"data row8 col17\" >253</td>\n",
              "                        <td id=\"T_61a3e5b6_c2c7_11eb_9a15_0242ac1c0002row8_col18\" class=\"data row8 col18\" >156</td>\n",
              "                        <td id=\"T_61a3e5b6_c2c7_11eb_9a15_0242ac1c0002row8_col19\" class=\"data row8 col19\" >0</td>\n",
              "                        <td id=\"T_61a3e5b6_c2c7_11eb_9a15_0242ac1c0002row8_col20\" class=\"data row8 col20\" >0</td>\n",
              "                        <td id=\"T_61a3e5b6_c2c7_11eb_9a15_0242ac1c0002row8_col21\" class=\"data row8 col21\" >0</td>\n",
              "                        <td id=\"T_61a3e5b6_c2c7_11eb_9a15_0242ac1c0002row8_col22\" class=\"data row8 col22\" >0</td>\n",
              "                        <td id=\"T_61a3e5b6_c2c7_11eb_9a15_0242ac1c0002row8_col23\" class=\"data row8 col23\" >0</td>\n",
              "                        <td id=\"T_61a3e5b6_c2c7_11eb_9a15_0242ac1c0002row8_col24\" class=\"data row8 col24\" >0</td>\n",
              "                        <td id=\"T_61a3e5b6_c2c7_11eb_9a15_0242ac1c0002row8_col25\" class=\"data row8 col25\" >0</td>\n",
              "                        <td id=\"T_61a3e5b6_c2c7_11eb_9a15_0242ac1c0002row8_col26\" class=\"data row8 col26\" >0</td>\n",
              "                        <td id=\"T_61a3e5b6_c2c7_11eb_9a15_0242ac1c0002row8_col27\" class=\"data row8 col27\" >0</td>\n",
              "            </tr>\n",
              "            <tr>\n",
              "                        <th id=\"T_61a3e5b6_c2c7_11eb_9a15_0242ac1c0002level0_row9\" class=\"row_heading level0 row9\" >9</th>\n",
              "                        <td id=\"T_61a3e5b6_c2c7_11eb_9a15_0242ac1c0002row9_col0\" class=\"data row9 col0\" >0</td>\n",
              "                        <td id=\"T_61a3e5b6_c2c7_11eb_9a15_0242ac1c0002row9_col1\" class=\"data row9 col1\" >0</td>\n",
              "                        <td id=\"T_61a3e5b6_c2c7_11eb_9a15_0242ac1c0002row9_col2\" class=\"data row9 col2\" >0</td>\n",
              "                        <td id=\"T_61a3e5b6_c2c7_11eb_9a15_0242ac1c0002row9_col3\" class=\"data row9 col3\" >0</td>\n",
              "                        <td id=\"T_61a3e5b6_c2c7_11eb_9a15_0242ac1c0002row9_col4\" class=\"data row9 col4\" >0</td>\n",
              "                        <td id=\"T_61a3e5b6_c2c7_11eb_9a15_0242ac1c0002row9_col5\" class=\"data row9 col5\" >3</td>\n",
              "                        <td id=\"T_61a3e5b6_c2c7_11eb_9a15_0242ac1c0002row9_col6\" class=\"data row9 col6\" >20</td>\n",
              "                        <td id=\"T_61a3e5b6_c2c7_11eb_9a15_0242ac1c0002row9_col7\" class=\"data row9 col7\" >20</td>\n",
              "                        <td id=\"T_61a3e5b6_c2c7_11eb_9a15_0242ac1c0002row9_col8\" class=\"data row9 col8\" >15</td>\n",
              "                        <td id=\"T_61a3e5b6_c2c7_11eb_9a15_0242ac1c0002row9_col9\" class=\"data row9 col9\" >0</td>\n",
              "                        <td id=\"T_61a3e5b6_c2c7_11eb_9a15_0242ac1c0002row9_col10\" class=\"data row9 col10\" >0</td>\n",
              "                        <td id=\"T_61a3e5b6_c2c7_11eb_9a15_0242ac1c0002row9_col11\" class=\"data row9 col11\" >0</td>\n",
              "                        <td id=\"T_61a3e5b6_c2c7_11eb_9a15_0242ac1c0002row9_col12\" class=\"data row9 col12\" >0</td>\n",
              "                        <td id=\"T_61a3e5b6_c2c7_11eb_9a15_0242ac1c0002row9_col13\" class=\"data row9 col13\" >0</td>\n",
              "                        <td id=\"T_61a3e5b6_c2c7_11eb_9a15_0242ac1c0002row9_col14\" class=\"data row9 col14\" >43</td>\n",
              "                        <td id=\"T_61a3e5b6_c2c7_11eb_9a15_0242ac1c0002row9_col15\" class=\"data row9 col15\" >224</td>\n",
              "                        <td id=\"T_61a3e5b6_c2c7_11eb_9a15_0242ac1c0002row9_col16\" class=\"data row9 col16\" >253</td>\n",
              "                        <td id=\"T_61a3e5b6_c2c7_11eb_9a15_0242ac1c0002row9_col17\" class=\"data row9 col17\" >245</td>\n",
              "                        <td id=\"T_61a3e5b6_c2c7_11eb_9a15_0242ac1c0002row9_col18\" class=\"data row9 col18\" >74</td>\n",
              "                        <td id=\"T_61a3e5b6_c2c7_11eb_9a15_0242ac1c0002row9_col19\" class=\"data row9 col19\" >0</td>\n",
              "                        <td id=\"T_61a3e5b6_c2c7_11eb_9a15_0242ac1c0002row9_col20\" class=\"data row9 col20\" >0</td>\n",
              "                        <td id=\"T_61a3e5b6_c2c7_11eb_9a15_0242ac1c0002row9_col21\" class=\"data row9 col21\" >0</td>\n",
              "                        <td id=\"T_61a3e5b6_c2c7_11eb_9a15_0242ac1c0002row9_col22\" class=\"data row9 col22\" >0</td>\n",
              "                        <td id=\"T_61a3e5b6_c2c7_11eb_9a15_0242ac1c0002row9_col23\" class=\"data row9 col23\" >0</td>\n",
              "                        <td id=\"T_61a3e5b6_c2c7_11eb_9a15_0242ac1c0002row9_col24\" class=\"data row9 col24\" >0</td>\n",
              "                        <td id=\"T_61a3e5b6_c2c7_11eb_9a15_0242ac1c0002row9_col25\" class=\"data row9 col25\" >0</td>\n",
              "                        <td id=\"T_61a3e5b6_c2c7_11eb_9a15_0242ac1c0002row9_col26\" class=\"data row9 col26\" >0</td>\n",
              "                        <td id=\"T_61a3e5b6_c2c7_11eb_9a15_0242ac1c0002row9_col27\" class=\"data row9 col27\" >0</td>\n",
              "            </tr>\n",
              "            <tr>\n",
              "                        <th id=\"T_61a3e5b6_c2c7_11eb_9a15_0242ac1c0002level0_row10\" class=\"row_heading level0 row10\" >10</th>\n",
              "                        <td id=\"T_61a3e5b6_c2c7_11eb_9a15_0242ac1c0002row10_col0\" class=\"data row10 col0\" >0</td>\n",
              "                        <td id=\"T_61a3e5b6_c2c7_11eb_9a15_0242ac1c0002row10_col1\" class=\"data row10 col1\" >0</td>\n",
              "                        <td id=\"T_61a3e5b6_c2c7_11eb_9a15_0242ac1c0002row10_col2\" class=\"data row10 col2\" >0</td>\n",
              "                        <td id=\"T_61a3e5b6_c2c7_11eb_9a15_0242ac1c0002row10_col3\" class=\"data row10 col3\" >0</td>\n",
              "                        <td id=\"T_61a3e5b6_c2c7_11eb_9a15_0242ac1c0002row10_col4\" class=\"data row10 col4\" >0</td>\n",
              "                        <td id=\"T_61a3e5b6_c2c7_11eb_9a15_0242ac1c0002row10_col5\" class=\"data row10 col5\" >0</td>\n",
              "                        <td id=\"T_61a3e5b6_c2c7_11eb_9a15_0242ac1c0002row10_col6\" class=\"data row10 col6\" >0</td>\n",
              "                        <td id=\"T_61a3e5b6_c2c7_11eb_9a15_0242ac1c0002row10_col7\" class=\"data row10 col7\" >0</td>\n",
              "                        <td id=\"T_61a3e5b6_c2c7_11eb_9a15_0242ac1c0002row10_col8\" class=\"data row10 col8\" >0</td>\n",
              "                        <td id=\"T_61a3e5b6_c2c7_11eb_9a15_0242ac1c0002row10_col9\" class=\"data row10 col9\" >0</td>\n",
              "                        <td id=\"T_61a3e5b6_c2c7_11eb_9a15_0242ac1c0002row10_col10\" class=\"data row10 col10\" >0</td>\n",
              "                        <td id=\"T_61a3e5b6_c2c7_11eb_9a15_0242ac1c0002row10_col11\" class=\"data row10 col11\" >0</td>\n",
              "                        <td id=\"T_61a3e5b6_c2c7_11eb_9a15_0242ac1c0002row10_col12\" class=\"data row10 col12\" >0</td>\n",
              "                        <td id=\"T_61a3e5b6_c2c7_11eb_9a15_0242ac1c0002row10_col13\" class=\"data row10 col13\" >0</td>\n",
              "                        <td id=\"T_61a3e5b6_c2c7_11eb_9a15_0242ac1c0002row10_col14\" class=\"data row10 col14\" >249</td>\n",
              "                        <td id=\"T_61a3e5b6_c2c7_11eb_9a15_0242ac1c0002row10_col15\" class=\"data row10 col15\" >253</td>\n",
              "                        <td id=\"T_61a3e5b6_c2c7_11eb_9a15_0242ac1c0002row10_col16\" class=\"data row10 col16\" >245</td>\n",
              "                        <td id=\"T_61a3e5b6_c2c7_11eb_9a15_0242ac1c0002row10_col17\" class=\"data row10 col17\" >126</td>\n",
              "                        <td id=\"T_61a3e5b6_c2c7_11eb_9a15_0242ac1c0002row10_col18\" class=\"data row10 col18\" >0</td>\n",
              "                        <td id=\"T_61a3e5b6_c2c7_11eb_9a15_0242ac1c0002row10_col19\" class=\"data row10 col19\" >0</td>\n",
              "                        <td id=\"T_61a3e5b6_c2c7_11eb_9a15_0242ac1c0002row10_col20\" class=\"data row10 col20\" >0</td>\n",
              "                        <td id=\"T_61a3e5b6_c2c7_11eb_9a15_0242ac1c0002row10_col21\" class=\"data row10 col21\" >0</td>\n",
              "                        <td id=\"T_61a3e5b6_c2c7_11eb_9a15_0242ac1c0002row10_col22\" class=\"data row10 col22\" >0</td>\n",
              "                        <td id=\"T_61a3e5b6_c2c7_11eb_9a15_0242ac1c0002row10_col23\" class=\"data row10 col23\" >0</td>\n",
              "                        <td id=\"T_61a3e5b6_c2c7_11eb_9a15_0242ac1c0002row10_col24\" class=\"data row10 col24\" >0</td>\n",
              "                        <td id=\"T_61a3e5b6_c2c7_11eb_9a15_0242ac1c0002row10_col25\" class=\"data row10 col25\" >0</td>\n",
              "                        <td id=\"T_61a3e5b6_c2c7_11eb_9a15_0242ac1c0002row10_col26\" class=\"data row10 col26\" >0</td>\n",
              "                        <td id=\"T_61a3e5b6_c2c7_11eb_9a15_0242ac1c0002row10_col27\" class=\"data row10 col27\" >0</td>\n",
              "            </tr>\n",
              "            <tr>\n",
              "                        <th id=\"T_61a3e5b6_c2c7_11eb_9a15_0242ac1c0002level0_row11\" class=\"row_heading level0 row11\" >11</th>\n",
              "                        <td id=\"T_61a3e5b6_c2c7_11eb_9a15_0242ac1c0002row11_col0\" class=\"data row11 col0\" >0</td>\n",
              "                        <td id=\"T_61a3e5b6_c2c7_11eb_9a15_0242ac1c0002row11_col1\" class=\"data row11 col1\" >0</td>\n",
              "                        <td id=\"T_61a3e5b6_c2c7_11eb_9a15_0242ac1c0002row11_col2\" class=\"data row11 col2\" >0</td>\n",
              "                        <td id=\"T_61a3e5b6_c2c7_11eb_9a15_0242ac1c0002row11_col3\" class=\"data row11 col3\" >0</td>\n",
              "                        <td id=\"T_61a3e5b6_c2c7_11eb_9a15_0242ac1c0002row11_col4\" class=\"data row11 col4\" >0</td>\n",
              "                        <td id=\"T_61a3e5b6_c2c7_11eb_9a15_0242ac1c0002row11_col5\" class=\"data row11 col5\" >0</td>\n",
              "                        <td id=\"T_61a3e5b6_c2c7_11eb_9a15_0242ac1c0002row11_col6\" class=\"data row11 col6\" >0</td>\n",
              "                        <td id=\"T_61a3e5b6_c2c7_11eb_9a15_0242ac1c0002row11_col7\" class=\"data row11 col7\" >0</td>\n",
              "                        <td id=\"T_61a3e5b6_c2c7_11eb_9a15_0242ac1c0002row11_col8\" class=\"data row11 col8\" >0</td>\n",
              "                        <td id=\"T_61a3e5b6_c2c7_11eb_9a15_0242ac1c0002row11_col9\" class=\"data row11 col9\" >0</td>\n",
              "                        <td id=\"T_61a3e5b6_c2c7_11eb_9a15_0242ac1c0002row11_col10\" class=\"data row11 col10\" >0</td>\n",
              "                        <td id=\"T_61a3e5b6_c2c7_11eb_9a15_0242ac1c0002row11_col11\" class=\"data row11 col11\" >14</td>\n",
              "                        <td id=\"T_61a3e5b6_c2c7_11eb_9a15_0242ac1c0002row11_col12\" class=\"data row11 col12\" >101</td>\n",
              "                        <td id=\"T_61a3e5b6_c2c7_11eb_9a15_0242ac1c0002row11_col13\" class=\"data row11 col13\" >223</td>\n",
              "                        <td id=\"T_61a3e5b6_c2c7_11eb_9a15_0242ac1c0002row11_col14\" class=\"data row11 col14\" >253</td>\n",
              "                        <td id=\"T_61a3e5b6_c2c7_11eb_9a15_0242ac1c0002row11_col15\" class=\"data row11 col15\" >248</td>\n",
              "                        <td id=\"T_61a3e5b6_c2c7_11eb_9a15_0242ac1c0002row11_col16\" class=\"data row11 col16\" >124</td>\n",
              "                        <td id=\"T_61a3e5b6_c2c7_11eb_9a15_0242ac1c0002row11_col17\" class=\"data row11 col17\" >0</td>\n",
              "                        <td id=\"T_61a3e5b6_c2c7_11eb_9a15_0242ac1c0002row11_col18\" class=\"data row11 col18\" >0</td>\n",
              "                        <td id=\"T_61a3e5b6_c2c7_11eb_9a15_0242ac1c0002row11_col19\" class=\"data row11 col19\" >0</td>\n",
              "                        <td id=\"T_61a3e5b6_c2c7_11eb_9a15_0242ac1c0002row11_col20\" class=\"data row11 col20\" >0</td>\n",
              "                        <td id=\"T_61a3e5b6_c2c7_11eb_9a15_0242ac1c0002row11_col21\" class=\"data row11 col21\" >0</td>\n",
              "                        <td id=\"T_61a3e5b6_c2c7_11eb_9a15_0242ac1c0002row11_col22\" class=\"data row11 col22\" >0</td>\n",
              "                        <td id=\"T_61a3e5b6_c2c7_11eb_9a15_0242ac1c0002row11_col23\" class=\"data row11 col23\" >0</td>\n",
              "                        <td id=\"T_61a3e5b6_c2c7_11eb_9a15_0242ac1c0002row11_col24\" class=\"data row11 col24\" >0</td>\n",
              "                        <td id=\"T_61a3e5b6_c2c7_11eb_9a15_0242ac1c0002row11_col25\" class=\"data row11 col25\" >0</td>\n",
              "                        <td id=\"T_61a3e5b6_c2c7_11eb_9a15_0242ac1c0002row11_col26\" class=\"data row11 col26\" >0</td>\n",
              "                        <td id=\"T_61a3e5b6_c2c7_11eb_9a15_0242ac1c0002row11_col27\" class=\"data row11 col27\" >0</td>\n",
              "            </tr>\n",
              "            <tr>\n",
              "                        <th id=\"T_61a3e5b6_c2c7_11eb_9a15_0242ac1c0002level0_row12\" class=\"row_heading level0 row12\" >12</th>\n",
              "                        <td id=\"T_61a3e5b6_c2c7_11eb_9a15_0242ac1c0002row12_col0\" class=\"data row12 col0\" >0</td>\n",
              "                        <td id=\"T_61a3e5b6_c2c7_11eb_9a15_0242ac1c0002row12_col1\" class=\"data row12 col1\" >0</td>\n",
              "                        <td id=\"T_61a3e5b6_c2c7_11eb_9a15_0242ac1c0002row12_col2\" class=\"data row12 col2\" >0</td>\n",
              "                        <td id=\"T_61a3e5b6_c2c7_11eb_9a15_0242ac1c0002row12_col3\" class=\"data row12 col3\" >0</td>\n",
              "                        <td id=\"T_61a3e5b6_c2c7_11eb_9a15_0242ac1c0002row12_col4\" class=\"data row12 col4\" >0</td>\n",
              "                        <td id=\"T_61a3e5b6_c2c7_11eb_9a15_0242ac1c0002row12_col5\" class=\"data row12 col5\" >0</td>\n",
              "                        <td id=\"T_61a3e5b6_c2c7_11eb_9a15_0242ac1c0002row12_col6\" class=\"data row12 col6\" >0</td>\n",
              "                        <td id=\"T_61a3e5b6_c2c7_11eb_9a15_0242ac1c0002row12_col7\" class=\"data row12 col7\" >0</td>\n",
              "                        <td id=\"T_61a3e5b6_c2c7_11eb_9a15_0242ac1c0002row12_col8\" class=\"data row12 col8\" >0</td>\n",
              "                        <td id=\"T_61a3e5b6_c2c7_11eb_9a15_0242ac1c0002row12_col9\" class=\"data row12 col9\" >11</td>\n",
              "                        <td id=\"T_61a3e5b6_c2c7_11eb_9a15_0242ac1c0002row12_col10\" class=\"data row12 col10\" >166</td>\n",
              "                        <td id=\"T_61a3e5b6_c2c7_11eb_9a15_0242ac1c0002row12_col11\" class=\"data row12 col11\" >239</td>\n",
              "                        <td id=\"T_61a3e5b6_c2c7_11eb_9a15_0242ac1c0002row12_col12\" class=\"data row12 col12\" >253</td>\n",
              "                        <td id=\"T_61a3e5b6_c2c7_11eb_9a15_0242ac1c0002row12_col13\" class=\"data row12 col13\" >253</td>\n",
              "                        <td id=\"T_61a3e5b6_c2c7_11eb_9a15_0242ac1c0002row12_col14\" class=\"data row12 col14\" >253</td>\n",
              "                        <td id=\"T_61a3e5b6_c2c7_11eb_9a15_0242ac1c0002row12_col15\" class=\"data row12 col15\" >187</td>\n",
              "                        <td id=\"T_61a3e5b6_c2c7_11eb_9a15_0242ac1c0002row12_col16\" class=\"data row12 col16\" >30</td>\n",
              "                        <td id=\"T_61a3e5b6_c2c7_11eb_9a15_0242ac1c0002row12_col17\" class=\"data row12 col17\" >0</td>\n",
              "                        <td id=\"T_61a3e5b6_c2c7_11eb_9a15_0242ac1c0002row12_col18\" class=\"data row12 col18\" >0</td>\n",
              "                        <td id=\"T_61a3e5b6_c2c7_11eb_9a15_0242ac1c0002row12_col19\" class=\"data row12 col19\" >0</td>\n",
              "                        <td id=\"T_61a3e5b6_c2c7_11eb_9a15_0242ac1c0002row12_col20\" class=\"data row12 col20\" >0</td>\n",
              "                        <td id=\"T_61a3e5b6_c2c7_11eb_9a15_0242ac1c0002row12_col21\" class=\"data row12 col21\" >0</td>\n",
              "                        <td id=\"T_61a3e5b6_c2c7_11eb_9a15_0242ac1c0002row12_col22\" class=\"data row12 col22\" >0</td>\n",
              "                        <td id=\"T_61a3e5b6_c2c7_11eb_9a15_0242ac1c0002row12_col23\" class=\"data row12 col23\" >0</td>\n",
              "                        <td id=\"T_61a3e5b6_c2c7_11eb_9a15_0242ac1c0002row12_col24\" class=\"data row12 col24\" >0</td>\n",
              "                        <td id=\"T_61a3e5b6_c2c7_11eb_9a15_0242ac1c0002row12_col25\" class=\"data row12 col25\" >0</td>\n",
              "                        <td id=\"T_61a3e5b6_c2c7_11eb_9a15_0242ac1c0002row12_col26\" class=\"data row12 col26\" >0</td>\n",
              "                        <td id=\"T_61a3e5b6_c2c7_11eb_9a15_0242ac1c0002row12_col27\" class=\"data row12 col27\" >0</td>\n",
              "            </tr>\n",
              "            <tr>\n",
              "                        <th id=\"T_61a3e5b6_c2c7_11eb_9a15_0242ac1c0002level0_row13\" class=\"row_heading level0 row13\" >13</th>\n",
              "                        <td id=\"T_61a3e5b6_c2c7_11eb_9a15_0242ac1c0002row13_col0\" class=\"data row13 col0\" >0</td>\n",
              "                        <td id=\"T_61a3e5b6_c2c7_11eb_9a15_0242ac1c0002row13_col1\" class=\"data row13 col1\" >0</td>\n",
              "                        <td id=\"T_61a3e5b6_c2c7_11eb_9a15_0242ac1c0002row13_col2\" class=\"data row13 col2\" >0</td>\n",
              "                        <td id=\"T_61a3e5b6_c2c7_11eb_9a15_0242ac1c0002row13_col3\" class=\"data row13 col3\" >0</td>\n",
              "                        <td id=\"T_61a3e5b6_c2c7_11eb_9a15_0242ac1c0002row13_col4\" class=\"data row13 col4\" >0</td>\n",
              "                        <td id=\"T_61a3e5b6_c2c7_11eb_9a15_0242ac1c0002row13_col5\" class=\"data row13 col5\" >0</td>\n",
              "                        <td id=\"T_61a3e5b6_c2c7_11eb_9a15_0242ac1c0002row13_col6\" class=\"data row13 col6\" >0</td>\n",
              "                        <td id=\"T_61a3e5b6_c2c7_11eb_9a15_0242ac1c0002row13_col7\" class=\"data row13 col7\" >0</td>\n",
              "                        <td id=\"T_61a3e5b6_c2c7_11eb_9a15_0242ac1c0002row13_col8\" class=\"data row13 col8\" >0</td>\n",
              "                        <td id=\"T_61a3e5b6_c2c7_11eb_9a15_0242ac1c0002row13_col9\" class=\"data row13 col9\" >16</td>\n",
              "                        <td id=\"T_61a3e5b6_c2c7_11eb_9a15_0242ac1c0002row13_col10\" class=\"data row13 col10\" >248</td>\n",
              "                        <td id=\"T_61a3e5b6_c2c7_11eb_9a15_0242ac1c0002row13_col11\" class=\"data row13 col11\" >250</td>\n",
              "                        <td id=\"T_61a3e5b6_c2c7_11eb_9a15_0242ac1c0002row13_col12\" class=\"data row13 col12\" >253</td>\n",
              "                        <td id=\"T_61a3e5b6_c2c7_11eb_9a15_0242ac1c0002row13_col13\" class=\"data row13 col13\" >253</td>\n",
              "                        <td id=\"T_61a3e5b6_c2c7_11eb_9a15_0242ac1c0002row13_col14\" class=\"data row13 col14\" >253</td>\n",
              "                        <td id=\"T_61a3e5b6_c2c7_11eb_9a15_0242ac1c0002row13_col15\" class=\"data row13 col15\" >253</td>\n",
              "                        <td id=\"T_61a3e5b6_c2c7_11eb_9a15_0242ac1c0002row13_col16\" class=\"data row13 col16\" >232</td>\n",
              "                        <td id=\"T_61a3e5b6_c2c7_11eb_9a15_0242ac1c0002row13_col17\" class=\"data row13 col17\" >213</td>\n",
              "                        <td id=\"T_61a3e5b6_c2c7_11eb_9a15_0242ac1c0002row13_col18\" class=\"data row13 col18\" >111</td>\n",
              "                        <td id=\"T_61a3e5b6_c2c7_11eb_9a15_0242ac1c0002row13_col19\" class=\"data row13 col19\" >2</td>\n",
              "                        <td id=\"T_61a3e5b6_c2c7_11eb_9a15_0242ac1c0002row13_col20\" class=\"data row13 col20\" >0</td>\n",
              "                        <td id=\"T_61a3e5b6_c2c7_11eb_9a15_0242ac1c0002row13_col21\" class=\"data row13 col21\" >0</td>\n",
              "                        <td id=\"T_61a3e5b6_c2c7_11eb_9a15_0242ac1c0002row13_col22\" class=\"data row13 col22\" >0</td>\n",
              "                        <td id=\"T_61a3e5b6_c2c7_11eb_9a15_0242ac1c0002row13_col23\" class=\"data row13 col23\" >0</td>\n",
              "                        <td id=\"T_61a3e5b6_c2c7_11eb_9a15_0242ac1c0002row13_col24\" class=\"data row13 col24\" >0</td>\n",
              "                        <td id=\"T_61a3e5b6_c2c7_11eb_9a15_0242ac1c0002row13_col25\" class=\"data row13 col25\" >0</td>\n",
              "                        <td id=\"T_61a3e5b6_c2c7_11eb_9a15_0242ac1c0002row13_col26\" class=\"data row13 col26\" >0</td>\n",
              "                        <td id=\"T_61a3e5b6_c2c7_11eb_9a15_0242ac1c0002row13_col27\" class=\"data row13 col27\" >0</td>\n",
              "            </tr>\n",
              "            <tr>\n",
              "                        <th id=\"T_61a3e5b6_c2c7_11eb_9a15_0242ac1c0002level0_row14\" class=\"row_heading level0 row14\" >14</th>\n",
              "                        <td id=\"T_61a3e5b6_c2c7_11eb_9a15_0242ac1c0002row14_col0\" class=\"data row14 col0\" >0</td>\n",
              "                        <td id=\"T_61a3e5b6_c2c7_11eb_9a15_0242ac1c0002row14_col1\" class=\"data row14 col1\" >0</td>\n",
              "                        <td id=\"T_61a3e5b6_c2c7_11eb_9a15_0242ac1c0002row14_col2\" class=\"data row14 col2\" >0</td>\n",
              "                        <td id=\"T_61a3e5b6_c2c7_11eb_9a15_0242ac1c0002row14_col3\" class=\"data row14 col3\" >0</td>\n",
              "                        <td id=\"T_61a3e5b6_c2c7_11eb_9a15_0242ac1c0002row14_col4\" class=\"data row14 col4\" >0</td>\n",
              "                        <td id=\"T_61a3e5b6_c2c7_11eb_9a15_0242ac1c0002row14_col5\" class=\"data row14 col5\" >0</td>\n",
              "                        <td id=\"T_61a3e5b6_c2c7_11eb_9a15_0242ac1c0002row14_col6\" class=\"data row14 col6\" >0</td>\n",
              "                        <td id=\"T_61a3e5b6_c2c7_11eb_9a15_0242ac1c0002row14_col7\" class=\"data row14 col7\" >0</td>\n",
              "                        <td id=\"T_61a3e5b6_c2c7_11eb_9a15_0242ac1c0002row14_col8\" class=\"data row14 col8\" >0</td>\n",
              "                        <td id=\"T_61a3e5b6_c2c7_11eb_9a15_0242ac1c0002row14_col9\" class=\"data row14 col9\" >0</td>\n",
              "                        <td id=\"T_61a3e5b6_c2c7_11eb_9a15_0242ac1c0002row14_col10\" class=\"data row14 col10\" >0</td>\n",
              "                        <td id=\"T_61a3e5b6_c2c7_11eb_9a15_0242ac1c0002row14_col11\" class=\"data row14 col11\" >43</td>\n",
              "                        <td id=\"T_61a3e5b6_c2c7_11eb_9a15_0242ac1c0002row14_col12\" class=\"data row14 col12\" >98</td>\n",
              "                        <td id=\"T_61a3e5b6_c2c7_11eb_9a15_0242ac1c0002row14_col13\" class=\"data row14 col13\" >98</td>\n",
              "                        <td id=\"T_61a3e5b6_c2c7_11eb_9a15_0242ac1c0002row14_col14\" class=\"data row14 col14\" >208</td>\n",
              "                        <td id=\"T_61a3e5b6_c2c7_11eb_9a15_0242ac1c0002row14_col15\" class=\"data row14 col15\" >253</td>\n",
              "                        <td id=\"T_61a3e5b6_c2c7_11eb_9a15_0242ac1c0002row14_col16\" class=\"data row14 col16\" >253</td>\n",
              "                        <td id=\"T_61a3e5b6_c2c7_11eb_9a15_0242ac1c0002row14_col17\" class=\"data row14 col17\" >253</td>\n",
              "                        <td id=\"T_61a3e5b6_c2c7_11eb_9a15_0242ac1c0002row14_col18\" class=\"data row14 col18\" >253</td>\n",
              "                        <td id=\"T_61a3e5b6_c2c7_11eb_9a15_0242ac1c0002row14_col19\" class=\"data row14 col19\" >187</td>\n",
              "                        <td id=\"T_61a3e5b6_c2c7_11eb_9a15_0242ac1c0002row14_col20\" class=\"data row14 col20\" >22</td>\n",
              "                        <td id=\"T_61a3e5b6_c2c7_11eb_9a15_0242ac1c0002row14_col21\" class=\"data row14 col21\" >0</td>\n",
              "                        <td id=\"T_61a3e5b6_c2c7_11eb_9a15_0242ac1c0002row14_col22\" class=\"data row14 col22\" >0</td>\n",
              "                        <td id=\"T_61a3e5b6_c2c7_11eb_9a15_0242ac1c0002row14_col23\" class=\"data row14 col23\" >0</td>\n",
              "                        <td id=\"T_61a3e5b6_c2c7_11eb_9a15_0242ac1c0002row14_col24\" class=\"data row14 col24\" >0</td>\n",
              "                        <td id=\"T_61a3e5b6_c2c7_11eb_9a15_0242ac1c0002row14_col25\" class=\"data row14 col25\" >0</td>\n",
              "                        <td id=\"T_61a3e5b6_c2c7_11eb_9a15_0242ac1c0002row14_col26\" class=\"data row14 col26\" >0</td>\n",
              "                        <td id=\"T_61a3e5b6_c2c7_11eb_9a15_0242ac1c0002row14_col27\" class=\"data row14 col27\" >0</td>\n",
              "            </tr>\n",
              "            <tr>\n",
              "                        <th id=\"T_61a3e5b6_c2c7_11eb_9a15_0242ac1c0002level0_row15\" class=\"row_heading level0 row15\" >15</th>\n",
              "                        <td id=\"T_61a3e5b6_c2c7_11eb_9a15_0242ac1c0002row15_col0\" class=\"data row15 col0\" >0</td>\n",
              "                        <td id=\"T_61a3e5b6_c2c7_11eb_9a15_0242ac1c0002row15_col1\" class=\"data row15 col1\" >0</td>\n",
              "                        <td id=\"T_61a3e5b6_c2c7_11eb_9a15_0242ac1c0002row15_col2\" class=\"data row15 col2\" >0</td>\n",
              "                        <td id=\"T_61a3e5b6_c2c7_11eb_9a15_0242ac1c0002row15_col3\" class=\"data row15 col3\" >0</td>\n",
              "                        <td id=\"T_61a3e5b6_c2c7_11eb_9a15_0242ac1c0002row15_col4\" class=\"data row15 col4\" >0</td>\n",
              "                        <td id=\"T_61a3e5b6_c2c7_11eb_9a15_0242ac1c0002row15_col5\" class=\"data row15 col5\" >0</td>\n",
              "                        <td id=\"T_61a3e5b6_c2c7_11eb_9a15_0242ac1c0002row15_col6\" class=\"data row15 col6\" >0</td>\n",
              "                        <td id=\"T_61a3e5b6_c2c7_11eb_9a15_0242ac1c0002row15_col7\" class=\"data row15 col7\" >0</td>\n",
              "                        <td id=\"T_61a3e5b6_c2c7_11eb_9a15_0242ac1c0002row15_col8\" class=\"data row15 col8\" >0</td>\n",
              "                        <td id=\"T_61a3e5b6_c2c7_11eb_9a15_0242ac1c0002row15_col9\" class=\"data row15 col9\" >0</td>\n",
              "                        <td id=\"T_61a3e5b6_c2c7_11eb_9a15_0242ac1c0002row15_col10\" class=\"data row15 col10\" >0</td>\n",
              "                        <td id=\"T_61a3e5b6_c2c7_11eb_9a15_0242ac1c0002row15_col11\" class=\"data row15 col11\" >0</td>\n",
              "                        <td id=\"T_61a3e5b6_c2c7_11eb_9a15_0242ac1c0002row15_col12\" class=\"data row15 col12\" >0</td>\n",
              "                        <td id=\"T_61a3e5b6_c2c7_11eb_9a15_0242ac1c0002row15_col13\" class=\"data row15 col13\" >0</td>\n",
              "                        <td id=\"T_61a3e5b6_c2c7_11eb_9a15_0242ac1c0002row15_col14\" class=\"data row15 col14\" >9</td>\n",
              "                        <td id=\"T_61a3e5b6_c2c7_11eb_9a15_0242ac1c0002row15_col15\" class=\"data row15 col15\" >51</td>\n",
              "                        <td id=\"T_61a3e5b6_c2c7_11eb_9a15_0242ac1c0002row15_col16\" class=\"data row15 col16\" >119</td>\n",
              "                        <td id=\"T_61a3e5b6_c2c7_11eb_9a15_0242ac1c0002row15_col17\" class=\"data row15 col17\" >253</td>\n",
              "                        <td id=\"T_61a3e5b6_c2c7_11eb_9a15_0242ac1c0002row15_col18\" class=\"data row15 col18\" >253</td>\n",
              "                        <td id=\"T_61a3e5b6_c2c7_11eb_9a15_0242ac1c0002row15_col19\" class=\"data row15 col19\" >253</td>\n",
              "                        <td id=\"T_61a3e5b6_c2c7_11eb_9a15_0242ac1c0002row15_col20\" class=\"data row15 col20\" >76</td>\n",
              "                        <td id=\"T_61a3e5b6_c2c7_11eb_9a15_0242ac1c0002row15_col21\" class=\"data row15 col21\" >0</td>\n",
              "                        <td id=\"T_61a3e5b6_c2c7_11eb_9a15_0242ac1c0002row15_col22\" class=\"data row15 col22\" >0</td>\n",
              "                        <td id=\"T_61a3e5b6_c2c7_11eb_9a15_0242ac1c0002row15_col23\" class=\"data row15 col23\" >0</td>\n",
              "                        <td id=\"T_61a3e5b6_c2c7_11eb_9a15_0242ac1c0002row15_col24\" class=\"data row15 col24\" >0</td>\n",
              "                        <td id=\"T_61a3e5b6_c2c7_11eb_9a15_0242ac1c0002row15_col25\" class=\"data row15 col25\" >0</td>\n",
              "                        <td id=\"T_61a3e5b6_c2c7_11eb_9a15_0242ac1c0002row15_col26\" class=\"data row15 col26\" >0</td>\n",
              "                        <td id=\"T_61a3e5b6_c2c7_11eb_9a15_0242ac1c0002row15_col27\" class=\"data row15 col27\" >0</td>\n",
              "            </tr>\n",
              "            <tr>\n",
              "                        <th id=\"T_61a3e5b6_c2c7_11eb_9a15_0242ac1c0002level0_row16\" class=\"row_heading level0 row16\" >16</th>\n",
              "                        <td id=\"T_61a3e5b6_c2c7_11eb_9a15_0242ac1c0002row16_col0\" class=\"data row16 col0\" >0</td>\n",
              "                        <td id=\"T_61a3e5b6_c2c7_11eb_9a15_0242ac1c0002row16_col1\" class=\"data row16 col1\" >0</td>\n",
              "                        <td id=\"T_61a3e5b6_c2c7_11eb_9a15_0242ac1c0002row16_col2\" class=\"data row16 col2\" >0</td>\n",
              "                        <td id=\"T_61a3e5b6_c2c7_11eb_9a15_0242ac1c0002row16_col3\" class=\"data row16 col3\" >0</td>\n",
              "                        <td id=\"T_61a3e5b6_c2c7_11eb_9a15_0242ac1c0002row16_col4\" class=\"data row16 col4\" >0</td>\n",
              "                        <td id=\"T_61a3e5b6_c2c7_11eb_9a15_0242ac1c0002row16_col5\" class=\"data row16 col5\" >0</td>\n",
              "                        <td id=\"T_61a3e5b6_c2c7_11eb_9a15_0242ac1c0002row16_col6\" class=\"data row16 col6\" >0</td>\n",
              "                        <td id=\"T_61a3e5b6_c2c7_11eb_9a15_0242ac1c0002row16_col7\" class=\"data row16 col7\" >0</td>\n",
              "                        <td id=\"T_61a3e5b6_c2c7_11eb_9a15_0242ac1c0002row16_col8\" class=\"data row16 col8\" >0</td>\n",
              "                        <td id=\"T_61a3e5b6_c2c7_11eb_9a15_0242ac1c0002row16_col9\" class=\"data row16 col9\" >0</td>\n",
              "                        <td id=\"T_61a3e5b6_c2c7_11eb_9a15_0242ac1c0002row16_col10\" class=\"data row16 col10\" >0</td>\n",
              "                        <td id=\"T_61a3e5b6_c2c7_11eb_9a15_0242ac1c0002row16_col11\" class=\"data row16 col11\" >0</td>\n",
              "                        <td id=\"T_61a3e5b6_c2c7_11eb_9a15_0242ac1c0002row16_col12\" class=\"data row16 col12\" >0</td>\n",
              "                        <td id=\"T_61a3e5b6_c2c7_11eb_9a15_0242ac1c0002row16_col13\" class=\"data row16 col13\" >0</td>\n",
              "                        <td id=\"T_61a3e5b6_c2c7_11eb_9a15_0242ac1c0002row16_col14\" class=\"data row16 col14\" >0</td>\n",
              "                        <td id=\"T_61a3e5b6_c2c7_11eb_9a15_0242ac1c0002row16_col15\" class=\"data row16 col15\" >0</td>\n",
              "                        <td id=\"T_61a3e5b6_c2c7_11eb_9a15_0242ac1c0002row16_col16\" class=\"data row16 col16\" >1</td>\n",
              "                        <td id=\"T_61a3e5b6_c2c7_11eb_9a15_0242ac1c0002row16_col17\" class=\"data row16 col17\" >183</td>\n",
              "                        <td id=\"T_61a3e5b6_c2c7_11eb_9a15_0242ac1c0002row16_col18\" class=\"data row16 col18\" >253</td>\n",
              "                        <td id=\"T_61a3e5b6_c2c7_11eb_9a15_0242ac1c0002row16_col19\" class=\"data row16 col19\" >253</td>\n",
              "                        <td id=\"T_61a3e5b6_c2c7_11eb_9a15_0242ac1c0002row16_col20\" class=\"data row16 col20\" >139</td>\n",
              "                        <td id=\"T_61a3e5b6_c2c7_11eb_9a15_0242ac1c0002row16_col21\" class=\"data row16 col21\" >0</td>\n",
              "                        <td id=\"T_61a3e5b6_c2c7_11eb_9a15_0242ac1c0002row16_col22\" class=\"data row16 col22\" >0</td>\n",
              "                        <td id=\"T_61a3e5b6_c2c7_11eb_9a15_0242ac1c0002row16_col23\" class=\"data row16 col23\" >0</td>\n",
              "                        <td id=\"T_61a3e5b6_c2c7_11eb_9a15_0242ac1c0002row16_col24\" class=\"data row16 col24\" >0</td>\n",
              "                        <td id=\"T_61a3e5b6_c2c7_11eb_9a15_0242ac1c0002row16_col25\" class=\"data row16 col25\" >0</td>\n",
              "                        <td id=\"T_61a3e5b6_c2c7_11eb_9a15_0242ac1c0002row16_col26\" class=\"data row16 col26\" >0</td>\n",
              "                        <td id=\"T_61a3e5b6_c2c7_11eb_9a15_0242ac1c0002row16_col27\" class=\"data row16 col27\" >0</td>\n",
              "            </tr>\n",
              "            <tr>\n",
              "                        <th id=\"T_61a3e5b6_c2c7_11eb_9a15_0242ac1c0002level0_row17\" class=\"row_heading level0 row17\" >17</th>\n",
              "                        <td id=\"T_61a3e5b6_c2c7_11eb_9a15_0242ac1c0002row17_col0\" class=\"data row17 col0\" >0</td>\n",
              "                        <td id=\"T_61a3e5b6_c2c7_11eb_9a15_0242ac1c0002row17_col1\" class=\"data row17 col1\" >0</td>\n",
              "                        <td id=\"T_61a3e5b6_c2c7_11eb_9a15_0242ac1c0002row17_col2\" class=\"data row17 col2\" >0</td>\n",
              "                        <td id=\"T_61a3e5b6_c2c7_11eb_9a15_0242ac1c0002row17_col3\" class=\"data row17 col3\" >0</td>\n",
              "                        <td id=\"T_61a3e5b6_c2c7_11eb_9a15_0242ac1c0002row17_col4\" class=\"data row17 col4\" >0</td>\n",
              "                        <td id=\"T_61a3e5b6_c2c7_11eb_9a15_0242ac1c0002row17_col5\" class=\"data row17 col5\" >0</td>\n",
              "                        <td id=\"T_61a3e5b6_c2c7_11eb_9a15_0242ac1c0002row17_col6\" class=\"data row17 col6\" >0</td>\n",
              "                        <td id=\"T_61a3e5b6_c2c7_11eb_9a15_0242ac1c0002row17_col7\" class=\"data row17 col7\" >0</td>\n",
              "                        <td id=\"T_61a3e5b6_c2c7_11eb_9a15_0242ac1c0002row17_col8\" class=\"data row17 col8\" >0</td>\n",
              "                        <td id=\"T_61a3e5b6_c2c7_11eb_9a15_0242ac1c0002row17_col9\" class=\"data row17 col9\" >0</td>\n",
              "                        <td id=\"T_61a3e5b6_c2c7_11eb_9a15_0242ac1c0002row17_col10\" class=\"data row17 col10\" >0</td>\n",
              "                        <td id=\"T_61a3e5b6_c2c7_11eb_9a15_0242ac1c0002row17_col11\" class=\"data row17 col11\" >0</td>\n",
              "                        <td id=\"T_61a3e5b6_c2c7_11eb_9a15_0242ac1c0002row17_col12\" class=\"data row17 col12\" >0</td>\n",
              "                        <td id=\"T_61a3e5b6_c2c7_11eb_9a15_0242ac1c0002row17_col13\" class=\"data row17 col13\" >0</td>\n",
              "                        <td id=\"T_61a3e5b6_c2c7_11eb_9a15_0242ac1c0002row17_col14\" class=\"data row17 col14\" >0</td>\n",
              "                        <td id=\"T_61a3e5b6_c2c7_11eb_9a15_0242ac1c0002row17_col15\" class=\"data row17 col15\" >0</td>\n",
              "                        <td id=\"T_61a3e5b6_c2c7_11eb_9a15_0242ac1c0002row17_col16\" class=\"data row17 col16\" >0</td>\n",
              "                        <td id=\"T_61a3e5b6_c2c7_11eb_9a15_0242ac1c0002row17_col17\" class=\"data row17 col17\" >182</td>\n",
              "                        <td id=\"T_61a3e5b6_c2c7_11eb_9a15_0242ac1c0002row17_col18\" class=\"data row17 col18\" >253</td>\n",
              "                        <td id=\"T_61a3e5b6_c2c7_11eb_9a15_0242ac1c0002row17_col19\" class=\"data row17 col19\" >253</td>\n",
              "                        <td id=\"T_61a3e5b6_c2c7_11eb_9a15_0242ac1c0002row17_col20\" class=\"data row17 col20\" >104</td>\n",
              "                        <td id=\"T_61a3e5b6_c2c7_11eb_9a15_0242ac1c0002row17_col21\" class=\"data row17 col21\" >0</td>\n",
              "                        <td id=\"T_61a3e5b6_c2c7_11eb_9a15_0242ac1c0002row17_col22\" class=\"data row17 col22\" >0</td>\n",
              "                        <td id=\"T_61a3e5b6_c2c7_11eb_9a15_0242ac1c0002row17_col23\" class=\"data row17 col23\" >0</td>\n",
              "                        <td id=\"T_61a3e5b6_c2c7_11eb_9a15_0242ac1c0002row17_col24\" class=\"data row17 col24\" >0</td>\n",
              "                        <td id=\"T_61a3e5b6_c2c7_11eb_9a15_0242ac1c0002row17_col25\" class=\"data row17 col25\" >0</td>\n",
              "                        <td id=\"T_61a3e5b6_c2c7_11eb_9a15_0242ac1c0002row17_col26\" class=\"data row17 col26\" >0</td>\n",
              "                        <td id=\"T_61a3e5b6_c2c7_11eb_9a15_0242ac1c0002row17_col27\" class=\"data row17 col27\" >0</td>\n",
              "            </tr>\n",
              "            <tr>\n",
              "                        <th id=\"T_61a3e5b6_c2c7_11eb_9a15_0242ac1c0002level0_row18\" class=\"row_heading level0 row18\" >18</th>\n",
              "                        <td id=\"T_61a3e5b6_c2c7_11eb_9a15_0242ac1c0002row18_col0\" class=\"data row18 col0\" >0</td>\n",
              "                        <td id=\"T_61a3e5b6_c2c7_11eb_9a15_0242ac1c0002row18_col1\" class=\"data row18 col1\" >0</td>\n",
              "                        <td id=\"T_61a3e5b6_c2c7_11eb_9a15_0242ac1c0002row18_col2\" class=\"data row18 col2\" >0</td>\n",
              "                        <td id=\"T_61a3e5b6_c2c7_11eb_9a15_0242ac1c0002row18_col3\" class=\"data row18 col3\" >0</td>\n",
              "                        <td id=\"T_61a3e5b6_c2c7_11eb_9a15_0242ac1c0002row18_col4\" class=\"data row18 col4\" >0</td>\n",
              "                        <td id=\"T_61a3e5b6_c2c7_11eb_9a15_0242ac1c0002row18_col5\" class=\"data row18 col5\" >0</td>\n",
              "                        <td id=\"T_61a3e5b6_c2c7_11eb_9a15_0242ac1c0002row18_col6\" class=\"data row18 col6\" >0</td>\n",
              "                        <td id=\"T_61a3e5b6_c2c7_11eb_9a15_0242ac1c0002row18_col7\" class=\"data row18 col7\" >0</td>\n",
              "                        <td id=\"T_61a3e5b6_c2c7_11eb_9a15_0242ac1c0002row18_col8\" class=\"data row18 col8\" >0</td>\n",
              "                        <td id=\"T_61a3e5b6_c2c7_11eb_9a15_0242ac1c0002row18_col9\" class=\"data row18 col9\" >0</td>\n",
              "                        <td id=\"T_61a3e5b6_c2c7_11eb_9a15_0242ac1c0002row18_col10\" class=\"data row18 col10\" >0</td>\n",
              "                        <td id=\"T_61a3e5b6_c2c7_11eb_9a15_0242ac1c0002row18_col11\" class=\"data row18 col11\" >0</td>\n",
              "                        <td id=\"T_61a3e5b6_c2c7_11eb_9a15_0242ac1c0002row18_col12\" class=\"data row18 col12\" >0</td>\n",
              "                        <td id=\"T_61a3e5b6_c2c7_11eb_9a15_0242ac1c0002row18_col13\" class=\"data row18 col13\" >0</td>\n",
              "                        <td id=\"T_61a3e5b6_c2c7_11eb_9a15_0242ac1c0002row18_col14\" class=\"data row18 col14\" >0</td>\n",
              "                        <td id=\"T_61a3e5b6_c2c7_11eb_9a15_0242ac1c0002row18_col15\" class=\"data row18 col15\" >0</td>\n",
              "                        <td id=\"T_61a3e5b6_c2c7_11eb_9a15_0242ac1c0002row18_col16\" class=\"data row18 col16\" >85</td>\n",
              "                        <td id=\"T_61a3e5b6_c2c7_11eb_9a15_0242ac1c0002row18_col17\" class=\"data row18 col17\" >249</td>\n",
              "                        <td id=\"T_61a3e5b6_c2c7_11eb_9a15_0242ac1c0002row18_col18\" class=\"data row18 col18\" >253</td>\n",
              "                        <td id=\"T_61a3e5b6_c2c7_11eb_9a15_0242ac1c0002row18_col19\" class=\"data row18 col19\" >253</td>\n",
              "                        <td id=\"T_61a3e5b6_c2c7_11eb_9a15_0242ac1c0002row18_col20\" class=\"data row18 col20\" >36</td>\n",
              "                        <td id=\"T_61a3e5b6_c2c7_11eb_9a15_0242ac1c0002row18_col21\" class=\"data row18 col21\" >0</td>\n",
              "                        <td id=\"T_61a3e5b6_c2c7_11eb_9a15_0242ac1c0002row18_col22\" class=\"data row18 col22\" >0</td>\n",
              "                        <td id=\"T_61a3e5b6_c2c7_11eb_9a15_0242ac1c0002row18_col23\" class=\"data row18 col23\" >0</td>\n",
              "                        <td id=\"T_61a3e5b6_c2c7_11eb_9a15_0242ac1c0002row18_col24\" class=\"data row18 col24\" >0</td>\n",
              "                        <td id=\"T_61a3e5b6_c2c7_11eb_9a15_0242ac1c0002row18_col25\" class=\"data row18 col25\" >0</td>\n",
              "                        <td id=\"T_61a3e5b6_c2c7_11eb_9a15_0242ac1c0002row18_col26\" class=\"data row18 col26\" >0</td>\n",
              "                        <td id=\"T_61a3e5b6_c2c7_11eb_9a15_0242ac1c0002row18_col27\" class=\"data row18 col27\" >0</td>\n",
              "            </tr>\n",
              "            <tr>\n",
              "                        <th id=\"T_61a3e5b6_c2c7_11eb_9a15_0242ac1c0002level0_row19\" class=\"row_heading level0 row19\" >19</th>\n",
              "                        <td id=\"T_61a3e5b6_c2c7_11eb_9a15_0242ac1c0002row19_col0\" class=\"data row19 col0\" >0</td>\n",
              "                        <td id=\"T_61a3e5b6_c2c7_11eb_9a15_0242ac1c0002row19_col1\" class=\"data row19 col1\" >0</td>\n",
              "                        <td id=\"T_61a3e5b6_c2c7_11eb_9a15_0242ac1c0002row19_col2\" class=\"data row19 col2\" >0</td>\n",
              "                        <td id=\"T_61a3e5b6_c2c7_11eb_9a15_0242ac1c0002row19_col3\" class=\"data row19 col3\" >0</td>\n",
              "                        <td id=\"T_61a3e5b6_c2c7_11eb_9a15_0242ac1c0002row19_col4\" class=\"data row19 col4\" >0</td>\n",
              "                        <td id=\"T_61a3e5b6_c2c7_11eb_9a15_0242ac1c0002row19_col5\" class=\"data row19 col5\" >0</td>\n",
              "                        <td id=\"T_61a3e5b6_c2c7_11eb_9a15_0242ac1c0002row19_col6\" class=\"data row19 col6\" >0</td>\n",
              "                        <td id=\"T_61a3e5b6_c2c7_11eb_9a15_0242ac1c0002row19_col7\" class=\"data row19 col7\" >0</td>\n",
              "                        <td id=\"T_61a3e5b6_c2c7_11eb_9a15_0242ac1c0002row19_col8\" class=\"data row19 col8\" >0</td>\n",
              "                        <td id=\"T_61a3e5b6_c2c7_11eb_9a15_0242ac1c0002row19_col9\" class=\"data row19 col9\" >0</td>\n",
              "                        <td id=\"T_61a3e5b6_c2c7_11eb_9a15_0242ac1c0002row19_col10\" class=\"data row19 col10\" >0</td>\n",
              "                        <td id=\"T_61a3e5b6_c2c7_11eb_9a15_0242ac1c0002row19_col11\" class=\"data row19 col11\" >0</td>\n",
              "                        <td id=\"T_61a3e5b6_c2c7_11eb_9a15_0242ac1c0002row19_col12\" class=\"data row19 col12\" >0</td>\n",
              "                        <td id=\"T_61a3e5b6_c2c7_11eb_9a15_0242ac1c0002row19_col13\" class=\"data row19 col13\" >0</td>\n",
              "                        <td id=\"T_61a3e5b6_c2c7_11eb_9a15_0242ac1c0002row19_col14\" class=\"data row19 col14\" >0</td>\n",
              "                        <td id=\"T_61a3e5b6_c2c7_11eb_9a15_0242ac1c0002row19_col15\" class=\"data row19 col15\" >60</td>\n",
              "                        <td id=\"T_61a3e5b6_c2c7_11eb_9a15_0242ac1c0002row19_col16\" class=\"data row19 col16\" >214</td>\n",
              "                        <td id=\"T_61a3e5b6_c2c7_11eb_9a15_0242ac1c0002row19_col17\" class=\"data row19 col17\" >253</td>\n",
              "                        <td id=\"T_61a3e5b6_c2c7_11eb_9a15_0242ac1c0002row19_col18\" class=\"data row19 col18\" >253</td>\n",
              "                        <td id=\"T_61a3e5b6_c2c7_11eb_9a15_0242ac1c0002row19_col19\" class=\"data row19 col19\" >173</td>\n",
              "                        <td id=\"T_61a3e5b6_c2c7_11eb_9a15_0242ac1c0002row19_col20\" class=\"data row19 col20\" >11</td>\n",
              "                        <td id=\"T_61a3e5b6_c2c7_11eb_9a15_0242ac1c0002row19_col21\" class=\"data row19 col21\" >0</td>\n",
              "                        <td id=\"T_61a3e5b6_c2c7_11eb_9a15_0242ac1c0002row19_col22\" class=\"data row19 col22\" >0</td>\n",
              "                        <td id=\"T_61a3e5b6_c2c7_11eb_9a15_0242ac1c0002row19_col23\" class=\"data row19 col23\" >0</td>\n",
              "                        <td id=\"T_61a3e5b6_c2c7_11eb_9a15_0242ac1c0002row19_col24\" class=\"data row19 col24\" >0</td>\n",
              "                        <td id=\"T_61a3e5b6_c2c7_11eb_9a15_0242ac1c0002row19_col25\" class=\"data row19 col25\" >0</td>\n",
              "                        <td id=\"T_61a3e5b6_c2c7_11eb_9a15_0242ac1c0002row19_col26\" class=\"data row19 col26\" >0</td>\n",
              "                        <td id=\"T_61a3e5b6_c2c7_11eb_9a15_0242ac1c0002row19_col27\" class=\"data row19 col27\" >0</td>\n",
              "            </tr>\n",
              "            <tr>\n",
              "                        <th id=\"T_61a3e5b6_c2c7_11eb_9a15_0242ac1c0002level0_row20\" class=\"row_heading level0 row20\" >20</th>\n",
              "                        <td id=\"T_61a3e5b6_c2c7_11eb_9a15_0242ac1c0002row20_col0\" class=\"data row20 col0\" >0</td>\n",
              "                        <td id=\"T_61a3e5b6_c2c7_11eb_9a15_0242ac1c0002row20_col1\" class=\"data row20 col1\" >0</td>\n",
              "                        <td id=\"T_61a3e5b6_c2c7_11eb_9a15_0242ac1c0002row20_col2\" class=\"data row20 col2\" >0</td>\n",
              "                        <td id=\"T_61a3e5b6_c2c7_11eb_9a15_0242ac1c0002row20_col3\" class=\"data row20 col3\" >0</td>\n",
              "                        <td id=\"T_61a3e5b6_c2c7_11eb_9a15_0242ac1c0002row20_col4\" class=\"data row20 col4\" >0</td>\n",
              "                        <td id=\"T_61a3e5b6_c2c7_11eb_9a15_0242ac1c0002row20_col5\" class=\"data row20 col5\" >0</td>\n",
              "                        <td id=\"T_61a3e5b6_c2c7_11eb_9a15_0242ac1c0002row20_col6\" class=\"data row20 col6\" >0</td>\n",
              "                        <td id=\"T_61a3e5b6_c2c7_11eb_9a15_0242ac1c0002row20_col7\" class=\"data row20 col7\" >0</td>\n",
              "                        <td id=\"T_61a3e5b6_c2c7_11eb_9a15_0242ac1c0002row20_col8\" class=\"data row20 col8\" >0</td>\n",
              "                        <td id=\"T_61a3e5b6_c2c7_11eb_9a15_0242ac1c0002row20_col9\" class=\"data row20 col9\" >0</td>\n",
              "                        <td id=\"T_61a3e5b6_c2c7_11eb_9a15_0242ac1c0002row20_col10\" class=\"data row20 col10\" >0</td>\n",
              "                        <td id=\"T_61a3e5b6_c2c7_11eb_9a15_0242ac1c0002row20_col11\" class=\"data row20 col11\" >0</td>\n",
              "                        <td id=\"T_61a3e5b6_c2c7_11eb_9a15_0242ac1c0002row20_col12\" class=\"data row20 col12\" >0</td>\n",
              "                        <td id=\"T_61a3e5b6_c2c7_11eb_9a15_0242ac1c0002row20_col13\" class=\"data row20 col13\" >0</td>\n",
              "                        <td id=\"T_61a3e5b6_c2c7_11eb_9a15_0242ac1c0002row20_col14\" class=\"data row20 col14\" >98</td>\n",
              "                        <td id=\"T_61a3e5b6_c2c7_11eb_9a15_0242ac1c0002row20_col15\" class=\"data row20 col15\" >247</td>\n",
              "                        <td id=\"T_61a3e5b6_c2c7_11eb_9a15_0242ac1c0002row20_col16\" class=\"data row20 col16\" >253</td>\n",
              "                        <td id=\"T_61a3e5b6_c2c7_11eb_9a15_0242ac1c0002row20_col17\" class=\"data row20 col17\" >253</td>\n",
              "                        <td id=\"T_61a3e5b6_c2c7_11eb_9a15_0242ac1c0002row20_col18\" class=\"data row20 col18\" >226</td>\n",
              "                        <td id=\"T_61a3e5b6_c2c7_11eb_9a15_0242ac1c0002row20_col19\" class=\"data row20 col19\" >9</td>\n",
              "                        <td id=\"T_61a3e5b6_c2c7_11eb_9a15_0242ac1c0002row20_col20\" class=\"data row20 col20\" >0</td>\n",
              "                        <td id=\"T_61a3e5b6_c2c7_11eb_9a15_0242ac1c0002row20_col21\" class=\"data row20 col21\" >0</td>\n",
              "                        <td id=\"T_61a3e5b6_c2c7_11eb_9a15_0242ac1c0002row20_col22\" class=\"data row20 col22\" >0</td>\n",
              "                        <td id=\"T_61a3e5b6_c2c7_11eb_9a15_0242ac1c0002row20_col23\" class=\"data row20 col23\" >0</td>\n",
              "                        <td id=\"T_61a3e5b6_c2c7_11eb_9a15_0242ac1c0002row20_col24\" class=\"data row20 col24\" >0</td>\n",
              "                        <td id=\"T_61a3e5b6_c2c7_11eb_9a15_0242ac1c0002row20_col25\" class=\"data row20 col25\" >0</td>\n",
              "                        <td id=\"T_61a3e5b6_c2c7_11eb_9a15_0242ac1c0002row20_col26\" class=\"data row20 col26\" >0</td>\n",
              "                        <td id=\"T_61a3e5b6_c2c7_11eb_9a15_0242ac1c0002row20_col27\" class=\"data row20 col27\" >0</td>\n",
              "            </tr>\n",
              "            <tr>\n",
              "                        <th id=\"T_61a3e5b6_c2c7_11eb_9a15_0242ac1c0002level0_row21\" class=\"row_heading level0 row21\" >21</th>\n",
              "                        <td id=\"T_61a3e5b6_c2c7_11eb_9a15_0242ac1c0002row21_col0\" class=\"data row21 col0\" >0</td>\n",
              "                        <td id=\"T_61a3e5b6_c2c7_11eb_9a15_0242ac1c0002row21_col1\" class=\"data row21 col1\" >0</td>\n",
              "                        <td id=\"T_61a3e5b6_c2c7_11eb_9a15_0242ac1c0002row21_col2\" class=\"data row21 col2\" >0</td>\n",
              "                        <td id=\"T_61a3e5b6_c2c7_11eb_9a15_0242ac1c0002row21_col3\" class=\"data row21 col3\" >0</td>\n",
              "                        <td id=\"T_61a3e5b6_c2c7_11eb_9a15_0242ac1c0002row21_col4\" class=\"data row21 col4\" >0</td>\n",
              "                        <td id=\"T_61a3e5b6_c2c7_11eb_9a15_0242ac1c0002row21_col5\" class=\"data row21 col5\" >0</td>\n",
              "                        <td id=\"T_61a3e5b6_c2c7_11eb_9a15_0242ac1c0002row21_col6\" class=\"data row21 col6\" >0</td>\n",
              "                        <td id=\"T_61a3e5b6_c2c7_11eb_9a15_0242ac1c0002row21_col7\" class=\"data row21 col7\" >0</td>\n",
              "                        <td id=\"T_61a3e5b6_c2c7_11eb_9a15_0242ac1c0002row21_col8\" class=\"data row21 col8\" >0</td>\n",
              "                        <td id=\"T_61a3e5b6_c2c7_11eb_9a15_0242ac1c0002row21_col9\" class=\"data row21 col9\" >0</td>\n",
              "                        <td id=\"T_61a3e5b6_c2c7_11eb_9a15_0242ac1c0002row21_col10\" class=\"data row21 col10\" >0</td>\n",
              "                        <td id=\"T_61a3e5b6_c2c7_11eb_9a15_0242ac1c0002row21_col11\" class=\"data row21 col11\" >0</td>\n",
              "                        <td id=\"T_61a3e5b6_c2c7_11eb_9a15_0242ac1c0002row21_col12\" class=\"data row21 col12\" >42</td>\n",
              "                        <td id=\"T_61a3e5b6_c2c7_11eb_9a15_0242ac1c0002row21_col13\" class=\"data row21 col13\" >150</td>\n",
              "                        <td id=\"T_61a3e5b6_c2c7_11eb_9a15_0242ac1c0002row21_col14\" class=\"data row21 col14\" >252</td>\n",
              "                        <td id=\"T_61a3e5b6_c2c7_11eb_9a15_0242ac1c0002row21_col15\" class=\"data row21 col15\" >253</td>\n",
              "                        <td id=\"T_61a3e5b6_c2c7_11eb_9a15_0242ac1c0002row21_col16\" class=\"data row21 col16\" >253</td>\n",
              "                        <td id=\"T_61a3e5b6_c2c7_11eb_9a15_0242ac1c0002row21_col17\" class=\"data row21 col17\" >233</td>\n",
              "                        <td id=\"T_61a3e5b6_c2c7_11eb_9a15_0242ac1c0002row21_col18\" class=\"data row21 col18\" >53</td>\n",
              "                        <td id=\"T_61a3e5b6_c2c7_11eb_9a15_0242ac1c0002row21_col19\" class=\"data row21 col19\" >0</td>\n",
              "                        <td id=\"T_61a3e5b6_c2c7_11eb_9a15_0242ac1c0002row21_col20\" class=\"data row21 col20\" >0</td>\n",
              "                        <td id=\"T_61a3e5b6_c2c7_11eb_9a15_0242ac1c0002row21_col21\" class=\"data row21 col21\" >0</td>\n",
              "                        <td id=\"T_61a3e5b6_c2c7_11eb_9a15_0242ac1c0002row21_col22\" class=\"data row21 col22\" >0</td>\n",
              "                        <td id=\"T_61a3e5b6_c2c7_11eb_9a15_0242ac1c0002row21_col23\" class=\"data row21 col23\" >0</td>\n",
              "                        <td id=\"T_61a3e5b6_c2c7_11eb_9a15_0242ac1c0002row21_col24\" class=\"data row21 col24\" >0</td>\n",
              "                        <td id=\"T_61a3e5b6_c2c7_11eb_9a15_0242ac1c0002row21_col25\" class=\"data row21 col25\" >0</td>\n",
              "                        <td id=\"T_61a3e5b6_c2c7_11eb_9a15_0242ac1c0002row21_col26\" class=\"data row21 col26\" >0</td>\n",
              "                        <td id=\"T_61a3e5b6_c2c7_11eb_9a15_0242ac1c0002row21_col27\" class=\"data row21 col27\" >0</td>\n",
              "            </tr>\n",
              "            <tr>\n",
              "                        <th id=\"T_61a3e5b6_c2c7_11eb_9a15_0242ac1c0002level0_row22\" class=\"row_heading level0 row22\" >22</th>\n",
              "                        <td id=\"T_61a3e5b6_c2c7_11eb_9a15_0242ac1c0002row22_col0\" class=\"data row22 col0\" >0</td>\n",
              "                        <td id=\"T_61a3e5b6_c2c7_11eb_9a15_0242ac1c0002row22_col1\" class=\"data row22 col1\" >0</td>\n",
              "                        <td id=\"T_61a3e5b6_c2c7_11eb_9a15_0242ac1c0002row22_col2\" class=\"data row22 col2\" >0</td>\n",
              "                        <td id=\"T_61a3e5b6_c2c7_11eb_9a15_0242ac1c0002row22_col3\" class=\"data row22 col3\" >0</td>\n",
              "                        <td id=\"T_61a3e5b6_c2c7_11eb_9a15_0242ac1c0002row22_col4\" class=\"data row22 col4\" >0</td>\n",
              "                        <td id=\"T_61a3e5b6_c2c7_11eb_9a15_0242ac1c0002row22_col5\" class=\"data row22 col5\" >0</td>\n",
              "                        <td id=\"T_61a3e5b6_c2c7_11eb_9a15_0242ac1c0002row22_col6\" class=\"data row22 col6\" >42</td>\n",
              "                        <td id=\"T_61a3e5b6_c2c7_11eb_9a15_0242ac1c0002row22_col7\" class=\"data row22 col7\" >115</td>\n",
              "                        <td id=\"T_61a3e5b6_c2c7_11eb_9a15_0242ac1c0002row22_col8\" class=\"data row22 col8\" >42</td>\n",
              "                        <td id=\"T_61a3e5b6_c2c7_11eb_9a15_0242ac1c0002row22_col9\" class=\"data row22 col9\" >60</td>\n",
              "                        <td id=\"T_61a3e5b6_c2c7_11eb_9a15_0242ac1c0002row22_col10\" class=\"data row22 col10\" >115</td>\n",
              "                        <td id=\"T_61a3e5b6_c2c7_11eb_9a15_0242ac1c0002row22_col11\" class=\"data row22 col11\" >159</td>\n",
              "                        <td id=\"T_61a3e5b6_c2c7_11eb_9a15_0242ac1c0002row22_col12\" class=\"data row22 col12\" >240</td>\n",
              "                        <td id=\"T_61a3e5b6_c2c7_11eb_9a15_0242ac1c0002row22_col13\" class=\"data row22 col13\" >253</td>\n",
              "                        <td id=\"T_61a3e5b6_c2c7_11eb_9a15_0242ac1c0002row22_col14\" class=\"data row22 col14\" >253</td>\n",
              "                        <td id=\"T_61a3e5b6_c2c7_11eb_9a15_0242ac1c0002row22_col15\" class=\"data row22 col15\" >250</td>\n",
              "                        <td id=\"T_61a3e5b6_c2c7_11eb_9a15_0242ac1c0002row22_col16\" class=\"data row22 col16\" >175</td>\n",
              "                        <td id=\"T_61a3e5b6_c2c7_11eb_9a15_0242ac1c0002row22_col17\" class=\"data row22 col17\" >25</td>\n",
              "                        <td id=\"T_61a3e5b6_c2c7_11eb_9a15_0242ac1c0002row22_col18\" class=\"data row22 col18\" >0</td>\n",
              "                        <td id=\"T_61a3e5b6_c2c7_11eb_9a15_0242ac1c0002row22_col19\" class=\"data row22 col19\" >0</td>\n",
              "                        <td id=\"T_61a3e5b6_c2c7_11eb_9a15_0242ac1c0002row22_col20\" class=\"data row22 col20\" >0</td>\n",
              "                        <td id=\"T_61a3e5b6_c2c7_11eb_9a15_0242ac1c0002row22_col21\" class=\"data row22 col21\" >0</td>\n",
              "                        <td id=\"T_61a3e5b6_c2c7_11eb_9a15_0242ac1c0002row22_col22\" class=\"data row22 col22\" >0</td>\n",
              "                        <td id=\"T_61a3e5b6_c2c7_11eb_9a15_0242ac1c0002row22_col23\" class=\"data row22 col23\" >0</td>\n",
              "                        <td id=\"T_61a3e5b6_c2c7_11eb_9a15_0242ac1c0002row22_col24\" class=\"data row22 col24\" >0</td>\n",
              "                        <td id=\"T_61a3e5b6_c2c7_11eb_9a15_0242ac1c0002row22_col25\" class=\"data row22 col25\" >0</td>\n",
              "                        <td id=\"T_61a3e5b6_c2c7_11eb_9a15_0242ac1c0002row22_col26\" class=\"data row22 col26\" >0</td>\n",
              "                        <td id=\"T_61a3e5b6_c2c7_11eb_9a15_0242ac1c0002row22_col27\" class=\"data row22 col27\" >0</td>\n",
              "            </tr>\n",
              "            <tr>\n",
              "                        <th id=\"T_61a3e5b6_c2c7_11eb_9a15_0242ac1c0002level0_row23\" class=\"row_heading level0 row23\" >23</th>\n",
              "                        <td id=\"T_61a3e5b6_c2c7_11eb_9a15_0242ac1c0002row23_col0\" class=\"data row23 col0\" >0</td>\n",
              "                        <td id=\"T_61a3e5b6_c2c7_11eb_9a15_0242ac1c0002row23_col1\" class=\"data row23 col1\" >0</td>\n",
              "                        <td id=\"T_61a3e5b6_c2c7_11eb_9a15_0242ac1c0002row23_col2\" class=\"data row23 col2\" >0</td>\n",
              "                        <td id=\"T_61a3e5b6_c2c7_11eb_9a15_0242ac1c0002row23_col3\" class=\"data row23 col3\" >0</td>\n",
              "                        <td id=\"T_61a3e5b6_c2c7_11eb_9a15_0242ac1c0002row23_col4\" class=\"data row23 col4\" >0</td>\n",
              "                        <td id=\"T_61a3e5b6_c2c7_11eb_9a15_0242ac1c0002row23_col5\" class=\"data row23 col5\" >0</td>\n",
              "                        <td id=\"T_61a3e5b6_c2c7_11eb_9a15_0242ac1c0002row23_col6\" class=\"data row23 col6\" >187</td>\n",
              "                        <td id=\"T_61a3e5b6_c2c7_11eb_9a15_0242ac1c0002row23_col7\" class=\"data row23 col7\" >253</td>\n",
              "                        <td id=\"T_61a3e5b6_c2c7_11eb_9a15_0242ac1c0002row23_col8\" class=\"data row23 col8\" >253</td>\n",
              "                        <td id=\"T_61a3e5b6_c2c7_11eb_9a15_0242ac1c0002row23_col9\" class=\"data row23 col9\" >253</td>\n",
              "                        <td id=\"T_61a3e5b6_c2c7_11eb_9a15_0242ac1c0002row23_col10\" class=\"data row23 col10\" >253</td>\n",
              "                        <td id=\"T_61a3e5b6_c2c7_11eb_9a15_0242ac1c0002row23_col11\" class=\"data row23 col11\" >253</td>\n",
              "                        <td id=\"T_61a3e5b6_c2c7_11eb_9a15_0242ac1c0002row23_col12\" class=\"data row23 col12\" >253</td>\n",
              "                        <td id=\"T_61a3e5b6_c2c7_11eb_9a15_0242ac1c0002row23_col13\" class=\"data row23 col13\" >253</td>\n",
              "                        <td id=\"T_61a3e5b6_c2c7_11eb_9a15_0242ac1c0002row23_col14\" class=\"data row23 col14\" >197</td>\n",
              "                        <td id=\"T_61a3e5b6_c2c7_11eb_9a15_0242ac1c0002row23_col15\" class=\"data row23 col15\" >86</td>\n",
              "                        <td id=\"T_61a3e5b6_c2c7_11eb_9a15_0242ac1c0002row23_col16\" class=\"data row23 col16\" >0</td>\n",
              "                        <td id=\"T_61a3e5b6_c2c7_11eb_9a15_0242ac1c0002row23_col17\" class=\"data row23 col17\" >0</td>\n",
              "                        <td id=\"T_61a3e5b6_c2c7_11eb_9a15_0242ac1c0002row23_col18\" class=\"data row23 col18\" >0</td>\n",
              "                        <td id=\"T_61a3e5b6_c2c7_11eb_9a15_0242ac1c0002row23_col19\" class=\"data row23 col19\" >0</td>\n",
              "                        <td id=\"T_61a3e5b6_c2c7_11eb_9a15_0242ac1c0002row23_col20\" class=\"data row23 col20\" >0</td>\n",
              "                        <td id=\"T_61a3e5b6_c2c7_11eb_9a15_0242ac1c0002row23_col21\" class=\"data row23 col21\" >0</td>\n",
              "                        <td id=\"T_61a3e5b6_c2c7_11eb_9a15_0242ac1c0002row23_col22\" class=\"data row23 col22\" >0</td>\n",
              "                        <td id=\"T_61a3e5b6_c2c7_11eb_9a15_0242ac1c0002row23_col23\" class=\"data row23 col23\" >0</td>\n",
              "                        <td id=\"T_61a3e5b6_c2c7_11eb_9a15_0242ac1c0002row23_col24\" class=\"data row23 col24\" >0</td>\n",
              "                        <td id=\"T_61a3e5b6_c2c7_11eb_9a15_0242ac1c0002row23_col25\" class=\"data row23 col25\" >0</td>\n",
              "                        <td id=\"T_61a3e5b6_c2c7_11eb_9a15_0242ac1c0002row23_col26\" class=\"data row23 col26\" >0</td>\n",
              "                        <td id=\"T_61a3e5b6_c2c7_11eb_9a15_0242ac1c0002row23_col27\" class=\"data row23 col27\" >0</td>\n",
              "            </tr>\n",
              "            <tr>\n",
              "                        <th id=\"T_61a3e5b6_c2c7_11eb_9a15_0242ac1c0002level0_row24\" class=\"row_heading level0 row24\" >24</th>\n",
              "                        <td id=\"T_61a3e5b6_c2c7_11eb_9a15_0242ac1c0002row24_col0\" class=\"data row24 col0\" >0</td>\n",
              "                        <td id=\"T_61a3e5b6_c2c7_11eb_9a15_0242ac1c0002row24_col1\" class=\"data row24 col1\" >0</td>\n",
              "                        <td id=\"T_61a3e5b6_c2c7_11eb_9a15_0242ac1c0002row24_col2\" class=\"data row24 col2\" >0</td>\n",
              "                        <td id=\"T_61a3e5b6_c2c7_11eb_9a15_0242ac1c0002row24_col3\" class=\"data row24 col3\" >0</td>\n",
              "                        <td id=\"T_61a3e5b6_c2c7_11eb_9a15_0242ac1c0002row24_col4\" class=\"data row24 col4\" >0</td>\n",
              "                        <td id=\"T_61a3e5b6_c2c7_11eb_9a15_0242ac1c0002row24_col5\" class=\"data row24 col5\" >0</td>\n",
              "                        <td id=\"T_61a3e5b6_c2c7_11eb_9a15_0242ac1c0002row24_col6\" class=\"data row24 col6\" >103</td>\n",
              "                        <td id=\"T_61a3e5b6_c2c7_11eb_9a15_0242ac1c0002row24_col7\" class=\"data row24 col7\" >253</td>\n",
              "                        <td id=\"T_61a3e5b6_c2c7_11eb_9a15_0242ac1c0002row24_col8\" class=\"data row24 col8\" >253</td>\n",
              "                        <td id=\"T_61a3e5b6_c2c7_11eb_9a15_0242ac1c0002row24_col9\" class=\"data row24 col9\" >253</td>\n",
              "                        <td id=\"T_61a3e5b6_c2c7_11eb_9a15_0242ac1c0002row24_col10\" class=\"data row24 col10\" >253</td>\n",
              "                        <td id=\"T_61a3e5b6_c2c7_11eb_9a15_0242ac1c0002row24_col11\" class=\"data row24 col11\" >253</td>\n",
              "                        <td id=\"T_61a3e5b6_c2c7_11eb_9a15_0242ac1c0002row24_col12\" class=\"data row24 col12\" >232</td>\n",
              "                        <td id=\"T_61a3e5b6_c2c7_11eb_9a15_0242ac1c0002row24_col13\" class=\"data row24 col13\" >67</td>\n",
              "                        <td id=\"T_61a3e5b6_c2c7_11eb_9a15_0242ac1c0002row24_col14\" class=\"data row24 col14\" >1</td>\n",
              "                        <td id=\"T_61a3e5b6_c2c7_11eb_9a15_0242ac1c0002row24_col15\" class=\"data row24 col15\" >0</td>\n",
              "                        <td id=\"T_61a3e5b6_c2c7_11eb_9a15_0242ac1c0002row24_col16\" class=\"data row24 col16\" >0</td>\n",
              "                        <td id=\"T_61a3e5b6_c2c7_11eb_9a15_0242ac1c0002row24_col17\" class=\"data row24 col17\" >0</td>\n",
              "                        <td id=\"T_61a3e5b6_c2c7_11eb_9a15_0242ac1c0002row24_col18\" class=\"data row24 col18\" >0</td>\n",
              "                        <td id=\"T_61a3e5b6_c2c7_11eb_9a15_0242ac1c0002row24_col19\" class=\"data row24 col19\" >0</td>\n",
              "                        <td id=\"T_61a3e5b6_c2c7_11eb_9a15_0242ac1c0002row24_col20\" class=\"data row24 col20\" >0</td>\n",
              "                        <td id=\"T_61a3e5b6_c2c7_11eb_9a15_0242ac1c0002row24_col21\" class=\"data row24 col21\" >0</td>\n",
              "                        <td id=\"T_61a3e5b6_c2c7_11eb_9a15_0242ac1c0002row24_col22\" class=\"data row24 col22\" >0</td>\n",
              "                        <td id=\"T_61a3e5b6_c2c7_11eb_9a15_0242ac1c0002row24_col23\" class=\"data row24 col23\" >0</td>\n",
              "                        <td id=\"T_61a3e5b6_c2c7_11eb_9a15_0242ac1c0002row24_col24\" class=\"data row24 col24\" >0</td>\n",
              "                        <td id=\"T_61a3e5b6_c2c7_11eb_9a15_0242ac1c0002row24_col25\" class=\"data row24 col25\" >0</td>\n",
              "                        <td id=\"T_61a3e5b6_c2c7_11eb_9a15_0242ac1c0002row24_col26\" class=\"data row24 col26\" >0</td>\n",
              "                        <td id=\"T_61a3e5b6_c2c7_11eb_9a15_0242ac1c0002row24_col27\" class=\"data row24 col27\" >0</td>\n",
              "            </tr>\n",
              "            <tr>\n",
              "                        <th id=\"T_61a3e5b6_c2c7_11eb_9a15_0242ac1c0002level0_row25\" class=\"row_heading level0 row25\" >25</th>\n",
              "                        <td id=\"T_61a3e5b6_c2c7_11eb_9a15_0242ac1c0002row25_col0\" class=\"data row25 col0\" >0</td>\n",
              "                        <td id=\"T_61a3e5b6_c2c7_11eb_9a15_0242ac1c0002row25_col1\" class=\"data row25 col1\" >0</td>\n",
              "                        <td id=\"T_61a3e5b6_c2c7_11eb_9a15_0242ac1c0002row25_col2\" class=\"data row25 col2\" >0</td>\n",
              "                        <td id=\"T_61a3e5b6_c2c7_11eb_9a15_0242ac1c0002row25_col3\" class=\"data row25 col3\" >0</td>\n",
              "                        <td id=\"T_61a3e5b6_c2c7_11eb_9a15_0242ac1c0002row25_col4\" class=\"data row25 col4\" >0</td>\n",
              "                        <td id=\"T_61a3e5b6_c2c7_11eb_9a15_0242ac1c0002row25_col5\" class=\"data row25 col5\" >0</td>\n",
              "                        <td id=\"T_61a3e5b6_c2c7_11eb_9a15_0242ac1c0002row25_col6\" class=\"data row25 col6\" >0</td>\n",
              "                        <td id=\"T_61a3e5b6_c2c7_11eb_9a15_0242ac1c0002row25_col7\" class=\"data row25 col7\" >0</td>\n",
              "                        <td id=\"T_61a3e5b6_c2c7_11eb_9a15_0242ac1c0002row25_col8\" class=\"data row25 col8\" >0</td>\n",
              "                        <td id=\"T_61a3e5b6_c2c7_11eb_9a15_0242ac1c0002row25_col9\" class=\"data row25 col9\" >0</td>\n",
              "                        <td id=\"T_61a3e5b6_c2c7_11eb_9a15_0242ac1c0002row25_col10\" class=\"data row25 col10\" >0</td>\n",
              "                        <td id=\"T_61a3e5b6_c2c7_11eb_9a15_0242ac1c0002row25_col11\" class=\"data row25 col11\" >0</td>\n",
              "                        <td id=\"T_61a3e5b6_c2c7_11eb_9a15_0242ac1c0002row25_col12\" class=\"data row25 col12\" >0</td>\n",
              "                        <td id=\"T_61a3e5b6_c2c7_11eb_9a15_0242ac1c0002row25_col13\" class=\"data row25 col13\" >0</td>\n",
              "                        <td id=\"T_61a3e5b6_c2c7_11eb_9a15_0242ac1c0002row25_col14\" class=\"data row25 col14\" >0</td>\n",
              "                        <td id=\"T_61a3e5b6_c2c7_11eb_9a15_0242ac1c0002row25_col15\" class=\"data row25 col15\" >0</td>\n",
              "                        <td id=\"T_61a3e5b6_c2c7_11eb_9a15_0242ac1c0002row25_col16\" class=\"data row25 col16\" >0</td>\n",
              "                        <td id=\"T_61a3e5b6_c2c7_11eb_9a15_0242ac1c0002row25_col17\" class=\"data row25 col17\" >0</td>\n",
              "                        <td id=\"T_61a3e5b6_c2c7_11eb_9a15_0242ac1c0002row25_col18\" class=\"data row25 col18\" >0</td>\n",
              "                        <td id=\"T_61a3e5b6_c2c7_11eb_9a15_0242ac1c0002row25_col19\" class=\"data row25 col19\" >0</td>\n",
              "                        <td id=\"T_61a3e5b6_c2c7_11eb_9a15_0242ac1c0002row25_col20\" class=\"data row25 col20\" >0</td>\n",
              "                        <td id=\"T_61a3e5b6_c2c7_11eb_9a15_0242ac1c0002row25_col21\" class=\"data row25 col21\" >0</td>\n",
              "                        <td id=\"T_61a3e5b6_c2c7_11eb_9a15_0242ac1c0002row25_col22\" class=\"data row25 col22\" >0</td>\n",
              "                        <td id=\"T_61a3e5b6_c2c7_11eb_9a15_0242ac1c0002row25_col23\" class=\"data row25 col23\" >0</td>\n",
              "                        <td id=\"T_61a3e5b6_c2c7_11eb_9a15_0242ac1c0002row25_col24\" class=\"data row25 col24\" >0</td>\n",
              "                        <td id=\"T_61a3e5b6_c2c7_11eb_9a15_0242ac1c0002row25_col25\" class=\"data row25 col25\" >0</td>\n",
              "                        <td id=\"T_61a3e5b6_c2c7_11eb_9a15_0242ac1c0002row25_col26\" class=\"data row25 col26\" >0</td>\n",
              "                        <td id=\"T_61a3e5b6_c2c7_11eb_9a15_0242ac1c0002row25_col27\" class=\"data row25 col27\" >0</td>\n",
              "            </tr>\n",
              "            <tr>\n",
              "                        <th id=\"T_61a3e5b6_c2c7_11eb_9a15_0242ac1c0002level0_row26\" class=\"row_heading level0 row26\" >26</th>\n",
              "                        <td id=\"T_61a3e5b6_c2c7_11eb_9a15_0242ac1c0002row26_col0\" class=\"data row26 col0\" >0</td>\n",
              "                        <td id=\"T_61a3e5b6_c2c7_11eb_9a15_0242ac1c0002row26_col1\" class=\"data row26 col1\" >0</td>\n",
              "                        <td id=\"T_61a3e5b6_c2c7_11eb_9a15_0242ac1c0002row26_col2\" class=\"data row26 col2\" >0</td>\n",
              "                        <td id=\"T_61a3e5b6_c2c7_11eb_9a15_0242ac1c0002row26_col3\" class=\"data row26 col3\" >0</td>\n",
              "                        <td id=\"T_61a3e5b6_c2c7_11eb_9a15_0242ac1c0002row26_col4\" class=\"data row26 col4\" >0</td>\n",
              "                        <td id=\"T_61a3e5b6_c2c7_11eb_9a15_0242ac1c0002row26_col5\" class=\"data row26 col5\" >0</td>\n",
              "                        <td id=\"T_61a3e5b6_c2c7_11eb_9a15_0242ac1c0002row26_col6\" class=\"data row26 col6\" >0</td>\n",
              "                        <td id=\"T_61a3e5b6_c2c7_11eb_9a15_0242ac1c0002row26_col7\" class=\"data row26 col7\" >0</td>\n",
              "                        <td id=\"T_61a3e5b6_c2c7_11eb_9a15_0242ac1c0002row26_col8\" class=\"data row26 col8\" >0</td>\n",
              "                        <td id=\"T_61a3e5b6_c2c7_11eb_9a15_0242ac1c0002row26_col9\" class=\"data row26 col9\" >0</td>\n",
              "                        <td id=\"T_61a3e5b6_c2c7_11eb_9a15_0242ac1c0002row26_col10\" class=\"data row26 col10\" >0</td>\n",
              "                        <td id=\"T_61a3e5b6_c2c7_11eb_9a15_0242ac1c0002row26_col11\" class=\"data row26 col11\" >0</td>\n",
              "                        <td id=\"T_61a3e5b6_c2c7_11eb_9a15_0242ac1c0002row26_col12\" class=\"data row26 col12\" >0</td>\n",
              "                        <td id=\"T_61a3e5b6_c2c7_11eb_9a15_0242ac1c0002row26_col13\" class=\"data row26 col13\" >0</td>\n",
              "                        <td id=\"T_61a3e5b6_c2c7_11eb_9a15_0242ac1c0002row26_col14\" class=\"data row26 col14\" >0</td>\n",
              "                        <td id=\"T_61a3e5b6_c2c7_11eb_9a15_0242ac1c0002row26_col15\" class=\"data row26 col15\" >0</td>\n",
              "                        <td id=\"T_61a3e5b6_c2c7_11eb_9a15_0242ac1c0002row26_col16\" class=\"data row26 col16\" >0</td>\n",
              "                        <td id=\"T_61a3e5b6_c2c7_11eb_9a15_0242ac1c0002row26_col17\" class=\"data row26 col17\" >0</td>\n",
              "                        <td id=\"T_61a3e5b6_c2c7_11eb_9a15_0242ac1c0002row26_col18\" class=\"data row26 col18\" >0</td>\n",
              "                        <td id=\"T_61a3e5b6_c2c7_11eb_9a15_0242ac1c0002row26_col19\" class=\"data row26 col19\" >0</td>\n",
              "                        <td id=\"T_61a3e5b6_c2c7_11eb_9a15_0242ac1c0002row26_col20\" class=\"data row26 col20\" >0</td>\n",
              "                        <td id=\"T_61a3e5b6_c2c7_11eb_9a15_0242ac1c0002row26_col21\" class=\"data row26 col21\" >0</td>\n",
              "                        <td id=\"T_61a3e5b6_c2c7_11eb_9a15_0242ac1c0002row26_col22\" class=\"data row26 col22\" >0</td>\n",
              "                        <td id=\"T_61a3e5b6_c2c7_11eb_9a15_0242ac1c0002row26_col23\" class=\"data row26 col23\" >0</td>\n",
              "                        <td id=\"T_61a3e5b6_c2c7_11eb_9a15_0242ac1c0002row26_col24\" class=\"data row26 col24\" >0</td>\n",
              "                        <td id=\"T_61a3e5b6_c2c7_11eb_9a15_0242ac1c0002row26_col25\" class=\"data row26 col25\" >0</td>\n",
              "                        <td id=\"T_61a3e5b6_c2c7_11eb_9a15_0242ac1c0002row26_col26\" class=\"data row26 col26\" >0</td>\n",
              "                        <td id=\"T_61a3e5b6_c2c7_11eb_9a15_0242ac1c0002row26_col27\" class=\"data row26 col27\" >0</td>\n",
              "            </tr>\n",
              "            <tr>\n",
              "                        <th id=\"T_61a3e5b6_c2c7_11eb_9a15_0242ac1c0002level0_row27\" class=\"row_heading level0 row27\" >27</th>\n",
              "                        <td id=\"T_61a3e5b6_c2c7_11eb_9a15_0242ac1c0002row27_col0\" class=\"data row27 col0\" >0</td>\n",
              "                        <td id=\"T_61a3e5b6_c2c7_11eb_9a15_0242ac1c0002row27_col1\" class=\"data row27 col1\" >0</td>\n",
              "                        <td id=\"T_61a3e5b6_c2c7_11eb_9a15_0242ac1c0002row27_col2\" class=\"data row27 col2\" >0</td>\n",
              "                        <td id=\"T_61a3e5b6_c2c7_11eb_9a15_0242ac1c0002row27_col3\" class=\"data row27 col3\" >0</td>\n",
              "                        <td id=\"T_61a3e5b6_c2c7_11eb_9a15_0242ac1c0002row27_col4\" class=\"data row27 col4\" >0</td>\n",
              "                        <td id=\"T_61a3e5b6_c2c7_11eb_9a15_0242ac1c0002row27_col5\" class=\"data row27 col5\" >0</td>\n",
              "                        <td id=\"T_61a3e5b6_c2c7_11eb_9a15_0242ac1c0002row27_col6\" class=\"data row27 col6\" >0</td>\n",
              "                        <td id=\"T_61a3e5b6_c2c7_11eb_9a15_0242ac1c0002row27_col7\" class=\"data row27 col7\" >0</td>\n",
              "                        <td id=\"T_61a3e5b6_c2c7_11eb_9a15_0242ac1c0002row27_col8\" class=\"data row27 col8\" >0</td>\n",
              "                        <td id=\"T_61a3e5b6_c2c7_11eb_9a15_0242ac1c0002row27_col9\" class=\"data row27 col9\" >0</td>\n",
              "                        <td id=\"T_61a3e5b6_c2c7_11eb_9a15_0242ac1c0002row27_col10\" class=\"data row27 col10\" >0</td>\n",
              "                        <td id=\"T_61a3e5b6_c2c7_11eb_9a15_0242ac1c0002row27_col11\" class=\"data row27 col11\" >0</td>\n",
              "                        <td id=\"T_61a3e5b6_c2c7_11eb_9a15_0242ac1c0002row27_col12\" class=\"data row27 col12\" >0</td>\n",
              "                        <td id=\"T_61a3e5b6_c2c7_11eb_9a15_0242ac1c0002row27_col13\" class=\"data row27 col13\" >0</td>\n",
              "                        <td id=\"T_61a3e5b6_c2c7_11eb_9a15_0242ac1c0002row27_col14\" class=\"data row27 col14\" >0</td>\n",
              "                        <td id=\"T_61a3e5b6_c2c7_11eb_9a15_0242ac1c0002row27_col15\" class=\"data row27 col15\" >0</td>\n",
              "                        <td id=\"T_61a3e5b6_c2c7_11eb_9a15_0242ac1c0002row27_col16\" class=\"data row27 col16\" >0</td>\n",
              "                        <td id=\"T_61a3e5b6_c2c7_11eb_9a15_0242ac1c0002row27_col17\" class=\"data row27 col17\" >0</td>\n",
              "                        <td id=\"T_61a3e5b6_c2c7_11eb_9a15_0242ac1c0002row27_col18\" class=\"data row27 col18\" >0</td>\n",
              "                        <td id=\"T_61a3e5b6_c2c7_11eb_9a15_0242ac1c0002row27_col19\" class=\"data row27 col19\" >0</td>\n",
              "                        <td id=\"T_61a3e5b6_c2c7_11eb_9a15_0242ac1c0002row27_col20\" class=\"data row27 col20\" >0</td>\n",
              "                        <td id=\"T_61a3e5b6_c2c7_11eb_9a15_0242ac1c0002row27_col21\" class=\"data row27 col21\" >0</td>\n",
              "                        <td id=\"T_61a3e5b6_c2c7_11eb_9a15_0242ac1c0002row27_col22\" class=\"data row27 col22\" >0</td>\n",
              "                        <td id=\"T_61a3e5b6_c2c7_11eb_9a15_0242ac1c0002row27_col23\" class=\"data row27 col23\" >0</td>\n",
              "                        <td id=\"T_61a3e5b6_c2c7_11eb_9a15_0242ac1c0002row27_col24\" class=\"data row27 col24\" >0</td>\n",
              "                        <td id=\"T_61a3e5b6_c2c7_11eb_9a15_0242ac1c0002row27_col25\" class=\"data row27 col25\" >0</td>\n",
              "                        <td id=\"T_61a3e5b6_c2c7_11eb_9a15_0242ac1c0002row27_col26\" class=\"data row27 col26\" >0</td>\n",
              "                        <td id=\"T_61a3e5b6_c2c7_11eb_9a15_0242ac1c0002row27_col27\" class=\"data row27 col27\" >0</td>\n",
              "            </tr>\n",
              "    </tbody></table>"
            ],
            "text/plain": [
              "<pandas.io.formats.style.Styler at 0x7f21d56cae50>"
            ]
          },
          "metadata": {
            "tags": []
          },
          "execution_count": 408
        }
      ]
    },
    {
      "cell_type": "markdown",
      "metadata": {
        "id": "zijOg6eYQWHY"
      },
      "source": [
        "### **Pixel Similarity Model**"
      ]
    },
    {
      "cell_type": "markdown",
      "metadata": {
        "id": "YkDDkUFHE-y0"
      },
      "source": [
        "Let's try to find the average pixel value for images of 3's and do the same for 7's then we will have 2 groups of averages that we can then compare the averages of the pixel values of new unseen images to, in order to predict whether the images are 3's or 7's.\n",
        "\n",
        "Step one for our simple model is to get the average of pixel values for each of our two groups:\n",
        "\n",
        "*   Create a tensor containing all of our 3s & 7s stacked  together using Python list comprehension:\n"
      ]
    },
    {
      "cell_type": "code",
      "metadata": {
        "colab": {
          "base_uri": "https://localhost:8080/"
        },
        "id": "xPDWgdSFRsu3",
        "outputId": "31c4d4da-c351-4bd8-c36a-b1fad1ffe6d8"
      },
      "source": [
        "seven_tensors = [tensor(Image.open(o)) for o in sevens]\n",
        "three_tensors = [tensor(Image.open(o)) for o in threes]\n",
        "len(three_tensors), len(seven_tensors)"
      ],
      "execution_count": 409,
      "outputs": [
        {
          "output_type": "execute_result",
          "data": {
            "text/plain": [
              "(6131, 6265)"
            ]
          },
          "metadata": {
            "tags": []
          },
          "execution_count": 409
        }
      ]
    },
    {
      "cell_type": "markdown",
      "metadata": {
        "id": "LUHb1n6E6JAY"
      },
      "source": [
        "\n",
        "*Note on list comprehension: They take the following form `new_list = [f(o) for o in a_list if o > 0]`. This will return every element of `a_list` that is greater than 0, after passing it to the funtion `f`. There are 3 parts: the collection we are iterating over `(a_list)`, an optional filter `(if o > 0]`, and something to do with each element `f(o)`.*"
      ]
    },
    {
      "cell_type": "markdown",
      "metadata": {
        "id": "XreMBLdUFAKr"
      },
      "source": [
        "Check to see what one of the images looks like by displaying it with the `show_image` function:"
      ]
    },
    {
      "cell_type": "code",
      "metadata": {
        "colab": {
          "base_uri": "https://localhost:8080/",
          "height": 85
        },
        "id": "90i-4bECVeQ5",
        "outputId": "84a243f1-052a-46c7-d3e3-0de507fc8442"
      },
      "source": [
        "show_image(three_tensors[1]);"
      ],
      "execution_count": 410,
      "outputs": [
        {
          "output_type": "display_data",
          "data": {
            "image/png": "[encoded data removed]",
            "text/plain": [
              "<Figure size 72x72 with 1 Axes>"
            ]
          },
          "metadata": {
            "tags": [],
            "needs_background": "light"
          }
        }
      ]
    },
    {
      "cell_type": "markdown",
      "metadata": {
        "id": "kTxAQ7YjVer6"
      },
      "source": [
        "Display the shape of the tensor (it's a 28x28 image):"
      ]
    },
    {
      "cell_type": "code",
      "metadata": {
        "colab": {
          "base_uri": "https://localhost:8080/"
        },
        "id": "3y_sO1lLVfD9",
        "outputId": "cc42e907-5ef5-4a3f-8282-fbdf7167ec3d"
      },
      "source": [
        "three_tensors[1].shape"
      ],
      "execution_count": 411,
      "outputs": [
        {
          "output_type": "execute_result",
          "data": {
            "text/plain": [
              "torch.Size([28, 28])"
            ]
          },
          "metadata": {
            "tags": []
          },
          "execution_count": 411
        }
      ]
    },
    {
      "cell_type": "markdown",
      "metadata": {
        "id": "_4vvbHDzVfp9"
      },
      "source": [
        "Check the type of our list comprehension creation and as expected they are lists:"
      ]
    },
    {
      "cell_type": "code",
      "metadata": {
        "colab": {
          "base_uri": "https://localhost:8080/"
        },
        "id": "g0qA3HPDVgB7",
        "outputId": "a449d107-6089-4fe0-ad4b-0ba2086ad19e"
      },
      "source": [
        "type(three_tensors)"
      ],
      "execution_count": 412,
      "outputs": [
        {
          "output_type": "execute_result",
          "data": {
            "text/plain": [
              "list"
            ]
          },
          "metadata": {
            "tags": []
          },
          "execution_count": 412
        }
      ]
    },
    {
      "cell_type": "markdown",
      "metadata": {
        "id": "aOM5KZPVVgef"
      },
      "source": [
        "In order to perform computational operations on our collection of images for our mean pixel based classifier we need to turn our list of sevens and threes into corresponing three-dimensional tensors a.k.a rank-3-tensors. \n",
        "\n",
        "We can do this by stacking up individual tensors in a collection into a single tensor by using the PyTorch function called `stack`. "
      ]
    },
    {
      "cell_type": "code",
      "metadata": {
        "colab": {
          "base_uri": "https://localhost:8080/"
        },
        "id": "cgfMY7vYVg4P",
        "outputId": "100cde1f-dd83-479b-e93e-7a51ac2e87c5"
      },
      "source": [
        "stacked_sevens = torch.stack(seven_tensors).float()/255\n",
        "stacked_threes = torch.stack(three_tensors).float()/255\n",
        "stacked_threes.shape"
      ],
      "execution_count": 413,
      "outputs": [
        {
          "output_type": "execute_result",
          "data": {
            "text/plain": [
              "torch.Size([6131, 28, 28])"
            ]
          },
          "metadata": {
            "tags": []
          },
          "execution_count": 413
        }
      ]
    },
    {
      "cell_type": "markdown",
      "metadata": {
        "id": "LmcbU9nBWAIg"
      },
      "source": [
        "The length of a tensor's shape is its rank."
      ]
    },
    {
      "cell_type": "code",
      "metadata": {
        "colab": {
          "base_uri": "https://localhost:8080/"
        },
        "id": "XULM4smTWAgh",
        "outputId": "a7d91df2-3178-44ec-a2cd-4c1dbe06d479"
      },
      "source": [
        "len(stacked_threes.shape)"
      ],
      "execution_count": 414,
      "outputs": [
        {
          "output_type": "execute_result",
          "data": {
            "text/plain": [
              "3"
            ]
          },
          "metadata": {
            "tags": []
          },
          "execution_count": 414
        }
      ]
    },
    {
      "cell_type": "markdown",
      "metadata": {
        "id": "Ghh2le6iWBCI"
      },
      "source": [
        "Rank is also the number of dimensions"
      ]
    },
    {
      "cell_type": "code",
      "metadata": {
        "colab": {
          "base_uri": "https://localhost:8080/"
        },
        "id": "b8BlysM0WBmf",
        "outputId": "1662e4eb-e569-496d-cace-8a44629c31e7"
      },
      "source": [
        "stacked_threes.ndim"
      ],
      "execution_count": 415,
      "outputs": [
        {
          "output_type": "execute_result",
          "data": {
            "text/plain": [
              "3"
            ]
          },
          "metadata": {
            "tags": []
          },
          "execution_count": 415
        }
      ]
    },
    {
      "cell_type": "markdown",
      "metadata": {
        "id": "2n8gGYfscJD-"
      },
      "source": [
        "*Note:* Member that rank is the number of axes or dimensions of a tensor; shape is a list containing the size of each axis of a tensor.\n",
        "\n",
        "\"A: Watch out because the term \"dimension\" is sometimes used in two ways. Consider that we live in \"three-dimensonal space\" where a physical position can be described by a 3-vector v. But according to PyTorch, the attribute v.ndim (which sure looks like the \"number of dimensions\" of v) equals one, not three! Why? Because v is a vector, which is a tensor of rank one, meaning that it has only one axis (even if that axis has a length of three). \n",
        "\n",
        "In other words, sometimes dimension is used for the size of an axis (\"space is three-dimensional (axis has length of 3)\"; other times, it is used for the rank, or the number of axes (\"a matrix has two dimensions (columns)\").When confused, I find it helpful to translate all statements into terms of rank, axis, and length, which are unambiguous terms.\"\n"
      ]
    },
    {
      "cell_type": "markdown",
      "metadata": {
        "id": "tI3gZbdQb7CN"
      },
      "source": [
        "Next we need to calculate what the average 3 and 7 looks like that we will be using for comparision. We do this by passing the 1st axis of our tensor to the `mean()` function, which is the axis/dimension that indexes over all the images. A.K.A for every pixel position, we will compute the average of that pixel over all of our images (so the average value of pixel 512 over all 6131 images of threes). The result will be one value for every pixel position, or a single image:\n"
      ]
    },
    {
      "cell_type": "code",
      "metadata": {
        "colab": {
          "base_uri": "https://localhost:8080/"
        },
        "id": "Bkqbtuypbkpn",
        "outputId": "41d959d6-6385-4c0d-f67e-4fa730904909"
      },
      "source": [
        "mean3 = stacked_threes.mean(0)\n",
        "mean7 = stacked_sevens.mean(0)\n",
        "mean3.shape, mean7.shape, mean3.ndim"
      ],
      "execution_count": 416,
      "outputs": [
        {
          "output_type": "execute_result",
          "data": {
            "text/plain": [
              "(torch.Size([28, 28]), torch.Size([28, 28]), 2)"
            ]
          },
          "metadata": {
            "tags": []
          },
          "execution_count": 416
        }
      ]
    },
    {
      "cell_type": "markdown",
      "metadata": {
        "id": "Jr-cYEAyb8dj"
      },
      "source": [
        "Display our newly created mean images of 3's and 7's:\n"
      ]
    },
    {
      "cell_type": "code",
      "metadata": {
        "colab": {
          "base_uri": "https://localhost:8080/",
          "height": 187
        },
        "id": "ZBfsDzSHb9TQ",
        "outputId": "61b7e274-11d5-4a35-9378-559c6a113d88"
      },
      "source": [
        "show_image(mean3), show_image(mean7)"
      ],
      "execution_count": 417,
      "outputs": [
        {
          "output_type": "execute_result",
          "data": {
            "text/plain": [
              "(<matplotlib.axes._subplots.AxesSubplot at 0x7f21cc5330d0>,\n",
              " <matplotlib.axes._subplots.AxesSubplot at 0x7f21cc540ad0>)"
            ]
          },
          "metadata": {
            "tags": []
          },
          "execution_count": 417
        },
        {
          "output_type": "display_data",
          "data": {
            "image/png": "[encoded data removed]",
            "text/plain": [
              "<Figure size 72x72 with 1 Axes>"
            ]
          },
          "metadata": {
            "tags": [],
            "needs_background": "light"
          }
        },
        {
          "output_type": "display_data",
          "data": {
            "image/png": "[encoded data removed]",
            "text/plain": [
              "<Figure size 72x72 with 1 Axes>"
            ]
          },
          "metadata": {
            "tags": [],
            "needs_background": "light"
          }
        }
      ]
    },
    {
      "cell_type": "markdown",
      "metadata": {
        "id": "kEkLHkK-fWUC"
      },
      "source": [
        "Grab a sample 3 and 7 "
      ]
    },
    {
      "cell_type": "code",
      "metadata": {
        "colab": {
          "base_uri": "https://localhost:8080/",
          "height": 119
        },
        "id": "hgbN7DShc00Q",
        "outputId": "1f68b2ec-23d1-48f7-aa3e-2fd4714cb685"
      },
      "source": [
        "a_3 = stacked_threes[1]\n",
        "a_7 = stacked_sevens[1]\n",
        "show_image(a_3), a_3.shape"
      ],
      "execution_count": 418,
      "outputs": [
        {
          "output_type": "execute_result",
          "data": {
            "text/plain": [
              "(<matplotlib.axes._subplots.AxesSubplot at 0x7f21cc4da110>,\n",
              " torch.Size([28, 28]))"
            ]
          },
          "metadata": {
            "tags": []
          },
          "execution_count": 418
        },
        {
          "output_type": "display_data",
          "data": {
            "image/png": "[encoded data removed]",
            "text/plain": [
              "<Figure size 72x72 with 1 Axes>"
            ]
          },
          "metadata": {
            "tags": [],
            "needs_background": "light"
          }
        }
      ]
    },
    {
      "cell_type": "markdown",
      "metadata": {
        "id": "BVxw2-VJnDve"
      },
      "source": [
        "So one way to calculate how similar a particular image is to our ideal comparision average image would be to take the difference between the image and the two averages. Then the smaller the difference would indicate the more similar the image is to that average and from that we could conclude that it's more likely that image. \n",
        "\n",
        "However, we can't just take the difference as some differences would be negative and some positive which would skew our results. In order to solve this we can take the mean of the absolut value of the differences or the mean of the square the differences then take the square root of that value. Both these approaches would make all the values positive and are known as the l1 norm and l2 or root mean squared error norm, respectively:\n",
        "\n",
        "* \"Intuitively, the difference between L1 norm and mean squared error (MSE) is that the latter will penalize bigger mistakes more heavily than the former (and be more lenient with small mistakes).\"\n",
        "\n",
        "* In mathematics, a norm is a function from a real or complex vector space to the nonnegative real numbers that behaves in certain ways like the distance from the origin in the case of the euclidean norm a.k.a the length of the vector."
      ]
    },
    {
      "cell_type": "code",
      "metadata": {
        "colab": {
          "base_uri": "https://localhost:8080/"
        },
        "id": "WOx_S6LIfbFp",
        "outputId": "ea4eaa67-1476-4341-e8b5-4cf3487c1ebe"
      },
      "source": [
        "dist_3_abs_l1norm = (a_3 - mean3).abs().mean()\n",
        "dist_3_sqr_l2norm = ((a_3 - mean3)**2).mean().sqrt()\n",
        "dist_7_abs_l1norm = (a_3 - mean7).abs().mean()\n",
        "dist_7_sqr_l2norm = ((a_3 - mean7)**2).mean().sqrt()\n",
        "dist_3_abs_l1norm, dist_3_sqr_l2norm, dist_7_abs_l1norm, dist_7_sqr_l2norm "
      ],
      "execution_count": 419,
      "outputs": [
        {
          "output_type": "execute_result",
          "data": {
            "text/plain": [
              "(tensor(0.1114), tensor(0.2021), tensor(0.1586), tensor(0.3021))"
            ]
          },
          "metadata": {
            "tags": []
          },
          "execution_count": 419
        }
      ]
    },
    {
      "cell_type": "markdown",
      "metadata": {
        "id": "Rp_s3FZUowPF"
      },
      "source": [
        "PyTorch provides both these approaches as loss functions found inside `torch.nn.functional`, which PyTorch recommends importing as F (and is available by default under F in fastai):\n"
      ]
    },
    {
      "cell_type": "code",
      "metadata": {
        "colab": {
          "base_uri": "https://localhost:8080/"
        },
        "id": "5cFT-p0ymVGm",
        "outputId": "83a4d845-255b-400d-8fb7-77a4437b7e52"
      },
      "source": [
        "F.l1_loss(a_3.float(), mean3), F.mse_loss(a_3.float(), mean3), F.l1_loss(a_3.float(), mean7), F.mse_loss(a_3.float(), mean7)"
      ],
      "execution_count": 420,
      "outputs": [
        {
          "output_type": "execute_result",
          "data": {
            "text/plain": [
              "(tensor(0.1114), tensor(0.0408), tensor(0.1586), tensor(0.0913))"
            ]
          },
          "metadata": {
            "tags": []
          },
          "execution_count": 420
        }
      ]
    },
    {
      "cell_type": "markdown",
      "metadata": {
        "id": "Rt2zvtLTtvAo"
      },
      "source": [
        "### **Getting Comfortable With Tensor**"
      ]
    },
    {
      "cell_type": "markdown",
      "metadata": {
        "id": "_0Vd3y2zt0wJ"
      },
      "source": [
        "\"NumPy is the most widely used library for scientific and numeric programming in Python. It provides very similar functionality and a very similar API to that provided by PyTorch; however, it does not support using the GPU or calculating gradients, which are both critical for deep learning.\n",
        "\n",
        "A NumPy array is a multidimensional table of data, with all items of the same type. Since that can be any type at all, they can even be arrays of arrays, **with the innermost arrays potentially being different sizes—this is called a \"jagged array.\"** By \"multidimensional table\" we mean, for instance, a list (dimension of one), a table or matrix (dimension of two), a \"table of tables\" or \"cube\" (dimension of three), and so forth. \n",
        "\n",
        "A PyTorch tensor is nearly the same thing as a NumPy array, but with an additional restriction that unlocks some additional capabilities. It's the same in that it, too, is a multidimensional table of data, with all items of the same type. **However, the restriction is that a tensor cannot use just any old type—it has to use a single basic numeric type for all components. For example, a PyTorch tensor cannot be jagged.** It is always a regularly shaped multidimensional rectangular structure.\n",
        "\n",
        "The vast majority of methods and operators supported by NumPy on these structures are also supported by PyTorch, but PyTorch tensors have additional capabilities. One major capability is that these structures can live on the GPU, in which case their computation will be optimized for the GPU and can run much faster (given lots of values to work on). In addition, PyTorch can automatically calculate derivatives of these operations, including combinations of operations. \n",
        "\n",
        "To take advantage of its speed while programming in Python, try to avoid as much as possible writing loops, and replace them by commands that work directly on arrays or tensors.\n",
        "\n",
        "Perhaps the most important new coding skill for a Python programmer to learn is how to effectively use the array/tensor APIs.\""
      ]
    },
    {
      "cell_type": "markdown",
      "metadata": {
        "id": "OU2jaV-rWGBq"
      },
      "source": [
        "To create an array or tensor, pass a list (or list of lists, or list of lists of lists, etc.) to array() or tensor():\n"
      ]
    },
    {
      "cell_type": "code",
      "metadata": {
        "id": "0RiFNH0gpTij"
      },
      "source": [
        "data = [[1,2,3],[4,5,6]]\n",
        "arr = array(data)\n",
        "tns = tensor(data)"
      ],
      "execution_count": 421,
      "outputs": []
    },
    {
      "cell_type": "code",
      "metadata": {
        "colab": {
          "base_uri": "https://localhost:8080/"
        },
        "id": "387404wNwGFz",
        "outputId": "8bc90496-cdd8-4c85-a0d6-8a21e5027f41"
      },
      "source": [
        "arr"
      ],
      "execution_count": 422,
      "outputs": [
        {
          "output_type": "execute_result",
          "data": {
            "text/plain": [
              "array([[1, 2, 3],\n",
              "       [4, 5, 6]])"
            ]
          },
          "metadata": {
            "tags": []
          },
          "execution_count": 422
        }
      ]
    },
    {
      "cell_type": "code",
      "metadata": {
        "colab": {
          "base_uri": "https://localhost:8080/"
        },
        "id": "_q0aCchOwGqi",
        "outputId": "2a5e469f-64b9-4a1f-d98c-4fd498e0a8f8"
      },
      "source": [
        "tns"
      ],
      "execution_count": 423,
      "outputs": [
        {
          "output_type": "execute_result",
          "data": {
            "text/plain": [
              "tensor([[1, 2, 3],\n",
              "        [4, 5, 6]])"
            ]
          },
          "metadata": {
            "tags": []
          },
          "execution_count": 423
        }
      ]
    },
    {
      "cell_type": "markdown",
      "metadata": {
        "id": "JwHGNrAUt1ox"
      },
      "source": [
        "Select second row:"
      ]
    },
    {
      "cell_type": "code",
      "metadata": {
        "colab": {
          "base_uri": "https://localhost:8080/"
        },
        "id": "iIbI1F81Ei_z",
        "outputId": "c062c6af-6956-4472-f19c-101815a1e592"
      },
      "source": [
        "tns.shape, tns.ndim"
      ],
      "execution_count": 424,
      "outputs": [
        {
          "output_type": "execute_result",
          "data": {
            "text/plain": [
              "(torch.Size([2, 3]), 2)"
            ]
          },
          "metadata": {
            "tags": []
          },
          "execution_count": 424
        }
      ]
    },
    {
      "cell_type": "code",
      "metadata": {
        "colab": {
          "base_uri": "https://localhost:8080/"
        },
        "id": "KHgcL6u3t2AX",
        "outputId": "deffb1fd-27a9-43a6-d098-bf5f8582aee7"
      },
      "source": [
        "tns[1]"
      ],
      "execution_count": 425,
      "outputs": [
        {
          "output_type": "execute_result",
          "data": {
            "text/plain": [
              "tensor([4, 5, 6])"
            ]
          },
          "metadata": {
            "tags": []
          },
          "execution_count": 425
        }
      ]
    },
    {
      "cell_type": "markdown",
      "metadata": {
        "id": "0cNIgd51t2cv"
      },
      "source": [
        "Select first row"
      ]
    },
    {
      "cell_type": "code",
      "metadata": {
        "colab": {
          "base_uri": "https://localhost:8080/"
        },
        "id": "tYnvKFJjt2xf",
        "outputId": "edf3e0e8-0e22-4196-efa6-fdfb0980399f"
      },
      "source": [
        "tns[0]"
      ],
      "execution_count": 426,
      "outputs": [
        {
          "output_type": "execute_result",
          "data": {
            "text/plain": [
              "tensor([1, 2, 3])"
            ]
          },
          "metadata": {
            "tags": []
          },
          "execution_count": 426
        }
      ]
    },
    {
      "cell_type": "markdown",
      "metadata": {
        "id": "zIdA08jSt3Pf"
      },
      "source": [
        "Select all rows up to and excluding the 2nd one:"
      ]
    },
    {
      "cell_type": "markdown",
      "metadata": {
        "id": "UdGAb1ayjy1M"
      },
      "source": [
        "Python syntax `start:end`, `end` being excluded"
      ]
    },
    {
      "cell_type": "code",
      "metadata": {
        "colab": {
          "base_uri": "https://localhost:8080/"
        },
        "id": "twhGr9Hwt3tu",
        "outputId": "5196960f-8e82-4e83-8bd4-1b3bd77766fe"
      },
      "source": [
        "tns[:1]"
      ],
      "execution_count": 427,
      "outputs": [
        {
          "output_type": "execute_result",
          "data": {
            "text/plain": [
              "tensor([[1, 2, 3]])"
            ]
          },
          "metadata": {
            "tags": []
          },
          "execution_count": 427
        }
      ]
    },
    {
      "cell_type": "markdown",
      "metadata": {
        "id": "87AARvoJcsOE"
      },
      "source": [
        "Select second row\n"
      ]
    },
    {
      "cell_type": "code",
      "metadata": {
        "colab": {
          "base_uri": "https://localhost:8080/"
        },
        "id": "M4686xjIcswV",
        "outputId": "0e842a5d-b62b-47e3-e9a7-8164e834caf7"
      },
      "source": [
        "tns[1]"
      ],
      "execution_count": 428,
      "outputs": [
        {
          "output_type": "execute_result",
          "data": {
            "text/plain": [
              "tensor([4, 5, 6])"
            ]
          },
          "metadata": {
            "tags": []
          },
          "execution_count": 428
        }
      ]
    },
    {
      "cell_type": "markdown",
      "metadata": {
        "id": "GtXJ-4MWdD6d"
      },
      "source": [
        "Select all rows excluding the 1st one"
      ]
    },
    {
      "cell_type": "code",
      "metadata": {
        "colab": {
          "base_uri": "https://localhost:8080/"
        },
        "id": "n3mUKPpdcw4T",
        "outputId": "e8b26b9d-bb1e-4dba-8454-e809b90e5f6f"
      },
      "source": [
        "tns[-1:]"
      ],
      "execution_count": 429,
      "outputs": [
        {
          "output_type": "execute_result",
          "data": {
            "text/plain": [
              "tensor([[4, 5, 6]])"
            ]
          },
          "metadata": {
            "tags": []
          },
          "execution_count": 429
        }
      ]
    },
    {
      "cell_type": "markdown",
      "metadata": {
        "id": "gvuv4DM2dWkp"
      },
      "source": [
        "Select second column from all rows:"
      ]
    },
    {
      "cell_type": "code",
      "metadata": {
        "colab": {
          "base_uri": "https://localhost:8080/"
        },
        "id": "yNHXqDBNwXdd",
        "outputId": "7fc349d7-23ff-4a31-91b2-ed8952e73014"
      },
      "source": [
        "tns[:,1]"
      ],
      "execution_count": 430,
      "outputs": [
        {
          "output_type": "execute_result",
          "data": {
            "text/plain": [
              "tensor([2, 5])"
            ]
          },
          "metadata": {
            "tags": []
          },
          "execution_count": 430
        }
      ]
    },
    {
      "cell_type": "markdown",
      "metadata": {
        "id": "rQwLgfbzwga9"
      },
      "source": [
        "Select second row start at second column and end at fourth column which will be excluded, since there is no fourth column python will return columns 2 and 3 from the second row:"
      ]
    },
    {
      "cell_type": "code",
      "metadata": {
        "colab": {
          "base_uri": "https://localhost:8080/"
        },
        "id": "aVzzwqbIwcsz",
        "outputId": "811176ca-ea58-41aa-aa06-7692ad1a8884"
      },
      "source": [
        "tns[1,1:3]"
      ],
      "execution_count": 431,
      "outputs": [
        {
          "output_type": "execute_result",
          "data": {
            "text/plain": [
              "tensor([5, 6])"
            ]
          },
          "metadata": {
            "tags": []
          },
          "execution_count": 431
        }
      ]
    },
    {
      "cell_type": "markdown",
      "metadata": {
        "id": "ChIG0xLiwhfC"
      },
      "source": [
        "We can use standard operators on entire tensor:\n"
      ]
    },
    {
      "cell_type": "code",
      "metadata": {
        "colab": {
          "base_uri": "https://localhost:8080/"
        },
        "id": "W0NBiEXVwiEX",
        "outputId": "ee0eb433-1ea1-407c-f614-c91c627c91b5"
      },
      "source": [
        "tns + 10"
      ],
      "execution_count": 432,
      "outputs": [
        {
          "output_type": "execute_result",
          "data": {
            "text/plain": [
              "tensor([[11, 12, 13],\n",
              "        [14, 15, 16]])"
            ]
          },
          "metadata": {
            "tags": []
          },
          "execution_count": 432
        }
      ]
    },
    {
      "cell_type": "markdown",
      "metadata": {
        "id": "-Wwzd4xrw1nQ"
      },
      "source": [
        "Show tensor type as a method `.type()` as opposed to as function `type()`\n"
      ]
    },
    {
      "cell_type": "code",
      "metadata": {
        "colab": {
          "base_uri": "https://localhost:8080/",
          "height": 35
        },
        "id": "VbkWcGvVwoZb",
        "outputId": "7c27eb8a-1be2-44e1-ad6c-06d42623312e"
      },
      "source": [
        "tns.type()"
      ],
      "execution_count": 433,
      "outputs": [
        {
          "output_type": "execute_result",
          "data": {
            "application/vnd.google.colaboratory.intrinsic+json": {
              "type": "string"
            },
            "text/plain": [
              "'torch.LongTensor'"
            ]
          },
          "metadata": {
            "tags": []
          },
          "execution_count": 433
        }
      ]
    },
    {
      "cell_type": "markdown",
      "metadata": {
        "id": "vjZOopc0kYtp"
      },
      "source": [
        "Tensors will automatically change from `int` to `float` if needed:"
      ]
    },
    {
      "cell_type": "code",
      "metadata": {
        "colab": {
          "base_uri": "https://localhost:8080/"
        },
        "id": "Sm-IiOvRkXpE",
        "outputId": "8b35abc1-fd2e-44f3-eba0-17cce6d83f98"
      },
      "source": [
        "tns * 1.5"
      ],
      "execution_count": 434,
      "outputs": [
        {
          "output_type": "execute_result",
          "data": {
            "text/plain": [
              "tensor([[1.5000, 3.0000, 4.5000],\n",
              "        [6.0000, 7.5000, 9.0000]])"
            ]
          },
          "metadata": {
            "tags": []
          },
          "execution_count": 434
        }
      ]
    },
    {
      "cell_type": "markdown",
      "metadata": {
        "id": "I6l7n_5YkZZX"
      },
      "source": [
        "### **Computing metrics using broadcasting**"
      ]
    },
    {
      "cell_type": "markdown",
      "metadata": {
        "id": "2MyC_ykUx08U"
      },
      "source": [
        "We want to calculate our metric over a validation set. This is so that we don't inadvertently overfit This is not really a risk with the pixel similarity model we're using here, since it has no trained components.\n",
        "\n",
        "Create validation set of tensors with 3's and 7's:"
      ]
    },
    {
      "cell_type": "code",
      "metadata": {
        "colab": {
          "base_uri": "https://localhost:8080/"
        },
        "id": "Ar2azAZ-kUgK",
        "outputId": "6a056db5-6bd7-4316-ae26-d5bca7aadf71"
      },
      "source": [
        "valid_threes_tens = torch.stack([tensor(Image.open(o)) for o in (path/'valid/3').ls()]).float()/255\n",
        "valid_sevens_tens = torch.stack([tensor(Image.open(o)) for o in (path/'valid/7').ls()]).float()/255\n",
        "valid_threes_tens.shape, valid_sevens_tens.shape"
      ],
      "execution_count": 435,
      "outputs": [
        {
          "output_type": "execute_result",
          "data": {
            "text/plain": [
              "(torch.Size([1010, 28, 28]), torch.Size([1028, 28, 28]))"
            ]
          },
          "metadata": {
            "tags": []
          },
          "execution_count": 435
        }
      ]
    },
    {
      "cell_type": "markdown",
      "metadata": {
        "id": "Dg17dcLUkW0C"
      },
      "source": [
        "\n",
        "It's good to get in the habit of checking shapes as you go. Here we see two tensors, one representing the 3s validation set of 1,010 images of size 28×28, and one representing the 7s validation set of 1,028 images of size 28×28.\n",
        "\n",
        "Create function that calculates the l1 norm:\n"
      ]
    },
    {
      "cell_type": "markdown",
      "metadata": {
        "id": "3NcRuyPXTOwS"
      },
      "source": [
        "the -1 and -2 just signifies that it should take the mean over the last and second to last axis i.e x over the x, 28, 28 part"
      ]
    },
    {
      "cell_type": "code",
      "metadata": {
        "colab": {
          "base_uri": "https://localhost:8080/"
        },
        "id": "rbJd0xAVAHMw",
        "outputId": "7f4a17e8-88ca-4e7c-a1dc-dc83fa2d5013"
      },
      "source": [
        "def mnist_distance(a,b): return (a - b).abs().mean((-1,-2))\n",
        "mnist_distance(a_3, mean3)"
      ],
      "execution_count": 436,
      "outputs": [
        {
          "output_type": "execute_result",
          "data": {
            "text/plain": [
              "tensor(0.1114)"
            ]
          },
          "metadata": {
            "tags": []
          },
          "execution_count": 436
        }
      ]
    },
    {
      "cell_type": "markdown",
      "metadata": {
        "id": "EkJlXcxSAHj7"
      },
      "source": [
        ""
      ]
    },
    {
      "cell_type": "code",
      "metadata": {
        "colab": {
          "base_uri": "https://localhost:8080/"
        },
        "id": "nyHNZ3K5AH9O",
        "outputId": "f7cd4e3a-757e-495b-a8a3-0318b885db94"
      },
      "source": [
        "valid_3_dist, valid_7_dist = mnist_distance(valid_threes_tens, mean3) , mnist_distance(valid_sevens_tens, mean3)\n",
        "valid_3_dist, valid_7_dist"
      ],
      "execution_count": 437,
      "outputs": [
        {
          "output_type": "execute_result",
          "data": {
            "text/plain": [
              "(tensor([0.1136, 0.1157, 0.1308,  ..., 0.1454, 0.1280, 0.1083]),\n",
              " tensor([0.1535, 0.1385, 0.1469,  ..., 0.1369, 0.1681, 0.1402]))"
            ]
          },
          "metadata": {
            "tags": []
          },
          "execution_count": 437
        }
      ]
    },
    {
      "cell_type": "markdown",
      "metadata": {
        "id": "GL0vxR6XAIfD"
      },
      "source": [
        "When Pytorch tries to perform a simple subtraction operation between two tensors of different ranks it will use broadcasting. That is, it will automatically expand the smaller tensor to have the same rank and size as the larger one. \n",
        "\n",
        "After broadcasting so the two argument tensors have the same rank, PyTorch applies its usual logic for two tensors of the same rank: it performs the operation on each corresponding element of the two tensors, and returns the tensor result. For instance:"
      ]
    },
    {
      "cell_type": "code",
      "metadata": {
        "colab": {
          "base_uri": "https://localhost:8080/"
        },
        "id": "UVzfF7eVAI9a",
        "outputId": "592be910-023d-40b5-a7bd-41bb526f4561"
      },
      "source": [
        "tensor(1,2,3) + tensor(1)"
      ],
      "execution_count": 438,
      "outputs": [
        {
          "output_type": "execute_result",
          "data": {
            "text/plain": [
              "tensor([2, 3, 4])"
            ]
          },
          "metadata": {
            "tags": []
          },
          "execution_count": 438
        }
      ]
    },
    {
      "cell_type": "code",
      "metadata": {
        "colab": {
          "base_uri": "https://localhost:8080/"
        },
        "id": "JGRV0AubYtvW",
        "outputId": "c50300ee-f474-4d01-b2b4-a727a2d35058"
      },
      "source": [
        "test = tensor([[1,2,3],[1,2,3]])\n",
        "len(test.shape), test + tensor(1)"
      ],
      "execution_count": 439,
      "outputs": [
        {
          "output_type": "execute_result",
          "data": {
            "text/plain": [
              "(2, tensor([[2, 3, 4],\n",
              "         [2, 3, 4]]))"
            ]
          },
          "metadata": {
            "tags": []
          },
          "execution_count": 439
        }
      ]
    },
    {
      "cell_type": "markdown",
      "metadata": {
        "id": "cNjDXkI5AJjf"
      },
      "source": [
        "We are calculating the difference between our \"ideal 3\" and each of the 1,010 3s and the 1028 7s in the validation set, for each of 28×28 images, resulting in the shape [1010,28,28] and [1028,28,28] respectively.\n",
        "\n",
        "* PyTorch doesn't actually copy mean3 1,010 times. It pretends it were a tensor of that shape, but doesn't actually allocate any additional memory\n",
        "* It does the whole calculation in C (or, if you're using a GPU, in CUDA, the equivalent of C on the GPU), tens of thousands of times faster than pure Python (up to millions of times faster on a GPU!).\n",
        "* This is true of all broadcasting and elementwise operations and functions done in PyTorch. It's the most important technique for you to know to create efficient PyTorch code.\n",
        "\n",
        "Next in mnist_distance we see abs. You might be able to guess now what this does when applied to a tensor. It applies the method to each individual element in the tensor, and returns a tensor of the results (that is, it applies the method \"elementwise\"). So in this case, we'll get back 1,010 matrices of absolute values.\n",
        "\n",
        "Finally, our function calls mean((-1,-2)). The tuple (-1,-2) represents a range of axes. In Python, -1 refers to the last element, and -2 refers to the second-to-last. So in this case, this tells PyTorch that we want to take the mean ranging over the values indexed by the last two axes of the tensor. The last two axes are the horizontal and vertical dimensions of an image. After taking the mean over the last two axes, we are left with just the first tensor axis, which indexes over our images, which is why our final size was (1010) and (1028). **In other words, for every image, we averaged the intensity of all the pixels in that image.**\n",
        "\n"
      ]
    },
    {
      "cell_type": "code",
      "metadata": {
        "colab": {
          "base_uri": "https://localhost:8080/"
        },
        "id": "RYMgDNMGnj-O",
        "outputId": "6cf08a0e-92cc-4bdf-d5f4-b8fdf2daf340"
      },
      "source": [
        "valid_3_dist.shape, valid_7_dist.shape"
      ],
      "execution_count": 440,
      "outputs": [
        {
          "output_type": "execute_result",
          "data": {
            "text/plain": [
              "(torch.Size([1010]), torch.Size([1028]))"
            ]
          },
          "metadata": {
            "tags": []
          },
          "execution_count": 440
        }
      ]
    },
    {
      "cell_type": "markdown",
      "metadata": {
        "id": "-_3NtXHknkuV"
      },
      "source": [
        "We can use mnist_distance to figure out whether an image is a 3 or not by using the following logic: if the distance between the digit in question and the ideal 3 is less than the distance to the ideal 7, then it's a 3. This function will automatically do broadcasting and be applied elementwise, just like all PyTorch functions and operators:\n"
      ]
    },
    {
      "cell_type": "code",
      "metadata": {
        "id": "4CDjJ45HAKDj"
      },
      "source": [
        "def is_x_3(x): return mnist_distance(x,mean3) < mnist_distance(x, mean7)\n"
      ],
      "execution_count": 441,
      "outputs": []
    },
    {
      "cell_type": "code",
      "metadata": {
        "colab": {
          "base_uri": "https://localhost:8080/"
        },
        "id": "HdL0sCfrXdQa",
        "outputId": "58e9a98a-6709-435b-a3e8-970318c3f509"
      },
      "source": [
        "is_x_3(a_3), is_x_3(a_3).float(), is_x_3(valid_threes_tens), is_x_3(valid_sevens_tens)"
      ],
      "execution_count": 442,
      "outputs": [
        {
          "output_type": "execute_result",
          "data": {
            "text/plain": [
              "(tensor(True),\n",
              " tensor(1.),\n",
              " tensor([True, True, True,  ..., True, True, True]),\n",
              " tensor([False, False, False,  ..., False, False, False]))"
            ]
          },
          "metadata": {
            "tags": []
          },
          "execution_count": 442
        }
      ]
    },
    {
      "cell_type": "markdown",
      "metadata": {
        "id": "gdGma53SAKjA"
      },
      "source": [
        "When we convert the bolean response to `float` we get 1's and 0's"
      ]
    },
    {
      "cell_type": "code",
      "metadata": {
        "colab": {
          "base_uri": "https://localhost:8080/"
        },
        "id": "jElf3VefaRu-",
        "outputId": "fbdf9d49-2668-49cc-8584-dd73cc64b8fb"
      },
      "source": [
        "is_x_3(valid_threes_tens).float(), is_x_3(valid_sevens_tens).float()"
      ],
      "execution_count": 443,
      "outputs": [
        {
          "output_type": "execute_result",
          "data": {
            "text/plain": [
              "(tensor([1., 1., 1.,  ..., 1., 1., 1.]),\n",
              " tensor([0., 0., 0.,  ..., 0., 0., 0.]))"
            ]
          },
          "metadata": {
            "tags": []
          },
          "execution_count": 443
        }
      ]
    },
    {
      "cell_type": "markdown",
      "metadata": {
        "id": "C0HzGmduhcWl"
      },
      "source": [
        "Calculate the accuracy of our model by taking the average of those functions for the validation set of 3s and the inverse of the 7s:"
      ]
    },
    {
      "cell_type": "code",
      "metadata": {
        "colab": {
          "base_uri": "https://localhost:8080/"
        },
        "id": "8rGt2vAsAK6T",
        "outputId": "57e31387-05f7-4108-e4b6-6d1e429e015b"
      },
      "source": [
        "accuracy_3s = is_x_3(valid_threes_tens).float().mean()\n",
        "accuracy_7s = (1 - is_x_3(valid_sevens_tens).float().mean())\n",
        "\n",
        "accuracy_3s, accuracy_7s, (accuracy_3s + accuracy_7s)/2"
      ],
      "execution_count": 444,
      "outputs": [
        {
          "output_type": "execute_result",
          "data": {
            "text/plain": [
              "(tensor(0.9168), tensor(0.9854), tensor(0.9511))"
            ]
          },
          "metadata": {
            "tags": []
          },
          "execution_count": 444
        }
      ]
    },
    {
      "cell_type": "markdown",
      "metadata": {
        "id": "YfjgXyvbALjz"
      },
      "source": [
        "### **Stochastic Gradient Descent (SGD)**"
      ]
    },
    {
      "cell_type": "markdown",
      "metadata": {
        "id": "uunIN4ktiEfP"
      },
      "source": [
        "\n",
        "Suppose we arrange for some automatic means of testing the effectiveness of any current parameter assignment in terms of actual performance and provide a mechanism for altering the parameter assignment so as to maximize the performance. We need not go into the details of such a procedure to see that it could be made entirely automatic and to see that a machine so programmed would \"learn\" from its experience.\n",
        "\n",
        "As we discussed, this is the key to allowing us to have a model that can get better and better—that can learn. But our pixel similarity approach does not really do this. We do not have any kind of parameter (weight) assignment, or any way of improving based on testing the effectiveness of a parameter (weight) assignment. In other words, we can't really improve our pixel similarity approach by modifying a set of parameters. In order to take advantage of the power of deep learning, we will first have to represent our task in the way that Arthur Samuel described it.\n",
        "\n",
        "Instead of trying to find the similarity between an image and an \"ideal image,\" we could instead look at each individual pixel and come up with a set of weights for each one, such that the highest weights are associated with those pixels most likely to be black for a particular category. For instance, pixels toward the bottom right are not very likely to be activated for a 7, so they should have a low weight for a 7, but they are likely to be activated for an 8, so they should have a high weight for an 8. This can be represented as a function and set of weight values for each possible category—for instance the probability of being the number 8:\n",
        "\n",
        "`def pr_eight(x,w): return (x*w).sum()`\n",
        "\n",
        "Here we are assuming that x is the image, represented as a vector—in other words, with all of the rows stacked up end to end into a single long line. And we are assuming that the weights are a vector w. If we have this function, then we just need some way to update the weights to make them a little bit better. With such an approach, we can repeat that step a number of times, making the weights better and better, until they are as good as we can make them.\n",
        "\n",
        "We want to find the specific values for the vector w that causes the result of our function to be high for those images that are actually 8s, and low for those images that are not. Searching for the best vector w is a way to search for the best function for recognising 8s. (Because we are not yet using a deep neural network, we are limited by what our function can actually do—we are going to fix that constraint later in this chapter.)\n",
        "\n",
        "To be more specific, here are the steps that we are going to require, to turn this function into a machine learning classifier:\n",
        "\n",
        "1. **Initialize the weights.**\n",
        "2. **For each image, use these weights to predict whether it appears to be a 3 or a 7.**\n",
        "3. **Based on these predictions, calculate how good the model is (its loss).**\n",
        "4. **Calculate the gradient, which measures for each weight, how changing that weight would change the loss.**\n",
        "5. **Step (that is, change) all the weights based on that calculation.**\n",
        "6. **Go back to the step 2, and repeat the process.**\n",
        "7. **Iterate until you decide to stop the training process (for instance, because the model is good enough or you don't want to wait any longer).**"
      ]
    },
    {
      "cell_type": "code",
      "metadata": {
        "colab": {
          "base_uri": "https://localhost:8080/",
          "height": 125
        },
        "id": "41vG-k5gAL8L",
        "outputId": "c33c7357-f89d-4914-a7db-9e7ea4d68fbb"
      },
      "source": [
        "#id gradient_descent\n",
        "#caption The gradient descent process\n",
        "#alt Graph showing the steps for Gradient Descent\n",
        "gv('''\n",
        "init->predict->loss->gradient->step->stop\n",
        "step->predict[label=repeat]\n",
        "''')"
      ],
      "execution_count": 445,
      "outputs": [
        {
          "output_type": "execute_result",
          "data": {
            "text/plain": [
              "<graphviz.files.Source at 0x7f21cc446fd0>"
            ],
            "image/svg+xml": "<?xml version=\"1.0\" encoding=\"UTF-8\" standalone=\"no\"?>\n<!DOCTYPE svg PUBLIC \"-//W3C//DTD SVG 1.1//EN\"\n \"http://www.w3.org/Graphics/SVG/1.1/DTD/svg11.dtd\">\n<!-- Generated by graphviz version 2.40.1 (20161225.0304)\n -->\n<!-- Title: G Pages: 1 -->\n<svg width=\"597pt\" height=\"78pt\"\n viewBox=\"0.00 0.00 596.69 78.00\" xmlns=\"http://www.w3.org/2000/svg\" xmlns:xlink=\"http://www.w3.org/1999/xlink\">\n<g id=\"graph0\" class=\"graph\" transform=\"scale(1 1) rotate(0) translate(4 74)\">\n<title>G</title>\n<polygon fill=\"#ffffff\" stroke=\"transparent\" points=\"-4,4 -4,-74 592.6863,-74 592.6863,4 -4,4\"/>\n<!-- init -->\n<g id=\"node1\" class=\"node\">\n<title>init</title>\n<ellipse fill=\"none\" stroke=\"#000000\" cx=\"27\" cy=\"-18\" rx=\"27\" ry=\"18\"/>\n<text text-anchor=\"middle\" x=\"27\" y=\"-14.3\" font-family=\"Times,serif\" font-size=\"14.00\" fill=\"#000000\">init</text>\n</g>\n<!-- predict -->\n<g id=\"node2\" class=\"node\">\n<title>predict</title>\n<ellipse fill=\"none\" stroke=\"#000000\" cx=\"127.3968\" cy=\"-18\" rx=\"36.2938\" ry=\"18\"/>\n<text text-anchor=\"middle\" x=\"127.3968\" y=\"-14.3\" font-family=\"Times,serif\" font-size=\"14.00\" fill=\"#000000\">predict</text>\n</g>\n<!-- init&#45;&gt;predict -->\n<g id=\"edge1\" class=\"edge\">\n<title>init&#45;&gt;predict</title>\n<path fill=\"none\" stroke=\"#000000\" d=\"M54.1688,-18C62.3543,-18 71.5827,-18 80.6596,-18\"/>\n<polygon fill=\"#000000\" stroke=\"#000000\" points=\"80.7795,-21.5001 90.7795,-18 80.7795,-14.5001 80.7795,-21.5001\"/>\n</g>\n<!-- loss -->\n<g id=\"node3\" class=\"node\">\n<title>loss</title>\n<ellipse fill=\"none\" stroke=\"#000000\" cx=\"227.7935\" cy=\"-52\" rx=\"27\" ry=\"18\"/>\n<text text-anchor=\"middle\" x=\"227.7935\" y=\"-48.3\" font-family=\"Times,serif\" font-size=\"14.00\" fill=\"#000000\">loss</text>\n</g>\n<!-- predict&#45;&gt;loss -->\n<g id=\"edge2\" class=\"edge\">\n<title>predict&#45;&gt;loss</title>\n<path fill=\"none\" stroke=\"#000000\" d=\"M157.5191,-28.2011C168.9806,-32.0826 182.1139,-36.5303 193.9014,-40.5222\"/>\n<polygon fill=\"#000000\" stroke=\"#000000\" points=\"192.8259,-43.8532 203.4202,-43.7458 195.0713,-37.2231 192.8259,-43.8532\"/>\n</g>\n<!-- gradient -->\n<g id=\"node4\" class=\"node\">\n<title>gradient</title>\n<ellipse fill=\"none\" stroke=\"#000000\" cx=\"365.7399\" cy=\"-52\" rx=\"40.8928\" ry=\"18\"/>\n<text text-anchor=\"middle\" x=\"365.7399\" y=\"-48.3\" font-family=\"Times,serif\" font-size=\"14.00\" fill=\"#000000\">gradient</text>\n</g>\n<!-- loss&#45;&gt;gradient -->\n<g id=\"edge3\" class=\"edge\">\n<title>loss&#45;&gt;gradient</title>\n<path fill=\"none\" stroke=\"#000000\" d=\"M255.0473,-52C272.0415,-52 294.4481,-52 314.6545,-52\"/>\n<polygon fill=\"#000000\" stroke=\"#000000\" points=\"314.671,-55.5001 324.671,-52 314.671,-48.5001 314.671,-55.5001\"/>\n</g>\n<!-- step -->\n<g id=\"node5\" class=\"node\">\n<title>step</title>\n<ellipse fill=\"none\" stroke=\"#000000\" cx=\"470.6863\" cy=\"-18\" rx=\"27\" ry=\"18\"/>\n<text text-anchor=\"middle\" x=\"470.6863\" y=\"-14.3\" font-family=\"Times,serif\" font-size=\"14.00\" fill=\"#000000\">step</text>\n</g>\n<!-- gradient&#45;&gt;step -->\n<g id=\"edge4\" class=\"edge\">\n<title>gradient&#45;&gt;step</title>\n<path fill=\"none\" stroke=\"#000000\" d=\"M398.9456,-41.2422C410.9558,-37.3512 424.5297,-32.9536 436.6132,-29.0388\"/>\n<polygon fill=\"#000000\" stroke=\"#000000\" points=\"437.9112,-32.2975 446.3457,-25.8857 435.7537,-25.6382 437.9112,-32.2975\"/>\n</g>\n<!-- step&#45;&gt;predict -->\n<g id=\"edge6\" class=\"edge\">\n<title>step&#45;&gt;predict</title>\n<path fill=\"none\" stroke=\"#000000\" d=\"M443.4266,-18C384.9297,-18 246.7861,-18 174.0495,-18\"/>\n<polygon fill=\"#000000\" stroke=\"#000000\" points=\"173.8098,-14.5001 163.8098,-18 173.8097,-21.5001 173.8098,-14.5001\"/>\n<text text-anchor=\"middle\" x=\"289.7935\" y=\"-21.8\" font-family=\"Times,serif\" font-size=\"14.00\" fill=\"#000000\">repeat</text>\n</g>\n<!-- stop -->\n<g id=\"node6\" class=\"node\">\n<title>stop</title>\n<ellipse fill=\"none\" stroke=\"#000000\" cx=\"561.6863\" cy=\"-18\" rx=\"27\" ry=\"18\"/>\n<text text-anchor=\"middle\" x=\"561.6863\" y=\"-14.3\" font-family=\"Times,serif\" font-size=\"14.00\" fill=\"#000000\">stop</text>\n</g>\n<!-- step&#45;&gt;stop -->\n<g id=\"edge5\" class=\"edge\">\n<title>step&#45;&gt;stop</title>\n<path fill=\"none\" stroke=\"#000000\" d=\"M497.9893,-18C506.2676,-18 515.508,-18 524.3268,-18\"/>\n<polygon fill=\"#000000\" stroke=\"#000000\" points=\"524.4026,-21.5001 534.4025,-18 524.4025,-14.5001 524.4026,-21.5001\"/>\n</g>\n</g>\n</svg>\n"
          },
          "metadata": {
            "tags": []
          },
          "execution_count": 445
        }
      ]
    },
    {
      "cell_type": "markdown",
      "metadata": {
        "id": "sx256qU0nIrr"
      },
      "source": [
        "\n",
        "There are many different ways to do each of these seven steps, and we will be learning about them throughout the rest of this book. These are the details that make a big difference for deep learning practitioners, but it turns out that the general approach to each one generally follows some basic principles. Here are a few guidelines:\n",
        "\n",
        "* **Initialize::** We initialize the parameters to random values. This may sound surprising. There are certainly other choices we could make, such as initializing them to the percentage of times that pixel is activated for that category—but since we already know that we have a routine to improve these weights, it turns out that just starting with random weights works perfectly well.\n",
        "***Loss::** This is what Samuel referred to when he spoke of testing the effectiveness of any current weight assignment in terms of actual performance. We need some function that will return a number that is small if the performance of the model is good (the standard approach is to treat a small loss as good, and a large loss as bad, although this is just a convention).\n",
        "***Step::** A simple way to figure out whether a weight should be increased a bit, or decreased a bit, would be just to try it: increase the weight by a small amount, and see if the loss goes up or down. Once you find the correct direction, you could then change that amount by a bit more, and a bit less, until you find an amount that works well. However, this is slow! As we will see, the magic of calculus allows us to directly figure out in which direction, and by roughly how much, to change each weight, without having to try all these small changes. The way to do this is by calculating gradients. This is just a performance optimization, we would get exactly the same results by using the slower manual process as well.\n",
        "***Stop::** Once we've decided how many epochs to train the model for (a few suggestions for this were given in the earlier list), we apply that decision. This is where that decision is applied. For our digit classifier, we would keep training until the accuracy of the model started getting worse, or we ran out of time.\n",
        "Before applying these steps to our image classification problem, let's illustrate what they look like in a simpler case. First we will define a very simple function, the quadratic—let's pretend that this is our loss function, and x is a weight parameter of the function:"
      ]
    },
    {
      "cell_type": "markdown",
      "metadata": {
        "id": "A8hMu8jPhTdz"
      },
      "source": [
        "Before applying the above steps to our image classification problem, let's look at a simpler case. We'll start by defining a simple quadratic function which will serve as our loss function and `x` will be the weight parameter of that funciton."
      ]
    },
    {
      "cell_type": "code",
      "metadata": {
        "id": "6XhfHt1gmFSX"
      },
      "source": [
        "def f(x): return x**2"
      ],
      "execution_count": 446,
      "outputs": []
    },
    {
      "cell_type": "markdown",
      "metadata": {
        "id": "Q9KW5ArDnJPm"
      },
      "source": [
        "Plot graph of the function:\n"
      ]
    },
    {
      "cell_type": "code",
      "metadata": {
        "colab": {
          "base_uri": "https://localhost:8080/",
          "height": 279
        },
        "id": "oyimzm8tnJuB",
        "outputId": "4434109a-497d-4b93-d429-3576b323a90c"
      },
      "source": [
        "plot_function(f, 'x', 'x**2')"
      ],
      "execution_count": 447,
      "outputs": [
        {
          "output_type": "display_data",
          "data": {
            "image/png": "[encoded data removed]",
            "text/plain": [
              "<Figure size 432x288 with 1 Axes>"
            ]
          },
          "metadata": {
            "tags": [],
            "needs_background": "light"
          }
        }
      ]
    },
    {
      "cell_type": "markdown",
      "metadata": {
        "id": "v7IeJQB4nKOv"
      },
      "source": [
        ""
      ]
    },
    {
      "cell_type": "code",
      "metadata": {
        "colab": {
          "base_uri": "https://localhost:8080/",
          "height": 296
        },
        "id": "F_iuCXZinKn_",
        "outputId": "eda9bed1-03f7-449c-9f77-c39bb1bf9478"
      },
      "source": [
        "plot_function(f, 'x', 'x**2')\n",
        "plt.scatter(-1.5, f(-1.5), color='red')"
      ],
      "execution_count": 448,
      "outputs": [
        {
          "output_type": "execute_result",
          "data": {
            "text/plain": [
              "<matplotlib.collections.PathCollection at 0x7f21cc45c350>"
            ]
          },
          "metadata": {
            "tags": []
          },
          "execution_count": 448
        },
        {
          "output_type": "display_data",
          "data": {
            "image/png": "[encoded data removed]",
            "text/plain": [
              "<Figure size 432x288 with 1 Axes>"
            ]
          },
          "metadata": {
            "tags": [],
            "needs_background": "light"
          }
        }
      ]
    },
    {
      "cell_type": "markdown",
      "metadata": {
        "id": "RMsUnUb2jjG8"
      },
      "source": [
        "See what happens if you increase or decrease the parameter at a certain point aka *the adjustment* - this is simply the slope at a certain point. "
      ]
    },
    {
      "cell_type": "markdown",
      "metadata": {
        "id": "UqqavEhynLMg"
      },
      "source": [
        "![image.png](data:image/png;base64,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)"
      ]
    },
    {
      "cell_type": "markdown",
      "metadata": {
        "id": "UL5IeZlyxubw"
      },
      "source": [
        "If we keep changing the weight by a little in the direction of the slope; calculating the loss and adjustment, and repeating the whole process a number of times, eventually we will reach the lowest point of the graph."
      ]
    },
    {
      "cell_type": "markdown",
      "metadata": {
        "id": "gHhxJC4TxssW"
      },
      "source": [
        "![image.png](data:image/png;base64,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)"
      ]
    },
    {
      "cell_type": "markdown",
      "metadata": {
        "id": "8ibFLO9FzAKr"
      },
      "source": [
        "\n",
        "*This basic idea goes all the way back to Isaac Newton, who pointed out that we can optimize arbitrary functions in this way. Regardless of how complicated our functions become, this basic approach of gradient descent will not significantly change. The only minor changes are some handy ways we can make it faster, by finding better steps.*"
      ]
    },
    {
      "cell_type": "markdown",
      "metadata": {
        "id": "I9vb7Le-zLHj"
      },
      "source": [
        "### **Calculating Derivatives**\n",
        "\n",
        "The gradients will tell us how much we have to change each weight to make our model better.\n",
        "\n",
        "The key point about a derivative is this: for any function, such as the quadratic function we saw in the previous section, we can calculate its derivative. The derivative is another function. It calculates the change, rather than the value. **For instance, the derivative of the quadratic function at the value 3 tells us how rapidly the function changes at the value 3.** The gradient is defined as rise/run, that is, the change in the value of the function, divided by the change in the value of the parameter. \n",
        "\n",
        "When we know how our function will change, then we know what we need to do to make it smaller. \n",
        "\n",
        "We take the partial derivaties of our function, so when we calculate the derivative we won't get back one number, but lots of them—a gradient for every weight. \n"
      ]
    },
    {
      "cell_type": "markdown",
      "metadata": {
        "id": "MSJkFDnLVICd"
      },
      "source": [
        "Create tensor with the point we want to calculate the gradient of:"
      ]
    },
    {
      "cell_type": "code",
      "metadata": {
        "id": "oZHHg0yenLh9"
      },
      "source": [
        "xt = tensor(3.).requires_grad_()"
      ],
      "execution_count": 449,
      "outputs": []
    },
    {
      "cell_type": "markdown",
      "metadata": {
        "id": "cBZioHeEnMKr"
      },
      "source": [
        "The special method requires_grad_() tells PyTorch that we want to calculate gradients with respect to that variable at that value. It is essentially tagging the variable, so PyTorch will remember to keep track of how to compute gradients of the other, direct calculations on it that you will ask for.\n",
        "\n",
        "In deep learning, \"gradients\" usually means the value of a function's derivative at a particular argument value. The PyTorch API also puts the focus on the argument, not the function you're actually computing the gradients of.\n",
        "\n",
        "Now we calculate our function with that value. Notice how PyTorch prints not just the value calculated, but also a note that it has a gradient function it'll be using to calculate our gradients when needed:"
      ]
    },
    {
      "cell_type": "code",
      "metadata": {
        "colab": {
          "base_uri": "https://localhost:8080/"
        },
        "id": "-c-vwoUenMfn",
        "outputId": "6cbe7297-862a-4c8b-f10a-793b8ffca8f1"
      },
      "source": [
        "yt = f(xt)\n",
        "yt"
      ],
      "execution_count": 450,
      "outputs": [
        {
          "output_type": "execute_result",
          "data": {
            "text/plain": [
              "tensor(9., grad_fn=<PowBackward0>)"
            ]
          },
          "metadata": {
            "tags": []
          },
          "execution_count": 450
        }
      ]
    },
    {
      "cell_type": "markdown",
      "metadata": {
        "id": "cVjP_-5gMPq9"
      },
      "source": [
        "The \"backward\" here refers to backpropagation, which is the name given to the process of calculating the derivative of each layer.\n",
        "\n",
        "This is the backward pass of the network when we update the parameters by taking the partial derivates, as opposed to the \"forward pass,\" which is where the activations are calculated.\n",
        "\n",
        "Tell PyTorch to calculate the gradient and view them by checking the `.grad` attribute of our tensor:"
      ]
    },
    {
      "cell_type": "code",
      "metadata": {
        "colab": {
          "base_uri": "https://localhost:8080/"
        },
        "id": "H4uZFG6QMNpQ",
        "outputId": "88b58622-4393-43e6-d5df-474bf6c1b723"
      },
      "source": [
        "yt.backward()\n",
        "xt.grad"
      ],
      "execution_count": 451,
      "outputs": [
        {
          "output_type": "execute_result",
          "data": {
            "text/plain": [
              "tensor(6.)"
            ]
          },
          "metadata": {
            "tags": []
          },
          "execution_count": 451
        }
      ]
    },
    {
      "cell_type": "markdown",
      "metadata": {
        "id": "qCA7yrMLNyF4"
      },
      "source": [
        "We can do the same for a vector of multiple values:"
      ]
    },
    {
      "cell_type": "code",
      "metadata": {
        "colab": {
          "base_uri": "https://localhost:8080/"
        },
        "id": "RfrPSDdZMRls",
        "outputId": "f6a6b454-3cf8-4baf-cc04-65d58b2bd719"
      },
      "source": [
        "xt = tensor([3.,4.,10.]).requires_grad_()\n",
        "xt"
      ],
      "execution_count": 452,
      "outputs": [
        {
          "output_type": "execute_result",
          "data": {
            "text/plain": [
              "tensor([ 3.,  4., 10.], requires_grad=True)"
            ]
          },
          "metadata": {
            "tags": []
          },
          "execution_count": 452
        }
      ]
    },
    {
      "cell_type": "markdown",
      "metadata": {
        "id": "4mvyOW6oOWC1"
      },
      "source": [
        "We add `.sum()` to our function so it can take a vector (rank 1 tensor) and return a scalar (rank 0 tensor)"
      ]
    },
    {
      "cell_type": "code",
      "metadata": {
        "colab": {
          "base_uri": "https://localhost:8080/"
        },
        "id": "xvf0u0suN0NR",
        "outputId": "d8ed1c3e-f266-4f63-ad99-d683c2bcd1ab"
      },
      "source": [
        "def f(x): return (x**2).sum()\n",
        "\n",
        "yt = f(xt)\n",
        "yt"
      ],
      "execution_count": 453,
      "outputs": [
        {
          "output_type": "execute_result",
          "data": {
            "text/plain": [
              "tensor(125., grad_fn=<SumBackward0>)"
            ]
          },
          "metadata": {
            "tags": []
          },
          "execution_count": 453
        }
      ]
    },
    {
      "cell_type": "markdown",
      "metadata": {
        "id": "7UKRGGP6OBFR"
      },
      "source": [
        "Calculate the gradients:"
      ]
    },
    {
      "cell_type": "code",
      "metadata": {
        "colab": {
          "base_uri": "https://localhost:8080/"
        },
        "id": "2ymqltPNN-Il",
        "outputId": "9c135fac-5e30-4ace-a0cc-8fc907990f5b"
      },
      "source": [
        "yt.backward()\n",
        "xt.grad"
      ],
      "execution_count": 454,
      "outputs": [
        {
          "output_type": "execute_result",
          "data": {
            "text/plain": [
              "tensor([ 6.,  8., 20.])"
            ]
          },
          "metadata": {
            "tags": []
          },
          "execution_count": 454
        }
      ]
    },
    {
      "cell_type": "markdown",
      "metadata": {
        "id": "ewEJf6sOXSRV"
      },
      "source": [
        "*The gradients only tell us the slope of the function it doesn't indicate how much we must adjust our parameters to reach the optimal value. However very large gradient indicate that we are father away from the global minimum and very small gradients the oppposite.*"
      ]
    },
    {
      "cell_type": "markdown",
      "metadata": {
        "id": "CT5LU-QsXo82"
      },
      "source": [
        "### **Learning Rate**"
      ]
    },
    {
      "cell_type": "markdown",
      "metadata": {
        "id": "3omMgeR9wI2w"
      },
      "source": [
        "Once we have the gradient we need to decide how big of a step we should take in the negative direction. We do this by multiplying the gradient with the learning rate (LR). The learning rate is often a number between 0.001 and 0.1, although it could be anything.Once you've picked a learning rate, you can adjust your parameters using this simple function:\n",
        "\n",
        "w -= gradient(w) * lr\n",
        "\n",
        "This is known as stepping your parameters, using an optimizer step.\n"
      ]
    },
    {
      "cell_type": "markdown",
      "metadata": {
        "id": "4rd5Pr8ZwyTu"
      },
      "source": [
        "If we pick a small LR then the algorithm will take a very long time to converge at the minima:\n",
        "\n",
        "![image.png](data:image/png;base64,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)"
      ]
    },
    {
      "cell_type": "markdown",
      "metadata": {
        "id": "_v3ld0Mhw3AH"
      },
      "source": [
        "However if we pick a LR that is too large it may never converge and instead just get worse:\n",
        "\n",
        "![image.png](data:image/png;base64,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)"
      ]
    },
    {
      "cell_type": "markdown",
      "metadata": {
        "id": "Fr7LZIfwxXm3"
      },
      "source": [
        "Or it may bounce around and never converge:\n",
        "\n",
        "![image.png](data:image/png;base64,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)"
      ]
    },
    {
      "cell_type": "markdown",
      "metadata": {
        "id": "QfjqSX-hxgU8"
      },
      "source": [
        "### **End-to-End SGD example**"
      ]
    },
    {
      "cell_type": "markdown",
      "metadata": {
        "id": "2fWHbjnoyBJL"
      },
      "source": [
        "We've seen how to use gradients to find a minimum. Now it's time to look at an SGD example and see how finding a minimum can be used to train a model to fit data better.\n",
        "\n",
        "Let's start with a simple, synthetic, example model. Imagine you were measuring the speed of a roller coaster as it went over the top of a hump. We want to build a model of how the speed changes over time, measuring the speed manually every second for 20 seconds.\n",
        "\n",
        "Create tensor for each of the 20 measurement points:"
      ]
    },
    {
      "cell_type": "code",
      "metadata": {
        "colab": {
          "base_uri": "https://localhost:8080/"
        },
        "id": "EGPg1m-UOc6w",
        "outputId": "93ae183a-36f4-4ea4-d599-3ce443a8c4db"
      },
      "source": [
        "time = torch.arange(0,20).float(); time"
      ],
      "execution_count": 455,
      "outputs": [
        {
          "output_type": "execute_result",
          "data": {
            "text/plain": [
              "tensor([ 0.,  1.,  2.,  3.,  4.,  5.,  6.,  7.,  8.,  9., 10., 11., 12., 13., 14., 15., 16., 17., 18., 19.])"
            ]
          },
          "metadata": {
            "tags": []
          },
          "execution_count": 455
        }
      ]
    },
    {
      "cell_type": "markdown",
      "metadata": {
        "id": "QoDhMRoVNLlG"
      },
      "source": [
        "Since we are measuring manually it will be a little imprecise therefore we add some noise to our data that we create using a quadratic function:"
      ]
    },
    {
      "cell_type": "code",
      "metadata": {
        "colab": {
          "base_uri": "https://localhost:8080/",
          "height": 282
        },
        "id": "mPgOrjOnM7g9",
        "outputId": "536ce838-083b-4400-a4b9-86b498486d5c"
      },
      "source": [
        "speed = torch.rand(20)*3 + 0.75*(time-9.5)**2 + 1\n",
        "plt.scatter(time,speed)"
      ],
      "execution_count": 456,
      "outputs": [
        {
          "output_type": "execute_result",
          "data": {
            "text/plain": [
              "<matplotlib.collections.PathCollection at 0x7f21c97aaa50>"
            ]
          },
          "metadata": {
            "tags": []
          },
          "execution_count": 456
        },
        {
          "output_type": "display_data",
          "data": {
            "image/png": "[encoded data removed]",
            "text/plain": [
              "<Figure size 432x288 with 1 Axes>"
            ]
          },
          "metadata": {
            "tags": [],
            "needs_background": "light"
          }
        }
      ]
    },
    {
      "cell_type": "markdown",
      "metadata": {
        "id": "9dDEt8hVN0Wn"
      },
      "source": [
        "Now we want to answer the question: what was the roller coaster's speed? Using SGD we can try to find a function that matches our observations. We can't consider every possible function, so let's use a guess that it will be quadratic; i.e., a function of the form `a*(time**2)+(b*time)+c`. (ax**2+bx+c)"
      ]
    },
    {
      "cell_type": "markdown",
      "metadata": {
        "id": "KhuaWEEvOSjD"
      },
      "source": [
        "We want to distinguish clearly between the functions inputs which is the time we are measuring the speed and its parameters which are the values that define which quadratic function we are trying to fit our data.\n",
        "\n",
        "Therefore we will collect the parameters in one arguement and thus seperate the input, t, and the params in the functions signature:"
      ]
    },
    {
      "cell_type": "code",
      "metadata": {
        "id": "rF-6gSaCMqHj"
      },
      "source": [
        "def f(t, params):\n",
        "  a,b,c = params\n",
        "  return a*(t**2) + (b*time) + c"
      ],
      "execution_count": 457,
      "outputs": []
    },
    {
      "cell_type": "markdown",
      "metadata": {
        "id": "OEYG7A0EPGWZ"
      },
      "source": [
        "What we have done is to restrict the problem from finding the best imaginable function that fits the data to finding the best *quadratic functions* that fits our data. This makes our lives much simpler, since every quadratic function is fully defined by the three parameters a, b, and c. Therefore to find the best quadratic function we just need to find the optimal values for a, b, and c.\n",
        "\n",
        "(We will apply this same approach for other more complex function with more parameters later such as neural nets)"
      ]
    },
    {
      "cell_type": "markdown",
      "metadata": {
        "id": "UvNmqPmjVN7v"
      },
      "source": [
        "In order to figure out what is the best parameters we need a loss function, which will return a value based on a prediction and a target, where lower values means the prediction is closer to the target and larger values means its farther away.\n",
        "\n",
        "For continuous data, it's common to use *mean squared error*:"
      ]
    },
    {
      "cell_type": "code",
      "metadata": {
        "id": "vh4MisLbPFS8"
      },
      "source": [
        "def mse(preds, targets): return ((preds-targets)**2).mean()"
      ],
      "execution_count": 458,
      "outputs": []
    },
    {
      "cell_type": "markdown",
      "metadata": {
        "id": "QePofqnrWFwo"
      },
      "source": [
        "### Step 1: Initialize the Params\n",
        "\n",
        "The first step is to initialize the parameters to some random values:"
      ]
    },
    {
      "cell_type": "code",
      "metadata": {
        "id": "kUm0dZf5WPgi"
      },
      "source": [
        "params = torch.randn(3).requires_grad_()"
      ],
      "execution_count": 459,
      "outputs": []
    },
    {
      "cell_type": "markdown",
      "metadata": {
        "id": "VulxfsKxV4Ef"
      },
      "source": [
        "### Step 2: Calculate the predictions\n",
        "\n",
        "Calculate predictions"
      ]
    },
    {
      "cell_type": "code",
      "metadata": {
        "id": "4GcHk-EfVv6G"
      },
      "source": [
        "preds = f(time, params)"
      ],
      "execution_count": 460,
      "outputs": []
    },
    {
      "cell_type": "markdown",
      "metadata": {
        "id": "Gob3u8qzXz0F"
      },
      "source": [
        "Create function that shows how cloase predictions are to the targets:"
      ]
    },
    {
      "cell_type": "code",
      "metadata": {
        "colab": {
          "base_uri": "https://localhost:8080/",
          "height": 269
        },
        "id": "g6Vpmei8V92n",
        "outputId": "caa83f06-436e-4e22-8927-9f25647a3cc3"
      },
      "source": [
        "def show_preds(preds, ax=None):\n",
        "  if ax is None: ax=plt.subplots()[1]\n",
        "  ax.scatter(time, speed)\n",
        "  ax.scatter(time, to_np(preds), color='red')\n",
        "  ax.set_ylim(-300, 100)\n",
        "\n",
        "show_preds(preds)"
      ],
      "execution_count": 461,
      "outputs": [
        {
          "output_type": "display_data",
          "data": {
            "image/png": "[encoded data removed]",
            "text/plain": [
              "<Figure size 432x288 with 1 Axes>"
            ]
          },
          "metadata": {
            "tags": [],
            "needs_background": "light"
          }
        }
      ]
    },
    {
      "cell_type": "markdown",
      "metadata": {
        "id": "lWAFlJYJYjlS"
      },
      "source": [
        "### Step 3: Calculate the loss."
      ]
    },
    {
      "cell_type": "code",
      "metadata": {
        "colab": {
          "base_uri": "https://localhost:8080/"
        },
        "id": "l5HEAEgIYX4o",
        "outputId": "ced7011d-92ae-4331-eb08-227e000c8cbd"
      },
      "source": [
        "loss = mse(preds, speed)\n",
        "loss"
      ],
      "execution_count": 462,
      "outputs": [
        {
          "output_type": "execute_result",
          "data": {
            "text/plain": [
              "tensor(1637.0266, grad_fn=<MeanBackward0>)"
            ]
          },
          "metadata": {
            "tags": []
          },
          "execution_count": 462
        }
      ]
    },
    {
      "cell_type": "markdown",
      "metadata": {
        "id": "8DuoHmguW6WA"
      },
      "source": [
        "In order to improve the loss we need to know the gradients."
      ]
    },
    {
      "cell_type": "markdown",
      "metadata": {
        "id": "S8dyuVfCXAfz"
      },
      "source": [
        "### Step 4: Calculate the gradients\n",
        "\n",
        "The gradients will be an approximation of how the parameters need to change:"
      ]
    },
    {
      "cell_type": "code",
      "metadata": {
        "colab": {
          "base_uri": "https://localhost:8080/"
        },
        "id": "OYGa_C0TW_VZ",
        "outputId": "2147e0cd-87f2-4a19-b55b-a5f26a6d3e00"
      },
      "source": [
        "loss.backward()\n",
        "params.grad"
      ],
      "execution_count": 463,
      "outputs": [
        {
          "output_type": "execute_result",
          "data": {
            "text/plain": [
              "tensor([10510.2930,   674.7965,    27.4423])"
            ]
          },
          "metadata": {
            "tags": []
          },
          "execution_count": 463
        }
      ]
    },
    {
      "cell_type": "markdown",
      "metadata": {
        "id": "zcjHHFlVXlOb"
      },
      "source": [
        "Use LR that we pick to 0.00001 to improve our parameters:\n"
      ]
    },
    {
      "cell_type": "code",
      "metadata": {
        "colab": {
          "base_uri": "https://localhost:8080/"
        },
        "id": "Kz3053yiXXcv",
        "outputId": "74a78f27-8f2b-463c-f666-f344024235c9"
      },
      "source": [
        "params.grad * 1e-5"
      ],
      "execution_count": 464,
      "outputs": [
        {
          "output_type": "execute_result",
          "data": {
            "text/plain": [
              "tensor([0.1051, 0.0067, 0.0003])"
            ]
          },
          "metadata": {
            "tags": []
          },
          "execution_count": 464
        }
      ]
    },
    {
      "cell_type": "code",
      "metadata": {
        "colab": {
          "base_uri": "https://localhost:8080/"
        },
        "id": "llHVrEoUXwKR",
        "outputId": "350a7dc5-67e3-471f-b983-2233d05d90fe"
      },
      "source": [
        "params"
      ],
      "execution_count": 465,
      "outputs": [
        {
          "output_type": "execute_result",
          "data": {
            "text/plain": [
              "tensor([0.3261, 0.0319, 0.6364], requires_grad=True)"
            ]
          },
          "metadata": {
            "tags": []
          },
          "execution_count": 465
        }
      ]
    },
    {
      "cell_type": "markdown",
      "metadata": {
        "id": "cP2BF23WXzrE"
      },
      "source": [
        "### Step 5: Update the weights\n",
        "\n",
        "`.data` makes sure PyTorch doesn't calculate the gradient of the step since we only want the gradient of our function not the step.\n",
        "\n",
        "Update the parameters based on the gradients just calculated:"
      ]
    },
    {
      "cell_type": "code",
      "metadata": {
        "id": "AkopXIHKXxfV"
      },
      "source": [
        "lr = 1e-5\n",
        "params.data -= lr * params.grad.data\n",
        "params.grad = None"
      ],
      "execution_count": 466,
      "outputs": []
    },
    {
      "cell_type": "markdown",
      "metadata": {
        "id": "nleUNxJ5YPFD"
      },
      "source": [
        "*Understanding this bit depends on remembering recent history. To calculate the gradients we call `backward` on the `loss`. But this `loss` was itself calculated by `mse`, which in turn took `preds` as an input, which was calculated using `f` taking as an input `params`, which was the object on which we originally called `required_grads_`—which is the original call that now allows us to call `backward` on `loss`. This chain of function calls represents the mathematical composition of functions, which enables PyTorch to use calculus's chain rule under the hood to calculate these gradients.*"
      ]
    },
    {
      "cell_type": "markdown",
      "metadata": {
        "id": "TTus2PjKYyms"
      },
      "source": [
        "Check to see if the loss has improved:"
      ]
    },
    {
      "cell_type": "code",
      "metadata": {
        "colab": {
          "base_uri": "https://localhost:8080/"
        },
        "id": "VgH8jp-ZYDrw",
        "outputId": "c2e18a60-df33-4fdb-9c52-5b794d699d74"
      },
      "source": [
        "preds = f(time, params)\n",
        "mse(preds, speed)"
      ],
      "execution_count": 467,
      "outputs": [
        {
          "output_type": "execute_result",
          "data": {
            "text/plain": [
              "tensor(841.1544, grad_fn=<MeanBackward0>)"
            ]
          },
          "metadata": {
            "tags": []
          },
          "execution_count": 467
        }
      ]
    },
    {
      "cell_type": "markdown",
      "metadata": {
        "id": "SrkvAF23Y7md"
      },
      "source": [
        "Plot the new prediction"
      ]
    },
    {
      "cell_type": "code",
      "metadata": {
        "colab": {
          "base_uri": "https://localhost:8080/",
          "height": 269
        },
        "id": "a6_KLu7tY4Qw",
        "outputId": "9192312d-2cbe-47c2-9881-5d616f0c782e"
      },
      "source": [
        "show_preds(preds)"
      ],
      "execution_count": 468,
      "outputs": [
        {
          "output_type": "display_data",
          "data": {
            "image/png": "[encoded data removed]",
            "text/plain": [
              "<Figure size 432x288 with 1 Axes>"
            ]
          },
          "metadata": {
            "tags": [],
            "needs_background": "light"
          }
        }
      ]
    },
    {
      "cell_type": "markdown",
      "metadata": {
        "id": "cdV2DFyfZAvf"
      },
      "source": [
        "We need to repeat the above steps a few times in order to get a good fit:"
      ]
    },
    {
      "cell_type": "code",
      "metadata": {
        "id": "XG1ePXhHY6c-"
      },
      "source": [
        "def apply_step(params, prn=True):\n",
        "  preds = f(time, params)\n",
        "  loss = mse(preds, speed)\n",
        "  loss.backward()\n",
        "  params.data -= lr * params.grad.data\n",
        "  params.grad = None\n",
        "  if prn: print(loss.item())\n",
        "  return preds\n"
      ],
      "execution_count": 469,
      "outputs": []
    },
    {
      "cell_type": "markdown",
      "metadata": {
        "id": "0eC-_BrxZqzi"
      },
      "source": [
        "### Step 6: Repeat the process"
      ]
    },
    {
      "cell_type": "code",
      "metadata": {
        "colab": {
          "base_uri": "https://localhost:8080/"
        },
        "id": "OFNBCKeqZkAb",
        "outputId": "509f4305-297b-4063-ba6f-c4bcc2fcc15e"
      },
      "source": [
        "for i in range(15): apply_step(params)"
      ],
      "execution_count": 470,
      "outputs": [
        {
          "output_type": "stream",
          "text": [
            "841.1544189453125\n",
            "690.5482177734375\n",
            "662.0460815429688\n",
            "656.649658203125\n",
            "655.625732421875\n",
            "655.4290771484375\n",
            "655.3890380859375\n",
            "655.3786010742188\n",
            "655.373779296875\n",
            "655.3701171875\n",
            "655.366455078125\n",
            "655.3629760742188\n",
            "655.3594970703125\n",
            "655.35595703125\n",
            "655.3524169921875\n"
          ],
          "name": "stdout"
        }
      ]
    },
    {
      "cell_type": "markdown",
      "metadata": {
        "id": "wBJVuxoOaBqZ"
      },
      "source": [
        "The loss is going down. But looking only at these loss numbers disguises the fact that each iteration represents an entirely different quadratic function being tried, on the way to finding the best possible quadratic function. We can see this process visually if, instead of printing out the loss function, we plot the function at every step. Then we can see how the shape is approaching the best possible quadratic function for our data:"
      ]
    },
    {
      "cell_type": "code",
      "metadata": {
        "colab": {
          "base_uri": "https://localhost:8080/",
          "height": 225
        },
        "id": "pZBFroLuZwOZ",
        "outputId": "c3e226a6-1c4d-402b-c8ab-fd572f9d87ac"
      },
      "source": [
        "_,axs = plt.subplots(1,4,figsize=(12,3))\n",
        "for ax in axs: show_preds(apply_step(params, False), ax)\n",
        "plt.tight_layout()"
      ],
      "execution_count": 471,
      "outputs": [
        {
          "output_type": "display_data",
          "data": {
            "image/png": "[encoded data removed]",
            "text/plain": [
              "<Figure size 864x216 with 4 Axes>"
            ]
          },
          "metadata": {
            "tags": [],
            "needs_background": "light"
          }
        }
      ]
    },
    {
      "cell_type": "markdown",
      "metadata": {
        "id": "lSTajnKsaKJk"
      },
      "source": [
        "### Step 7: Stop\n",
        "\n",
        "In this example we stop after 15 epochs arbitrarily, in practice we would base our stoppage on the training and validation losses and the metrics."
      ]
    },
    {
      "cell_type": "markdown",
      "metadata": {
        "id": "zSIgMqYlaqPq"
      },
      "source": [
        "### **Summarizing Gradient Descent**"
      ]
    },
    {
      "cell_type": "code",
      "metadata": {
        "colab": {
          "base_uri": "https://localhost:8080/",
          "height": 125
        },
        "id": "6cTpYQ7raAf_",
        "outputId": "bb84ca44-88e0-45c0-ccc7-8e894b006416"
      },
      "source": [
        "#hide_input\n",
        "#id gradient_descent\n",
        "#caption The gradient descent process\n",
        "#alt Graph showing the steps for Gradient Descent\n",
        "gv('''\n",
        "init->predict->loss->gradient->step->stop\n",
        "step->predict[label=repeat]\n",
        "''')"
      ],
      "execution_count": 472,
      "outputs": [
        {
          "output_type": "execute_result",
          "data": {
            "text/plain": [
              "<graphviz.files.Source at 0x7f21c85596d0>"
            ],
            "image/svg+xml": "<?xml version=\"1.0\" encoding=\"UTF-8\" standalone=\"no\"?>\n<!DOCTYPE svg PUBLIC \"-//W3C//DTD SVG 1.1//EN\"\n \"http://www.w3.org/Graphics/SVG/1.1/DTD/svg11.dtd\">\n<!-- Generated by graphviz version 2.40.1 (20161225.0304)\n -->\n<!-- Title: G Pages: 1 -->\n<svg width=\"597pt\" height=\"78pt\"\n viewBox=\"0.00 0.00 596.69 78.00\" xmlns=\"http://www.w3.org/2000/svg\" xmlns:xlink=\"http://www.w3.org/1999/xlink\">\n<g id=\"graph0\" class=\"graph\" transform=\"scale(1 1) rotate(0) translate(4 74)\">\n<title>G</title>\n<polygon fill=\"#ffffff\" stroke=\"transparent\" points=\"-4,4 -4,-74 592.6863,-74 592.6863,4 -4,4\"/>\n<!-- init -->\n<g id=\"node1\" class=\"node\">\n<title>init</title>\n<ellipse fill=\"none\" stroke=\"#000000\" cx=\"27\" cy=\"-18\" rx=\"27\" ry=\"18\"/>\n<text text-anchor=\"middle\" x=\"27\" y=\"-14.3\" font-family=\"Times,serif\" font-size=\"14.00\" fill=\"#000000\">init</text>\n</g>\n<!-- predict -->\n<g id=\"node2\" class=\"node\">\n<title>predict</title>\n<ellipse fill=\"none\" stroke=\"#000000\" cx=\"127.3968\" cy=\"-18\" rx=\"36.2938\" ry=\"18\"/>\n<text text-anchor=\"middle\" x=\"127.3968\" y=\"-14.3\" font-family=\"Times,serif\" font-size=\"14.00\" fill=\"#000000\">predict</text>\n</g>\n<!-- init&#45;&gt;predict -->\n<g id=\"edge1\" class=\"edge\">\n<title>init&#45;&gt;predict</title>\n<path fill=\"none\" stroke=\"#000000\" d=\"M54.1688,-18C62.3543,-18 71.5827,-18 80.6596,-18\"/>\n<polygon fill=\"#000000\" stroke=\"#000000\" points=\"80.7795,-21.5001 90.7795,-18 80.7795,-14.5001 80.7795,-21.5001\"/>\n</g>\n<!-- loss -->\n<g id=\"node3\" class=\"node\">\n<title>loss</title>\n<ellipse fill=\"none\" stroke=\"#000000\" cx=\"227.7935\" cy=\"-52\" rx=\"27\" ry=\"18\"/>\n<text text-anchor=\"middle\" x=\"227.7935\" y=\"-48.3\" font-family=\"Times,serif\" font-size=\"14.00\" fill=\"#000000\">loss</text>\n</g>\n<!-- predict&#45;&gt;loss -->\n<g id=\"edge2\" class=\"edge\">\n<title>predict&#45;&gt;loss</title>\n<path fill=\"none\" stroke=\"#000000\" d=\"M157.5191,-28.2011C168.9806,-32.0826 182.1139,-36.5303 193.9014,-40.5222\"/>\n<polygon fill=\"#000000\" stroke=\"#000000\" points=\"192.8259,-43.8532 203.4202,-43.7458 195.0713,-37.2231 192.8259,-43.8532\"/>\n</g>\n<!-- gradient -->\n<g id=\"node4\" class=\"node\">\n<title>gradient</title>\n<ellipse fill=\"none\" stroke=\"#000000\" cx=\"365.7399\" cy=\"-52\" rx=\"40.8928\" ry=\"18\"/>\n<text text-anchor=\"middle\" x=\"365.7399\" y=\"-48.3\" font-family=\"Times,serif\" font-size=\"14.00\" fill=\"#000000\">gradient</text>\n</g>\n<!-- loss&#45;&gt;gradient -->\n<g id=\"edge3\" class=\"edge\">\n<title>loss&#45;&gt;gradient</title>\n<path fill=\"none\" stroke=\"#000000\" d=\"M255.0473,-52C272.0415,-52 294.4481,-52 314.6545,-52\"/>\n<polygon fill=\"#000000\" stroke=\"#000000\" points=\"314.671,-55.5001 324.671,-52 314.671,-48.5001 314.671,-55.5001\"/>\n</g>\n<!-- step -->\n<g id=\"node5\" class=\"node\">\n<title>step</title>\n<ellipse fill=\"none\" stroke=\"#000000\" cx=\"470.6863\" cy=\"-18\" rx=\"27\" ry=\"18\"/>\n<text text-anchor=\"middle\" x=\"470.6863\" y=\"-14.3\" font-family=\"Times,serif\" font-size=\"14.00\" fill=\"#000000\">step</text>\n</g>\n<!-- gradient&#45;&gt;step -->\n<g id=\"edge4\" class=\"edge\">\n<title>gradient&#45;&gt;step</title>\n<path fill=\"none\" stroke=\"#000000\" d=\"M398.9456,-41.2422C410.9558,-37.3512 424.5297,-32.9536 436.6132,-29.0388\"/>\n<polygon fill=\"#000000\" stroke=\"#000000\" points=\"437.9112,-32.2975 446.3457,-25.8857 435.7537,-25.6382 437.9112,-32.2975\"/>\n</g>\n<!-- step&#45;&gt;predict -->\n<g id=\"edge6\" class=\"edge\">\n<title>step&#45;&gt;predict</title>\n<path fill=\"none\" stroke=\"#000000\" d=\"M443.4266,-18C384.9297,-18 246.7861,-18 174.0495,-18\"/>\n<polygon fill=\"#000000\" stroke=\"#000000\" points=\"173.8098,-14.5001 163.8098,-18 173.8097,-21.5001 173.8098,-14.5001\"/>\n<text text-anchor=\"middle\" x=\"289.7935\" y=\"-21.8\" font-family=\"Times,serif\" font-size=\"14.00\" fill=\"#000000\">repeat</text>\n</g>\n<!-- stop -->\n<g id=\"node6\" class=\"node\">\n<title>stop</title>\n<ellipse fill=\"none\" stroke=\"#000000\" cx=\"561.6863\" cy=\"-18\" rx=\"27\" ry=\"18\"/>\n<text text-anchor=\"middle\" x=\"561.6863\" y=\"-14.3\" font-family=\"Times,serif\" font-size=\"14.00\" fill=\"#000000\">stop</text>\n</g>\n<!-- step&#45;&gt;stop -->\n<g id=\"edge5\" class=\"edge\">\n<title>step&#45;&gt;stop</title>\n<path fill=\"none\" stroke=\"#000000\" d=\"M497.9893,-18C506.2676,-18 515.508,-18 524.3268,-18\"/>\n<polygon fill=\"#000000\" stroke=\"#000000\" points=\"524.4026,-21.5001 534.4025,-18 524.4025,-14.5001 524.4026,-21.5001\"/>\n</g>\n</g>\n</svg>\n"
          },
          "metadata": {
            "tags": []
          },
          "execution_count": 472
        }
      ]
    },
    {
      "cell_type": "markdown",
      "metadata": {
        "id": "bvz9PSESh35Y"
      },
      "source": [
        "The first thing we did was initialize **`(init)`** the weights of our model to some random values. This is known as training from scratch, we could also take weights from a pretrained model if we were doing transfer learning. In the first case the output we will get **`(predict)`** won't look anything like the data we are trying to fit and the same is very likely if we use a pretrained model. So our model will need to learn better weights.\n",
        "\n",
        "In order to learn better weights we need to compare the predicitons of our models with our targets (since we have labeled data we know what results the model should give), we do this comparision using a *loss function* **`(loss)`**, which returns a number that we want to be as low/small/close to zero as possible. \n",
        "\n",
        "We can improve our loss by improving our weights. To do this, we take a batch of data (such as images) from our training set and feed them to our model. Then we compare the corresponding targets to our output using our loss function, and the score we observe tells us how far off our prediction were, we then adjust our weights accordingly to make our predictions slightly more accurate. \n",
        "\n",
        "Exactly how much we should change our weights to improve our loss is done by calculating the **`(gradients)`** (partial derivatives) of the parameters of our function. We want to get to the lowest point of our loss function since that's were the loss is the smallest (global minima) we will arrive at that spot once our function that is approximating Y matches the true Y that we are trying to model, which is achieved by learning the correct/optimal weights. We can achieve this by continually taking a step in the direction of the steepest downward slope so that we should eventually arrive at that point. \n",
        "\n",
        "Therefore we use the magnitude of the gradient (i.e., the steepness of the slope) to tell us how big a step to take; specifically ,we multiply the gradient by a number called the *learning rate* which determines the step size **`(step)`**. Then we iterate **`(repeat)`** until we reach the minimum point, were we **`(stop)`**.\n"
      ]
    },
    {
      "cell_type": "markdown",
      "metadata": {
        "id": "JARnIclLjMv-"
      },
      "source": [
        "### **The MNIST loss function**"
      ]
    },
    {
      "cell_type": "markdown",
      "metadata": {
        "id": "rFMUMXeM9x8I"
      },
      "source": [
        "Time to create a loss function for our MNIST sample set. First we need to prep our data. Our independent variables x are the images of the 3s and 7s, which we need to concatenate into a single tensor, and also change them from a list of matrices (rank-3-tensors) into a list of vectors (rank-2-tensors). We do this using the `view` method. Which is a PyTorch method that changes the shape of a tensor without changing its contents. `-1` is a special parameter to `view` that means \"make this axis as big as necessary to fit all the data, B\""
      ]
    },
    {
      "cell_type": "code",
      "metadata": {
        "id": "eyoNU8w-crpu"
      },
      "source": [
        "train_x = torch.cat([stacked_threes, stacked_sevens]).view(-1, 28*28)"
      ],
      "execution_count": 473,
      "outputs": []
    },
    {
      "cell_type": "markdown",
      "metadata": {
        "id": "VLipNYsa_QFL"
      },
      "source": [
        "We need labels for our images. We'll use 1s for 3s and 0s for 7s\n",
        "\n",
        "\n"
      ]
    },
    {
      "cell_type": "code",
      "metadata": {
        "colab": {
          "base_uri": "https://localhost:8080/"
        },
        "id": "zi03Jg3k_k6g",
        "outputId": "0d78320f-39c8-458d-cc9b-581370207e12"
      },
      "source": [
        "train_y = tensor([1]*len(threes) + [0]*len(sevens)).unsqueeze(1)\n",
        "train_x.shape, train_y.shape"
      ],
      "execution_count": 474,
      "outputs": [
        {
          "output_type": "execute_result",
          "data": {
            "text/plain": [
              "(torch.Size([12396, 784]), torch.Size([12396, 1]))"
            ]
          },
          "metadata": {
            "tags": []
          },
          "execution_count": 474
        }
      ]
    },
    {
      "cell_type": "markdown",
      "metadata": {
        "id": "0T_E8Fo9ARsG"
      },
      "source": [
        "`.unsqueeze(1)` turns the vector `train_y` into a matrix by adding a unit column and we do this because PyTorch needs it to be a matrix and not a vector to do operations on it since it expects to see a matrix and not a vector."
      ]
    },
    {
      "cell_type": "markdown",
      "metadata": {
        "id": "STP9Mndh_P4z"
      },
      "source": [
        "A Dataset in PyTorch is required to return a tuple of `(x,y)` when indexed. Python provides a `zip` function that will take one element of `train_x` and match it with one corresponding element of `train_y`, thus when combined with `list`, provides a simple way to get this functionality:"
      ]
    },
    {
      "cell_type": "code",
      "metadata": {
        "colab": {
          "base_uri": "https://localhost:8080/"
        },
        "id": "-CPaMGd8Bwkv",
        "outputId": "db24a263-57a6-4aa0-85cf-a45063cb8bc7"
      },
      "source": [
        "dset = list(zip(train_x,train_y))\n",
        "x,y = dset[0]\n",
        "x.shape, y, len(dset)"
      ],
      "execution_count": 475,
      "outputs": [
        {
          "output_type": "execute_result",
          "data": {
            "text/plain": [
              "(torch.Size([784]), tensor([1]), 12396)"
            ]
          },
          "metadata": {
            "tags": []
          },
          "execution_count": 475
        }
      ]
    },
    {
      "cell_type": "markdown",
      "metadata": {
        "id": "k0j1SB4kJO31"
      },
      "source": [
        "`dset[0]` is taking one row of our 12396 training rows, which contains 784 features and 1 label for each row as we can see represented by the `(x,y)` tuple we created above. "
      ]
    },
    {
      "cell_type": "markdown",
      "metadata": {
        "id": "aK8BdVMEJ1Io"
      },
      "source": [
        "Do the same same for the validation set"
      ]
    },
    {
      "cell_type": "code",
      "metadata": {
        "colab": {
          "base_uri": "https://localhost:8080/"
        },
        "id": "qup7lHazCJ2O",
        "outputId": "0e7eed9c-f9ef-4dad-f9d7-d57dc816f327"
      },
      "source": [
        "valid_x = torch.cat([valid_threes_tens, valid_sevens_tens]).view(-1, 28*28)\n",
        "valid_y = tensor([1]*len(valid_threes_tens) + [0]*len(valid_sevens_tens)).unsqueeze(1)\n",
        "valid_dset = list(zip(valid_x, valid_y))\n",
        "valid_x.shape, valid_y.shape"
      ],
      "execution_count": 476,
      "outputs": [
        {
          "output_type": "execute_result",
          "data": {
            "text/plain": [
              "(torch.Size([2038, 784]), torch.Size([2038, 1]))"
            ]
          },
          "metadata": {
            "tags": []
          },
          "execution_count": 476
        }
      ]
    },
    {
      "cell_type": "markdown",
      "metadata": {
        "id": "WkSfsu9LKnqg"
      },
      "source": [
        "Now it's time to go to our 7 step training process starting with randomly initializing the parameters/weights for every pixel in our input to our model: "
      ]
    },
    {
      "cell_type": "code",
      "metadata": {
        "id": "03q4Td8sKhqH"
      },
      "source": [
        "def init_params(size, var=1.0): return (torch.randn(size)*var).requires_grad_()"
      ],
      "execution_count": 477,
      "outputs": []
    },
    {
      "cell_type": "code",
      "metadata": {
        "colab": {
          "base_uri": "https://localhost:8080/"
        },
        "id": "_hAEZ1FkLB3X",
        "outputId": "241223cc-cc43-4389-9c23-2bb9514844fa"
      },
      "source": [
        "weights = init_params((28*28,1))\n",
        "weights.T.shape"
      ],
      "execution_count": 478,
      "outputs": [
        {
          "output_type": "execute_result",
          "data": {
            "text/plain": [
              "torch.Size([1, 784])"
            ]
          },
          "metadata": {
            "tags": []
          },
          "execution_count": 478
        }
      ]
    },
    {
      "cell_type": "markdown",
      "metadata": {
        "id": "HiAWFEPrLiXD"
      },
      "source": [
        "The function `weight*pixels` won't be flexible enough - since it will always be 0 when the pixel is 0. Therefore we add a bias term: `y=wx + b`"
      ]
    },
    {
      "cell_type": "code",
      "metadata": {
        "id": "tEinOE2CLfSd"
      },
      "source": [
        "bias = init_params(1)"
      ],
      "execution_count": 479,
      "outputs": []
    },
    {
      "cell_type": "markdown",
      "metadata": {
        "id": "kKSjJ0le2b2_"
      },
      "source": [
        "In neural nets, the `w` in the equation `y=wb+b` is called the weights, the `b` is called the bias. Together, the weights and bias make up the *parameters*."
      ]
    },
    {
      "cell_type": "markdown",
      "metadata": {
        "id": "7Qrvdm_B2ufc"
      },
      "source": [
        "We can now calculate a prediction for one image (we take the transpose of the weights matrix since for matrix multiplication to work: #rows = #columns, train_x has 784 rows and weights.T has 784 columns:"
      ]
    },
    {
      "cell_type": "code",
      "metadata": {
        "colab": {
          "base_uri": "https://localhost:8080/"
        },
        "id": "0kUnLd0C2Pow",
        "outputId": "9ac2e65a-af4a-4d7b-8f26-02376784fcbc"
      },
      "source": [
        "(train_x[0]*weights.T).sum() + bias"
      ],
      "execution_count": 480,
      "outputs": [
        {
          "output_type": "execute_result",
          "data": {
            "text/plain": [
              "tensor([9.2684], grad_fn=<AddBackward0>)"
            ]
          },
          "metadata": {
            "tags": []
          },
          "execution_count": 480
        }
      ]
    },
    {
      "cell_type": "markdown",
      "metadata": {
        "id": "KiMSCMyF3_DW"
      },
      "source": [
        "There's an extremely convenient mathematical operation that calculates w*x for every row of a matrix—it's called matrix multiplication:"
      ]
    },
    {
      "cell_type": "markdown",
      "metadata": {
        "id": "eYIJBGj44Fyz"
      },
      "source": [
        "![image.png](data:image/png;base64,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)"
      ]
    },
    {
      "cell_type": "markdown",
      "metadata": {
        "id": "7JCXnmNK4Nac"
      },
      "source": [
        "As the image above shows, matrix multiplication forms a linear combination of the rows of one matrix with the columns of another matrix and that's why number of rows has to equal number of columns for it to work. "
      ]
    },
    {
      "cell_type": "markdown",
      "metadata": {
        "id": "41pZAIE840Kx"
      },
      "source": [
        "In python, matrix multiplication is represented with the @ operator:"
      ]
    },
    {
      "cell_type": "code",
      "metadata": {
        "colab": {
          "base_uri": "https://localhost:8080/"
        },
        "id": "_tiHuAYq2_MC",
        "outputId": "fa5829b6-b43b-46fe-dd12-86105699ee03"
      },
      "source": [
        "def linear1(xb): return xb@weights + bias\n",
        "preds = linear1(train_x)\n",
        "preds"
      ],
      "execution_count": 481,
      "outputs": [
        {
          "output_type": "execute_result",
          "data": {
            "text/plain": [
              "tensor([[  9.2684],\n",
              "        [ -4.4898],\n",
              "        [ 11.6977],\n",
              "        ...,\n",
              "        [-10.2290],\n",
              "        [  6.5237],\n",
              "        [  0.9552]], grad_fn=<AddBackward0>)"
            ]
          },
          "metadata": {
            "tags": []
          },
          "execution_count": 481
        }
      ]
    },
    {
      "cell_type": "markdown",
      "metadata": {
        "id": "a9Ux7Rb05_Ih"
      },
      "source": [
        "The first element is the same as we calculated above, as expected. The equation `batch@weights + bias` is one of the two fundemental equations of any neural network (the other being the *activation function*)\n",
        "\n",
        "Let's check our accuracy. Since we labeled our 3s as 1 and 7s as 0, to decide whether output is predicted a 3 or 7 we can just check if it's greater than 0.5:"
      ]
    },
    {
      "cell_type": "code",
      "metadata": {
        "colab": {
          "base_uri": "https://localhost:8080/"
        },
        "id": "VOgqQE0t5dxL",
        "outputId": "a63029bd-b3a9-4c83-ac49-f610500b2bd8"
      },
      "source": [
        "corrects = (preds>0.0).float() == train_y\n",
        "corrects"
      ],
      "execution_count": 482,
      "outputs": [
        {
          "output_type": "execute_result",
          "data": {
            "text/plain": [
              "tensor([[ True],\n",
              "        [False],\n",
              "        [ True],\n",
              "        ...,\n",
              "        [ True],\n",
              "        [False],\n",
              "        [False]])"
            ]
          },
          "metadata": {
            "tags": []
          },
          "execution_count": 482
        }
      ]
    },
    {
      "cell_type": "markdown",
      "metadata": {
        "id": "JPMM2LTM99G0"
      },
      "source": [
        "`.item()` unwraps the rank 0 tensor and returns a simple scalar: "
      ]
    },
    {
      "cell_type": "code",
      "metadata": {
        "colab": {
          "base_uri": "https://localhost:8080/"
        },
        "id": "sLUROkqo67b5",
        "outputId": "c75a8af3-b143-4820-f913-fba1439e5719"
      },
      "source": [
        "corrects.float().mean().item()"
      ],
      "execution_count": 483,
      "outputs": [
        {
          "output_type": "execute_result",
          "data": {
            "text/plain": [
              "0.5978541374206543"
            ]
          },
          "metadata": {
            "tags": []
          },
          "execution_count": 483
        }
      ]
    },
    {
      "cell_type": "markdown",
      "metadata": {
        "id": "Tb1-Y3GH-JAj"
      },
      "source": [
        "Now let's see how our accuracy changes if we adjust one of our weights:"
      ]
    },
    {
      "cell_type": "code",
      "metadata": {
        "colab": {
          "base_uri": "https://localhost:8080/"
        },
        "id": "c82uQ5qtAiS7",
        "outputId": "538d429e-273c-4a93-ae17-109c0ab3763b"
      },
      "source": [
        "weights[0]"
      ],
      "execution_count": 484,
      "outputs": [
        {
          "output_type": "execute_result",
          "data": {
            "text/plain": [
              "tensor([0.6386], grad_fn=<SelectBackward>)"
            ]
          },
          "metadata": {
            "tags": []
          },
          "execution_count": 484
        }
      ]
    },
    {
      "cell_type": "code",
      "metadata": {
        "id": "xE244i736-T-"
      },
      "source": [
        "with torch.no_grad():\n",
        "  weights[0] *= 1.0001"
      ],
      "execution_count": 485,
      "outputs": []
    },
    {
      "cell_type": "code",
      "metadata": {
        "id": "JY4xM5rTjMwE",
        "colab": {
          "base_uri": "https://localhost:8080/"
        },
        "outputId": "83259a2f-fd7a-4d1a-88e6-5c68eae92507"
      },
      "source": [
        "preds = linear1(train_x)\n",
        "((preds>0.0).float() == train_y).float().mean().item()"
      ],
      "execution_count": 486,
      "outputs": [
        {
          "output_type": "execute_result",
          "data": {
            "text/plain": [
              "0.5978541374206543"
            ]
          },
          "metadata": {
            "tags": []
          },
          "execution_count": 486
        }
      ]
    },
    {
      "cell_type": "markdown",
      "metadata": {
        "id": "Y5e9EgMsJFMS"
      },
      "source": [
        "As we can see above changing the weight by a small value will not actually change the accuracy at all. Therefore accuracy makes a poor loos function. If we were to use it most of the time our gradients would be zero and we would be unable to update our parameters since our step would be 0 so our predictions would remain unchanged and the model would be unable to learn.\n",
        "\n",
        "`\"In mathematical terms, accuracy is a function that is constant almost everywhere (except at the threshold, 0.5), so its derivative is nil almost everywhere (and infinity at the threshold). This then gives gradients that are 0 or infinite, which are useless for updating the model.\"`\n",
        "\n",
        "Instead, we need a loss function that is sensitive to small changes in the weights, and that when our the change in weight results in a slightly better prediction it will give us a slightly better loss. In this case it means that if the correct answer is a 3 the score would be a little higher and if the correct answer was a 7 the score would be a little lower.\n",
        "\n",
        "Time to create that function! \n",
        "\n",
        "Since the loss function doesn't receive the images themselves, but the prediction from the model. We will make one argument `prds` of values between 0 and 1, where each value is the prediction that an image is a 3. It is a vector (i.e., rank-1 tensor), indexed over the images.\n",
        "\n",
        "The purpose of the loss function is to measure the difference between predicted values and the actual true values- that is, the targets (aka labels). Therefore we make another argument `trgts`, with values of 0 or 1 which tells us whether an image us a 3 or not. It is also a vector (i.e., another rank-1 tensor), indexed over the images.\n",
        "\n",
        "So, for instance, suppose we had three images which we knew were a 3, a 7, and a 3. And suppose our model predicted with high confidence (`0.9`) that the first was a 3, with slight confidence (`0.4`) that the second was a 7, and with fair confidence (`0.2`), but incorrectly, that the last was a 7. This would mean our loss function would receive these values as its inputs:"
      ]
    },
    {
      "cell_type": "code",
      "metadata": {
        "id": "Sn_XW-eCbJdG"
      },
      "source": [
        "trgts = tensor([1, 0, 1])\n",
        "prds = tensor([0.9, 0.4, 0.2])"
      ],
      "execution_count": 487,
      "outputs": []
    },
    {
      "cell_type": "markdown",
      "metadata": {
        "id": "G3IzwVdFJFnu"
      },
      "source": [
        "Let's first try a loss function that measures the distance between `predictions` and `targets`:"
      ]
    },
    {
      "cell_type": "code",
      "metadata": {
        "id": "LRyJt-E37EcG"
      },
      "source": [
        "def mnist_loss(predictions, targets):\n",
        "  return torch.where(targets==1, 1-predictions, predictions).mean()"
      ],
      "execution_count": 488,
      "outputs": []
    },
    {
      "cell_type": "markdown",
      "metadata": {
        "id": "sI-JnOOtciOs"
      },
      "source": [
        ""
      ]
    },
    {
      "cell_type": "markdown",
      "metadata": {
        "id": "uB9GGsJMjMwG"
      },
      "source": [
        "We're using a new function, `torch.where(a,b,c)`. This is the same as running the list comprehension `[b[i] if a[i] else c[i] for i in range(len(a))]`, except it works on tensors, at C/CUDA speed. In plain English, this function will measure how distant each prediction is from 1 if it should be 1, and how distant it is from 0 if it should be 0, and then it will take the mean of all those distances.\n",
        "\n",
        "> note: Read the Docs: It's important to learn about PyTorch functions like this, because looping over tensors in Python performs at Python speed, not C/CUDA speed! Try running `help(torch.where)` now to read the docs for this function, or, better still, look it up on the PyTorch documentation site."
      ]
    },
    {
      "cell_type": "code",
      "metadata": {
        "id": "SWFTCowpcmmk"
      },
      "source": [
        "#help(torch.where)"
      ],
      "execution_count": 489,
      "outputs": []
    },
    {
      "cell_type": "markdown",
      "metadata": {
        "id": "OSSx1qqRd-4_"
      },
      "source": [
        "This function returns lower values when the prediction is more accurate and higher when it's less accurate:"
      ]
    },
    {
      "cell_type": "code",
      "metadata": {
        "colab": {
          "base_uri": "https://localhost:8080/"
        },
        "id": "R8kBIJeTcE9E",
        "outputId": "f8c26e92-40e3-4149-ab97-ca192bda3060"
      },
      "source": [
        "torch.where(trgts==1, 1-prds, prds)"
      ],
      "execution_count": 490,
      "outputs": [
        {
          "output_type": "execute_result",
          "data": {
            "text/plain": [
              "tensor([0.1000, 0.4000, 0.8000])"
            ]
          },
          "metadata": {
            "tags": []
          },
          "execution_count": 490
        }
      ]
    },
    {
      "cell_type": "markdown",
      "metadata": {
        "id": "X94c9spDdtBx"
      },
      "source": [
        "`mnist_lost` will give us the mean loss and return a scalar:"
      ]
    },
    {
      "cell_type": "code",
      "metadata": {
        "colab": {
          "base_uri": "https://localhost:8080/"
        },
        "id": "XuQNRi9ecH-X",
        "outputId": "0766da6e-5890-4dd7-ab12-0fe151f69316"
      },
      "source": [
        "mnist_loss(prds, trgts)"
      ],
      "execution_count": 491,
      "outputs": [
        {
          "output_type": "execute_result",
          "data": {
            "text/plain": [
              "tensor(0.4333)"
            ]
          },
          "metadata": {
            "tags": []
          },
          "execution_count": 491
        }
      ]
    },
    {
      "cell_type": "markdown",
      "metadata": {
        "id": "sc2zW0ypd5q_"
      },
      "source": [
        "If we change the last prediction to be closer to correct value of 1 we can see that the loss decreases significantly:"
      ]
    },
    {
      "cell_type": "code",
      "metadata": {
        "colab": {
          "base_uri": "https://localhost:8080/"
        },
        "id": "Bhb5-lcrjVKu",
        "outputId": "6ccf2082-01f2-4f6e-9bf1-5768820fb3d3"
      },
      "source": [
        "mnist_loss(tensor([0.9,0.4,0.8]),trgts)"
      ],
      "execution_count": 492,
      "outputs": [
        {
          "output_type": "execute_result",
          "data": {
            "text/plain": [
              "tensor(0.2333)"
            ]
          },
          "metadata": {
            "tags": []
          },
          "execution_count": 492
        }
      ]
    },
    {
      "cell_type": "markdown",
      "metadata": {
        "id": "9XgUIKSNlIT3"
      },
      "source": [
        "One problem with `mnist_loss` as currently defined is that it assumes that predictions are always between 0 and 1. We need to ensure, then, that this is actually the case! As it happens, there is a function that does exactly that—let's take a look:\n"
      ]
    },
    {
      "cell_type": "markdown",
      "metadata": {
        "id": "a1WaEqpRlIrZ"
      },
      "source": [
        "### **Sigmoid Activation Function**"
      ]
    },
    {
      "cell_type": "markdown",
      "metadata": {
        "id": "rOUpSAJMeptV"
      },
      "source": [
        "The `sigmoid` function will always output a number between 0 and 1:"
      ]
    },
    {
      "cell_type": "code",
      "metadata": {
        "id": "WBPoj_dNlLE0"
      },
      "source": [
        "def sigmoid(x): return 1/(1 + torch.exp(-x))"
      ],
      "execution_count": 493,
      "outputs": []
    },
    {
      "cell_type": "code",
      "metadata": {
        "colab": {
          "base_uri": "https://localhost:8080/"
        },
        "id": "UY5bDHIhwf6K",
        "outputId": "c170821e-7d26-401b-ab1b-c54f46e10d59"
      },
      "source": [
        "math.e**2, torch.exp(tensor(2))"
      ],
      "execution_count": 494,
      "outputs": [
        {
          "output_type": "execute_result",
          "data": {
            "text/plain": [
              "(7.3890560989306495, tensor(7.3891))"
            ]
          },
          "metadata": {
            "tags": []
          },
          "execution_count": 494
        }
      ]
    },
    {
      "cell_type": "markdown",
      "metadata": {
        "id": "ydbn97-reyO3"
      },
      "source": [
        "PyTorch has a accelerated version of the sigmoid function built in so we don't need to define our own and is called by `torch.sigmoid` however it's a simple function and the formula for it is specified above"
      ]
    },
    {
      "cell_type": "code",
      "metadata": {
        "colab": {
          "base_uri": "https://localhost:8080/",
          "height": 562
        },
        "id": "A6VOdMmrzCrf",
        "outputId": "e2af4d6d-76d8-4089-da22-f76d4156d7eb"
      },
      "source": [
        "plot_function(torch.sigmoid, title='Sigmoid,B', min=-4, max=4), plot_function(torch.sigmoid, title='Sigmoid,B', min=-40, max=40) "
      ],
      "execution_count": 495,
      "outputs": [
        {
          "output_type": "execute_result",
          "data": {
            "text/plain": [
              "(None, None)"
            ]
          },
          "metadata": {
            "tags": []
          },
          "execution_count": 495
        },
        {
          "output_type": "display_data",
          "data": {
            "image/png": "[encoded data removed]",
            "text/plain": [
              "<Figure size 432x288 with 1 Axes>"
            ]
          },
          "metadata": {
            "tags": [],
            "needs_background": "light"
          }
        },
        {
          "output_type": "display_data",
          "data": {
            "image/png": "[encoded data removed]",
            "text/plain": [
              "<Figure size 432x288 with 1 Axes>"
            ]
          },
          "metadata": {
            "tags": [],
            "needs_background": "light"
          }
        }
      ]
    },
    {
      "cell_type": "markdown",
      "metadata": {
        "id": "7ulkx1RTfD9u"
      },
      "source": [
        "As we can see it takes any and all negative and positive inputs and smooshes their output between 0 and 1. It's also a smooth curve that only goes up, which makes it easier for SGD to fin meaningful gradients."
      ]
    },
    {
      "cell_type": "markdown",
      "metadata": {
        "id": "G9um-KG-fTZk"
      },
      "source": [
        "Let's update `mnist_loss` to first apply `sigmoid` to the inputs:\n"
      ]
    },
    {
      "cell_type": "code",
      "metadata": {
        "id": "YHXa8upXzMdS"
      },
      "source": [
        "def mnist_loss(predictions, targets):\n",
        "  predictions = predictions.sigmoid()\n",
        "  return torch.where(targets==1, 1-predictions, predictions).mean()"
      ],
      "execution_count": 496,
      "outputs": []
    },
    {
      "cell_type": "markdown",
      "metadata": {
        "id": "5gnu1cV5feqe"
      },
      "source": [
        "We can now rest assured that our loss function will work, even if our predictions are not between 0 and 1, the sigmoid function will make them between 0 and 1. All that is required is that a higher prediction corresponds to higher confidence that an image is a 3, B. \n",
        "\n",
        "So why use a loss instead of accuract?\n",
        "\n",
        "The key difference is that a metric is to drive human understanding for how well the model is performing while the loss is driving auromated learning. To drive automated learning, the losst must be a function that has a meaningful derivative. It can't have big flat sections and large jumps or gaps, but instead must be reasonable smooth. This is why we designed a loss function that would respond to small changes in confidence level. This requirement means that sometimes it does not really reflect exactly what we are trying to achieve, but is rather a compromise between our real goal, and a function that can be optimized using its gradient. The loss function is calculated for each item in our dataset, and then at the end of an apoch the loss values are all averaged and the overall mean is reported for the epoch.\n",
        "\n",
        "Metrics, however, are the numbers we really care about for judging the performance of our model."
      ]
    },
    {
      "cell_type": "markdown",
      "metadata": {
        "id": "Zo-A4ViuhqX6"
      },
      "source": [
        "### **SGD and Mini-Batches**"
      ]
    },
    {
      "cell_type": "markdown",
      "metadata": {
        "id": "_iV7_JELqjUJ"
      },
      "source": [
        "The next phase of the learning process is to change or update the weights based on the gradients. This is called an *optimization step*.\n",
        "\n",
        "In order to take an optimization step we need to calculate the loss over one or more data items. If we were to calculate the loss for the whole dataset at once, and take the average that would take a very long time. If we were to calculate it for a single data item we would not use much information so it would result in a very imprecise and unstable gradient. That is we'd be going updating the weights but we would only take into account how that update would improve the model's perfomance on a single data item.\n",
        "\n",
        "Instead a compromise is made between the two extremes: we calculate the average loss for a few data items at a time. This is called a mini-batch where the number of data items in the mini-batch is called that batch size. A larger batch size means we will get more accurate and stable estimates of our greater datasets gradients from the loss function, but would take a longer time to do the calculations and we would process fewer mini-batches per epoch. Therefore choosing the appropriate batch-size is something of an art or learned skill.\n",
        "\n",
        "Another good reason for using mini-batches rather than calculating the gradient on individual data items is that, in practice, we nearly always do our training on an accelerator such as a GPU. These accelerators only perform well if they have lots of work to do at a time, so it's helpful if we can give them lots of data items to work on. Using mini-batches is one of the best ways to do this. However, if you give them too much data to work on at once, they run out of memory—making GPUs happy is also tricky!\n",
        "\n",
        "**As we saw in our discussion of data augmentation in, we get better generalization if we can vary things during training. One simple and effective thing we can vary is what data items we put in each mini-batch. Rather than simply enumerating our dataset in order for every epoch, instead what we normally do is randomly shuffle it on every epoch, before we create mini-batches.** PyTorch and fastai provide a class that will do the shuffling and mini-batch collation for you, called `DataLoader`.\n",
        "\n",
        "A `DataLoader` can take any Python collection and turn it into an iterator over many batches, like so:"
      ]
    },
    {
      "cell_type": "code",
      "metadata": {
        "colab": {
          "base_uri": "https://localhost:8080/"
        },
        "id": "XXzhM8BTsKYd",
        "outputId": "6e5252d6-ce29-42a8-efe3-e343ce1e6ed1"
      },
      "source": [
        "coll = range(15)\n",
        "dl = DataLoader(coll, batch_size=5, shuffle=True)\n",
        "list(dl)"
      ],
      "execution_count": 497,
      "outputs": [
        {
          "output_type": "execute_result",
          "data": {
            "text/plain": [
              "[tensor([ 7,  4,  2,  5, 14]),\n",
              " tensor([ 8,  3,  6, 13,  1]),\n",
              " tensor([ 0, 11,  9, 12, 10])]"
            ]
          },
          "metadata": {
            "tags": []
          },
          "execution_count": 497
        }
      ]
    },
    {
      "cell_type": "markdown",
      "metadata": {
        "id": "zf4AeN50i9gQ"
      },
      "source": [
        "However for training a model, we don't just want any Python collection, we need a collection of independent and dependent variables (inputs (x), outputs (y)). A collection that contains tuples of independent and dependent variables is known in PyTorch as a `Dataset`:\n"
      ]
    },
    {
      "cell_type": "code",
      "metadata": {
        "colab": {
          "base_uri": "https://localhost:8080/"
        },
        "id": "nn9xWEp-sJ1a",
        "outputId": "e385b059-3a90-4830-b13f-89af07908c5e"
      },
      "source": [
        "ds = L(enumerate(string.ascii_lowercase))\n",
        "ds"
      ],
      "execution_count": 498,
      "outputs": [
        {
          "output_type": "execute_result",
          "data": {
            "text/plain": [
              "(#26) [(0, 'a'),(1, 'b'),(2, 'c'),(3, 'd'),(4, 'e'),(5, 'f'),(6, 'g'),(7, 'h'),(8, 'i'),(9, 'j')...]"
            ]
          },
          "metadata": {
            "tags": []
          },
          "execution_count": 498
        }
      ]
    },
    {
      "cell_type": "markdown",
      "metadata": {
        "id": "w7YqAStTtSzm"
      },
      "source": [
        "When we pass a `Dataset` to a `DataLoader` we will get back many batches which are themselves tuples of tensors representing batches of independen and dependent variables:"
      ]
    },
    {
      "cell_type": "code",
      "metadata": {
        "colab": {
          "base_uri": "https://localhost:8080/"
        },
        "id": "dmSl5loetGPR",
        "outputId": "6862c8a1-d0ee-4906-fe4a-bf495de53d04"
      },
      "source": [
        "dl = DataLoader(ds, batch_size=6, shuffle=True)\n",
        "list(dl)"
      ],
      "execution_count": 499,
      "outputs": [
        {
          "output_type": "execute_result",
          "data": {
            "text/plain": [
              "[(tensor([ 2, 17,  9, 11, 18,  8]), ('c', 'r', 'j', 'l', 's', 'i')),\n",
              " (tensor([23, 20, 14, 21,  5, 13]), ('x', 'u', 'o', 'v', 'f', 'n')),\n",
              " (tensor([24, 16, 12, 15,  6,  0]), ('y', 'q', 'm', 'p', 'g', 'a')),\n",
              " (tensor([ 1,  3,  7, 10,  4, 22]), ('b', 'd', 'h', 'k', 'e', 'w')),\n",
              " (tensor([25, 19]), ('z', 't'))]"
            ]
          },
          "metadata": {
            "tags": []
          },
          "execution_count": 499
        }
      ]
    },
    {
      "cell_type": "markdown",
      "metadata": {
        "id": "6kzv26GmtAGP"
      },
      "source": [
        "### **Putting It All Together**"
      ]
    },
    {
      "cell_type": "markdown",
      "metadata": {
        "id": "UyjCTHWkFUux"
      },
      "source": [
        "It's time to implement the following process for our mnist 3s or 7s problem: \n"
      ]
    },
    {
      "cell_type": "code",
      "metadata": {
        "id": "M4Z_Q7mE1QXW",
        "colab": {
          "base_uri": "https://localhost:8080/",
          "height": 125
        },
        "outputId": "0130e225-ba42-4219-931d-d2354fdec6a2"
      },
      "source": [
        "\n",
        "gv('''\n",
        "init->predict->loss->gradient->step->stop\n",
        "step->predict[label=update]\n",
        "''')"
      ],
      "execution_count": 500,
      "outputs": [
        {
          "output_type": "execute_result",
          "data": {
            "text/plain": [
              "<graphviz.files.Source at 0x7f21cc4555d0>"
            ],
            "image/svg+xml": "<?xml version=\"1.0\" encoding=\"UTF-8\" standalone=\"no\"?>\n<!DOCTYPE svg PUBLIC \"-//W3C//DTD SVG 1.1//EN\"\n \"http://www.w3.org/Graphics/SVG/1.1/DTD/svg11.dtd\">\n<!-- Generated by graphviz version 2.40.1 (20161225.0304)\n -->\n<!-- Title: G Pages: 1 -->\n<svg width=\"602pt\" height=\"78pt\"\n viewBox=\"0.00 0.00 601.69 78.00\" xmlns=\"http://www.w3.org/2000/svg\" xmlns:xlink=\"http://www.w3.org/1999/xlink\">\n<g id=\"graph0\" class=\"graph\" transform=\"scale(1 1) rotate(0) translate(4 74)\">\n<title>G</title>\n<polygon fill=\"#ffffff\" stroke=\"transparent\" points=\"-4,4 -4,-74 597.6863,-74 597.6863,4 -4,4\"/>\n<!-- init -->\n<g id=\"node1\" class=\"node\">\n<title>init</title>\n<ellipse fill=\"none\" stroke=\"#000000\" cx=\"27\" cy=\"-18\" rx=\"27\" ry=\"18\"/>\n<text text-anchor=\"middle\" x=\"27\" y=\"-14.3\" font-family=\"Times,serif\" font-size=\"14.00\" fill=\"#000000\">init</text>\n</g>\n<!-- predict -->\n<g id=\"node2\" class=\"node\">\n<title>predict</title>\n<ellipse fill=\"none\" stroke=\"#000000\" cx=\"127.3968\" cy=\"-18\" rx=\"36.2938\" ry=\"18\"/>\n<text text-anchor=\"middle\" x=\"127.3968\" y=\"-14.3\" font-family=\"Times,serif\" font-size=\"14.00\" fill=\"#000000\">predict</text>\n</g>\n<!-- init&#45;&gt;predict -->\n<g id=\"edge1\" class=\"edge\">\n<title>init&#45;&gt;predict</title>\n<path fill=\"none\" stroke=\"#000000\" d=\"M54.1688,-18C62.3543,-18 71.5827,-18 80.6596,-18\"/>\n<polygon fill=\"#000000\" stroke=\"#000000\" points=\"80.7795,-21.5001 90.7795,-18 80.7795,-14.5001 80.7795,-21.5001\"/>\n</g>\n<!-- loss -->\n<g id=\"node3\" class=\"node\">\n<title>loss</title>\n<ellipse fill=\"none\" stroke=\"#000000\" cx=\"227.7935\" cy=\"-52\" rx=\"27\" ry=\"18\"/>\n<text text-anchor=\"middle\" x=\"227.7935\" y=\"-48.3\" font-family=\"Times,serif\" font-size=\"14.00\" fill=\"#000000\">loss</text>\n</g>\n<!-- predict&#45;&gt;loss -->\n<g id=\"edge2\" class=\"edge\">\n<title>predict&#45;&gt;loss</title>\n<path fill=\"none\" stroke=\"#000000\" d=\"M157.5191,-28.2011C168.9806,-32.0826 182.1139,-36.5303 193.9014,-40.5222\"/>\n<polygon fill=\"#000000\" stroke=\"#000000\" points=\"192.8259,-43.8532 203.4202,-43.7458 195.0713,-37.2231 192.8259,-43.8532\"/>\n</g>\n<!-- gradient -->\n<g id=\"node4\" class=\"node\">\n<title>gradient</title>\n<ellipse fill=\"none\" stroke=\"#000000\" cx=\"370.7399\" cy=\"-52\" rx=\"40.8928\" ry=\"18\"/>\n<text text-anchor=\"middle\" x=\"370.7399\" y=\"-48.3\" font-family=\"Times,serif\" font-size=\"14.00\" fill=\"#000000\">gradient</text>\n</g>\n<!-- loss&#45;&gt;gradient -->\n<g id=\"edge3\" class=\"edge\">\n<title>loss&#45;&gt;gradient</title>\n<path fill=\"none\" stroke=\"#000000\" d=\"M255.0171,-52C273.199,-52 297.6793,-52 319.4415,-52\"/>\n<polygon fill=\"#000000\" stroke=\"#000000\" points=\"319.5408,-55.5001 329.5407,-52 319.5407,-48.5001 319.5408,-55.5001\"/>\n</g>\n<!-- step -->\n<g id=\"node5\" class=\"node\">\n<title>step</title>\n<ellipse fill=\"none\" stroke=\"#000000\" cx=\"475.6863\" cy=\"-18\" rx=\"27\" ry=\"18\"/>\n<text text-anchor=\"middle\" x=\"475.6863\" y=\"-14.3\" font-family=\"Times,serif\" font-size=\"14.00\" fill=\"#000000\">step</text>\n</g>\n<!-- gradient&#45;&gt;step -->\n<g id=\"edge4\" class=\"edge\">\n<title>gradient&#45;&gt;step</title>\n<path fill=\"none\" stroke=\"#000000\" d=\"M403.9456,-41.2422C415.9558,-37.3512 429.5297,-32.9536 441.6132,-29.0388\"/>\n<polygon fill=\"#000000\" stroke=\"#000000\" points=\"442.9112,-32.2975 451.3457,-25.8857 440.7537,-25.6382 442.9112,-32.2975\"/>\n</g>\n<!-- step&#45;&gt;predict -->\n<g id=\"edge6\" class=\"edge\">\n<title>step&#45;&gt;predict</title>\n<path fill=\"none\" stroke=\"#000000\" d=\"M448.4314,-18C389.2298,-18 248.2831,-18 174.407,-18\"/>\n<polygon fill=\"#000000\" stroke=\"#000000\" points=\"174.0116,-14.5001 164.0116,-18 174.0115,-21.5001 174.0116,-14.5001\"/>\n<text text-anchor=\"middle\" x=\"292.2935\" y=\"-21.8\" font-family=\"Times,serif\" font-size=\"14.00\" fill=\"#000000\">update</text>\n</g>\n<!-- stop -->\n<g id=\"node6\" class=\"node\">\n<title>stop</title>\n<ellipse fill=\"none\" stroke=\"#000000\" cx=\"566.6863\" cy=\"-18\" rx=\"27\" ry=\"18\"/>\n<text text-anchor=\"middle\" x=\"566.6863\" y=\"-14.3\" font-family=\"Times,serif\" font-size=\"14.00\" fill=\"#000000\">stop</text>\n</g>\n<!-- step&#45;&gt;stop -->\n<g id=\"edge5\" class=\"edge\">\n<title>step&#45;&gt;stop</title>\n<path fill=\"none\" stroke=\"#000000\" d=\"M502.9893,-18C511.2676,-18 520.508,-18 529.3268,-18\"/>\n<polygon fill=\"#000000\" stroke=\"#000000\" points=\"529.4026,-21.5001 539.4025,-18 529.4025,-14.5001 529.4026,-21.5001\"/>\n</g>\n</g>\n</svg>\n"
          },
          "metadata": {
            "tags": []
          },
          "execution_count": 500
        }
      ]
    },
    {
      "cell_type": "markdown",
      "metadata": {
        "id": "pvVh---_GYFG"
      },
      "source": [
        "Our process will be implemented something like this for each epoch:\n",
        "\n",
        "```python\n",
        "for x,y in dl:\n",
        "  pred = model(x)\n",
        "  loss = loss_func(pred, y)\n",
        "  loss.backward()\n",
        "  parameters -= parameters.grad * lr\n",
        "```"
      ]
    },
    {
      "cell_type": "markdown",
      "metadata": {
        "id": "CyG7W6rHHyiX"
      },
      "source": [
        "Step 1: Reinit parameters"
      ]
    },
    {
      "cell_type": "code",
      "metadata": {
        "id": "Pmdlbkhv1Uvn"
      },
      "source": [
        "weights = init_params((28*28,1))\n",
        "bias = init_params(1)"
      ],
      "execution_count": 501,
      "outputs": []
    },
    {
      "cell_type": "markdown",
      "metadata": {
        "id": "JO4-GIYnH-pU"
      },
      "source": [
        "Create `DataLoader` from the `Dataset`:\n"
      ]
    },
    {
      "cell_type": "code",
      "metadata": {
        "colab": {
          "base_uri": "https://localhost:8080/"
        },
        "id": "BFGChuRAH9Lg",
        "outputId": "0d58ba64-ee44-45ae-ac67-52f8e555bf04"
      },
      "source": [
        "dl = DataLoader(dset, batch_size=256)\n",
        "xb, yb = first(dl) # first just grabs the first thing from a iterator\n",
        "xb.shape, yb.shape"
      ],
      "execution_count": 502,
      "outputs": [
        {
          "output_type": "execute_result",
          "data": {
            "text/plain": [
              "(torch.Size([256, 784]), torch.Size([256, 1]))"
            ]
          },
          "metadata": {
            "tags": []
          },
          "execution_count": 502
        }
      ]
    },
    {
      "cell_type": "markdown",
      "metadata": {
        "id": "CBHxnXlCIcM_"
      },
      "source": [
        "Do the same for the validation set:"
      ]
    },
    {
      "cell_type": "code",
      "metadata": {
        "id": "TUWNkfv6IQ1e"
      },
      "source": [
        "valid_dl = DataLoader(valid_dset, batch_size=256)\n"
      ],
      "execution_count": 503,
      "outputs": []
    },
    {
      "cell_type": "markdown",
      "metadata": {
        "id": "nmlAo7qgJcuu"
      },
      "source": [
        "Create a mini-bath of 4 first rows for testing\n"
      ]
    },
    {
      "cell_type": "code",
      "metadata": {
        "colab": {
          "base_uri": "https://localhost:8080/"
        },
        "id": "W3Dq5TZ8ISEa",
        "outputId": "4e5e6400-72ce-45d8-8d05-998206c7bebf"
      },
      "source": [
        "batch = train_x[:4]\n",
        "batch.shape"
      ],
      "execution_count": 504,
      "outputs": [
        {
          "output_type": "execute_result",
          "data": {
            "text/plain": [
              "torch.Size([4, 784])"
            ]
          },
          "metadata": {
            "tags": []
          },
          "execution_count": 504
        }
      ]
    },
    {
      "cell_type": "markdown",
      "metadata": {
        "id": "RciNd9DoJqIY"
      },
      "source": [
        "Calculate the predictions:"
      ]
    },
    {
      "cell_type": "code",
      "metadata": {
        "colab": {
          "base_uri": "https://localhost:8080/"
        },
        "id": "9ajZsYsbJna2",
        "outputId": "65a4123a-37ad-4060-d78c-2dc158bb3106"
      },
      "source": [
        "preds = linear1(batch)\n",
        "preds"
      ],
      "execution_count": 505,
      "outputs": [
        {
          "output_type": "execute_result",
          "data": {
            "text/plain": [
              "tensor([[ -7.6214],\n",
              "        [  1.9488],\n",
              "        [-13.4920],\n",
              "        [  0.8836]], grad_fn=<AddBackward0>)"
            ]
          },
          "metadata": {
            "tags": []
          },
          "execution_count": 505
        }
      ]
    },
    {
      "cell_type": "code",
      "metadata": {
        "id": "UPu85nEceAFn"
      },
      "source": [
        "linear1??"
      ],
      "execution_count": 506,
      "outputs": []
    },
    {
      "cell_type": "markdown",
      "metadata": {
        "id": "nNt_LWTfLE75"
      },
      "source": [
        "Calculate the loss:"
      ]
    },
    {
      "cell_type": "code",
      "metadata": {
        "colab": {
          "base_uri": "https://localhost:8080/"
        },
        "id": "yu2tMwTbJ_5H",
        "outputId": "72cd2745-8c3a-475c-87fd-51b09d5d692f"
      },
      "source": [
        "loss = mnist_loss(preds, train_y[:4])\n",
        "loss"
      ],
      "execution_count": 507,
      "outputs": [
        {
          "output_type": "execute_result",
          "data": {
            "text/plain": [
              "tensor(0.6042, grad_fn=<MeanBackward0>)"
            ]
          },
          "metadata": {
            "tags": []
          },
          "execution_count": 507
        }
      ]
    },
    {
      "cell_type": "markdown",
      "metadata": {
        "id": "r4DlWeJ7LB0-"
      },
      "source": [
        "Calculate the gradients:"
      ]
    },
    {
      "cell_type": "code",
      "metadata": {
        "colab": {
          "base_uri": "https://localhost:8080/"
        },
        "id": "aq2QWEBDKIYH",
        "outputId": "02ad1761-17af-4d6a-a06d-a3fcbcfcfd45"
      },
      "source": [
        "loss.backward()\n",
        "weights.grad.shape, weights.grad.mean(), bias.grad"
      ],
      "execution_count": 508,
      "outputs": [
        {
          "output_type": "execute_result",
          "data": {
            "text/plain": [
              "(torch.Size([784, 1]), tensor(-0.0130), tensor([-0.0791]))"
            ]
          },
          "metadata": {
            "tags": []
          },
          "execution_count": 508
        }
      ]
    },
    {
      "cell_type": "markdown",
      "metadata": {
        "id": "hI19AhdwLMY0"
      },
      "source": [
        "Put it all into 1 function:"
      ]
    },
    {
      "cell_type": "code",
      "metadata": {
        "id": "cxe1OhfUKmMc"
      },
      "source": [
        "def calc_grad(xb,yb,model):\n",
        "  preds = model(xb)\n",
        "  loss = mnist_loss(preds, yb)\n",
        "  loss.backward()"
      ],
      "execution_count": 509,
      "outputs": []
    },
    {
      "cell_type": "markdown",
      "metadata": {
        "id": "3FqarJhrLlCF"
      },
      "source": [
        "Test the `calc_grad` function:"
      ]
    },
    {
      "cell_type": "code",
      "metadata": {
        "colab": {
          "base_uri": "https://localhost:8080/"
        },
        "id": "zM3YNS-mLkD0",
        "outputId": "80b4ade6-d8f8-4fcc-a5d5-c5dab4fb4fc0"
      },
      "source": [
        "calc_grad(train_x[:4], train_y[:4], linear1)\n",
        "weights.grad.mean(), bias.grad"
      ],
      "execution_count": 510,
      "outputs": [
        {
          "output_type": "execute_result",
          "data": {
            "text/plain": [
              "(tensor(-0.0260), tensor([-0.1583]))"
            ]
          },
          "metadata": {
            "tags": []
          },
          "execution_count": 510
        }
      ]
    },
    {
      "cell_type": "markdown",
      "metadata": {
        "id": "OZitiPYmL84U"
      },
      "source": [
        "Look what happens if we call it again:"
      ]
    },
    {
      "cell_type": "code",
      "metadata": {
        "colab": {
          "base_uri": "https://localhost:8080/"
        },
        "id": "8uJWnoHSLz97",
        "outputId": "d3b5d7ba-fa9b-46d4-b9ef-5f2ab9b3c127"
      },
      "source": [
        "calc_grad(train_x[:4], train_y[:4], linear1)\n",
        "weights.grad.mean(), bias.grad"
      ],
      "execution_count": 511,
      "outputs": [
        {
          "output_type": "execute_result",
          "data": {
            "text/plain": [
              "(tensor(-0.0390), tensor([-0.2374]))"
            ]
          },
          "metadata": {
            "tags": []
          },
          "execution_count": 511
        }
      ]
    },
    {
      "cell_type": "markdown",
      "metadata": {
        "id": "_hSzXc_sMCVA"
      },
      "source": [
        "The gradients have changed, which is a concern as you'd expect to get the same gradients for the same data! The reason for this is that `loss.backward` adds the gradient of `loss` to any gradients that are currently stored. Thus we have to set the current gradients to 0 first:"
      ]
    },
    {
      "cell_type": "code",
      "metadata": {
        "colab": {
          "base_uri": "https://localhost:8080/"
        },
        "id": "uE-KFtLLL_8I",
        "outputId": "5f37ed56-7778-453f-aa2d-8205f37f1931"
      },
      "source": [
        "weights.grad.zero_()\n",
        "bias.grad.zero_()"
      ],
      "execution_count": 512,
      "outputs": [
        {
          "output_type": "execute_result",
          "data": {
            "text/plain": [
              "tensor([0.])"
            ]
          },
          "metadata": {
            "tags": []
          },
          "execution_count": 512
        }
      ]
    },
    {
      "cell_type": "markdown",
      "metadata": {
        "id": "YMLHcmXmPycH"
      },
      "source": [
        "Methods in PyTorch whose names end in an underscore _ modify their objects *in place*. For instance, `bias.zero_` sets all elements of the tensor bias to 0."
      ]
    },
    {
      "cell_type": "markdown",
      "metadata": {
        "id": "iGnmHejPQZXV"
      },
      "source": [
        "The remaining step is to update the weights and biases based on the gradient and learning rate. When we do so, we have to tell PyTorch not to take the gradient of this step too—otherwise things will get very confusing when we try to compute the derivative at the next batch! \n",
        "\n",
        "If we assign to the `data` attribute of a tensor then PyTorch will not take the gradient of that step. Here's our basic training loop for an epoch:"
      ]
    },
    {
      "cell_type": "code",
      "metadata": {
        "id": "FPnLGFmRSvM2"
      },
      "source": [
        "def train_epoch(model, lr, params):\n",
        "  for xb,yb in dl: #loop through the data loader grabbing the xbatch and ybatch\n",
        "    calc_grad(xb, yb, model) #calculate the gradient\n",
        "    for p in params: # Go through each of the parameters\n",
        "      p.data -= p.grad*lr # update each parameter (gradient descent step)\n",
        "      p.grad.zero_() # zero it out for the next iteration"
      ],
      "execution_count": 513,
      "outputs": []
    },
    {
      "cell_type": "markdown",
      "metadata": {
        "id": "gQaQ98LRfJLr"
      },
      "source": [
        "This is stochastic gradient descent the difference is that we use mini batches while gradient descent does it for the entire dataset."
      ]
    },
    {
      "cell_type": "markdown",
      "metadata": {
        "id": "V8oFaotKTWyV"
      },
      "source": [
        "Let's look at the accuracy of the validation set. To decide whether an output represents a 3 or a 7, we can just check whether it's greater than 0."
      ]
    },
    {
      "cell_type": "code",
      "metadata": {
        "colab": {
          "base_uri": "https://localhost:8080/"
        },
        "id": "_OYOBT5pTUG-",
        "outputId": "b8ae2bc5-71f2-48de-f181-8a9decb963f6"
      },
      "source": [
        "(preds>0.0).float() == train_y[:4]"
      ],
      "execution_count": 514,
      "outputs": [
        {
          "output_type": "execute_result",
          "data": {
            "text/plain": [
              "tensor([[False],\n",
              "        [ True],\n",
              "        [False],\n",
              "        [ True]])"
            ]
          },
          "metadata": {
            "tags": []
          },
          "execution_count": 514
        }
      ]
    },
    {
      "cell_type": "markdown",
      "metadata": {
        "id": "KfISnPSLQI2Y"
      },
      "source": [
        "That give us this function to calculate the validation accuracy for:"
      ]
    },
    {
      "cell_type": "code",
      "metadata": {
        "id": "v--xO3EwMTED"
      },
      "source": [
        "def batch_accuracy(xb, yb):\n",
        "  preds = xb.sigmoid() # take the sigmoid of the predictions\n",
        "  correct = (preds>0.5) == yb  # compare predictions whether they're greater than 0.5 or not to tell us whether 3 or not\n",
        "  return correct.float().mean() # then convert bolean to floats and take mean to get accuracy"
      ],
      "execution_count": 515,
      "outputs": []
    },
    {
      "cell_type": "code",
      "metadata": {
        "colab": {
          "base_uri": "https://localhost:8080/"
        },
        "id": "MHDL-JyEUANt",
        "outputId": "58627619-0034-41ab-89bb-633d04df8968"
      },
      "source": [
        "batch_accuracy(linear1(batch), train_y[:4]) # take our batch put it through our linear model and calculate the accuracy"
      ],
      "execution_count": 516,
      "outputs": [
        {
          "output_type": "execute_result",
          "data": {
            "text/plain": [
              "tensor(0.5000)"
            ]
          },
          "metadata": {
            "tags": []
          },
          "execution_count": 516
        }
      ]
    },
    {
      "cell_type": "code",
      "metadata": {
        "colab": {
          "base_uri": "https://localhost:8080/"
        },
        "id": "dKBLvPVlUG8t",
        "outputId": "f5f3e26f-f0a5-47b9-e041-01836849ecf4"
      },
      "source": [
        "def validate_epoch(model): # Do that for every batch in the validation set\n",
        "  accs = [batch_accuracy(model(xb), yb) for xb, yb in valid_dl]  #use list comprehension for the loop through all the validation set\n",
        "  return round(torch.stack(accs).mean().item(), 4) # stack all the accs into a tensor and take a mean and convert it to a standard python scalar and round it\n",
        "\n",
        "validate_epoch(linear1)"
      ],
      "execution_count": 517,
      "outputs": [
        {
          "output_type": "execute_result",
          "data": {
            "text/plain": [
              "0.5137"
            ]
          },
          "metadata": {
            "tags": []
          },
          "execution_count": 517
        }
      ]
    },
    {
      "cell_type": "code",
      "metadata": {
        "colab": {
          "base_uri": "https://localhost:8080/"
        },
        "id": "UY_Wnv24UzvI",
        "outputId": "c316bc1b-70bf-431e-b245-f9ebeec592ef"
      },
      "source": [
        "lr = 1.\n",
        "params = weights, bias\n",
        "train_epoch(linear1, lr, params)\n",
        "validate_epoch(linear1)"
      ],
      "execution_count": 518,
      "outputs": [
        {
          "output_type": "execute_result",
          "data": {
            "text/plain": [
              "0.6836"
            ]
          },
          "metadata": {
            "tags": []
          },
          "execution_count": 518
        }
      ]
    },
    {
      "cell_type": "code",
      "metadata": {
        "colab": {
          "base_uri": "https://localhost:8080/"
        },
        "id": "pX19M1yXU_EK",
        "outputId": "d8fb5f27-01ae-4e74-fef7-391174d4e0bc"
      },
      "source": [
        "for i in range(20):\n",
        "  train_epoch(linear1, lr, params)\n",
        "  print(validate_epoch(linear1), end='')"
      ],
      "execution_count": 519,
      "outputs": [
        {
          "output_type": "stream",
          "text": [
            "0.8750.93250.94820.95640.95840.96130.96470.96720.96720.96820.97010.97010.97060.97210.97260.9730.9730.9740.9750.9745"
          ],
          "name": "stdout"
        }
      ]
    },
    {
      "cell_type": "markdown",
      "metadata": {
        "id": "NDgsUOpgF1Rw"
      },
      "source": [
        "### **Creating An Optimizer**"
      ]
    },
    {
      "cell_type": "markdown",
      "metadata": {
        "id": "HjxgRSZBIUz2"
      },
      "source": [
        "Lets replace our `linear1` function with PyTorch's `nn.Linear` module. A *module* is an object of a class that inherits from the PyTorch `nn.Module. class`. Objects of this class behave identically to standard Python functions, in that you can call them using parentheses and they will return the activations of a model.\n",
        "\n",
        "`nn.Linear` does the same thing as our `init_params` and `linear` together. It contains both the *weights* and *biases* in a single class. Here's how we replicate the model from the previous section:"
      ]
    },
    {
      "cell_type": "code",
      "metadata": {
        "id": "_tyKdXE2VKZS"
      },
      "source": [
        "linear_model = nn.Linear(28*28,1)"
      ],
      "execution_count": 520,
      "outputs": []
    },
    {
      "cell_type": "markdown",
      "metadata": {
        "id": "_zWrrOyqI5Nr"
      },
      "source": [
        "Every PyTorch module knows what parameters it has that can be trained; they are available through the `parameters` method:"
      ]
    },
    {
      "cell_type": "code",
      "metadata": {
        "colab": {
          "base_uri": "https://localhost:8080/"
        },
        "id": "ZMiN0dekVfd1",
        "outputId": "a10beff6-5e5b-4ed0-c811-ae5ffc219db1"
      },
      "source": [
        "w, b = linear_model.parameters()\n",
        "w.shape, b.shape"
      ],
      "execution_count": 521,
      "outputs": [
        {
          "output_type": "execute_result",
          "data": {
            "text/plain": [
              "(torch.Size([1, 784]), torch.Size([1]))"
            ]
          },
          "metadata": {
            "tags": []
          },
          "execution_count": 521
        }
      ]
    },
    {
      "cell_type": "markdown",
      "metadata": {
        "id": "qEfQoaXAJPxC"
      },
      "source": [
        "We can use this information to create an optimizer:"
      ]
    },
    {
      "cell_type": "code",
      "metadata": {
        "id": "eC7keprRVkop"
      },
      "source": [
        "class BasicOptim:\n",
        "  def __init__(self, params, lr): self.params, self.lr = list(params), lr\n",
        "\n",
        "  def step(self, *args, **kwargs):\n",
        "    for p in self.params: p.data -= p.grad.data * self.lr\n",
        "\n",
        "  def zero_grad(self, *args, **kwargs):\n",
        "    for p in self.params: p.grad = None"
      ],
      "execution_count": 522,
      "outputs": []
    },
    {
      "cell_type": "markdown",
      "metadata": {
        "id": "noL9uSByJWao"
      },
      "source": [
        "Check what `nn.Linear` & `DataLoader` do in order to recreate it from scratch later, B:"
      ]
    },
    {
      "cell_type": "code",
      "metadata": {
        "id": "6C0h9qhHi1Ii"
      },
      "source": [
        "nn.Linear??"
      ],
      "execution_count": 523,
      "outputs": []
    },
    {
      "cell_type": "code",
      "metadata": {
        "id": "sXXQUcx5kJbT"
      },
      "source": [
        "DataLoader??"
      ],
      "execution_count": 524,
      "outputs": []
    },
    {
      "cell_type": "markdown",
      "metadata": {
        "id": "38Fl0GxNJf_x"
      },
      "source": [
        "Create optimizer by passing in the model's parameters:"
      ]
    },
    {
      "cell_type": "code",
      "metadata": {
        "id": "BbC4x5ADqQSZ"
      },
      "source": [
        "opt = BasicOptim(linear_model.parameters(), lr)"
      ],
      "execution_count": 525,
      "outputs": []
    },
    {
      "cell_type": "markdown",
      "metadata": {
        "id": "31kERV6qJzHT"
      },
      "source": [
        "Simplify the training loop:"
      ]
    },
    {
      "cell_type": "code",
      "metadata": {
        "id": "p_fKy8oFqZWg"
      },
      "source": [
        "def train_epoch(model):\n",
        "  for xb, yb in dl:\n",
        "    calc_grad(xb, yb, model)\n",
        "    opt.step()\n",
        "    opt.zero_grad()"
      ],
      "execution_count": 526,
      "outputs": []
    },
    {
      "cell_type": "markdown",
      "metadata": {
        "id": "Yr47X0cDJ9Yi"
      },
      "source": [
        "Use the same validation function as before it doesn't need to change, it's purrrfect as it is, B:"
      ]
    },
    {
      "cell_type": "code",
      "metadata": {
        "colab": {
          "base_uri": "https://localhost:8080/"
        },
        "id": "HG7W_d57qr6u",
        "outputId": "63fd3a46-2777-44d9-e848-cdaa619ce7ab"
      },
      "source": [
        "validate_epoch(linear_model)"
      ],
      "execution_count": 527,
      "outputs": [
        {
          "output_type": "execute_result",
          "data": {
            "text/plain": [
              "0.4491"
            ]
          },
          "metadata": {
            "tags": []
          },
          "execution_count": 527
        }
      ]
    },
    {
      "cell_type": "markdown",
      "metadata": {
        "id": "t8OExHwbKDcv"
      },
      "source": [
        "Put the training loop in a function to make things simpler:"
      ]
    },
    {
      "cell_type": "code",
      "metadata": {
        "id": "560BufpAqtns"
      },
      "source": [
        "def train_model(model, epochs):\n",
        "  for i in range(epochs):\n",
        "    train_epoch(model)\n",
        "    print(validate_epoch(model), end=' ')"
      ],
      "execution_count": 528,
      "outputs": []
    },
    {
      "cell_type": "markdown",
      "metadata": {
        "id": "tTO08wIPKKkS"
      },
      "source": [
        "Same results as in the previous section, B:"
      ]
    },
    {
      "cell_type": "code",
      "metadata": {
        "colab": {
          "base_uri": "https://localhost:8080/"
        },
        "id": "QIjh7TAjq5EN",
        "outputId": "b1d945d9-b2fe-48e5-ba62-ddc70a54d7d6"
      },
      "source": [
        "train_model(linear_model, 20)"
      ],
      "execution_count": 529,
      "outputs": [
        {
          "output_type": "stream",
          "text": [
            "0.4932 0.7031 0.8594 0.9179 0.935 0.9512 0.957 0.9633 0.9658 0.9682 0.9702 0.9712 0.9731 0.9741 0.9761 0.9765 0.9775 0.978 0.978 0.979 "
          ],
          "name": "stdout"
        }
      ]
    },
    {
      "cell_type": "markdown",
      "metadata": {
        "id": "v5tbSPLnKPD8"
      },
      "source": [
        "Fastai provides the SGD class that, by default, does the same thing as our `BasicOptim`:"
      ]
    },
    {
      "cell_type": "code",
      "metadata": {
        "colab": {
          "base_uri": "https://localhost:8080/"
        },
        "id": "HWZ4sOkpq9JY",
        "outputId": "04f45bd2-f77e-4b0b-f551-11b3c0c8e34a"
      },
      "source": [
        "linear_model = nn.Linear(28*28,1)\n",
        "opt = SGD(linear_model.parameters(), lr)\n",
        "train_model(linear_model, 20)"
      ],
      "execution_count": 530,
      "outputs": [
        {
          "output_type": "stream",
          "text": [
            "0.4932 0.8759 0.8174 0.9082 0.9306 0.9467 0.9546 0.9624 0.9653 0.9668 0.9692 0.9712 0.9736 0.9751 0.9761 0.9765 0.9775 0.9785 0.9785 0.979 "
          ],
          "name": "stdout"
        }
      ]
    },
    {
      "cell_type": "markdown",
      "metadata": {
        "id": "77aOXlSuKi9I"
      },
      "source": [
        "Fastai also provides `learner.fit`, which we can use instead of `train_model`. To create a `Learner`, we first need to create a `DataLoaders`, by passing in our training and validation `DataLoaders`:"
      ]
    },
    {
      "cell_type": "code",
      "metadata": {
        "id": "Pbxnu19nrMSk"
      },
      "source": [
        "dls = DataLoaders(dl, valid_dl)"
      ],
      "execution_count": 531,
      "outputs": []
    },
    {
      "cell_type": "markdown",
      "metadata": {
        "id": "AUoaBXiJMH8z"
      },
      "source": [
        "To create a `Learner` without using an application (such as `cnn_learner`), we need to pass in all the elemennts that we've created in this chapter: the `DataLoaders`, the `model`, the `optimizer`, the `loss function`, and the `metrics`.\n",
        "\n",
        "Then fit it:"
      ]
    },
    {
      "cell_type": "code",
      "metadata": {
        "colab": {
          "base_uri": "https://localhost:8080/",
          "height": 359
        },
        "id": "scyV_antrsgp",
        "outputId": "29ceb088-6754-4fb0-c6ef-1acc558531d4"
      },
      "source": [
        "learn = Learner(dls, nn.Linear(28*28,1), opt_func=SGD, \n",
        "                loss_func=mnist_loss, metrics=batch_accuracy)\n",
        "\n",
        "learn.fit(10,lr=lr)"
      ],
      "execution_count": 532,
      "outputs": [
        {
          "output_type": "display_data",
          "data": {
            "text/html": [
              "<table border=\"1\" class=\"dataframe\">\n",
              "  <thead>\n",
              "    <tr style=\"text-align: left;\">\n",
              "      <th>epoch</th>\n",
              "      <th>train_loss</th>\n",
              "      <th>valid_loss</th>\n",
              "      <th>batch_accuracy</th>\n",
              "      <th>time</th>\n",
              "    </tr>\n",
              "  </thead>\n",
              "  <tbody>\n",
              "    <tr>\n",
              "      <td>0</td>\n",
              "      <td>0.636979</td>\n",
              "      <td>0.503384</td>\n",
              "      <td>0.495584</td>\n",
              "      <td>00:00</td>\n",
              "    </tr>\n",
              "    <tr>\n",
              "      <td>1</td>\n",
              "      <td>0.492786</td>\n",
              "      <td>0.205785</td>\n",
              "      <td>0.821394</td>\n",
              "      <td>00:00</td>\n",
              "    </tr>\n",
              "    <tr>\n",
              "      <td>2</td>\n",
              "      <td>0.182118</td>\n",
              "      <td>0.174080</td>\n",
              "      <td>0.843965</td>\n",
              "      <td>00:00</td>\n",
              "    </tr>\n",
              "    <tr>\n",
              "      <td>3</td>\n",
              "      <td>0.080502</td>\n",
              "      <td>0.104440</td>\n",
              "      <td>0.912169</td>\n",
              "      <td>00:00</td>\n",
              "    </tr>\n",
              "    <tr>\n",
              "      <td>4</td>\n",
              "      <td>0.043033</td>\n",
              "      <td>0.076925</td>\n",
              "      <td>0.933268</td>\n",
              "      <td>00:00</td>\n",
              "    </tr>\n",
              "    <tr>\n",
              "      <td>5</td>\n",
              "      <td>0.028389</td>\n",
              "      <td>0.061910</td>\n",
              "      <td>0.946025</td>\n",
              "      <td>00:00</td>\n",
              "    </tr>\n",
              "    <tr>\n",
              "      <td>6</td>\n",
              "      <td>0.022354</td>\n",
              "      <td>0.052475</td>\n",
              "      <td>0.955839</td>\n",
              "      <td>00:00</td>\n",
              "    </tr>\n",
              "    <tr>\n",
              "      <td>7</td>\n",
              "      <td>0.019653</td>\n",
              "      <td>0.046171</td>\n",
              "      <td>0.962709</td>\n",
              "      <td>00:00</td>\n",
              "    </tr>\n",
              "    <tr>\n",
              "      <td>8</td>\n",
              "      <td>0.018270</td>\n",
              "      <td>0.041736</td>\n",
              "      <td>0.965653</td>\n",
              "      <td>00:00</td>\n",
              "    </tr>\n",
              "    <tr>\n",
              "      <td>9</td>\n",
              "      <td>0.017430</td>\n",
              "      <td>0.038465</td>\n",
              "      <td>0.966634</td>\n",
              "      <td>00:00</td>\n",
              "    </tr>\n",
              "  </tbody>\n",
              "</table>"
            ],
            "text/plain": [
              "<IPython.core.display.HTML object>"
            ]
          },
          "metadata": {
            "tags": []
          }
        }
      ]
    },
    {
      "cell_type": "markdown",
      "metadata": {
        "id": "TPhuawJtsGHW"
      },
      "source": [
        "### **Adding a Nonlinearity**"
      ]
    },
    {
      "cell_type": "markdown",
      "metadata": {
        "id": "ysmo0WkI_V3V"
      },
      "source": [
        "So far, we have a general procedure for optimizing the parameters of a function, and we've tried it out on a boring function: a simple linear classifier, which is a very constrained classifier in terms of what it can do. To make it a bit more complex (and able to handle more complex tasks), we need to add something nonlinear (i.e. different from ax + b) between two linear classifiers - this is what gives us a neural network.\n",
        "\n",
        "Here is the entire definition of a basic neural network:"
      ]
    },
    {
      "cell_type": "code",
      "metadata": {
        "id": "vN7ZSPK_r9K9"
      },
      "source": [
        "def simple_net(xb):\n",
        "  res = xb@w1 + b1\n",
        "  res = res.max(tensor(0.0))\n",
        "  res = res@w2 + b2\n",
        "  return res\n"
      ],
      "execution_count": 533,
      "outputs": []
    },
    {
      "cell_type": "markdown",
      "metadata": {
        "id": "OEmMTrB8NH6w"
      },
      "source": [
        "That's it all we have in `simple_net` is two linear classifiers, B, with a `max` function between them."
      ]
    },
    {
      "cell_type": "markdown",
      "metadata": {
        "id": "iqFhKpVhNIco"
      },
      "source": [
        "Tawlmbout `w1` and `w2` are weight tensors, and `b1` and `b2` are bias tensors; that is, parameters that are initialized randomly, just like we did in the previous section:"
      ]
    },
    {
      "cell_type": "code",
      "metadata": {
        "id": "DbhILpYI_s5c"
      },
      "source": [
        "w1 = init_params((28*28,30))\n",
        "b1 = init_params(30)\n",
        "w2 = init_params(30,1)\n",
        "b2 = init_params(1)"
      ],
      "execution_count": 534,
      "outputs": []
    },
    {
      "cell_type": "markdown",
      "metadata": {
        "id": "AtSICHPLPXJz"
      },
      "source": [
        "Note that `w1` has 30 output activations, which means that `w2` needs to have 30 input activations, so they match. That means that the first layer can construct 30 different features, each representing a different mic of pixels (as we are classifying images). We can change the 30 to any number we like to make the model more or less complex. "
      ]
    },
    {
      "cell_type": "markdown",
      "metadata": {
        "id": "_-WqwqzjPYAD"
      },
      "source": [
        "The function `res.max(tensor(0.0))` is called a *rectified linear unit` aka ReLU. All it does is replace every negative number with a zero:"
      ]
    },
    {
      "cell_type": "code",
      "metadata": {
        "colab": {
          "base_uri": "https://localhost:8080/",
          "height": 265
        },
        "id": "l9WDoVp1_64Z",
        "outputId": "c0c9cd1f-a0bf-4874-a044-b7b1aa26a79d"
      },
      "source": [
        "plot_function(F.relu)"
      ],
      "execution_count": 535,
      "outputs": [
        {
          "output_type": "display_data",
          "data": {
            "image/png": "[encoded data removed]",
            "text/plain": [
              "<Figure size 432x288 with 1 Axes>"
            ]
          },
          "metadata": {
            "tags": [],
            "needs_background": "light"
          }
        }
      ]
    },
    {
      "cell_type": "markdown",
      "metadata": {
        "id": "CWYOSN76UzY-"
      },
      "source": [
        "The basic idea is that by using more linear layers we can have our model do more computations, and therefore model more and more complex functions. However we can't just stack a bunch of linear layers on top of each other because they will just be a linear combination of eachother. However by puttin a nonlinear function between them such as `max`, the layers become linearly independent from eachother. So each layer is decoupled from the other and can do its own useful work.\n",
        "\n",
        "\"*Amazingly enough, it can be mathematically proven that this little function can solve any computable problem to an arbitrarily high level of accuracy, if you can find the right parameters for `w1` and `w2` and if you make these matrices big enough. For any arbitrarily wiggly function, we can approximate it as a bunch of lines joined together; to make it closer to the wiggly function, we just have to use shorter lines. This is known as the *universal approximation theorem*. The three lines of code that we have here are known as *layers*. The first and third are known as *linear layers*, and the second line of code is known variously as a *nonlinearity*, or *activation function*.*\"\n",
        "\n",
        "Just like in the previous section, we can replace this code with something a bit simpler, by taking advantage of PyTorch:"
      ]
    },
    {
      "cell_type": "code",
      "metadata": {
        "id": "u_yyGIHy__WJ"
      },
      "source": [
        "simple_net = nn.Sequential( #nn.Sequential is PyTorch function composition class\n",
        "    nn.Linear(28*28,30),\n",
        "    nn.ReLU(),\n",
        "    nn.Linear(30,1)\n",
        ")"
      ],
      "execution_count": 536,
      "outputs": []
    },
    {
      "cell_type": "markdown",
      "metadata": {
        "id": "b-JhBwWsVtD4"
      },
      "source": [
        "*`nn.Sequential` creates a module that will call each of the listed layers or functions in turn.\n",
        "\n",
        "`nn.ReLU` is a PyTorch module that does exactly the same thing as the `F.relu` function. Most functions that can appear in a model also have identical forms that are modules. Generally, it's just a case of replacing `F` with `nn` and changing the capitalization. When using `nn.Sequential`, PyTorch requires us to use the module version. Since modules are classes, we have to instantiate them, which is why you see `nn.ReLU()` in this example. \n",
        "\n",
        "Because `nn.Sequential` is a module, we can get its parameters, which will return a list of all the parameters of all the modules it contains. Let's try it out! As this is a deeper model, we'll use a lower learning rate and a few more epochs.*"
      ]
    },
    {
      "cell_type": "code",
      "metadata": {
        "id": "hzKRtDW5AORc"
      },
      "source": [
        "learn = Learner(dls, simple_net, opt_func=SGD,\n",
        "                loss_func=mnist_loss, metrics=batch_accuracy)"
      ],
      "execution_count": 537,
      "outputs": []
    },
    {
      "cell_type": "code",
      "metadata": {
        "colab": {
          "base_uri": "https://localhost:8080/",
          "height": 1000
        },
        "id": "D7FsVgYoAkSb",
        "outputId": "b96e233e-50b4-41dc-f450-7dce129e6d33"
      },
      "source": [
        "learn.fit(40,0.1)"
      ],
      "execution_count": 538,
      "outputs": [
        {
          "output_type": "display_data",
          "data": {
            "text/html": [
              "<table border=\"1\" class=\"dataframe\">\n",
              "  <thead>\n",
              "    <tr style=\"text-align: left;\">\n",
              "      <th>epoch</th>\n",
              "      <th>train_loss</th>\n",
              "      <th>valid_loss</th>\n",
              "      <th>batch_accuracy</th>\n",
              "      <th>time</th>\n",
              "    </tr>\n",
              "  </thead>\n",
              "  <tbody>\n",
              "    <tr>\n",
              "      <td>0</td>\n",
              "      <td>0.328257</td>\n",
              "      <td>0.401489</td>\n",
              "      <td>0.506869</td>\n",
              "      <td>00:00</td>\n",
              "    </tr>\n",
              "    <tr>\n",
              "      <td>1</td>\n",
              "      <td>0.151302</td>\n",
              "      <td>0.238074</td>\n",
              "      <td>0.791953</td>\n",
              "      <td>00:00</td>\n",
              "    </tr>\n",
              "    <tr>\n",
              "      <td>2</td>\n",
              "      <td>0.083189</td>\n",
              "      <td>0.118433</td>\n",
              "      <td>0.915604</td>\n",
              "      <td>00:00</td>\n",
              "    </tr>\n",
              "    <tr>\n",
              "      <td>3</td>\n",
              "      <td>0.054173</td>\n",
              "      <td>0.079127</td>\n",
              "      <td>0.940628</td>\n",
              "      <td>00:00</td>\n",
              "    </tr>\n",
              "    <tr>\n",
              "      <td>4</td>\n",
              "      <td>0.040798</td>\n",
              "      <td>0.061448</td>\n",
              "      <td>0.957311</td>\n",
              "      <td>00:00</td>\n",
              "    </tr>\n",
              "    <tr>\n",
              "      <td>5</td>\n",
              "      <td>0.034010</td>\n",
              "      <td>0.051614</td>\n",
              "      <td>0.962709</td>\n",
              "      <td>00:00</td>\n",
              "    </tr>\n",
              "    <tr>\n",
              "      <td>6</td>\n",
              "      <td>0.030136</td>\n",
              "      <td>0.045451</td>\n",
              "      <td>0.965162</td>\n",
              "      <td>00:00</td>\n",
              "    </tr>\n",
              "    <tr>\n",
              "      <td>7</td>\n",
              "      <td>0.027635</td>\n",
              "      <td>0.041256</td>\n",
              "      <td>0.966634</td>\n",
              "      <td>00:00</td>\n",
              "    </tr>\n",
              "    <tr>\n",
              "      <td>8</td>\n",
              "      <td>0.025843</td>\n",
              "      <td>0.038221</td>\n",
              "      <td>0.968106</td>\n",
              "      <td>00:00</td>\n",
              "    </tr>\n",
              "    <tr>\n",
              "      <td>9</td>\n",
              "      <td>0.024461</td>\n",
              "      <td>0.035914</td>\n",
              "      <td>0.969087</td>\n",
              "      <td>00:00</td>\n",
              "    </tr>\n",
              "    <tr>\n",
              "      <td>10</td>\n",
              "      <td>0.023345</td>\n",
              "      <td>0.034089</td>\n",
              "      <td>0.971050</td>\n",
              "      <td>00:00</td>\n",
              "    </tr>\n",
              "    <tr>\n",
              "      <td>11</td>\n",
              "      <td>0.022416</td>\n",
              "      <td>0.032597</td>\n",
              "      <td>0.973503</td>\n",
              "      <td>00:00</td>\n",
              "    </tr>\n",
              "    <tr>\n",
              "      <td>12</td>\n",
              "      <td>0.021625</td>\n",
              "      <td>0.031346</td>\n",
              "      <td>0.973503</td>\n",
              "      <td>00:00</td>\n",
              "    </tr>\n",
              "    <tr>\n",
              "      <td>13</td>\n",
              "      <td>0.020940</td>\n",
              "      <td>0.030275</td>\n",
              "      <td>0.975466</td>\n",
              "      <td>00:00</td>\n",
              "    </tr>\n",
              "    <tr>\n",
              "      <td>14</td>\n",
              "      <td>0.020340</td>\n",
              "      <td>0.029345</td>\n",
              "      <td>0.974975</td>\n",
              "      <td>00:00</td>\n",
              "    </tr>\n",
              "    <tr>\n",
              "      <td>15</td>\n",
              "      <td>0.019808</td>\n",
              "      <td>0.028525</td>\n",
              "      <td>0.975957</td>\n",
              "      <td>00:00</td>\n",
              "    </tr>\n",
              "    <tr>\n",
              "      <td>16</td>\n",
              "      <td>0.019331</td>\n",
              "      <td>0.027797</td>\n",
              "      <td>0.976938</td>\n",
              "      <td>00:00</td>\n",
              "    </tr>\n",
              "    <tr>\n",
              "      <td>17</td>\n",
              "      <td>0.018901</td>\n",
              "      <td>0.027145</td>\n",
              "      <td>0.976938</td>\n",
              "      <td>00:00</td>\n",
              "    </tr>\n",
              "    <tr>\n",
              "      <td>18</td>\n",
              "      <td>0.018510</td>\n",
              "      <td>0.026557</td>\n",
              "      <td>0.977429</td>\n",
              "      <td>00:00</td>\n",
              "    </tr>\n",
              "    <tr>\n",
              "      <td>19</td>\n",
              "      <td>0.018153</td>\n",
              "      <td>0.026024</td>\n",
              "      <td>0.977920</td>\n",
              "      <td>00:00</td>\n",
              "    </tr>\n",
              "    <tr>\n",
              "      <td>20</td>\n",
              "      <td>0.017823</td>\n",
              "      <td>0.025540</td>\n",
              "      <td>0.978410</td>\n",
              "      <td>00:00</td>\n",
              "    </tr>\n",
              "    <tr>\n",
              "      <td>21</td>\n",
              "      <td>0.017519</td>\n",
              "      <td>0.025097</td>\n",
              "      <td>0.978901</td>\n",
              "      <td>00:00</td>\n",
              "    </tr>\n",
              "    <tr>\n",
              "      <td>22</td>\n",
              "      <td>0.017237</td>\n",
              "      <td>0.024690</td>\n",
              "      <td>0.979392</td>\n",
              "      <td>00:00</td>\n",
              "    </tr>\n",
              "    <tr>\n",
              "      <td>23</td>\n",
              "      <td>0.016973</td>\n",
              "      <td>0.024315</td>\n",
              "      <td>0.979882</td>\n",
              "      <td>00:00</td>\n",
              "    </tr>\n",
              "    <tr>\n",
              "      <td>24</td>\n",
              "      <td>0.016726</td>\n",
              "      <td>0.023969</td>\n",
              "      <td>0.979882</td>\n",
              "      <td>00:00</td>\n",
              "    </tr>\n",
              "    <tr>\n",
              "      <td>25</td>\n",
              "      <td>0.016494</td>\n",
              "      <td>0.023648</td>\n",
              "      <td>0.979882</td>\n",
              "      <td>00:00</td>\n",
              "    </tr>\n",
              "    <tr>\n",
              "      <td>26</td>\n",
              "      <td>0.016275</td>\n",
              "      <td>0.023350</td>\n",
              "      <td>0.979882</td>\n",
              "      <td>00:00</td>\n",
              "    </tr>\n",
              "    <tr>\n",
              "      <td>27</td>\n",
              "      <td>0.016069</td>\n",
              "      <td>0.023073</td>\n",
              "      <td>0.980373</td>\n",
              "      <td>00:00</td>\n",
              "    </tr>\n",
              "    <tr>\n",
              "      <td>28</td>\n",
              "      <td>0.015874</td>\n",
              "      <td>0.022815</td>\n",
              "      <td>0.980373</td>\n",
              "      <td>00:00</td>\n",
              "    </tr>\n",
              "    <tr>\n",
              "      <td>29</td>\n",
              "      <td>0.015688</td>\n",
              "      <td>0.022574</td>\n",
              "      <td>0.980864</td>\n",
              "      <td>00:00</td>\n",
              "    </tr>\n",
              "    <tr>\n",
              "      <td>30</td>\n",
              "      <td>0.015512</td>\n",
              "      <td>0.022348</td>\n",
              "      <td>0.980864</td>\n",
              "      <td>00:00</td>\n",
              "    </tr>\n",
              "    <tr>\n",
              "      <td>31</td>\n",
              "      <td>0.015344</td>\n",
              "      <td>0.022136</td>\n",
              "      <td>0.981354</td>\n",
              "      <td>00:00</td>\n",
              "    </tr>\n",
              "    <tr>\n",
              "      <td>32</td>\n",
              "      <td>0.015184</td>\n",
              "      <td>0.021938</td>\n",
              "      <td>0.981354</td>\n",
              "      <td>00:00</td>\n",
              "    </tr>\n",
              "    <tr>\n",
              "      <td>33</td>\n",
              "      <td>0.015031</td>\n",
              "      <td>0.021751</td>\n",
              "      <td>0.981354</td>\n",
              "      <td>00:00</td>\n",
              "    </tr>\n",
              "    <tr>\n",
              "      <td>34</td>\n",
              "      <td>0.014884</td>\n",
              "      <td>0.021576</td>\n",
              "      <td>0.981354</td>\n",
              "      <td>00:00</td>\n",
              "    </tr>\n",
              "    <tr>\n",
              "      <td>35</td>\n",
              "      <td>0.014744</td>\n",
              "      <td>0.021410</td>\n",
              "      <td>0.981354</td>\n",
              "      <td>00:00</td>\n",
              "    </tr>\n",
              "    <tr>\n",
              "      <td>36</td>\n",
              "      <td>0.014608</td>\n",
              "      <td>0.021253</td>\n",
              "      <td>0.981354</td>\n",
              "      <td>00:00</td>\n",
              "    </tr>\n",
              "    <tr>\n",
              "      <td>37</td>\n",
              "      <td>0.014478</td>\n",
              "      <td>0.021105</td>\n",
              "      <td>0.981354</td>\n",
              "      <td>00:00</td>\n",
              "    </tr>\n",
              "    <tr>\n",
              "      <td>38</td>\n",
              "      <td>0.014353</td>\n",
              "      <td>0.020964</td>\n",
              "      <td>0.981845</td>\n",
              "      <td>00:00</td>\n",
              "    </tr>\n",
              "    <tr>\n",
              "      <td>39</td>\n",
              "      <td>0.014232</td>\n",
              "      <td>0.020830</td>\n",
              "      <td>0.981845</td>\n",
              "      <td>00:00</td>\n",
              "    </tr>\n",
              "  </tbody>\n",
              "</table>"
            ],
            "text/plain": [
              "<IPython.core.display.HTML object>"
            ]
          },
          "metadata": {
            "tags": []
          }
        }
      ]
    },
    {
      "cell_type": "markdown",
      "metadata": {
        "id": "ezhciwQrWV1Q"
      },
      "source": [
        "We're not showing the 40 lines of output here to save room; the training process is recorded in learn.recorder, with the table of output stored in the values attribute, so we can plot the accuracy over training as:"
      ]
    },
    {
      "cell_type": "code",
      "metadata": {
        "colab": {
          "base_uri": "https://localhost:8080/",
          "height": 267
        },
        "id": "0dAAzbStAojx",
        "outputId": "151c7097-611f-4721-a1ac-618ab512c739"
      },
      "source": [
        "plt.plot(L(learn.recorder.values).itemgot(2));"
      ],
      "execution_count": 539,
      "outputs": [
        {
          "output_type": "display_data",
          "data": {
            "image/png": "[encoded data removed]",
            "text/plain": [
              "<Figure size 432x288 with 1 Axes>"
            ]
          },
          "metadata": {
            "tags": [],
            "needs_background": "light"
          }
        }
      ]
    },
    {
      "cell_type": "markdown",
      "metadata": {
        "id": "20Zzllx3WbxQ"
      },
      "source": [
        "And we can view the final accuracy:"
      ]
    },
    {
      "cell_type": "code",
      "metadata": {
        "colab": {
          "base_uri": "https://localhost:8080/"
        },
        "id": "8YZn5hamAxEb",
        "outputId": "bf201b6c-a395-4e4a-a787-83553d820830"
      },
      "source": [
        "learn.recorder.values[-1][2]"
      ],
      "execution_count": 540,
      "outputs": [
        {
          "output_type": "execute_result",
          "data": {
            "text/plain": [
              "0.981844961643219"
            ]
          },
          "metadata": {
            "tags": []
          },
          "execution_count": 540
        }
      ]
    },
    {
      "cell_type": "markdown",
      "metadata": {
        "id": "8hA3AABOXU0v"
      },
      "source": [
        "At this point we have something that is rather cool:\n",
        "\n",
        "1. A function that can solve any problem to any level of accuracy (the neural network) given the correct set of parameters\n",
        "1. A way to find the best set of parameters for any function (stochastic gradient descent)\n",
        "\n",
        "\"This is why deep learning can do things which seem rather magical, such fantastic things. Believing that this combination of simple techniques can really solve any problem is one of the biggest steps that we find many students have to take. It seems too good to be true—surely things should be more difficult and complicated than this? Our recommendation: try it out! We just tried it on the MNIST dataset and you have seen the results. And since we are doing everything from scratch ourselves (except for calculating the gradients) you know that there is no special magic hiding behind the scenes.\""
      ]
    },
    {
      "cell_type": "markdown",
      "metadata": {
        "id": "hxEHUnj5M-rp"
      },
      "source": [
        "Grab the model:"
      ]
    },
    {
      "cell_type": "code",
      "metadata": {
        "colab": {
          "base_uri": "https://localhost:8080/"
        },
        "id": "zFXgaLPfMnMr",
        "outputId": "e77f4bb4-186f-463e-f654-2e175692a324"
      },
      "source": [
        "learn.model"
      ],
      "execution_count": 541,
      "outputs": [
        {
          "output_type": "execute_result",
          "data": {
            "text/plain": [
              "Sequential(\n",
              "  (0): Linear(in_features=784, out_features=30, bias=True)\n",
              "  (1): ReLU()\n",
              "  (2): Linear(in_features=30, out_features=1, bias=True)\n",
              ")"
            ]
          },
          "metadata": {
            "tags": []
          },
          "execution_count": 541
        }
      ]
    },
    {
      "cell_type": "markdown",
      "metadata": {
        "id": "WojkY35sA7d8"
      },
      "source": [
        "### **Going Deeper**"
      ]
    },
    {
      "cell_type": "markdown",
      "metadata": {
        "id": "c2qQ08saXiNb"
      },
      "source": [
        ""
      ]
    },
    {
      "cell_type": "code",
      "metadata": {
        "colab": {
          "base_uri": "https://localhost:8080/",
          "height": 95
        },
        "id": "kEt2QjfVA4k4",
        "outputId": "665aa57b-c2e2-49ab-a133-669718e4193f"
      },
      "source": [
        "dls = ImageDataLoaders.from_folder(path)\n",
        "learn = cnn_learner(dls, resnet18, pretrained=False,\n",
        "                    loss_func=F.cross_entropy, metrics=accuracy)\n",
        "learn.fit_one_cycle(1,0.1)"
      ],
      "execution_count": null,
      "outputs": [
        {
          "output_type": "display_data",
          "data": {
            "text/html": [
              "\n",
              "    <div>\n",
              "        <style>\n",
              "            /* Turns off some styling */\n",
              "            progress {\n",
              "                /* gets rid of default border in Firefox and Opera. */\n",
              "                border: none;\n",
              "                /* Needs to be in here for Safari polyfill so background images work as expected. */\n",
              "                background-size: auto;\n",
              "            }\n",
              "            .progress-bar-interrupted, .progress-bar-interrupted::-webkit-progress-bar {\n",
              "                background: #F44336;\n",
              "            }\n",
              "        </style>\n",
              "      <progress value='0' class='' max='1' style='width:300px; height:20px; vertical-align: middle;'></progress>\n",
              "      0.00% [0/1 00:00<00:00]\n",
              "    </div>\n",
              "    \n",
              "<table border=\"1\" class=\"dataframe\">\n",
              "  <thead>\n",
              "    <tr style=\"text-align: left;\">\n",
              "      <th>epoch</th>\n",
              "      <th>train_loss</th>\n",
              "      <th>valid_loss</th>\n",
              "      <th>accuracy</th>\n",
              "      <th>time</th>\n",
              "    </tr>\n",
              "  </thead>\n",
              "  <tbody>\n",
              "  </tbody>\n",
              "</table><p>\n",
              "\n",
              "    <div>\n",
              "        <style>\n",
              "            /* Turns off some styling */\n",
              "            progress {\n",
              "                /* gets rid of default border in Firefox and Opera. */\n",
              "                border: none;\n",
              "                /* Needs to be in here for Safari polyfill so background images work as expected. */\n",
              "                background-size: auto;\n",
              "            }\n",
              "            .progress-bar-interrupted, .progress-bar-interrupted::-webkit-progress-bar {\n",
              "                background: #F44336;\n",
              "            }\n",
              "        </style>\n",
              "      <progress value='6' class='' max='193' style='width:300px; height:20px; vertical-align: middle;'></progress>\n",
              "      3.11% [6/193 00:08<04:27 1.8153]\n",
              "    </div>\n",
              "    "
            ],
            "text/plain": [
              "<IPython.core.display.HTML object>"
            ]
          },
          "metadata": {
            "tags": []
          }
        }
      ]
    },
    {
      "cell_type": "markdown",
      "metadata": {
        "id": "7Za7tndtYICd"
      },
      "source": [
        ""
      ]
    },
    {
      "cell_type": "code",
      "metadata": {
        "id": "7MThg01YBPdl"
      },
      "source": [
        ""
      ],
      "execution_count": null,
      "outputs": []
    }
  ]
}